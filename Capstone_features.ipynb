{
 "cells": [
  {
   "cell_type": "markdown",
   "metadata": {},
   "source": [
    "# Loading Data and Cleaning"
   ]
  },
  {
   "cell_type": "code",
   "execution_count": 218,
   "metadata": {},
   "outputs": [],
   "source": [
    "#import basic system functions\n",
    "import os\n",
    "import datetime\n",
    "\n",
    "from datetime import date\n",
    "from collections import Counter\n",
    "\n",
    "#import libraries for data wrangling\n",
    "import pandas as pd\n",
    "import numpy as np\n",
    "\n",
    "#import libraries for plotting data\n",
    "import matplotlib.pyplot as plt\n",
    "\n",
    "\n",
    "%matplotlib inline\n",
    "import seaborn as sns\n",
    "import plotly.express as px\n",
    "import plotly.graph_objects as go\n",
    "from plotly.subplots import make_subplots\n",
    "from pandas.plotting import autocorrelation_plot\n",
    "\n",
    "\n",
    "\n",
    "#import libraries for time series analysis\n",
    "#from fbprophet import Prophet\n",
    "from pylab import rcParams\n",
    "import statsmodels.api as sm\n",
    "import holidays\n",
    "\n",
    "\n",
    "import warnings\n",
    "warnings.filterwarnings('ignore')\n",
    "\n",
    "\n",
    "from IPython.display import Image\n",
    "from datetime import datetime"
   ]
  },
  {
   "cell_type": "markdown",
   "metadata": {},
   "source": [
    "<span style='font-family:Tahoma'>   </span>"
   ]
  },
  {
   "cell_type": "code",
   "execution_count": 219,
   "metadata": {},
   "outputs": [],
   "source": [
    "df = pd.read_csv(\"/Users/brittarover/Capstone/Meteolytics/meteolytix_Artikelgruppen_Umsatz_verschiedeneStandorte.csv\")"
   ]
  },
  {
   "cell_type": "code",
   "execution_count": 220,
   "metadata": {},
   "outputs": [
    {
     "data": {
      "text/html": [
       "<div>\n",
       "<style scoped>\n",
       "    .dataframe tbody tr th:only-of-type {\n",
       "        vertical-align: middle;\n",
       "    }\n",
       "\n",
       "    .dataframe tbody tr th {\n",
       "        vertical-align: top;\n",
       "    }\n",
       "\n",
       "    .dataframe thead th {\n",
       "        text-align: right;\n",
       "    }\n",
       "</style>\n",
       "<table border=\"1\" class=\"dataframe\">\n",
       "  <thead>\n",
       "    <tr style=\"text-align: right;\">\n",
       "      <th></th>\n",
       "      <th>Filiale</th>\n",
       "      <th>Datum</th>\n",
       "      <th>Artikelgruppe</th>\n",
       "      <th>Umsatz</th>\n",
       "    </tr>\n",
       "  </thead>\n",
       "  <tbody>\n",
       "    <tr>\n",
       "      <th>0</th>\n",
       "      <td>1</td>\n",
       "      <td>2015-01-07</td>\n",
       "      <td>1</td>\n",
       "      <td>50.092235</td>\n",
       "    </tr>\n",
       "    <tr>\n",
       "      <th>1</th>\n",
       "      <td>1</td>\n",
       "      <td>2015-01-27</td>\n",
       "      <td>1</td>\n",
       "      <td>57.002341</td>\n",
       "    </tr>\n",
       "    <tr>\n",
       "      <th>2</th>\n",
       "      <td>1</td>\n",
       "      <td>2015-01-30</td>\n",
       "      <td>1</td>\n",
       "      <td>52.920825</td>\n",
       "    </tr>\n",
       "    <tr>\n",
       "      <th>3</th>\n",
       "      <td>1</td>\n",
       "      <td>2015-02-02</td>\n",
       "      <td>1</td>\n",
       "      <td>89.343474</td>\n",
       "    </tr>\n",
       "    <tr>\n",
       "      <th>4</th>\n",
       "      <td>1</td>\n",
       "      <td>2015-02-05</td>\n",
       "      <td>1</td>\n",
       "      <td>68.717498</td>\n",
       "    </tr>\n",
       "  </tbody>\n",
       "</table>\n",
       "</div>"
      ],
      "text/plain": [
       "   Filiale       Datum  Artikelgruppe     Umsatz\n",
       "0        1  2015-01-07              1  50.092235\n",
       "1        1  2015-01-27              1  57.002341\n",
       "2        1  2015-01-30              1  52.920825\n",
       "3        1  2015-02-02              1  89.343474\n",
       "4        1  2015-02-05              1  68.717498"
      ]
     },
     "execution_count": 220,
     "metadata": {},
     "output_type": "execute_result"
    }
   ],
   "source": [
    "df.head()"
   ]
  },
  {
   "cell_type": "markdown",
   "metadata": {},
   "source": [
    "\n",
    "### Definitions\n",
    "\n",
    "- **Filiale** - There are three different filial stores which are analyzed, one direct in the city (filiale=1), one near the water front (filiale=2) and the third in a residential area (filiale=3)\n",
    "1 = city; 2 = waterfront area; 3 = city disctrict\n",
    "- **Datum** - date of the sales data. The period \n",
    "- **Warengruppe** - main article group\n",
    "1 = Brot; 2 = Brötchen; 3 = Spezial_Brötchen; 4 = Konditorei; 5 = Kuchen; 6 = Weihnachtsartikel    \n",
    "- **Artikelgruppe** - article group\n",
    "1 = Weizenbrot; 2 = Mischbrot; 3 = Vollkornbrot; 4 = Spezialbrot; 5 = Stangenbrote; 6 = Brötchen; 7 = Süße Brötchen; 8 = Herzhafte Brötchen; 9 = KonditoreiBlech1; 10 = KonditoreiBlech2; 11 = Stückgebäck; 12 = Blechkuchen; 13 = Weiohnachtsartikel;     \n",
    "- **Umsatz** - Sales volumne per day and article group   "
   ]
  },
  {
   "cell_type": "markdown",
   "metadata": {},
   "source": [
    "### Modify Dataframe with groupby and unstack "
   ]
  },
  {
   "cell_type": "code",
   "execution_count": 221,
   "metadata": {},
   "outputs": [],
   "source": [
    "df_new=pd.pivot_table(df, values='Umsatz', index=['Datum','Filiale'],columns=['Artikelgruppe'], \n",
    "                        aggfunc=np.sum, fill_value=0).reset_index()"
   ]
  },
  {
   "cell_type": "code",
   "execution_count": 222,
   "metadata": {},
   "outputs": [],
   "source": [
    "#create empty dataframe with 'complete' datetime index\n",
    "date_df = pd.DataFrame(index=pd.date_range(start='1/1/2015', end=df.Datum.max()))\n",
    "df_new_1 = pd.pivot_table(df[df.Filiale == 1], values='Umsatz', index=['Datum'],columns=['Artikelgruppe'], \n",
    "                        aggfunc=np.sum, fill_value=0)\n",
    "#fill missing days due to store closings with 0 \n",
    "df_new_1=df_new_1.merge(date_df, how='right', left_index= True,right_index=True).fillna(0)\n",
    "df_new_1.index = df_new_1.index.set_names(['Datum'])\n",
    "df_new_1=df_new_1.reset_index()\n",
    "\n",
    "df_new_2 = pd.pivot_table(df[df.Filiale == 2], values='Umsatz', index=['Datum'],columns=['Artikelgruppe'], \n",
    "                        aggfunc=np.sum, fill_value=0)\n",
    "#fill missing days due to store closings with 0 \n",
    "df_new_2 = df_new_2.merge(date_df, how='right',left_index= True,right_index=True).fillna(0)\n",
    "df_new_2.index = df_new_2.index.set_names(['Datum'])\n",
    "df_new_2=df_new_2.reset_index()\n",
    "\n",
    "df_new_3 = pd.pivot_table(df[df.Filiale == 3], values='Umsatz', index=['Datum'],columns=['Artikelgruppe'], \n",
    "                        aggfunc=np.sum, fill_value=0)\n",
    "#fill missing days due to store closings with 0 \n",
    "df_new_3 = df_new_3.merge(date_df, how='right',left_index= True,right_index=True).fillna(0)\n",
    "df_new_3.index = df_new_3.index.set_names(['Datum'])\n",
    "df_new_3=df_new_3.reset_index()"
   ]
  },
  {
   "cell_type": "code",
   "execution_count": 223,
   "metadata": {},
   "outputs": [],
   "source": [
    "\n",
    "# Renaming Artikelgruppe for all new dataframes\n",
    "liste=[df_new,df_new_1,df_new_2,df_new_3]\n",
    "\n",
    "for i in liste:\n",
    "  i.rename(columns={1:'Weizenbrot',2:\"Mischbrot\",3:'Vollkornbrot',4:\"Stangenbrote\",5:\"Spezialbrot\",6 : \"Brötchen\",\n",
    "                       7 : \"Süsse_Brötchen\",8 :\"Herzhafte_Brötchen\",9 : \"KonditoreiBlech1\",10: \"KonditoreiBlech2\",\n",
    "                       11: \"Stückgebäck\", 12:\"Blechkuchen\",13 : \"Weihnachtsartikel\"\n",
    "                          }, \n",
    "                 inplace=True)"
   ]
  },
  {
   "cell_type": "markdown",
   "metadata": {},
   "source": [
    "### Transformation to Datetime"
   ]
  },
  {
   "cell_type": "code",
   "execution_count": 224,
   "metadata": {},
   "outputs": [],
   "source": [
    "# Transformation to Datetime\n",
    "dataframe=[df,df_new,df_new_1,df_new_2,df_new_3]\n",
    "\n",
    "for i in dataframe:\n",
    "  i['Datum'] = pd.to_datetime(i['Datum'])\n"
   ]
  },
  {
   "cell_type": "markdown",
   "metadata": {},
   "source": [
    "### Additional Date columns"
   ]
  },
  {
   "cell_type": "code",
   "execution_count": 225,
   "metadata": {},
   "outputs": [],
   "source": [
    "for i in dataframe:\n",
    "   i['Wochentag']=i['Datum'].dt.weekday\n",
    "   i['Tag']=i['Datum'].dt.day\n",
    "   i['Jahr']=i['Datum'].dt.year\n",
    "   i['Monat']=i['Datum'].dt.month\n",
    "   i['Wochenende']=i['Wochentag'].apply(lambda x: 'Wochentag' if x in (0,1,2,3,4) else 'Wochenende')\n",
    "    "
   ]
  },
  {
   "cell_type": "markdown",
   "metadata": {},
   "source": [
    "### Adding a Gesamt Column"
   ]
  },
  {
   "cell_type": "code",
   "execution_count": 226,
   "metadata": {},
   "outputs": [],
   "source": [
    "#Adding a Gesamt column to all the new dataframes which contains the total sales\n",
    "dataframe=[df_new,df_new_1,df_new_2,df_new_3]\n",
    "\n",
    "for i in dataframe:\n",
    "    i['Gesamt']=i['Vollkornbrot']+i['Mischbrot']+i['Stangenbrote']+i['Weizenbrot']+i['Spezialbrot']+i['Brötchen']\n",
    "    +i['Süsse_Brötchen']+i['Herzhafte_Brötchen']+i['KonditoreiBlech1']+i['KonditoreiBlech2']+i['Blechkuchen']\n",
    "    +i['Weihnachtsartikel']+i['Stückgebäck']"
   ]
  },
  {
   "cell_type": "code",
   "execution_count": 227,
   "metadata": {},
   "outputs": [],
   "source": [
    "df_new_index = df_new.set_index('Datum')\n"
   ]
  },
  {
   "cell_type": "markdown",
   "metadata": {},
   "source": [
    "### Definition of KonditoreiBlech as Sum"
   ]
  },
  {
   "cell_type": "code",
   "execution_count": 228,
   "metadata": {},
   "outputs": [],
   "source": [
    "#KonditoreiBlech1 is only sold until 2019, so I build the sum of both caketypes\n",
    "for i in dataframe:\n",
    "  i['KonditoreiBlech1']=i['KonditoreiBlech1']+i['KonditoreiBlech2']\n",
    "  i.rename(columns={'KonditoreiBlech1':'KonditoreiBlech'}, inplace=True)\n",
    "  i.drop('KonditoreiBlech2',axis='columns', inplace=True)"
   ]
  },
  {
   "cell_type": "markdown",
   "metadata": {},
   "source": [
    "# Correlations"
   ]
  },
  {
   "cell_type": "code",
   "execution_count": 229,
   "metadata": {},
   "outputs": [],
   "source": [
    "#First we create a new DataFrame with only numerical features\n",
    "numerics = ['int64', 'float64']\n",
    "\n",
    "num_df_2 = df_new_2.select_dtypes(include=numerics)"
   ]
  },
  {
   "cell_type": "code",
   "execution_count": null,
   "metadata": {},
   "outputs": [],
   "source": [
    "#Korrelationsanalyse\n",
    "mask = np.triu( num_df_2.corr())\n",
    "plt.figure(figsize=(40,30))\n",
    "plt.title('Correlation of variables')\n",
    "ax=sns.heatmap(num_df_2.corr().round(2),vmax=1.0,annot=True,mask=mask,cmap='coolwarm')\n",
    "plt.savefig('correlogram_simple.png')\n",
    "ax.set_ylim((0,37))\n",
    "plt.show"
   ]
  },
  {
   "cell_type": "markdown",
   "metadata": {},
   "source": [
    "# Feature Engineering"
   ]
  },
  {
   "cell_type": "code",
   "execution_count": 230,
   "metadata": {},
   "outputs": [],
   "source": [
    "#Change of the Wochenende column\n",
    "df_new['Wochenende_flag']=df_new['Wochenende'].apply(lambda x: 1 if x=='Wochenende' else 0)"
   ]
  },
  {
   "cell_type": "code",
   "execution_count": 231,
   "metadata": {},
   "outputs": [],
   "source": [
    "#Change of the Wochenende column\n",
    "df_new_1['Wochenende_flag']=df_new_1['Wochenende'].apply(lambda x: 1 if x=='Wochenende' else 0)"
   ]
  },
  {
   "cell_type": "code",
   "execution_count": 232,
   "metadata": {},
   "outputs": [],
   "source": [
    "#Change of the Wochenende column\n",
    "df_new_2['Wochenende_flag']=df_new_2['Wochenende'].apply(lambda x: 1 if x=='Wochenende' else 0)\n",
    "#df_new_2['Wochenende_flag']=pd.to_numeric(df_new_2['Wochenende'])"
   ]
  },
  {
   "cell_type": "code",
   "execution_count": 233,
   "metadata": {},
   "outputs": [],
   "source": [
    "#Change of the Wochenende column\n",
    "df_new_3['Wochenende_flag']=df_new_3['Wochenende'].apply(lambda x: 1 if x=='Wochenende' else 0)\n",
    "#df_new_3['Wochenende_flag']=pd.to_numeric(df_new_3['Wochenende'])"
   ]
  },
  {
   "cell_type": "code",
   "execution_count": 234,
   "metadata": {},
   "outputs": [],
   "source": [
    "df_new.drop(columns=['Wochenende'],inplace=True)"
   ]
  },
  {
   "cell_type": "code",
   "execution_count": 235,
   "metadata": {},
   "outputs": [],
   "source": [
    "df_new_1.drop(columns=['Wochenende'],inplace=True)"
   ]
  },
  {
   "cell_type": "code",
   "execution_count": 236,
   "metadata": {},
   "outputs": [],
   "source": [
    "df_new_2.drop(columns=['Wochenende'],inplace=True)"
   ]
  },
  {
   "cell_type": "code",
   "execution_count": 237,
   "metadata": {},
   "outputs": [],
   "source": [
    "df_new_3.drop(columns=['Wochenende'],inplace=True)"
   ]
  },
  {
   "cell_type": "markdown",
   "metadata": {},
   "source": [
    "## Season"
   ]
  },
  {
   "cell_type": "code",
   "execution_count": 238,
   "metadata": {},
   "outputs": [],
   "source": [
    "def season_of_date(date):\n",
    "    year = str(date.year)\n",
    "    seasons = {'spring': pd.date_range(start='21/03/'+year, end='20/06/'+year),\n",
    "               'summer': pd.date_range(start='21/06/'+year, end='22/09/'+year),\n",
    "               'autumn': pd.date_range(start='23/09/'+year, end='20/12/'+year)}\n",
    "    if date in seasons['spring']:\n",
    "        return '1'\n",
    "    if date in seasons['summer']:\n",
    "        return '2'\n",
    "    if date in seasons['autumn']:\n",
    "        return '3'\n",
    "    else:\n",
    "        return '4'"
   ]
  },
  {
   "cell_type": "code",
   "execution_count": 239,
   "metadata": {},
   "outputs": [],
   "source": [
    "# Assuming df has a date column of type `datetime`\n",
    "df_new['Season'] = df_new.Datum.map(season_of_date)\n",
    "df_new_1['Season'] = df_new_1.Datum.map(season_of_date)\n",
    "df_new_2['Season'] = df_new_2.Datum.map(season_of_date)\n",
    "df_new_3['Season'] = df_new_3.Datum.map(season_of_date)"
   ]
  },
  {
   "cell_type": "code",
   "execution_count": 240,
   "metadata": {},
   "outputs": [],
   "source": [
    "df_new['Season']=pd.to_numeric(df_new['Season'])\n",
    "df_new_1['Season']=pd.to_numeric(df_new_1['Season'])\n",
    "df_new_2['Season']=pd.to_numeric(df_new_2['Season'])\n",
    "df_new_1['Season']=pd.to_numeric(df_new_3['Season'])"
   ]
  },
  {
   "cell_type": "markdown",
   "metadata": {},
   "source": [
    "## Chrismas Season Flag"
   ]
  },
  {
   "cell_type": "code",
   "execution_count": 241,
   "metadata": {},
   "outputs": [],
   "source": [
    "df_new_1['Christmas'] =df_new_1['Monat'].apply(lambda x: 1 if x in (10,11,12,1) else 0)"
   ]
  },
  {
   "cell_type": "code",
   "execution_count": 242,
   "metadata": {},
   "outputs": [],
   "source": [
    "df_new_2['Christmas'] =df_new_2['Monat'].apply(lambda x: 1 if x in (10,11,12,1) else 0)"
   ]
  },
  {
   "cell_type": "code",
   "execution_count": 243,
   "metadata": {},
   "outputs": [],
   "source": [
    "df_new_3['Christmas'] =df_new_3['Monat'].apply(lambda x: 1 if x in (10,11,12,1) else 0)"
   ]
  },
  {
   "cell_type": "markdown",
   "metadata": {},
   "source": [
    "## Closed Flag"
   ]
  },
  {
   "cell_type": "code",
   "execution_count": 244,
   "metadata": {},
   "outputs": [],
   "source": [
    "df_new['Closed']=df_new['Gesamt'].apply(lambda x: 1 if x==0 else 0)\n",
    "df_new['Closed']=pd.to_numeric(df_new['Closed'])"
   ]
  },
  {
   "cell_type": "code",
   "execution_count": 245,
   "metadata": {},
   "outputs": [],
   "source": [
    "df_new_1['Closed']=df_new_1['Gesamt'].apply(lambda x: 1 if x==0 else 0)\n",
    "df_new_1['Closed']=pd.to_numeric(df_new_1['Closed'])"
   ]
  },
  {
   "cell_type": "code",
   "execution_count": 246,
   "metadata": {},
   "outputs": [],
   "source": [
    "df_new_2['Closed']=df_new_2['Gesamt'].apply(lambda x: 1 if x==0 else 0)\n",
    "df_new_2['Closed']=pd.to_numeric(df_new_2['Closed'])"
   ]
  },
  {
   "cell_type": "code",
   "execution_count": 247,
   "metadata": {},
   "outputs": [],
   "source": [
    "df_new_3['Closed']=df_new_3['Gesamt'].apply(lambda x: 1 if x==0 else 0)\n",
    "df_new_3['Closed']=pd.to_numeric(df_new_3['Closed'])"
   ]
  },
  {
   "cell_type": "markdown",
   "metadata": {},
   "source": [
    "### Closed for Prophet"
   ]
  },
  {
   "cell_type": "code",
   "execution_count": null,
   "metadata": {},
   "outputs": [],
   "source": [
    "CLOSED=df_new_2.query('Gesamt==0').Datum"
   ]
  },
  {
   "cell_type": "code",
   "execution_count": null,
   "metadata": {},
   "outputs": [],
   "source": [
    "closed=[i.strftime(format = \"%Y-%m-%d\") for i in CLOSED]"
   ]
  },
  {
   "cell_type": "code",
   "execution_count": null,
   "metadata": {},
   "outputs": [],
   "source": [
    "Closed = pd.DataFrame({\n",
    "  'holiday': 'Closed',\n",
    "  'ds': pd.to_datetime(['2015-01-01',\n",
    " '2015-04-03',\n",
    " '2015-05-01',\n",
    " '2015-12-25',\n",
    " '2015-12-26',\n",
    " '2016-01-01',\n",
    " '2016-03-24',\n",
    " '2016-03-25',\n",
    " '2016-07-07',\n",
    " '2016-07-18',\n",
    " '2016-08-14',\n",
    " '2016-08-15',\n",
    " '2016-12-17',\n",
    " '2016-12-25',\n",
    " '2016-12-26',\n",
    " '2017-01-01',\n",
    " '2017-04-14',\n",
    " '2017-05-01',\n",
    " '2017-07-04',\n",
    " '2017-10-23',\n",
    " '2017-10-31',\n",
    " '2017-12-25',\n",
    " '2017-12-26',\n",
    " '2018-01-01',\n",
    " '2018-03-30',\n",
    " '2018-05-01',\n",
    " '2018-05-21',\n",
    " '2018-10-31',\n",
    " '2018-12-25',\n",
    " '2018-12-26',\n",
    " '2019-01-01',\n",
    " '2019-03-20',\n",
    " '2019-04-03',\n",
    " '2019-04-19',\n",
    " '2019-05-01',\n",
    " '2019-07-10',\n",
    " '2019-10-31',\n",
    " '2019-12-25',\n",
    " '2019-12-26',\n",
    " '2020-01-01',\n",
    " '2020-04-10',\n",
    " '2020-05-01',\n",
    " '2020-05-03',\n",
    " '2020-05-06',\n",
    " '2020-05-07']),\n",
    "  'lower_window': 0,\n",
    "  'upper_window': 1,\n",
    "})"
   ]
  },
  {
   "cell_type": "code",
   "execution_count": null,
   "metadata": {},
   "outputs": [],
   "source": [
    "Closed"
   ]
  },
  {
   "cell_type": "code",
   "execution_count": null,
   "metadata": {},
   "outputs": [],
   "source": [
    "HOLIDAYS_SH_SOMMER"
   ]
  },
  {
   "cell_type": "markdown",
   "metadata": {},
   "source": [
    "## Holidays"
   ]
  },
  {
   "cell_type": "markdown",
   "metadata": {},
   "source": [
    "### Dates of special interest"
   ]
  },
  {
   "cell_type": "code",
   "execution_count": 248,
   "metadata": {},
   "outputs": [],
   "source": [
    "def def_out(Monat,Tag):\n",
    "    ergebnis=0\n",
    "    if Monat==12 and Tag in (30,31,24):\n",
    "        ergebnis=1\n",
    "    else:\n",
    "        ergebnis=0\n",
    "    return ergebnis    "
   ]
  },
  {
   "cell_type": "code",
   "execution_count": 249,
   "metadata": {},
   "outputs": [],
   "source": [
    "liste=[df_new_1,df_new_2,df_new_3,df_new]\n",
    "\n",
    "for i in liste:\n",
    "   \n",
    "   i['Outlier']=i.apply(lambda row: def_out(row['Monat'],row['Tag']), axis=1)"
   ]
  },
  {
   "cell_type": "code",
   "execution_count": 250,
   "metadata": {},
   "outputs": [
    {
     "data": {
      "text/plain": [
       "0    5487\n",
       "1      42\n",
       "Name: Outlier, dtype: int64"
      ]
     },
     "execution_count": 250,
     "metadata": {},
     "output_type": "execute_result"
    }
   ],
   "source": [
    "df_new.Outlier.value_counts()"
   ]
  },
  {
   "cell_type": "markdown",
   "metadata": {},
   "source": [
    "### New Years Eve"
   ]
  },
  {
   "cell_type": "code",
   "execution_count": 251,
   "metadata": {},
   "outputs": [],
   "source": [
    "def def_nye(Monat,Tag):\n",
    "    ergebnis=0\n",
    "    if Monat==12 and Tag==31:\n",
    "        ergebnis=1\n",
    "    else:\n",
    "        ergebnis=0\n",
    "    return ergebnis   "
   ]
  },
  {
   "cell_type": "code",
   "execution_count": 252,
   "metadata": {},
   "outputs": [],
   "source": [
    "liste=[df_new_1,df_new_2,df_new_3,df_new]\n",
    "\n",
    "for i in liste:\n",
    "   \n",
    "   i['New_Years_Eve']=i.apply(lambda row: def_nye(row['Monat'],row['Tag']), axis=1)"
   ]
  },
  {
   "cell_type": "markdown",
   "metadata": {},
   "source": [
    "### Public Celebrationdays via package holidays"
   ]
  },
  {
   "cell_type": "code",
   "execution_count": 253,
   "metadata": {},
   "outputs": [],
   "source": [
    "#Definition of Feiertage\n",
    "de_celebration_days=[]\n",
    "for date in holidays.Germany(years=2020).items():\n",
    "    de_celebration_days.append(str(date[0]))\n",
    "for date in holidays.Germany(years =2019).items():\n",
    "    de_celebration_days.append(str(date[0]))\n",
    "for date in holidays.Germany(years=2018).items():\n",
    "    de_celebration_days.append(str(date[0]))\n",
    "for date in holidays.Germany(years=2017).items():\n",
    "    de_celebration_days.append(str(date[0]))\n",
    "for date in holidays.Germany(years=2016).items():\n",
    "    de_celebration_days.append(str(date[0]))\n",
    "for date in holidays.Germany(years=2015).items():\n",
    "    de_celebration_days.append(str(date[0]))     "
   ]
  },
  {
   "cell_type": "code",
   "execution_count": 254,
   "metadata": {},
   "outputs": [],
   "source": [
    "#Definition of new column Feiertage_DE\n",
    "df_new['Feiertag_DE']=df_new['Datum'].apply(lambda x: 1 if x.strftime(format = \"%Y-%m-%d\") in de_celebration_days else 0)"
   ]
  },
  {
   "cell_type": "code",
   "execution_count": 255,
   "metadata": {},
   "outputs": [],
   "source": [
    "#Definition of new column Feiertage_DE\n",
    "df_new_1['Feiertag_DE']=df_new_1['Datum'].apply(lambda x: 1 if x.strftime(format = \"%Y-%m-%d\") in de_celebration_days else 0)"
   ]
  },
  {
   "cell_type": "code",
   "execution_count": 256,
   "metadata": {},
   "outputs": [],
   "source": [
    "#Definition of new column Feiertage_DE\n",
    "df_new_2['Feiertag_DE']=df_new_2['Datum'].apply(lambda x: 1 if x.strftime(format = \"%Y-%m-%d\") in de_celebration_days else 0)"
   ]
  },
  {
   "cell_type": "code",
   "execution_count": 257,
   "metadata": {},
   "outputs": [],
   "source": [
    "#Definition of new column Feiertage_DE\n",
    "df_new_3['Feiertag_DE']=df_new_3['Datum'].apply(lambda x: 1 if x.strftime(format = \"%Y-%m-%d\") in de_celebration_days else 0)"
   ]
  },
  {
   "cell_type": "markdown",
   "metadata": {},
   "source": [
    "### Ostern"
   ]
  },
  {
   "cell_type": "code",
   "execution_count": 200,
   "metadata": {},
   "outputs": [
    {
     "data": {
      "text/plain": [
       "['2020-01-01',\n",
       " '2020-04-10',\n",
       " '2020-04-13',\n",
       " '2020-05-01',\n",
       " '2020-05-21',\n",
       " '2020-06-01',\n",
       " '2020-10-03',\n",
       " '2020-12-25',\n",
       " '2020-12-26',\n",
       " '2019-01-01',\n",
       " '2019-04-19',\n",
       " '2019-04-22',\n",
       " '2019-05-01',\n",
       " '2019-05-30',\n",
       " '2019-06-10',\n",
       " '2019-10-03',\n",
       " '2019-12-25',\n",
       " '2019-12-26',\n",
       " '2018-01-01',\n",
       " '2018-03-30',\n",
       " '2018-04-02',\n",
       " '2018-05-01',\n",
       " '2018-05-10',\n",
       " '2018-05-21',\n",
       " '2018-10-03',\n",
       " '2018-12-25',\n",
       " '2018-12-26',\n",
       " '2017-01-01',\n",
       " '2017-04-14',\n",
       " '2017-04-17',\n",
       " '2017-05-01',\n",
       " '2017-05-25',\n",
       " '2017-06-05',\n",
       " '2017-10-03',\n",
       " '2017-10-31',\n",
       " '2017-12-25',\n",
       " '2017-12-26',\n",
       " '2016-01-01',\n",
       " '2016-03-25',\n",
       " '2016-03-28',\n",
       " '2016-05-01',\n",
       " '2016-05-05',\n",
       " '2016-05-16',\n",
       " '2016-10-03',\n",
       " '2016-12-25',\n",
       " '2016-12-26',\n",
       " '2015-01-01',\n",
       " '2015-04-03',\n",
       " '2015-04-06',\n",
       " '2015-05-01',\n",
       " '2015-05-14',\n",
       " '2015-05-25',\n",
       " '2015-10-03',\n",
       " '2015-12-25',\n",
       " '2015-12-26']"
      ]
     },
     "execution_count": 200,
     "metadata": {},
     "output_type": "execute_result"
    }
   ],
   "source": [
    "de_celebration_days"
   ]
  },
  {
   "cell_type": "markdown",
   "metadata": {},
   "source": [
    "### Before Ostern"
   ]
  },
  {
   "cell_type": "code",
   "execution_count": 258,
   "metadata": {},
   "outputs": [],
   "source": [
    "de_ostern = pd.DataFrame({'date':pd.date_range('2019-04-20', '2019-04-20')})\n",
    "de_ostern = de_ostern.append(pd.DataFrame({'date':pd.date_range('2019-04-18', '2018-04-18')})) \n",
    "de_ostern = de_ostern.append(pd.DataFrame({'date':pd.date_range('2018-03-31', '2018-03-31')}))\n",
    "de_ostern = de_ostern.append(pd.DataFrame({'date':pd.date_range('2018-03-29', '2018-03-29')}))\n",
    "de_ostern = de_ostern.append(pd.DataFrame({'date':pd.date_range('2017-04-15', '2017-04-15')}))\n",
    "de_ostern = de_ostern.append(pd.DataFrame({'date':pd.date_range('2017-04-13', '2017-04-13')}))\n",
    "de_ostern = de_ostern.append(pd.DataFrame({'date':pd.date_range('2016-03-30', '2016-03-30')}))\n",
    "de_ostern = de_ostern.append(pd.DataFrame({'date':pd.date_range('2016-03-28', '2016-03-28')}))\n",
    "de_ostern = de_ostern.append(pd.DataFrame({'date':pd.date_range('2015-04-04', '2015-04-04')}))\n",
    "de_ostern = de_ostern.append(pd.DataFrame({'date':pd.date_range('2015-04-02', '2015-04-02')}))\n",
    "de_ostern = de_ostern.sort_values('date') \n",
    "de_ostern['Ostern']=1"
   ]
  },
  {
   "cell_type": "code",
   "execution_count": 259,
   "metadata": {},
   "outputs": [],
   "source": [
    "df_new_1=pd.merge(df_new_1,de_ostern,left_on='Datum',right_on='date',how='left').fillna(0)"
   ]
  },
  {
   "cell_type": "code",
   "execution_count": 260,
   "metadata": {},
   "outputs": [],
   "source": [
    "df_new_2=pd.merge(df_new_2,de_ostern,left_on='Datum',right_on='date',how='left').fillna(0)"
   ]
  },
  {
   "cell_type": "code",
   "execution_count": 261,
   "metadata": {},
   "outputs": [],
   "source": [
    "df_new_3=pd.merge(df_new_3,de_ostern,left_on='Datum',right_on='date',how='left').fillna(0)"
   ]
  },
  {
   "cell_type": "code",
   "execution_count": 262,
   "metadata": {},
   "outputs": [],
   "source": [
    "df_new_1.drop(columns=['date'],inplace=True)\n",
    "df_new_2.drop(columns=['date'],inplace=True)\n",
    "df_new_3.drop(columns=['date'],inplace=True)"
   ]
  },
  {
   "cell_type": "code",
   "execution_count": null,
   "metadata": {},
   "outputs": [],
   "source": []
  },
  {
   "cell_type": "markdown",
   "metadata": {},
   "source": [
    "### School holidays SH"
   ]
  },
  {
   "cell_type": "code",
   "execution_count": 263,
   "metadata": {},
   "outputs": [],
   "source": [
    "summer_sh = pd.DataFrame({'date':pd.date_range('2019-12-23', '2020-01-06')})                  \n",
    "summer_sh = summer_sh.append(pd.DataFrame({'date':pd.date_range('2019-07-01', '2019-08-08')}))                                   \n",
    "summer_sh = summer_sh.append(pd.DataFrame({'date':pd.date_range('2018-07-09', '2018-08-17')}))               \n",
    "summer_sh = summer_sh.append(pd.DataFrame({'date':pd.date_range('2017-07-24', '2017-09-02')}))               \n",
    "summer_sh = summer_sh.append(pd.DataFrame({'date':pd.date_range('2016-07-25', '2016-09-02')}))               \n",
    "summer_sh = summer_sh.append(pd.DataFrame({'date':pd.date_range('2015-07-20', '2015-08-29')}))                \n",
    "summer_sh = summer_sh.sort_values('date') \n",
    "summer_sh['SUMMER_SH']=1\n"
   ]
  },
  {
   "cell_type": "code",
   "execution_count": 264,
   "metadata": {},
   "outputs": [],
   "source": [
    "holidays_sh = pd.DataFrame({'date':pd.date_range('2019-12-23', '2020-01-06')})\n",
    "holidays_sh = holidays_sh.append(pd.DataFrame({'date':pd.date_range('2020-03-31', '2020-04-17')}))\n",
    "holidays_sh = holidays_sh.append(pd.DataFrame({'date':pd.date_range('2018-12-10', '2019-01-04')}))\n",
    "holidays_sh = holidays_sh.append(pd.DataFrame({'date':pd.date_range('2019-04-04', '2019-04-18')}))\n",
    "holidays_sh = holidays_sh.append(pd.DataFrame({'date':pd.date_range('2019-05-30', '2019-05-30')}))                    \n",
    "holidays_sh = holidays_sh.append(pd.DataFrame({'date':pd.date_range('2019-07-01', '2019-08-08')}))               \n",
    "holidays_sh = holidays_sh.append(pd.DataFrame({'date':pd.date_range('2019-10-05', '2019-10-17')}))\n",
    "holidays_sh = holidays_sh.append(pd.DataFrame({'date':pd.date_range('2017-12-21', '2018-01-06')}))\n",
    "holidays_sh = holidays_sh.append(pd.DataFrame({'date':pd.date_range('2018-03-29', '2018-04-13')}))\n",
    "holidays_sh = holidays_sh.append(pd.DataFrame({'date':pd.date_range('2018-05-11', '2018-05-11')}))                    \n",
    "holidays_sh = holidays_sh.append(pd.DataFrame({'date':pd.date_range('2018-07-09', '2018-08-17')}))               \n",
    "holidays_sh = holidays_sh.append(pd.DataFrame({'date':pd.date_range('2018-10-01', '2018-10-19')}))    \n",
    "holidays_sh = holidays_sh.append(pd.DataFrame({'date':pd.date_range('2016-12-23', '2017-01-06')}))\n",
    "holidays_sh = holidays_sh.append(pd.DataFrame({'date':pd.date_range('2017-04-07', '2017-04-21')}))\n",
    "holidays_sh = holidays_sh.append(pd.DataFrame({'date':pd.date_range('2017-05-26', '2017-05-26')}))                    \n",
    "holidays_sh = holidays_sh.append(pd.DataFrame({'date':pd.date_range('2017-07-24', '2017-09-02')}))               \n",
    "holidays_sh = holidays_sh.append(pd.DataFrame({'date':pd.date_range('2017-10-16', '2017-10-27')}))       \n",
    "holidays_sh = holidays_sh.append(pd.DataFrame({'date':pd.date_range('2015-12-21', '2016-01-06')}))\n",
    "holidays_sh = holidays_sh.append(pd.DataFrame({'date':pd.date_range('2016-03-24', '2016-04-09')}))\n",
    "holidays_sh = holidays_sh.append(pd.DataFrame({'date':pd.date_range('2016-05-16', '2016-05-16')}))                    \n",
    "holidays_sh = holidays_sh.append(pd.DataFrame({'date':pd.date_range('2016-07-25', '2016-09-02')}))               \n",
    "holidays_sh = holidays_sh.append(pd.DataFrame({'date':pd.date_range('2016-10-17', '2016-10-29')}))    \n",
    "holidays_sh = holidays_sh.append(pd.DataFrame({'date':pd.date_range('2014-12-22', '2015-01-06')}))\n",
    "holidays_sh = holidays_sh.append(pd.DataFrame({'date':pd.date_range('2015-04-01', '2015-04-17')}))\n",
    "holidays_sh = holidays_sh.append(pd.DataFrame({'date':pd.date_range('2015-05-11', '2015-05-11')}))                    \n",
    "holidays_sh = holidays_sh.append(pd.DataFrame({'date':pd.date_range('2015-07-20', '2015-08-29')}))               \n",
    "holidays_sh = holidays_sh.append(pd.DataFrame({'date':pd.date_range('2015-10-19', '2015-10-31')}))    \n",
    "\n",
    "\n",
    "holidays_sh = holidays_sh.sort_values('date') \n",
    "holidays_sh['Holidays_SH']=1\n"
   ]
  },
  {
   "cell_type": "code",
   "execution_count": 265,
   "metadata": {},
   "outputs": [],
   "source": [
    "df_new=pd.merge(df_new,holidays_sh,left_on='Datum',right_on='date',how='left').fillna(0)"
   ]
  },
  {
   "cell_type": "code",
   "execution_count": 266,
   "metadata": {},
   "outputs": [],
   "source": [
    "df_new_1=pd.merge(df_new_1,holidays_sh,left_on='Datum',right_on='date',how='left').fillna(0)\n",
    "df_new_1=pd.merge(df_new_1,summer_sh,left_on='Datum',right_on='date',how='left').fillna(0)"
   ]
  },
  {
   "cell_type": "code",
   "execution_count": 267,
   "metadata": {},
   "outputs": [],
   "source": [
    "df_new_2=pd.merge(df_new_2,holidays_sh,left_on='Datum',right_on='date',how='left').fillna(0)\n",
    "df_new_2=pd.merge(df_new_2,summer_sh,left_on='Datum',right_on='date',how='left').fillna(0)"
   ]
  },
  {
   "cell_type": "code",
   "execution_count": 268,
   "metadata": {},
   "outputs": [],
   "source": [
    "df_new_3=pd.merge(df_new_3,holidays_sh,left_on='Datum',right_on='date',how='left').fillna(0)\n",
    "df_new_3=pd.merge(df_new_3,summer_sh,left_on='Datum',right_on='date',how='left').fillna(0)\n"
   ]
  },
  {
   "cell_type": "code",
   "execution_count": 269,
   "metadata": {},
   "outputs": [],
   "source": [
    "df_new.drop(columns=['date'],inplace=True)"
   ]
  },
  {
   "cell_type": "code",
   "execution_count": 270,
   "metadata": {},
   "outputs": [
    {
     "ename": "KeyError",
     "evalue": "\"['date'] not found in axis\"",
     "output_type": "error",
     "traceback": [
      "\u001b[0;31m---------------------------------------------------------------------------\u001b[0m",
      "\u001b[0;31mKeyError\u001b[0m                                  Traceback (most recent call last)",
      "\u001b[0;32m<ipython-input-270-0bd1ac344bba>\u001b[0m in \u001b[0;36m<module>\u001b[0;34m\u001b[0m\n\u001b[0;32m----> 1\u001b[0;31m \u001b[0mdf_new_1\u001b[0m\u001b[0;34m.\u001b[0m\u001b[0mdrop\u001b[0m\u001b[0;34m(\u001b[0m\u001b[0mcolumns\u001b[0m\u001b[0;34m=\u001b[0m\u001b[0;34m[\u001b[0m\u001b[0;34m'date'\u001b[0m\u001b[0;34m]\u001b[0m\u001b[0;34m,\u001b[0m\u001b[0minplace\u001b[0m\u001b[0;34m=\u001b[0m\u001b[0;32mTrue\u001b[0m\u001b[0;34m)\u001b[0m\u001b[0;34m\u001b[0m\u001b[0;34m\u001b[0m\u001b[0m\n\u001b[0m",
      "\u001b[0;32m/opt/anaconda3/envs/nf/lib/python3.6/site-packages/pandas/core/frame.py\u001b[0m in \u001b[0;36mdrop\u001b[0;34m(self, labels, axis, index, columns, level, inplace, errors)\u001b[0m\n\u001b[1;32m   4172\u001b[0m             \u001b[0mlevel\u001b[0m\u001b[0;34m=\u001b[0m\u001b[0mlevel\u001b[0m\u001b[0;34m,\u001b[0m\u001b[0;34m\u001b[0m\u001b[0;34m\u001b[0m\u001b[0m\n\u001b[1;32m   4173\u001b[0m             \u001b[0minplace\u001b[0m\u001b[0;34m=\u001b[0m\u001b[0minplace\u001b[0m\u001b[0;34m,\u001b[0m\u001b[0;34m\u001b[0m\u001b[0;34m\u001b[0m\u001b[0m\n\u001b[0;32m-> 4174\u001b[0;31m             \u001b[0merrors\u001b[0m\u001b[0;34m=\u001b[0m\u001b[0merrors\u001b[0m\u001b[0;34m,\u001b[0m\u001b[0;34m\u001b[0m\u001b[0;34m\u001b[0m\u001b[0m\n\u001b[0m\u001b[1;32m   4175\u001b[0m         )\n\u001b[1;32m   4176\u001b[0m \u001b[0;34m\u001b[0m\u001b[0m\n",
      "\u001b[0;32m/opt/anaconda3/envs/nf/lib/python3.6/site-packages/pandas/core/generic.py\u001b[0m in \u001b[0;36mdrop\u001b[0;34m(self, labels, axis, index, columns, level, inplace, errors)\u001b[0m\n\u001b[1;32m   3885\u001b[0m         \u001b[0;32mfor\u001b[0m \u001b[0maxis\u001b[0m\u001b[0;34m,\u001b[0m \u001b[0mlabels\u001b[0m \u001b[0;32min\u001b[0m \u001b[0maxes\u001b[0m\u001b[0;34m.\u001b[0m\u001b[0mitems\u001b[0m\u001b[0;34m(\u001b[0m\u001b[0;34m)\u001b[0m\u001b[0;34m:\u001b[0m\u001b[0;34m\u001b[0m\u001b[0;34m\u001b[0m\u001b[0m\n\u001b[1;32m   3886\u001b[0m             \u001b[0;32mif\u001b[0m \u001b[0mlabels\u001b[0m \u001b[0;32mis\u001b[0m \u001b[0;32mnot\u001b[0m \u001b[0;32mNone\u001b[0m\u001b[0;34m:\u001b[0m\u001b[0;34m\u001b[0m\u001b[0;34m\u001b[0m\u001b[0m\n\u001b[0;32m-> 3887\u001b[0;31m                 \u001b[0mobj\u001b[0m \u001b[0;34m=\u001b[0m \u001b[0mobj\u001b[0m\u001b[0;34m.\u001b[0m\u001b[0m_drop_axis\u001b[0m\u001b[0;34m(\u001b[0m\u001b[0mlabels\u001b[0m\u001b[0;34m,\u001b[0m \u001b[0maxis\u001b[0m\u001b[0;34m,\u001b[0m \u001b[0mlevel\u001b[0m\u001b[0;34m=\u001b[0m\u001b[0mlevel\u001b[0m\u001b[0;34m,\u001b[0m \u001b[0merrors\u001b[0m\u001b[0;34m=\u001b[0m\u001b[0merrors\u001b[0m\u001b[0;34m)\u001b[0m\u001b[0;34m\u001b[0m\u001b[0;34m\u001b[0m\u001b[0m\n\u001b[0m\u001b[1;32m   3888\u001b[0m \u001b[0;34m\u001b[0m\u001b[0m\n\u001b[1;32m   3889\u001b[0m         \u001b[0;32mif\u001b[0m \u001b[0minplace\u001b[0m\u001b[0;34m:\u001b[0m\u001b[0;34m\u001b[0m\u001b[0;34m\u001b[0m\u001b[0m\n",
      "\u001b[0;32m/opt/anaconda3/envs/nf/lib/python3.6/site-packages/pandas/core/generic.py\u001b[0m in \u001b[0;36m_drop_axis\u001b[0;34m(self, labels, axis, level, errors)\u001b[0m\n\u001b[1;32m   3919\u001b[0m                 \u001b[0mnew_axis\u001b[0m \u001b[0;34m=\u001b[0m \u001b[0maxis\u001b[0m\u001b[0;34m.\u001b[0m\u001b[0mdrop\u001b[0m\u001b[0;34m(\u001b[0m\u001b[0mlabels\u001b[0m\u001b[0;34m,\u001b[0m \u001b[0mlevel\u001b[0m\u001b[0;34m=\u001b[0m\u001b[0mlevel\u001b[0m\u001b[0;34m,\u001b[0m \u001b[0merrors\u001b[0m\u001b[0;34m=\u001b[0m\u001b[0merrors\u001b[0m\u001b[0;34m)\u001b[0m\u001b[0;34m\u001b[0m\u001b[0;34m\u001b[0m\u001b[0m\n\u001b[1;32m   3920\u001b[0m             \u001b[0;32melse\u001b[0m\u001b[0;34m:\u001b[0m\u001b[0;34m\u001b[0m\u001b[0;34m\u001b[0m\u001b[0m\n\u001b[0;32m-> 3921\u001b[0;31m                 \u001b[0mnew_axis\u001b[0m \u001b[0;34m=\u001b[0m \u001b[0maxis\u001b[0m\u001b[0;34m.\u001b[0m\u001b[0mdrop\u001b[0m\u001b[0;34m(\u001b[0m\u001b[0mlabels\u001b[0m\u001b[0;34m,\u001b[0m \u001b[0merrors\u001b[0m\u001b[0;34m=\u001b[0m\u001b[0merrors\u001b[0m\u001b[0;34m)\u001b[0m\u001b[0;34m\u001b[0m\u001b[0;34m\u001b[0m\u001b[0m\n\u001b[0m\u001b[1;32m   3922\u001b[0m             \u001b[0mresult\u001b[0m \u001b[0;34m=\u001b[0m \u001b[0mself\u001b[0m\u001b[0;34m.\u001b[0m\u001b[0mreindex\u001b[0m\u001b[0;34m(\u001b[0m\u001b[0;34m**\u001b[0m\u001b[0;34m{\u001b[0m\u001b[0maxis_name\u001b[0m\u001b[0;34m:\u001b[0m \u001b[0mnew_axis\u001b[0m\u001b[0;34m}\u001b[0m\u001b[0;34m)\u001b[0m\u001b[0;34m\u001b[0m\u001b[0;34m\u001b[0m\u001b[0m\n\u001b[1;32m   3923\u001b[0m \u001b[0;34m\u001b[0m\u001b[0m\n",
      "\u001b[0;32m/opt/anaconda3/envs/nf/lib/python3.6/site-packages/pandas/core/indexes/base.py\u001b[0m in \u001b[0;36mdrop\u001b[0;34m(self, labels, errors)\u001b[0m\n\u001b[1;32m   5282\u001b[0m         \u001b[0;32mif\u001b[0m \u001b[0mmask\u001b[0m\u001b[0;34m.\u001b[0m\u001b[0many\u001b[0m\u001b[0;34m(\u001b[0m\u001b[0;34m)\u001b[0m\u001b[0;34m:\u001b[0m\u001b[0;34m\u001b[0m\u001b[0;34m\u001b[0m\u001b[0m\n\u001b[1;32m   5283\u001b[0m             \u001b[0;32mif\u001b[0m \u001b[0merrors\u001b[0m \u001b[0;34m!=\u001b[0m \u001b[0;34m\"ignore\"\u001b[0m\u001b[0;34m:\u001b[0m\u001b[0;34m\u001b[0m\u001b[0;34m\u001b[0m\u001b[0m\n\u001b[0;32m-> 5284\u001b[0;31m                 \u001b[0;32mraise\u001b[0m \u001b[0mKeyError\u001b[0m\u001b[0;34m(\u001b[0m\u001b[0;34mf\"{labels[mask]} not found in axis\"\u001b[0m\u001b[0;34m)\u001b[0m\u001b[0;34m\u001b[0m\u001b[0;34m\u001b[0m\u001b[0m\n\u001b[0m\u001b[1;32m   5285\u001b[0m             \u001b[0mindexer\u001b[0m \u001b[0;34m=\u001b[0m \u001b[0mindexer\u001b[0m\u001b[0;34m[\u001b[0m\u001b[0;34m~\u001b[0m\u001b[0mmask\u001b[0m\u001b[0;34m]\u001b[0m\u001b[0;34m\u001b[0m\u001b[0;34m\u001b[0m\u001b[0m\n\u001b[1;32m   5286\u001b[0m         \u001b[0;32mreturn\u001b[0m \u001b[0mself\u001b[0m\u001b[0;34m.\u001b[0m\u001b[0mdelete\u001b[0m\u001b[0;34m(\u001b[0m\u001b[0mindexer\u001b[0m\u001b[0;34m)\u001b[0m\u001b[0;34m\u001b[0m\u001b[0;34m\u001b[0m\u001b[0m\n",
      "\u001b[0;31mKeyError\u001b[0m: \"['date'] not found in axis\""
     ]
    }
   ],
   "source": [
    "df_new_1.drop(columns=['date'],inplace=True)"
   ]
  },
  {
   "cell_type": "code",
   "execution_count": null,
   "metadata": {},
   "outputs": [],
   "source": [
    "df_new_2.drop(columns=['date'],inplace=True)"
   ]
  },
  {
   "cell_type": "code",
   "execution_count": null,
   "metadata": {},
   "outputs": [],
   "source": [
    "df_new_3.drop(columns=['date'],inplace=True)"
   ]
  },
  {
   "cell_type": "markdown",
   "metadata": {},
   "source": [
    "#### School Holidays for Prophet"
   ]
  },
  {
   "cell_type": "code",
   "execution_count": null,
   "metadata": {},
   "outputs": [],
   "source": [
    "HOLIDAYS_SH_SOMMER = pd.DataFrame({\n",
    "  'holiday': 'Sommer',\n",
    "  'ds': pd.to_datetime(['2015-07-20','2016-07-25','2017-07-24','2018-07-09','2019-07-01']),\n",
    "  'lower_window': -2,\n",
    "  'upper_window': 42,\n",
    "})"
   ]
  },
  {
   "cell_type": "code",
   "execution_count": null,
   "metadata": {},
   "outputs": [],
   "source": [
    "OSTERN = pd.DataFrame({\n",
    "  'holiday': 'Ostern',\n",
    "  'ds': pd.to_datetime(['2019-04-04','2018-03-29','2016-03-24','2017-04-07','2015-04-01']),\n",
    "  'lower_window': 0,\n",
    "  'upper_window': 18,\n",
    "})\n",
    "\n",
    "OSTERN.loc[OSTERN.ds=='2017-04-07','upper_window']=17\n",
    "OSTERN.loc[OSTERN.ds=='2015-04-01','upper_window']=19\n",
    "OSTERN.loc[OSTERN.ds=='2019-04-04','upper_window']=15"
   ]
  },
  {
   "cell_type": "code",
   "execution_count": null,
   "metadata": {},
   "outputs": [],
   "source": [
    "OSTERN.loc[OSTERN.ds=='2017-04-07','upper_window']=17\n",
    "OSTERN.loc[OSTERN.ds=='2015-04-01','upper_window']=19\n",
    "OSTERN.loc[OSTERN.ds=='2019-04-04','upper_window']=15"
   ]
  },
  {
   "cell_type": "code",
   "execution_count": null,
   "metadata": {},
   "outputs": [],
   "source": [
    "HERBST = pd.DataFrame({\n",
    "  'holiday': 'Herbst',\n",
    "  'ds': pd.to_datetime(['2015-10-19','2016-10-17','2017-10-16','2019-10-07','2018-10-01']),\n",
    "  'lower_window': -2,\n",
    "  'upper_window': 13,\n",
    "})\n",
    "HERBST.loc[HERBST.ds=='2018-10-01','upper_window']=20"
   ]
  },
  {
   "cell_type": "code",
   "execution_count": null,
   "metadata": {},
   "outputs": [],
   "source": [
    "HOLIDAYS_SH_ALL=pd.concat((HERBST, OSTERN))"
   ]
  },
  {
   "cell_type": "code",
   "execution_count": null,
   "metadata": {},
   "outputs": [],
   "source": [
    "holidays_2019 = {'Weihnachten': pd.date_range(start='20/12/2018', end='04/01/2019'),\n",
    "                     'Ostern': pd.date_range(start='04/04/2019', end='18/04/2019'),\n",
    "               \n",
    "               'Herbst': pd.date_range(start='05/10/2019', end='17/10/2019')}\n",
    "    holidays_2018 = {'Weihnachten': pd.date_range(start='21/12/2017', end='06/01/2018'),\n",
    "               'Ostern': pd.date_range(start='29/03/2018', end='13/04/2018'),\n",
    "               \n",
    "               'Herbst': pd.date_range(start='01/10/2018', end='19/10/2018')}\n",
    "    holidays_2017 = {'Weihnachten': pd.date_range(start='23/12/2016', end='06/01/2017'),\n",
    "               'Ostern': pd.date_range(start='07/04/2017', end='21/04/2017'),\n",
    "               \n",
    "              \n",
    "               'Herbst': pd.date_range(start='16/10/2017', end='27/10/2017')}\n",
    "    holidays_2016 = {'Weihnachten': pd.date_range(start='21/12/2015', end='06/01/2016'),\n",
    "               'Ostern': pd.date_range(start='24/03/2016', end='09/04/2016'),\n",
    "               \n",
    "               'Sommer': pd.date_range(start='25/07/2016', end='17/08/2016'),\n",
    "               'Herbst': pd.date_range(start='17/10/2016', end='29/10/2016')}\n",
    "    holidays_2015 = {'Weihnachten': pd.date_range(start='22/12/2014', end='06/01/2015'),\n",
    "               'Ostern': pd.date_range(start='01/04/2015', end='17/04/2015'),\n",
    "               \n",
    "                     \n",
    "               'Herbst': pd.date_range(start='19/10/2015', end='31/10/2015')}\n",
    "    if date in holidays_2020['Weihnachten']:"
   ]
  },
  {
   "cell_type": "markdown",
   "metadata": {},
   "source": [
    "#### Kieler Woche for Prophet"
   ]
  },
  {
   "cell_type": "code",
   "execution_count": 39,
   "metadata": {},
   "outputs": [],
   "source": [
    "Kieler_Woche= pd.DataFrame({\n",
    "  'holiday': 'Kieler_Woche',\n",
    "  'ds': pd.to_datetime(['2015-06-20','2016-06-18','2017-06-17','2018-06-16','2019-06-22']),\n",
    "  'lower_window': 0,\n",
    "  'upper_window': 8,\n",
    "})"
   ]
  },
  {
   "cell_type": "code",
   "execution_count": 40,
   "metadata": {},
   "outputs": [
    {
     "data": {
      "text/html": [
       "<div>\n",
       "<style scoped>\n",
       "    .dataframe tbody tr th:only-of-type {\n",
       "        vertical-align: middle;\n",
       "    }\n",
       "\n",
       "    .dataframe tbody tr th {\n",
       "        vertical-align: top;\n",
       "    }\n",
       "\n",
       "    .dataframe thead th {\n",
       "        text-align: right;\n",
       "    }\n",
       "</style>\n",
       "<table border=\"1\" class=\"dataframe\">\n",
       "  <thead>\n",
       "    <tr style=\"text-align: right;\">\n",
       "      <th></th>\n",
       "      <th>holiday</th>\n",
       "      <th>ds</th>\n",
       "      <th>lower_window</th>\n",
       "      <th>upper_window</th>\n",
       "    </tr>\n",
       "  </thead>\n",
       "  <tbody>\n",
       "    <tr>\n",
       "      <th>0</th>\n",
       "      <td>Kieler_Woche</td>\n",
       "      <td>2015-06-20</td>\n",
       "      <td>0</td>\n",
       "      <td>8</td>\n",
       "    </tr>\n",
       "    <tr>\n",
       "      <th>1</th>\n",
       "      <td>Kieler_Woche</td>\n",
       "      <td>2016-06-18</td>\n",
       "      <td>0</td>\n",
       "      <td>8</td>\n",
       "    </tr>\n",
       "    <tr>\n",
       "      <th>2</th>\n",
       "      <td>Kieler_Woche</td>\n",
       "      <td>2017-06-17</td>\n",
       "      <td>0</td>\n",
       "      <td>8</td>\n",
       "    </tr>\n",
       "    <tr>\n",
       "      <th>3</th>\n",
       "      <td>Kieler_Woche</td>\n",
       "      <td>2018-06-16</td>\n",
       "      <td>0</td>\n",
       "      <td>8</td>\n",
       "    </tr>\n",
       "    <tr>\n",
       "      <th>4</th>\n",
       "      <td>Kieler_Woche</td>\n",
       "      <td>2019-06-22</td>\n",
       "      <td>0</td>\n",
       "      <td>8</td>\n",
       "    </tr>\n",
       "  </tbody>\n",
       "</table>\n",
       "</div>"
      ],
      "text/plain": [
       "        holiday         ds  lower_window  upper_window\n",
       "0  Kieler_Woche 2015-06-20             0             8\n",
       "1  Kieler_Woche 2016-06-18             0             8\n",
       "2  Kieler_Woche 2017-06-17             0             8\n",
       "3  Kieler_Woche 2018-06-16             0             8\n",
       "4  Kieler_Woche 2019-06-22             0             8"
      ]
     },
     "execution_count": 40,
     "metadata": {},
     "output_type": "execute_result"
    }
   ],
   "source": [
    "Kieler_Woche"
   ]
  },
  {
   "cell_type": "markdown",
   "metadata": {},
   "source": [
    "### Kieler Woche"
   ]
  },
  {
   "cell_type": "code",
   "execution_count": null,
   "metadata": {},
   "outputs": [],
   "source": [
    "kieler_woche= pd.DataFrame({'date':pd.date_range('2019-06-22', '2019-06-30')})\n",
    "kieler_woche = kieler_woche.append(pd.DataFrame({'date':pd.date_range('2018-06-16', '2018-06-24')}))\n",
    "kieler_woche = kieler_woche.append(pd.DataFrame({'date':pd.date_range('2017-06-17', '2017-06-25')}))\n",
    "kieler_woche = kieler_woche.append(pd.DataFrame({'date':pd.date_range('2016-06-18', '2016-06-26')}))\n",
    "kieler_woche = kieler_woche.append(pd.DataFrame({'date':pd.date_range('2015-06-20', '2015-06-28')}))"
   ]
  },
  {
   "cell_type": "code",
   "execution_count": null,
   "metadata": {},
   "outputs": [],
   "source": [
    "kieler_woche['Datum']=kieler_woche['date'].apply(lambda x: x.strftime(format = \"%Y-%m-%d\"))\n",
    "liste_kw=kieler_woche['Datum'].tolist()"
   ]
  },
  {
   "cell_type": "code",
   "execution_count": null,
   "metadata": {},
   "outputs": [],
   "source": [
    "#Definition of new column Kieler Woche\n",
    "df_new['Kieler_Woche']=df_new['Datum'].apply(lambda x: 1 if x.strftime(format = \"%Y-%m-%d\") in liste_kw else 0)"
   ]
  },
  {
   "cell_type": "code",
   "execution_count": null,
   "metadata": {},
   "outputs": [],
   "source": [
    "#Definition of new column Kieler Woche\n",
    "df_new_1['Kieler_Woche']=df_new_1['Datum'].apply(lambda x: 1 if x.strftime(format = \"%Y-%m-%d\") in liste_kw else 0)"
   ]
  },
  {
   "cell_type": "code",
   "execution_count": null,
   "metadata": {},
   "outputs": [],
   "source": [
    "#Definition of new column Kieler Woche\n",
    "df_new_2['Kieler_Woche']=df_new_2['Datum'].apply(lambda x: 1 if x.strftime(format = \"%Y-%m-%d\") in liste_kw else 0)"
   ]
  },
  {
   "cell_type": "code",
   "execution_count": null,
   "metadata": {},
   "outputs": [],
   "source": [
    "##Definition of new column Kieler Woche\n",
    "df_new_3['Kieler_Woche']=df_new_3['Datum'].apply(lambda x: 1 if x.strftime(format = \"%Y-%m-%d\") in liste_kw else 0)"
   ]
  },
  {
   "cell_type": "code",
   "execution_count": null,
   "metadata": {},
   "outputs": [],
   "source": [
    "df_new_2['Kieler_Woche'].value_counts()"
   ]
  },
  {
   "cell_type": "markdown",
   "metadata": {},
   "source": [
    "### Further Use"
   ]
  },
  {
   "cell_type": "code",
   "execution_count": 47,
   "metadata": {},
   "outputs": [],
   "source": [
    "import holidays\n",
    "\n",
    "#prov = BW, BY, BE, BB, HB, HH, HE, MV, NI, NW, RP, SL, SN, ST, SH, TH\n",
    "\n",
    "holidays_SH = holidays.CountryHoliday('DE', prov='SH', state=None )\n"
   ]
  },
  {
   "cell_type": "code",
   "execution_count": null,
   "metadata": {},
   "outputs": [],
   "source": []
  },
  {
   "cell_type": "markdown",
   "metadata": {},
   "source": [
    "## Verkaufsfreie Sonntage"
   ]
  },
  {
   "cell_type": "markdown",
   "metadata": {},
   "source": [
    "## Wheather data from dwd/weste"
   ]
  },
  {
   "cell_type": "code",
   "execution_count": 310,
   "metadata": {},
   "outputs": [],
   "source": [
    "df_wetter = pd.read_csv(\"Wetterdaten_Kiel_gesamt.csv\",delimiter=';')"
   ]
  },
  {
   "cell_type": "code",
   "execution_count": 311,
   "metadata": {},
   "outputs": [
    {
     "data": {
      "text/html": [
       "<div>\n",
       "<style scoped>\n",
       "    .dataframe tbody tr th:only-of-type {\n",
       "        vertical-align: middle;\n",
       "    }\n",
       "\n",
       "    .dataframe tbody tr th {\n",
       "        vertical-align: top;\n",
       "    }\n",
       "\n",
       "    .dataframe thead th {\n",
       "        text-align: right;\n",
       "    }\n",
       "</style>\n",
       "<table border=\"1\" class=\"dataframe\">\n",
       "  <thead>\n",
       "    <tr style=\"text-align: right;\">\n",
       "      <th></th>\n",
       "      <th>Datum</th>\n",
       "      <th>Niederschlag</th>\n",
       "      <th>Sonne_h</th>\n",
       "      <th>Temperatur_max</th>\n",
       "      <th>Unnamed: 4</th>\n",
       "    </tr>\n",
       "  </thead>\n",
       "  <tbody>\n",
       "    <tr>\n",
       "      <th>0</th>\n",
       "      <td>01.01.2015</td>\n",
       "      <td>8</td>\n",
       "      <td>0</td>\n",
       "      <td>6,2</td>\n",
       "      <td>NaN</td>\n",
       "    </tr>\n",
       "    <tr>\n",
       "      <th>1</th>\n",
       "      <td>02.01.2015</td>\n",
       "      <td>2,2</td>\n",
       "      <td>0,7</td>\n",
       "      <td>9,5</td>\n",
       "      <td>NaN</td>\n",
       "    </tr>\n",
       "    <tr>\n",
       "      <th>2</th>\n",
       "      <td>03.01.2015</td>\n",
       "      <td>4,2</td>\n",
       "      <td>0</td>\n",
       "      <td>5,9</td>\n",
       "      <td>NaN</td>\n",
       "    </tr>\n",
       "    <tr>\n",
       "      <th>3</th>\n",
       "      <td>04.01.2015</td>\n",
       "      <td>0</td>\n",
       "      <td>4,7</td>\n",
       "      <td>5,8</td>\n",
       "      <td>NaN</td>\n",
       "    </tr>\n",
       "    <tr>\n",
       "      <th>4</th>\n",
       "      <td>05.01.2015</td>\n",
       "      <td>0,2</td>\n",
       "      <td>0</td>\n",
       "      <td>6,1</td>\n",
       "      <td>NaN</td>\n",
       "    </tr>\n",
       "  </tbody>\n",
       "</table>\n",
       "</div>"
      ],
      "text/plain": [
       "        Datum Niederschlag Sonne_h Temperatur_max Unnamed: 4\n",
       "0  01.01.2015            8       0            6,2        NaN\n",
       "1  02.01.2015          2,2     0,7            9,5        NaN\n",
       "2  03.01.2015          4,2       0            5,9        NaN\n",
       "3  04.01.2015            0     4,7            5,8        NaN\n",
       "4  05.01.2015          0,2       0            6,1        NaN"
      ]
     },
     "execution_count": 311,
     "metadata": {},
     "output_type": "execute_result"
    }
   ],
   "source": [
    "df_wetter.head(5)"
   ]
  },
  {
   "cell_type": "code",
   "execution_count": 312,
   "metadata": {},
   "outputs": [],
   "source": [
    "df_wetter.drop(columns=['Unnamed: 4'],inplace=True)"
   ]
  },
  {
   "cell_type": "code",
   "execution_count": 313,
   "metadata": {},
   "outputs": [],
   "source": [
    "df_wetter.Datum=pd.to_datetime(df_wetter['Datum'])\n",
    "df_wetter['Datum']=df_wetter['Datum'].apply(lambda x: x.strftime(format = \"%Y-%m-%d\") )\n",
    "df_wetter.Datum=pd.to_datetime(df_wetter['Datum'])"
   ]
  },
  {
   "cell_type": "code",
   "execution_count": 314,
   "metadata": {},
   "outputs": [],
   "source": [
    "df_wetter.rename(columns={'Datum':'date'}, inplace=True)"
   ]
  },
  {
   "cell_type": "code",
   "execution_count": 315,
   "metadata": {},
   "outputs": [],
   "source": [
    "df_wetter.Niederschlag=df_wetter.Niederschlag.apply(lambda x: str(x).replace(\",\", \".\"))\n",
    "df_wetter.Sonne_h=df_wetter.Sonne_h.apply(lambda x: str(x).replace(\",\", \".\"))\n",
    "df_wetter.Sonne_h=df_wetter.Sonne_h.apply(lambda x: str(x).replace(\"nan\", \"0\"))\n",
    "df_wetter.Temperatur_max=df_wetter.Temperatur_max.apply(lambda x: str(x).replace(\",\", \".\"))"
   ]
  },
  {
   "cell_type": "code",
   "execution_count": 316,
   "metadata": {},
   "outputs": [],
   "source": [
    "df_new=pd.concat([df_new,df_wetter],axis=1).fillna(0)"
   ]
  },
  {
   "cell_type": "code",
   "execution_count": 317,
   "metadata": {},
   "outputs": [],
   "source": [
    "df_new_1=pd.concat([df_new_1,df_wetter],axis=1).fillna(0)"
   ]
  },
  {
   "cell_type": "code",
   "execution_count": 318,
   "metadata": {},
   "outputs": [],
   "source": [
    "df_new_2=pd.concat([df_new_2,df_wetter],axis=1).fillna(0)"
   ]
  },
  {
   "cell_type": "code",
   "execution_count": 319,
   "metadata": {},
   "outputs": [],
   "source": [
    "df_new_3=pd.concat([df_new_3,df_wetter],axis=1).fillna(0)"
   ]
  },
  {
   "cell_type": "code",
   "execution_count": 320,
   "metadata": {},
   "outputs": [],
   "source": [
    "df_new['Niederschlag']=pd.to_numeric(df_new['Niederschlag'])\n",
    "df_new['Sonne_h']=pd.to_numeric(df_new['Sonne_h'])\n",
    "df_new['Temperatur_max']=pd.to_numeric(df_new['Temperatur_max'])"
   ]
  },
  {
   "cell_type": "code",
   "execution_count": 321,
   "metadata": {},
   "outputs": [],
   "source": [
    "df_new_1['Niederschlag']=pd.to_numeric(df_new_1['Niederschlag'])\n",
    "df_new_1['Sonne_h']=pd.to_numeric(df_new_1['Sonne_h'])\n",
    "df_new_1['Temperatur_max']=pd.to_numeric(df_new_1['Temperatur_max'])"
   ]
  },
  {
   "cell_type": "code",
   "execution_count": 322,
   "metadata": {},
   "outputs": [],
   "source": [
    "df_new_2['Niederschlag']=pd.to_numeric(df_new_2['Niederschlag'])\n",
    "df_new_2['Sonne_h']=pd.to_numeric(df_new_2['Sonne_h'])\n",
    "df_new_2['Temperatur_max']=pd.to_numeric(df_new_2['Temperatur_max'])"
   ]
  },
  {
   "cell_type": "code",
   "execution_count": 323,
   "metadata": {},
   "outputs": [],
   "source": [
    "df_new_3['Niederschlag']=pd.to_numeric(df_new_3['Niederschlag'])\n",
    "df_new_3['Sonne_h']=pd.to_numeric(df_new_3['Sonne_h'])\n",
    "df_new_3['Temperatur_max']=pd.to_numeric(df_new_3['Temperatur_max'])"
   ]
  },
  {
   "cell_type": "code",
   "execution_count": 324,
   "metadata": {},
   "outputs": [
    {
     "data": {
      "text/html": [
       "<div>\n",
       "<style scoped>\n",
       "    .dataframe tbody tr th:only-of-type {\n",
       "        vertical-align: middle;\n",
       "    }\n",
       "\n",
       "    .dataframe tbody tr th {\n",
       "        vertical-align: top;\n",
       "    }\n",
       "\n",
       "    .dataframe thead th {\n",
       "        text-align: right;\n",
       "    }\n",
       "</style>\n",
       "<table border=\"1\" class=\"dataframe\">\n",
       "  <thead>\n",
       "    <tr style=\"text-align: right;\">\n",
       "      <th></th>\n",
       "      <th>Datum</th>\n",
       "      <th>Filiale</th>\n",
       "      <th>Weizenbrot</th>\n",
       "      <th>Mischbrot</th>\n",
       "      <th>Vollkornbrot</th>\n",
       "      <th>Stangenbrote</th>\n",
       "      <th>Spezialbrot</th>\n",
       "      <th>Brötchen</th>\n",
       "      <th>Süsse_Brötchen</th>\n",
       "      <th>Herzhafte_Brötchen</th>\n",
       "      <th>...</th>\n",
       "      <th>Season</th>\n",
       "      <th>Closed</th>\n",
       "      <th>Outlier</th>\n",
       "      <th>New_Years_Eve</th>\n",
       "      <th>Feiertag_DE</th>\n",
       "      <th>Holidays_SH</th>\n",
       "      <th>date</th>\n",
       "      <th>Niederschlag</th>\n",
       "      <th>Sonne_h</th>\n",
       "      <th>Temperatur_max</th>\n",
       "    </tr>\n",
       "  </thead>\n",
       "  <tbody>\n",
       "    <tr>\n",
       "      <th>0</th>\n",
       "      <td>2015-01-02</td>\n",
       "      <td>1</td>\n",
       "      <td>39.994964</td>\n",
       "      <td>152.610944</td>\n",
       "      <td>121.284522</td>\n",
       "      <td>118.786757</td>\n",
       "      <td>0.000000</td>\n",
       "      <td>220.142630</td>\n",
       "      <td>181.329660</td>\n",
       "      <td>163.713061</td>\n",
       "      <td>...</td>\n",
       "      <td>4</td>\n",
       "      <td>0</td>\n",
       "      <td>0</td>\n",
       "      <td>0</td>\n",
       "      <td>0</td>\n",
       "      <td>1.0</td>\n",
       "      <td>2015-01-01 00:00:00</td>\n",
       "      <td>8.0</td>\n",
       "      <td>0.0</td>\n",
       "      <td>6.2</td>\n",
       "    </tr>\n",
       "    <tr>\n",
       "      <th>1</th>\n",
       "      <td>2015-01-02</td>\n",
       "      <td>2</td>\n",
       "      <td>88.023750</td>\n",
       "      <td>84.633190</td>\n",
       "      <td>115.157621</td>\n",
       "      <td>58.999279</td>\n",
       "      <td>66.687652</td>\n",
       "      <td>505.565569</td>\n",
       "      <td>235.597443</td>\n",
       "      <td>87.759013</td>\n",
       "      <td>...</td>\n",
       "      <td>4</td>\n",
       "      <td>0</td>\n",
       "      <td>0</td>\n",
       "      <td>0</td>\n",
       "      <td>0</td>\n",
       "      <td>1.0</td>\n",
       "      <td>2015-02-01 00:00:00</td>\n",
       "      <td>2.2</td>\n",
       "      <td>0.7</td>\n",
       "      <td>9.5</td>\n",
       "    </tr>\n",
       "  </tbody>\n",
       "</table>\n",
       "<p>2 rows × 30 columns</p>\n",
       "</div>"
      ],
      "text/plain": [
       "       Datum  Filiale  Weizenbrot   Mischbrot  Vollkornbrot  Stangenbrote  \\\n",
       "0 2015-01-02        1   39.994964  152.610944    121.284522    118.786757   \n",
       "1 2015-01-02        2   88.023750   84.633190    115.157621     58.999279   \n",
       "\n",
       "   Spezialbrot    Brötchen  Süsse_Brötchen  Herzhafte_Brötchen  ...  Season  \\\n",
       "0     0.000000  220.142630      181.329660          163.713061  ...       4   \n",
       "1    66.687652  505.565569      235.597443           87.759013  ...       4   \n",
       "\n",
       "   Closed  Outlier  New_Years_Eve  Feiertag_DE  Holidays_SH  \\\n",
       "0       0        0              0            0          1.0   \n",
       "1       0        0              0            0          1.0   \n",
       "\n",
       "                  date  Niederschlag  Sonne_h  Temperatur_max  \n",
       "0  2015-01-01 00:00:00           8.0      0.0             6.2  \n",
       "1  2015-02-01 00:00:00           2.2      0.7             9.5  \n",
       "\n",
       "[2 rows x 30 columns]"
      ]
     },
     "execution_count": 324,
     "metadata": {},
     "output_type": "execute_result"
    }
   ],
   "source": [
    "df_new.head(2)"
   ]
  },
  {
   "cell_type": "code",
   "execution_count": 325,
   "metadata": {},
   "outputs": [],
   "source": [
    "df_new.drop(columns=['date'],inplace=True)"
   ]
  },
  {
   "cell_type": "code",
   "execution_count": 326,
   "metadata": {},
   "outputs": [],
   "source": [
    "df_new_1.drop(columns=['date'],inplace=True)"
   ]
  },
  {
   "cell_type": "code",
   "execution_count": 327,
   "metadata": {},
   "outputs": [],
   "source": [
    "df_new_2.drop(columns=['date'],inplace=True)"
   ]
  },
  {
   "cell_type": "code",
   "execution_count": 328,
   "metadata": {},
   "outputs": [],
   "source": [
    "df_new_3.drop(columns=['date'],inplace=True)"
   ]
  },
  {
   "cell_type": "code",
   "execution_count": null,
   "metadata": {},
   "outputs": [],
   "source": []
  },
  {
   "cell_type": "markdown",
   "metadata": {},
   "source": [
    "## Timerelated Values"
   ]
  },
  {
   "cell_type": "markdown",
   "metadata": {},
   "source": [
    "### Values of the previous Week and Jahr"
   ]
  },
  {
   "cell_type": "code",
   "execution_count": null,
   "metadata": {},
   "outputs": [],
   "source": [
    "#Value of the previous Year\n",
    "df_new_2['Brötchen_364'] = df_new_2.Brötchen.shift(364)\n",
    "df_new_2['Brötchen_364'].fillna(0)"
   ]
  },
  {
   "cell_type": "code",
   "execution_count": null,
   "metadata": {},
   "outputs": [],
   "source": [
    "#Value of the previous Week\n",
    "df_new_2['Brötchen_7'] = df_new_2.Brötchen.shift(7)\n",
    "df_new_2['Brötchen_7'].fillna(0)"
   ]
  },
  {
   "cell_type": "code",
   "execution_count": null,
   "metadata": {},
   "outputs": [],
   "source": [
    "#For multiple Columns and also Dataframes\n",
    "var=['Süsse_Brötchen','Herzhafte_Brötchen']\n",
    "numbers=[7,364]\n",
    "\n",
    "for i in var:\n",
    "    for j in numbers:\n",
    "       df_new_2[\"%s_%d\" % (i,j)]=df_new_2[i].shift(j)\n",
    "       df_new_2[\"%s_%d\" % (i,j)].fillna(0)"
   ]
  },
  {
   "cell_type": "markdown",
   "metadata": {},
   "source": [
    "### mean and max-Values for Weekday and Monthly Values"
   ]
  },
  {
   "cell_type": "markdown",
   "metadata": {},
   "source": [
    "**Conclusions**\n",
    "- `Mean and Maxvalues have no significant impact to the correlation. I need to do it for Months and Weekdays.`\n"
   ]
  },
  {
   "cell_type": "code",
   "execution_count": null,
   "metadata": {},
   "outputs": [],
   "source": [
    "def Brötchen_mean(x):\n",
    "    return df_new_2.groupby('Wochentag')['Brötchen'].mean()[x]\n",
    "def Brötchen_max(x):\n",
    "    return df_new_2.groupby('Wochentag')['Brötchen'].max()[x]\n"
   ]
  },
  {
   "cell_type": "code",
   "execution_count": null,
   "metadata": {},
   "outputs": [],
   "source": [
    "df_new_2['Brötchen_mean_WD']=df_new_2['Wochentag'].apply(lambda x:  Brötchen_mean(x))\n",
    "df_new_2['Brötchen_max_WD']=df_new_2['Wochentag'].apply(lambda x:  Brötchen_max(x))\n"
   ]
  },
  {
   "cell_type": "code",
   "execution_count": null,
   "metadata": {},
   "outputs": [],
   "source": [
    "#For multiple Columns and also Dataframes\n",
    "var=['Süsse_Brötchen','Herzhafte_Brötchen']\n",
    "\n",
    "\n",
    "for i in var:\n",
    "    name=i+ \"_mean\"\n",
    "    \n",
    "    def name(x):\n",
    "        return df_new_2.groupby('Wochentag')['%s' % (i)].mean()[x]\n",
    "\n",
    "    df_new_2['%s_mean_WD' % (i)]=df_new_2['Wochentag'].apply(lambda x:  name(x))\n",
    "                                                          "
   ]
  },
  {
   "cell_type": "code",
   "execution_count": null,
   "metadata": {},
   "outputs": [],
   "source": [
    "def Brötchen_mean_M(x):\n",
    "    return df_new_2.groupby('Monat')['Brötchen'].mean()[x]\n",
    "def Brötchen_max_M(x):\n",
    "    return df_new_2.groupby('Monat')['Brötchen'].max()[x]\n"
   ]
  },
  {
   "cell_type": "code",
   "execution_count": null,
   "metadata": {},
   "outputs": [],
   "source": [
    "df_new_2['Brötchen_mean_M']=df_new_2['Monat'].apply(lambda x:  Brötchen_mean_M(x))\n",
    "df_new_2['Brötchen_max_M']=df_new_2['Monat'].apply(lambda x:  Brötchen_max_M(x))\n"
   ]
  },
  {
   "cell_type": "code",
   "execution_count": 331,
   "metadata": {},
   "outputs": [],
   "source": [
    "df_new_1.drop(columns=['date_x','date_y'],inplace=True)"
   ]
  },
  {
   "cell_type": "code",
   "execution_count": 330,
   "metadata": {},
   "outputs": [],
   "source": [
    "df_new_2.drop(columns=['date_x','date_y'],inplace=True)"
   ]
  },
  {
   "cell_type": "code",
   "execution_count": 332,
   "metadata": {},
   "outputs": [],
   "source": [
    "df_new_3.drop(columns=['date_x','date_y'],inplace=True)"
   ]
  },
  {
   "cell_type": "markdown",
   "metadata": {},
   "source": [
    "# Outlier Handling"
   ]
  },
  {
   "cell_type": "markdown",
   "metadata": {},
   "source": [
    "## Filiale 2"
   ]
  },
  {
   "cell_type": "code",
   "execution_count": 333,
   "metadata": {},
   "outputs": [],
   "source": [
    "data_2_clean=df_new_2.copy()"
   ]
  },
  {
   "cell_type": "code",
   "execution_count": 334,
   "metadata": {},
   "outputs": [
    {
     "name": "stdout",
     "output_type": "stream",
     "text": [
      "<class 'pandas.core.frame.DataFrame'>\n",
      "Int64Index: 1979 entries, 0 to 1978\n",
      "Data columns (total 31 columns):\n",
      " #   Column              Non-Null Count  Dtype         \n",
      "---  ------              --------------  -----         \n",
      " 0   Datum               1979 non-null   datetime64[ns]\n",
      " 1   Weizenbrot          1979 non-null   float64       \n",
      " 2   Mischbrot           1979 non-null   float64       \n",
      " 3   Vollkornbrot        1979 non-null   float64       \n",
      " 4   Stangenbrote        1979 non-null   float64       \n",
      " 5   Spezialbrot         1979 non-null   float64       \n",
      " 6   Brötchen            1979 non-null   float64       \n",
      " 7   Süsse_Brötchen      1979 non-null   float64       \n",
      " 8   Herzhafte_Brötchen  1979 non-null   float64       \n",
      " 9   KonditoreiBlech     1979 non-null   float64       \n",
      " 10  Stückgebäck         1979 non-null   float64       \n",
      " 11  Blechkuchen         1979 non-null   float64       \n",
      " 12  Weihnachtsartikel   1979 non-null   float64       \n",
      " 13  Wochentag           1979 non-null   int64         \n",
      " 14  Tag                 1979 non-null   int64         \n",
      " 15  Jahr                1979 non-null   int64         \n",
      " 16  Monat               1979 non-null   int64         \n",
      " 17  Gesamt              1979 non-null   float64       \n",
      " 18  Wochenende_flag     1979 non-null   int64         \n",
      " 19  Season              1979 non-null   int64         \n",
      " 20  Christmas           1979 non-null   int64         \n",
      " 21  Closed              1979 non-null   int64         \n",
      " 22  Outlier             1979 non-null   int64         \n",
      " 23  New_Years_Eve       1979 non-null   int64         \n",
      " 24  Feiertag_DE         1979 non-null   int64         \n",
      " 25  Ostern              1979 non-null   float64       \n",
      " 26  Holidays_SH         1979 non-null   float64       \n",
      " 27  SUMMER_SH           1979 non-null   float64       \n",
      " 28  Niederschlag        1979 non-null   float64       \n",
      " 29  Sonne_h             1979 non-null   float64       \n",
      " 30  Temperatur_max      1979 non-null   float64       \n",
      "dtypes: datetime64[ns](1), float64(19), int64(11)\n",
      "memory usage: 494.8 KB\n"
     ]
    }
   ],
   "source": [
    "data_2_clean.info()"
   ]
  },
  {
   "cell_type": "markdown",
   "metadata": {},
   "source": [
    "### Weizenbrot"
   ]
  },
  {
   "cell_type": "code",
   "execution_count": null,
   "metadata": {},
   "outputs": [],
   "source": [
    "Weizenbrot_result = np.percentile(df_new_2.Weizenbrot, q=[0, 25, 50, 75, 90, 95,99])\n",
    "print(Weizenbrot_result)"
   ]
  },
  {
   "cell_type": "code",
   "execution_count": null,
   "metadata": {},
   "outputs": [],
   "source": [
    "df_new_2.query('Weizenbrot>106.46010925')[['Datum','Weizenbrot','Wochenende_flag','Feiertag_DE','Holidays_SH']]"
   ]
  },
  {
   "cell_type": "code",
   "execution_count": 335,
   "metadata": {},
   "outputs": [],
   "source": [
    "data_2_clean['Weizenbrot']=data_2_clean['Weizenbrot'].apply(lambda x: x if x <106.46010925 else None )"
   ]
  },
  {
   "cell_type": "markdown",
   "metadata": {},
   "source": [
    "### Mischbrot"
   ]
  },
  {
   "cell_type": "code",
   "execution_count": 336,
   "metadata": {},
   "outputs": [],
   "source": [
    "data_2_clean['Mischbrot']=data_2_clean['Mischbrot'].apply(lambda x: x if x >0 else 0 )"
   ]
  },
  {
   "cell_type": "code",
   "execution_count": 273,
   "metadata": {},
   "outputs": [
    {
     "data": {
      "text/plain": [
       "count    1979.000000\n",
       "mean       71.860719\n",
       "std        20.052765\n",
       "min         0.000000\n",
       "50%        73.463033\n",
       "90%        94.252644\n",
       "99%       116.017187\n",
       "max       152.746146\n",
       "Name: Mischbrot, dtype: float64"
      ]
     },
     "execution_count": 273,
     "metadata": {},
     "output_type": "execute_result"
    }
   ],
   "source": [
    "df_new_2.Mischbrot.describe(percentiles=[ 0.9, 0.99])"
   ]
  },
  {
   "cell_type": "code",
   "execution_count": 274,
   "metadata": {},
   "outputs": [],
   "source": [
    "#df_new_2.query('Mischbrot>116')[['Datum','Mischbrot','Wochenende_flag','Feiertag_DE','Holidays_SH']]"
   ]
  },
  {
   "cell_type": "code",
   "execution_count": 337,
   "metadata": {},
   "outputs": [],
   "source": [
    "data_2_clean['Mischbrot']=data_2_clean['Mischbrot'].apply(lambda x: x if x <116 else None )"
   ]
  },
  {
   "cell_type": "markdown",
   "metadata": {},
   "source": [
    "### Vollkornbrot"
   ]
  },
  {
   "cell_type": "code",
   "execution_count": 276,
   "metadata": {},
   "outputs": [
    {
     "data": {
      "text/plain": [
       "count    1979.000000\n",
       "mean      108.283982\n",
       "std        26.926271\n",
       "min         0.000000\n",
       "50%       108.428509\n",
       "90%       139.188596\n",
       "99%       165.980698\n",
       "max       225.035588\n",
       "Name: Vollkornbrot, dtype: float64"
      ]
     },
     "execution_count": 276,
     "metadata": {},
     "output_type": "execute_result"
    }
   ],
   "source": [
    "df_new_2.Vollkornbrot.describe(percentiles=[0.9, 0.99])"
   ]
  },
  {
   "cell_type": "code",
   "execution_count": 277,
   "metadata": {},
   "outputs": [],
   "source": [
    "#df_new_2.query('Vollkornbrot>165.980698')[['Datum','Vollkornbrot','Wochenende_flag','Feiertag_DE','Holidays_SH']]"
   ]
  },
  {
   "cell_type": "code",
   "execution_count": 338,
   "metadata": {},
   "outputs": [],
   "source": [
    "data_2_clean['Vollkornbrot']=data_2_clean['Vollkornbrot'].apply(lambda x: x if x <165.980698 else None )"
   ]
  },
  {
   "cell_type": "markdown",
   "metadata": {},
   "source": [
    "### Spezialbrot"
   ]
  },
  {
   "cell_type": "code",
   "execution_count": 279,
   "metadata": {},
   "outputs": [
    {
     "data": {
      "text/plain": [
       "count    1979.000000\n",
       "mean       56.310284\n",
       "std        26.874605\n",
       "min         0.000000\n",
       "50%        61.850288\n",
       "90%        80.372255\n",
       "99%       106.508961\n",
       "max       200.259200\n",
       "Name: Spezialbrot, dtype: float64"
      ]
     },
     "execution_count": 279,
     "metadata": {},
     "output_type": "execute_result"
    }
   ],
   "source": [
    "df_new_2.Spezialbrot.describe(percentiles=[0.9, 0.99])"
   ]
  },
  {
   "cell_type": "code",
   "execution_count": 280,
   "metadata": {},
   "outputs": [],
   "source": [
    "#df_new_2.query('Spezialbrot>106.508961')[['Datum','Spezialbrot','Wochenende_flag','Feiertag_DE','Holidays_SH']]"
   ]
  },
  {
   "cell_type": "code",
   "execution_count": 339,
   "metadata": {},
   "outputs": [],
   "source": [
    "data_2_clean['Spezialbrot']=data_2_clean['Spezialbrot'].apply(lambda x: x if x <165.980698 else None )"
   ]
  },
  {
   "cell_type": "markdown",
   "metadata": {},
   "source": [
    "### Stangenbrote"
   ]
  },
  {
   "cell_type": "code",
   "execution_count": 282,
   "metadata": {},
   "outputs": [
    {
     "data": {
      "text/plain": [
       "count    1979.000000\n",
       "mean       39.816439\n",
       "std        17.646559\n",
       "min         0.000000\n",
       "50%        39.332197\n",
       "90%        59.523275\n",
       "99%        82.606569\n",
       "max       198.752191\n",
       "Name: Stangenbrote, dtype: float64"
      ]
     },
     "execution_count": 282,
     "metadata": {},
     "output_type": "execute_result"
    }
   ],
   "source": [
    "df_new_2.Stangenbrote.describe(percentiles=[0.9, 0.99])"
   ]
  },
  {
   "cell_type": "code",
   "execution_count": 283,
   "metadata": {},
   "outputs": [],
   "source": [
    "#df_new_2.query('Stangenbrote>82.606569')[['Datum','Stangenbrote','Wochenende_flag','Feiertag_DE','Holidays_SH']]"
   ]
  },
  {
   "cell_type": "code",
   "execution_count": 340,
   "metadata": {},
   "outputs": [],
   "source": [
    "data_2_clean['Stangenbrote']=data_2_clean['Stangenbrote'].apply(lambda x: x if x <82.606569 else None )"
   ]
  },
  {
   "cell_type": "markdown",
   "metadata": {},
   "source": [
    "### Brötchen"
   ]
  },
  {
   "cell_type": "code",
   "execution_count": 285,
   "metadata": {},
   "outputs": [
    {
     "data": {
      "text/plain": [
       "count    1979.000000\n",
       "mean      375.431206\n",
       "std       138.927415\n",
       "min         0.000000\n",
       "50%       355.500769\n",
       "90%       573.698524\n",
       "99%       736.781705\n",
       "max       820.516093\n",
       "Name: Brötchen, dtype: float64"
      ]
     },
     "execution_count": 285,
     "metadata": {},
     "output_type": "execute_result"
    }
   ],
   "source": [
    "df_new_2.Brötchen.describe(percentiles=[0.9, 0.99])"
   ]
  },
  {
   "cell_type": "code",
   "execution_count": 286,
   "metadata": {},
   "outputs": [
    {
     "data": {
      "text/html": [
       "<div>\n",
       "<style scoped>\n",
       "    .dataframe tbody tr th:only-of-type {\n",
       "        vertical-align: middle;\n",
       "    }\n",
       "\n",
       "    .dataframe tbody tr th {\n",
       "        vertical-align: top;\n",
       "    }\n",
       "\n",
       "    .dataframe thead th {\n",
       "        text-align: right;\n",
       "    }\n",
       "</style>\n",
       "<table border=\"1\" class=\"dataframe\">\n",
       "  <thead>\n",
       "    <tr style=\"text-align: right;\">\n",
       "      <th></th>\n",
       "      <th>Datum</th>\n",
       "      <th>Brötchen</th>\n",
       "      <th>Wochenende_flag</th>\n",
       "      <th>Feiertag_DE</th>\n",
       "      <th>Holidays_SH</th>\n",
       "    </tr>\n",
       "  </thead>\n",
       "  <tbody>\n",
       "    <tr>\n",
       "      <th>95</th>\n",
       "      <td>2015-04-06</td>\n",
       "      <td>737.004266</td>\n",
       "      <td>0</td>\n",
       "      <td>1</td>\n",
       "      <td>1.0</td>\n",
       "    </tr>\n",
       "    <tr>\n",
       "      <th>177</th>\n",
       "      <td>2015-06-27</td>\n",
       "      <td>743.175388</td>\n",
       "      <td>1</td>\n",
       "      <td>0</td>\n",
       "      <td>0.0</td>\n",
       "    </tr>\n",
       "    <tr>\n",
       "      <th>206</th>\n",
       "      <td>2015-07-26</td>\n",
       "      <td>739.086126</td>\n",
       "      <td>1</td>\n",
       "      <td>0</td>\n",
       "      <td>1.0</td>\n",
       "    </tr>\n",
       "    <tr>\n",
       "      <th>213</th>\n",
       "      <td>2015-08-02</td>\n",
       "      <td>770.762031</td>\n",
       "      <td>1</td>\n",
       "      <td>0</td>\n",
       "      <td>1.0</td>\n",
       "    </tr>\n",
       "    <tr>\n",
       "      <th>541</th>\n",
       "      <td>2016-06-25</td>\n",
       "      <td>772.567025</td>\n",
       "      <td>1</td>\n",
       "      <td>0</td>\n",
       "      <td>0.0</td>\n",
       "    </tr>\n",
       "    <tr>\n",
       "      <th>1297</th>\n",
       "      <td>2018-07-21</td>\n",
       "      <td>769.241046</td>\n",
       "      <td>1</td>\n",
       "      <td>0</td>\n",
       "      <td>1.0</td>\n",
       "    </tr>\n",
       "    <tr>\n",
       "      <th>1325</th>\n",
       "      <td>2018-08-18</td>\n",
       "      <td>766.553081</td>\n",
       "      <td>1</td>\n",
       "      <td>0</td>\n",
       "      <td>0.0</td>\n",
       "    </tr>\n",
       "    <tr>\n",
       "      <th>1570</th>\n",
       "      <td>2019-04-20</td>\n",
       "      <td>810.818652</td>\n",
       "      <td>1</td>\n",
       "      <td>0</td>\n",
       "      <td>0.0</td>\n",
       "    </tr>\n",
       "    <tr>\n",
       "      <th>1571</th>\n",
       "      <td>2019-04-21</td>\n",
       "      <td>762.131477</td>\n",
       "      <td>1</td>\n",
       "      <td>0</td>\n",
       "      <td>0.0</td>\n",
       "    </tr>\n",
       "    <tr>\n",
       "      <th>1572</th>\n",
       "      <td>2019-04-22</td>\n",
       "      <td>744.701161</td>\n",
       "      <td>0</td>\n",
       "      <td>1</td>\n",
       "      <td>0.0</td>\n",
       "    </tr>\n",
       "    <tr>\n",
       "      <th>1640</th>\n",
       "      <td>2019-06-29</td>\n",
       "      <td>767.585518</td>\n",
       "      <td>1</td>\n",
       "      <td>0</td>\n",
       "      <td>0.0</td>\n",
       "    </tr>\n",
       "    <tr>\n",
       "      <th>1641</th>\n",
       "      <td>2019-06-30</td>\n",
       "      <td>747.700464</td>\n",
       "      <td>1</td>\n",
       "      <td>0</td>\n",
       "      <td>0.0</td>\n",
       "    </tr>\n",
       "    <tr>\n",
       "      <th>1668</th>\n",
       "      <td>2019-07-27</td>\n",
       "      <td>738.389482</td>\n",
       "      <td>1</td>\n",
       "      <td>0</td>\n",
       "      <td>1.0</td>\n",
       "    </tr>\n",
       "    <tr>\n",
       "      <th>1669</th>\n",
       "      <td>2019-07-28</td>\n",
       "      <td>744.244725</td>\n",
       "      <td>1</td>\n",
       "      <td>0</td>\n",
       "      <td>1.0</td>\n",
       "    </tr>\n",
       "    <tr>\n",
       "      <th>1675</th>\n",
       "      <td>2019-08-03</td>\n",
       "      <td>768.114067</td>\n",
       "      <td>1</td>\n",
       "      <td>0</td>\n",
       "      <td>1.0</td>\n",
       "    </tr>\n",
       "    <tr>\n",
       "      <th>1676</th>\n",
       "      <td>2019-08-04</td>\n",
       "      <td>820.516093</td>\n",
       "      <td>1</td>\n",
       "      <td>0</td>\n",
       "      <td>1.0</td>\n",
       "    </tr>\n",
       "    <tr>\n",
       "      <th>1682</th>\n",
       "      <td>2019-08-10</td>\n",
       "      <td>747.885520</td>\n",
       "      <td>1</td>\n",
       "      <td>0</td>\n",
       "      <td>0.0</td>\n",
       "    </tr>\n",
       "    <tr>\n",
       "      <th>1954</th>\n",
       "      <td>2020-05-08</td>\n",
       "      <td>755.283725</td>\n",
       "      <td>0</td>\n",
       "      <td>0</td>\n",
       "      <td>0.0</td>\n",
       "    </tr>\n",
       "    <tr>\n",
       "      <th>1976</th>\n",
       "      <td>2020-05-30</td>\n",
       "      <td>754.876900</td>\n",
       "      <td>1</td>\n",
       "      <td>0</td>\n",
       "      <td>0.0</td>\n",
       "    </tr>\n",
       "    <tr>\n",
       "      <th>1978</th>\n",
       "      <td>2020-06-01</td>\n",
       "      <td>760.991692</td>\n",
       "      <td>0</td>\n",
       "      <td>1</td>\n",
       "      <td>0.0</td>\n",
       "    </tr>\n",
       "  </tbody>\n",
       "</table>\n",
       "</div>"
      ],
      "text/plain": [
       "          Datum    Brötchen  Wochenende_flag  Feiertag_DE  Holidays_SH\n",
       "95   2015-04-06  737.004266                0            1          1.0\n",
       "177  2015-06-27  743.175388                1            0          0.0\n",
       "206  2015-07-26  739.086126                1            0          1.0\n",
       "213  2015-08-02  770.762031                1            0          1.0\n",
       "541  2016-06-25  772.567025                1            0          0.0\n",
       "1297 2018-07-21  769.241046                1            0          1.0\n",
       "1325 2018-08-18  766.553081                1            0          0.0\n",
       "1570 2019-04-20  810.818652                1            0          0.0\n",
       "1571 2019-04-21  762.131477                1            0          0.0\n",
       "1572 2019-04-22  744.701161                0            1          0.0\n",
       "1640 2019-06-29  767.585518                1            0          0.0\n",
       "1641 2019-06-30  747.700464                1            0          0.0\n",
       "1668 2019-07-27  738.389482                1            0          1.0\n",
       "1669 2019-07-28  744.244725                1            0          1.0\n",
       "1675 2019-08-03  768.114067                1            0          1.0\n",
       "1676 2019-08-04  820.516093                1            0          1.0\n",
       "1682 2019-08-10  747.885520                1            0          0.0\n",
       "1954 2020-05-08  755.283725                0            0          0.0\n",
       "1976 2020-05-30  754.876900                1            0          0.0\n",
       "1978 2020-06-01  760.991692                0            1          0.0"
      ]
     },
     "execution_count": 286,
     "metadata": {},
     "output_type": "execute_result"
    }
   ],
   "source": [
    "df_new_2.query('Brötchen>736.781705')[['Datum','Brötchen','Wochenende_flag','Feiertag_DE','Holidays_SH']]"
   ]
  },
  {
   "cell_type": "code",
   "execution_count": 341,
   "metadata": {},
   "outputs": [],
   "source": [
    "data_2_clean['Brötchen']=data_2_clean['Brötchen'].apply(lambda x: x if x <736.781705 else None )"
   ]
  },
  {
   "cell_type": "markdown",
   "metadata": {},
   "source": [
    "### Süsse Brötchen"
   ]
  },
  {
   "cell_type": "code",
   "execution_count": 288,
   "metadata": {},
   "outputs": [
    {
     "data": {
      "text/plain": [
       "count    1979.000000\n",
       "mean      196.670399\n",
       "std        57.579214\n",
       "min         0.000000\n",
       "50%       185.408152\n",
       "90%       274.316402\n",
       "99%       345.075359\n",
       "max       428.071519\n",
       "Name: Süsse_Brötchen, dtype: float64"
      ]
     },
     "execution_count": 288,
     "metadata": {},
     "output_type": "execute_result"
    }
   ],
   "source": [
    "df_new_2.Süsse_Brötchen.describe(percentiles=[0.9, 0.99])"
   ]
  },
  {
   "cell_type": "code",
   "execution_count": 289,
   "metadata": {},
   "outputs": [
    {
     "data": {
      "text/html": [
       "<div>\n",
       "<style scoped>\n",
       "    .dataframe tbody tr th:only-of-type {\n",
       "        vertical-align: middle;\n",
       "    }\n",
       "\n",
       "    .dataframe tbody tr th {\n",
       "        vertical-align: top;\n",
       "    }\n",
       "\n",
       "    .dataframe thead th {\n",
       "        text-align: right;\n",
       "    }\n",
       "</style>\n",
       "<table border=\"1\" class=\"dataframe\">\n",
       "  <thead>\n",
       "    <tr style=\"text-align: right;\">\n",
       "      <th></th>\n",
       "      <th>Datum</th>\n",
       "      <th>Süsse_Brötchen</th>\n",
       "      <th>Wochenende_flag</th>\n",
       "      <th>Feiertag_DE</th>\n",
       "      <th>Holidays_SH</th>\n",
       "    </tr>\n",
       "  </thead>\n",
       "  <tbody>\n",
       "    <tr>\n",
       "      <th>233</th>\n",
       "      <td>2015-08-22</td>\n",
       "      <td>348.657567</td>\n",
       "      <td>1</td>\n",
       "      <td>0</td>\n",
       "      <td>1.0</td>\n",
       "    </tr>\n",
       "    <tr>\n",
       "      <th>576</th>\n",
       "      <td>2016-07-30</td>\n",
       "      <td>360.564346</td>\n",
       "      <td>1</td>\n",
       "      <td>0</td>\n",
       "      <td>1.0</td>\n",
       "    </tr>\n",
       "    <tr>\n",
       "      <th>590</th>\n",
       "      <td>2016-08-13</td>\n",
       "      <td>376.487824</td>\n",
       "      <td>1</td>\n",
       "      <td>0</td>\n",
       "      <td>1.0</td>\n",
       "    </tr>\n",
       "    <tr>\n",
       "      <th>597</th>\n",
       "      <td>2016-08-20</td>\n",
       "      <td>428.071519</td>\n",
       "      <td>1</td>\n",
       "      <td>0</td>\n",
       "      <td>1.0</td>\n",
       "    </tr>\n",
       "    <tr>\n",
       "      <th>940</th>\n",
       "      <td>2017-07-29</td>\n",
       "      <td>378.896359</td>\n",
       "      <td>1</td>\n",
       "      <td>0</td>\n",
       "      <td>1.0</td>\n",
       "    </tr>\n",
       "    <tr>\n",
       "      <th>947</th>\n",
       "      <td>2017-08-05</td>\n",
       "      <td>350.236377</td>\n",
       "      <td>1</td>\n",
       "      <td>0</td>\n",
       "      <td>1.0</td>\n",
       "    </tr>\n",
       "    <tr>\n",
       "      <th>1298</th>\n",
       "      <td>2018-07-22</td>\n",
       "      <td>348.069307</td>\n",
       "      <td>1</td>\n",
       "      <td>0</td>\n",
       "      <td>1.0</td>\n",
       "    </tr>\n",
       "    <tr>\n",
       "      <th>1311</th>\n",
       "      <td>2018-08-04</td>\n",
       "      <td>348.281888</td>\n",
       "      <td>1</td>\n",
       "      <td>0</td>\n",
       "      <td>1.0</td>\n",
       "    </tr>\n",
       "    <tr>\n",
       "      <th>1312</th>\n",
       "      <td>2018-08-05</td>\n",
       "      <td>362.384869</td>\n",
       "      <td>1</td>\n",
       "      <td>0</td>\n",
       "      <td>1.0</td>\n",
       "    </tr>\n",
       "    <tr>\n",
       "      <th>1319</th>\n",
       "      <td>2018-08-12</td>\n",
       "      <td>346.946151</td>\n",
       "      <td>1</td>\n",
       "      <td>0</td>\n",
       "      <td>1.0</td>\n",
       "    </tr>\n",
       "    <tr>\n",
       "      <th>1634</th>\n",
       "      <td>2019-06-23</td>\n",
       "      <td>351.772569</td>\n",
       "      <td>1</td>\n",
       "      <td>0</td>\n",
       "      <td>0.0</td>\n",
       "    </tr>\n",
       "    <tr>\n",
       "      <th>1640</th>\n",
       "      <td>2019-06-29</td>\n",
       "      <td>384.723751</td>\n",
       "      <td>1</td>\n",
       "      <td>0</td>\n",
       "      <td>0.0</td>\n",
       "    </tr>\n",
       "    <tr>\n",
       "      <th>1641</th>\n",
       "      <td>2019-06-30</td>\n",
       "      <td>347.539467</td>\n",
       "      <td>1</td>\n",
       "      <td>0</td>\n",
       "      <td>0.0</td>\n",
       "    </tr>\n",
       "    <tr>\n",
       "      <th>1655</th>\n",
       "      <td>2019-07-14</td>\n",
       "      <td>358.693400</td>\n",
       "      <td>1</td>\n",
       "      <td>0</td>\n",
       "      <td>1.0</td>\n",
       "    </tr>\n",
       "    <tr>\n",
       "      <th>1662</th>\n",
       "      <td>2019-07-21</td>\n",
       "      <td>362.067371</td>\n",
       "      <td>1</td>\n",
       "      <td>0</td>\n",
       "      <td>1.0</td>\n",
       "    </tr>\n",
       "    <tr>\n",
       "      <th>1669</th>\n",
       "      <td>2019-07-28</td>\n",
       "      <td>362.487572</td>\n",
       "      <td>1</td>\n",
       "      <td>0</td>\n",
       "      <td>1.0</td>\n",
       "    </tr>\n",
       "    <tr>\n",
       "      <th>1676</th>\n",
       "      <td>2019-08-04</td>\n",
       "      <td>377.827968</td>\n",
       "      <td>1</td>\n",
       "      <td>0</td>\n",
       "      <td>1.0</td>\n",
       "    </tr>\n",
       "    <tr>\n",
       "      <th>1683</th>\n",
       "      <td>2019-08-11</td>\n",
       "      <td>374.580926</td>\n",
       "      <td>1</td>\n",
       "      <td>0</td>\n",
       "      <td>0.0</td>\n",
       "    </tr>\n",
       "    <tr>\n",
       "      <th>1976</th>\n",
       "      <td>2020-05-30</td>\n",
       "      <td>373.439548</td>\n",
       "      <td>1</td>\n",
       "      <td>0</td>\n",
       "      <td>0.0</td>\n",
       "    </tr>\n",
       "    <tr>\n",
       "      <th>1977</th>\n",
       "      <td>2020-05-31</td>\n",
       "      <td>371.645588</td>\n",
       "      <td>1</td>\n",
       "      <td>0</td>\n",
       "      <td>0.0</td>\n",
       "    </tr>\n",
       "  </tbody>\n",
       "</table>\n",
       "</div>"
      ],
      "text/plain": [
       "          Datum  Süsse_Brötchen  Wochenende_flag  Feiertag_DE  Holidays_SH\n",
       "233  2015-08-22      348.657567                1            0          1.0\n",
       "576  2016-07-30      360.564346                1            0          1.0\n",
       "590  2016-08-13      376.487824                1            0          1.0\n",
       "597  2016-08-20      428.071519                1            0          1.0\n",
       "940  2017-07-29      378.896359                1            0          1.0\n",
       "947  2017-08-05      350.236377                1            0          1.0\n",
       "1298 2018-07-22      348.069307                1            0          1.0\n",
       "1311 2018-08-04      348.281888                1            0          1.0\n",
       "1312 2018-08-05      362.384869                1            0          1.0\n",
       "1319 2018-08-12      346.946151                1            0          1.0\n",
       "1634 2019-06-23      351.772569                1            0          0.0\n",
       "1640 2019-06-29      384.723751                1            0          0.0\n",
       "1641 2019-06-30      347.539467                1            0          0.0\n",
       "1655 2019-07-14      358.693400                1            0          1.0\n",
       "1662 2019-07-21      362.067371                1            0          1.0\n",
       "1669 2019-07-28      362.487572                1            0          1.0\n",
       "1676 2019-08-04      377.827968                1            0          1.0\n",
       "1683 2019-08-11      374.580926                1            0          0.0\n",
       "1976 2020-05-30      373.439548                1            0          0.0\n",
       "1977 2020-05-31      371.645588                1            0          0.0"
      ]
     },
     "execution_count": 289,
     "metadata": {},
     "output_type": "execute_result"
    }
   ],
   "source": [
    "df_new_2.query('Süsse_Brötchen>345.075359')[['Datum','Süsse_Brötchen','Wochenende_flag','Feiertag_DE','Holidays_SH']]"
   ]
  },
  {
   "cell_type": "code",
   "execution_count": 342,
   "metadata": {},
   "outputs": [],
   "source": [
    "data_2_clean['Süsse_Brötchen']=data_2_clean['Süsse_Brötchen'].apply(lambda x: x if x <345.075359 else None )"
   ]
  },
  {
   "cell_type": "markdown",
   "metadata": {},
   "source": [
    "### Herzhafte Brötchen"
   ]
  },
  {
   "cell_type": "code",
   "execution_count": 291,
   "metadata": {},
   "outputs": [
    {
     "data": {
      "text/plain": [
       "count    1979.000000\n",
       "mean       93.947422\n",
       "std        36.940020\n",
       "min         0.000000\n",
       "50%        87.759013\n",
       "90%       142.352808\n",
       "99%       203.997358\n",
       "max       268.706655\n",
       "Name: Herzhafte_Brötchen, dtype: float64"
      ]
     },
     "execution_count": 291,
     "metadata": {},
     "output_type": "execute_result"
    }
   ],
   "source": [
    "df_new_2.Herzhafte_Brötchen.describe(percentiles=[0.9, 0.99])"
   ]
  },
  {
   "cell_type": "code",
   "execution_count": 292,
   "metadata": {},
   "outputs": [
    {
     "data": {
      "text/html": [
       "<div>\n",
       "<style scoped>\n",
       "    .dataframe tbody tr th:only-of-type {\n",
       "        vertical-align: middle;\n",
       "    }\n",
       "\n",
       "    .dataframe tbody tr th {\n",
       "        vertical-align: top;\n",
       "    }\n",
       "\n",
       "    .dataframe thead th {\n",
       "        text-align: right;\n",
       "    }\n",
       "</style>\n",
       "<table border=\"1\" class=\"dataframe\">\n",
       "  <thead>\n",
       "    <tr style=\"text-align: right;\">\n",
       "      <th></th>\n",
       "      <th>Datum</th>\n",
       "      <th>Herzhafte_Brötchen</th>\n",
       "      <th>Wochenende_flag</th>\n",
       "      <th>Feiertag_DE</th>\n",
       "      <th>Holidays_SH</th>\n",
       "    </tr>\n",
       "  </thead>\n",
       "  <tbody>\n",
       "    <tr>\n",
       "      <th>1291</th>\n",
       "      <td>2018-07-15</td>\n",
       "      <td>205.004841</td>\n",
       "      <td>1</td>\n",
       "      <td>0</td>\n",
       "      <td>1.0</td>\n",
       "    </tr>\n",
       "    <tr>\n",
       "      <th>1298</th>\n",
       "      <td>2018-07-22</td>\n",
       "      <td>218.275924</td>\n",
       "      <td>1</td>\n",
       "      <td>0</td>\n",
       "      <td>1.0</td>\n",
       "    </tr>\n",
       "    <tr>\n",
       "      <th>1306</th>\n",
       "      <td>2018-07-30</td>\n",
       "      <td>208.208486</td>\n",
       "      <td>0</td>\n",
       "      <td>0</td>\n",
       "      <td>1.0</td>\n",
       "    </tr>\n",
       "    <tr>\n",
       "      <th>1311</th>\n",
       "      <td>2018-08-04</td>\n",
       "      <td>232.411259</td>\n",
       "      <td>1</td>\n",
       "      <td>0</td>\n",
       "      <td>1.0</td>\n",
       "    </tr>\n",
       "    <tr>\n",
       "      <th>1325</th>\n",
       "      <td>2018-08-18</td>\n",
       "      <td>218.438997</td>\n",
       "      <td>1</td>\n",
       "      <td>0</td>\n",
       "      <td>0.0</td>\n",
       "    </tr>\n",
       "    <tr>\n",
       "      <th>1326</th>\n",
       "      <td>2018-08-19</td>\n",
       "      <td>209.905315</td>\n",
       "      <td>1</td>\n",
       "      <td>0</td>\n",
       "      <td>0.0</td>\n",
       "    </tr>\n",
       "    <tr>\n",
       "      <th>1543</th>\n",
       "      <td>2019-03-24</td>\n",
       "      <td>213.660279</td>\n",
       "      <td>1</td>\n",
       "      <td>0</td>\n",
       "      <td>0.0</td>\n",
       "    </tr>\n",
       "    <tr>\n",
       "      <th>1633</th>\n",
       "      <td>2019-06-22</td>\n",
       "      <td>205.960300</td>\n",
       "      <td>1</td>\n",
       "      <td>0</td>\n",
       "      <td>0.0</td>\n",
       "    </tr>\n",
       "    <tr>\n",
       "      <th>1634</th>\n",
       "      <td>2019-06-23</td>\n",
       "      <td>221.737360</td>\n",
       "      <td>1</td>\n",
       "      <td>0</td>\n",
       "      <td>0.0</td>\n",
       "    </tr>\n",
       "    <tr>\n",
       "      <th>1640</th>\n",
       "      <td>2019-06-29</td>\n",
       "      <td>244.708756</td>\n",
       "      <td>1</td>\n",
       "      <td>0</td>\n",
       "      <td>0.0</td>\n",
       "    </tr>\n",
       "    <tr>\n",
       "      <th>1641</th>\n",
       "      <td>2019-06-30</td>\n",
       "      <td>205.233009</td>\n",
       "      <td>1</td>\n",
       "      <td>0</td>\n",
       "      <td>0.0</td>\n",
       "    </tr>\n",
       "    <tr>\n",
       "      <th>1654</th>\n",
       "      <td>2019-07-13</td>\n",
       "      <td>230.165745</td>\n",
       "      <td>1</td>\n",
       "      <td>0</td>\n",
       "      <td>1.0</td>\n",
       "    </tr>\n",
       "    <tr>\n",
       "      <th>1664</th>\n",
       "      <td>2019-07-23</td>\n",
       "      <td>204.031376</td>\n",
       "      <td>0</td>\n",
       "      <td>0</td>\n",
       "      <td>1.0</td>\n",
       "    </tr>\n",
       "    <tr>\n",
       "      <th>1665</th>\n",
       "      <td>2019-07-24</td>\n",
       "      <td>218.820718</td>\n",
       "      <td>0</td>\n",
       "      <td>0</td>\n",
       "      <td>1.0</td>\n",
       "    </tr>\n",
       "    <tr>\n",
       "      <th>1668</th>\n",
       "      <td>2019-07-27</td>\n",
       "      <td>234.409088</td>\n",
       "      <td>1</td>\n",
       "      <td>0</td>\n",
       "      <td>1.0</td>\n",
       "    </tr>\n",
       "    <tr>\n",
       "      <th>1677</th>\n",
       "      <td>2019-08-05</td>\n",
       "      <td>211.666771</td>\n",
       "      <td>0</td>\n",
       "      <td>0</td>\n",
       "      <td>1.0</td>\n",
       "    </tr>\n",
       "    <tr>\n",
       "      <th>1678</th>\n",
       "      <td>2019-08-06</td>\n",
       "      <td>224.718959</td>\n",
       "      <td>0</td>\n",
       "      <td>0</td>\n",
       "      <td>1.0</td>\n",
       "    </tr>\n",
       "    <tr>\n",
       "      <th>1969</th>\n",
       "      <td>2020-05-23</td>\n",
       "      <td>217.614049</td>\n",
       "      <td>1</td>\n",
       "      <td>0</td>\n",
       "      <td>0.0</td>\n",
       "    </tr>\n",
       "    <tr>\n",
       "      <th>1970</th>\n",
       "      <td>2020-05-24</td>\n",
       "      <td>219.369779</td>\n",
       "      <td>1</td>\n",
       "      <td>0</td>\n",
       "      <td>0.0</td>\n",
       "    </tr>\n",
       "    <tr>\n",
       "      <th>1976</th>\n",
       "      <td>2020-05-30</td>\n",
       "      <td>268.706655</td>\n",
       "      <td>1</td>\n",
       "      <td>0</td>\n",
       "      <td>0.0</td>\n",
       "    </tr>\n",
       "  </tbody>\n",
       "</table>\n",
       "</div>"
      ],
      "text/plain": [
       "          Datum  Herzhafte_Brötchen  Wochenende_flag  Feiertag_DE  Holidays_SH\n",
       "1291 2018-07-15          205.004841                1            0          1.0\n",
       "1298 2018-07-22          218.275924                1            0          1.0\n",
       "1306 2018-07-30          208.208486                0            0          1.0\n",
       "1311 2018-08-04          232.411259                1            0          1.0\n",
       "1325 2018-08-18          218.438997                1            0          0.0\n",
       "1326 2018-08-19          209.905315                1            0          0.0\n",
       "1543 2019-03-24          213.660279                1            0          0.0\n",
       "1633 2019-06-22          205.960300                1            0          0.0\n",
       "1634 2019-06-23          221.737360                1            0          0.0\n",
       "1640 2019-06-29          244.708756                1            0          0.0\n",
       "1641 2019-06-30          205.233009                1            0          0.0\n",
       "1654 2019-07-13          230.165745                1            0          1.0\n",
       "1664 2019-07-23          204.031376                0            0          1.0\n",
       "1665 2019-07-24          218.820718                0            0          1.0\n",
       "1668 2019-07-27          234.409088                1            0          1.0\n",
       "1677 2019-08-05          211.666771                0            0          1.0\n",
       "1678 2019-08-06          224.718959                0            0          1.0\n",
       "1969 2020-05-23          217.614049                1            0          0.0\n",
       "1970 2020-05-24          219.369779                1            0          0.0\n",
       "1976 2020-05-30          268.706655                1            0          0.0"
      ]
     },
     "execution_count": 292,
     "metadata": {},
     "output_type": "execute_result"
    }
   ],
   "source": [
    "df_new_2.query('Herzhafte_Brötchen>203.997358')[['Datum','Herzhafte_Brötchen','Wochenende_flag','Feiertag_DE','Holidays_SH']]"
   ]
  },
  {
   "cell_type": "code",
   "execution_count": 343,
   "metadata": {},
   "outputs": [],
   "source": [
    "data_2_clean['Herzhafte_Brötchen']=data_2_clean['Herzhafte_Brötchen'].apply(lambda x: x if x <203.997358 else \n",
    "                                                                             None )"
   ]
  },
  {
   "cell_type": "markdown",
   "metadata": {},
   "source": [
    "### KonditoreiBlech"
   ]
  },
  {
   "cell_type": "code",
   "execution_count": 294,
   "metadata": {},
   "outputs": [
    {
     "data": {
      "text/plain": [
       "count    1979.000000\n",
       "mean       98.692646\n",
       "std        64.111577\n",
       "min         0.000000\n",
       "50%        73.102484\n",
       "90%       193.462493\n",
       "99%       275.632008\n",
       "max       399.988543\n",
       "Name: KonditoreiBlech, dtype: float64"
      ]
     },
     "execution_count": 294,
     "metadata": {},
     "output_type": "execute_result"
    }
   ],
   "source": [
    "df_new_2.KonditoreiBlech.describe(percentiles=[0.9, 0.99])"
   ]
  },
  {
   "cell_type": "code",
   "execution_count": 295,
   "metadata": {},
   "outputs": [
    {
     "data": {
      "text/html": [
       "<div>\n",
       "<style scoped>\n",
       "    .dataframe tbody tr th:only-of-type {\n",
       "        vertical-align: middle;\n",
       "    }\n",
       "\n",
       "    .dataframe tbody tr th {\n",
       "        vertical-align: top;\n",
       "    }\n",
       "\n",
       "    .dataframe thead th {\n",
       "        text-align: right;\n",
       "    }\n",
       "</style>\n",
       "<table border=\"1\" class=\"dataframe\">\n",
       "  <thead>\n",
       "    <tr style=\"text-align: right;\">\n",
       "      <th></th>\n",
       "      <th>Datum</th>\n",
       "      <th>KonditoreiBlech</th>\n",
       "      <th>Wochenende_flag</th>\n",
       "      <th>Feiertag_DE</th>\n",
       "      <th>Holidays_SH</th>\n",
       "    </tr>\n",
       "  </thead>\n",
       "  <tbody>\n",
       "    <tr>\n",
       "      <th>17</th>\n",
       "      <td>2015-01-18</td>\n",
       "      <td>326.082164</td>\n",
       "      <td>1</td>\n",
       "      <td>0</td>\n",
       "      <td>0.0</td>\n",
       "    </tr>\n",
       "    <tr>\n",
       "      <th>31</th>\n",
       "      <td>2015-02-01</td>\n",
       "      <td>284.671715</td>\n",
       "      <td>1</td>\n",
       "      <td>0</td>\n",
       "      <td>0.0</td>\n",
       "    </tr>\n",
       "    <tr>\n",
       "      <th>38</th>\n",
       "      <td>2015-02-08</td>\n",
       "      <td>351.096954</td>\n",
       "      <td>1</td>\n",
       "      <td>0</td>\n",
       "      <td>0.0</td>\n",
       "    </tr>\n",
       "    <tr>\n",
       "      <th>52</th>\n",
       "      <td>2015-02-22</td>\n",
       "      <td>399.988543</td>\n",
       "      <td>1</td>\n",
       "      <td>0</td>\n",
       "      <td>0.0</td>\n",
       "    </tr>\n",
       "    <tr>\n",
       "      <th>66</th>\n",
       "      <td>2015-03-08</td>\n",
       "      <td>296.794889</td>\n",
       "      <td>1</td>\n",
       "      <td>0</td>\n",
       "      <td>0.0</td>\n",
       "    </tr>\n",
       "    <tr>\n",
       "      <th>332</th>\n",
       "      <td>2015-11-29</td>\n",
       "      <td>307.686998</td>\n",
       "      <td>1</td>\n",
       "      <td>0</td>\n",
       "      <td>0.0</td>\n",
       "    </tr>\n",
       "    <tr>\n",
       "      <th>399</th>\n",
       "      <td>2016-02-04</td>\n",
       "      <td>288.379119</td>\n",
       "      <td>0</td>\n",
       "      <td>0</td>\n",
       "      <td>0.0</td>\n",
       "    </tr>\n",
       "    <tr>\n",
       "      <th>402</th>\n",
       "      <td>2016-02-07</td>\n",
       "      <td>278.672843</td>\n",
       "      <td>1</td>\n",
       "      <td>0</td>\n",
       "      <td>0.0</td>\n",
       "    </tr>\n",
       "    <tr>\n",
       "      <th>408</th>\n",
       "      <td>2016-02-13</td>\n",
       "      <td>283.452860</td>\n",
       "      <td>1</td>\n",
       "      <td>0</td>\n",
       "      <td>0.0</td>\n",
       "    </tr>\n",
       "    <tr>\n",
       "      <th>409</th>\n",
       "      <td>2016-02-14</td>\n",
       "      <td>347.929304</td>\n",
       "      <td>1</td>\n",
       "      <td>0</td>\n",
       "      <td>0.0</td>\n",
       "    </tr>\n",
       "    <tr>\n",
       "      <th>416</th>\n",
       "      <td>2016-02-21</td>\n",
       "      <td>378.238625</td>\n",
       "      <td>1</td>\n",
       "      <td>0</td>\n",
       "      <td>0.0</td>\n",
       "    </tr>\n",
       "    <tr>\n",
       "      <th>501</th>\n",
       "      <td>2016-05-16</td>\n",
       "      <td>309.346264</td>\n",
       "      <td>0</td>\n",
       "      <td>1</td>\n",
       "      <td>1.0</td>\n",
       "    </tr>\n",
       "    <tr>\n",
       "      <th>535</th>\n",
       "      <td>2016-06-19</td>\n",
       "      <td>286.364778</td>\n",
       "      <td>1</td>\n",
       "      <td>0</td>\n",
       "      <td>0.0</td>\n",
       "    </tr>\n",
       "    <tr>\n",
       "      <th>590</th>\n",
       "      <td>2016-08-13</td>\n",
       "      <td>276.546387</td>\n",
       "      <td>1</td>\n",
       "      <td>0</td>\n",
       "      <td>1.0</td>\n",
       "    </tr>\n",
       "    <tr>\n",
       "      <th>738</th>\n",
       "      <td>2017-01-08</td>\n",
       "      <td>308.554695</td>\n",
       "      <td>1</td>\n",
       "      <td>0</td>\n",
       "      <td>0.0</td>\n",
       "    </tr>\n",
       "    <tr>\n",
       "      <th>745</th>\n",
       "      <td>2017-01-15</td>\n",
       "      <td>330.130000</td>\n",
       "      <td>1</td>\n",
       "      <td>0</td>\n",
       "      <td>0.0</td>\n",
       "    </tr>\n",
       "    <tr>\n",
       "      <th>787</th>\n",
       "      <td>2017-02-26</td>\n",
       "      <td>316.640394</td>\n",
       "      <td>1</td>\n",
       "      <td>0</td>\n",
       "      <td>0.0</td>\n",
       "    </tr>\n",
       "    <tr>\n",
       "      <th>801</th>\n",
       "      <td>2017-03-12</td>\n",
       "      <td>277.100833</td>\n",
       "      <td>1</td>\n",
       "      <td>0</td>\n",
       "      <td>0.0</td>\n",
       "    </tr>\n",
       "    <tr>\n",
       "      <th>829</th>\n",
       "      <td>2017-04-09</td>\n",
       "      <td>333.813387</td>\n",
       "      <td>1</td>\n",
       "      <td>0</td>\n",
       "      <td>1.0</td>\n",
       "    </tr>\n",
       "    <tr>\n",
       "      <th>850</th>\n",
       "      <td>2017-04-30</td>\n",
       "      <td>280.286768</td>\n",
       "      <td>1</td>\n",
       "      <td>0</td>\n",
       "      <td>0.0</td>\n",
       "    </tr>\n",
       "  </tbody>\n",
       "</table>\n",
       "</div>"
      ],
      "text/plain": [
       "         Datum  KonditoreiBlech  Wochenende_flag  Feiertag_DE  Holidays_SH\n",
       "17  2015-01-18       326.082164                1            0          0.0\n",
       "31  2015-02-01       284.671715                1            0          0.0\n",
       "38  2015-02-08       351.096954                1            0          0.0\n",
       "52  2015-02-22       399.988543                1            0          0.0\n",
       "66  2015-03-08       296.794889                1            0          0.0\n",
       "332 2015-11-29       307.686998                1            0          0.0\n",
       "399 2016-02-04       288.379119                0            0          0.0\n",
       "402 2016-02-07       278.672843                1            0          0.0\n",
       "408 2016-02-13       283.452860                1            0          0.0\n",
       "409 2016-02-14       347.929304                1            0          0.0\n",
       "416 2016-02-21       378.238625                1            0          0.0\n",
       "501 2016-05-16       309.346264                0            1          1.0\n",
       "535 2016-06-19       286.364778                1            0          0.0\n",
       "590 2016-08-13       276.546387                1            0          1.0\n",
       "738 2017-01-08       308.554695                1            0          0.0\n",
       "745 2017-01-15       330.130000                1            0          0.0\n",
       "787 2017-02-26       316.640394                1            0          0.0\n",
       "801 2017-03-12       277.100833                1            0          0.0\n",
       "829 2017-04-09       333.813387                1            0          1.0\n",
       "850 2017-04-30       280.286768                1            0          0.0"
      ]
     },
     "execution_count": 295,
     "metadata": {},
     "output_type": "execute_result"
    }
   ],
   "source": [
    "df_new_2.query('KonditoreiBlech>275.632008')[['Datum','KonditoreiBlech','Wochenende_flag','Feiertag_DE','Holidays_SH']]"
   ]
  },
  {
   "cell_type": "code",
   "execution_count": 344,
   "metadata": {},
   "outputs": [],
   "source": [
    "data_2_clean['KonditoreiBlech']=data_2_clean['KonditoreiBlech'].apply(lambda x: x if x <275.632008 else None )"
   ]
  },
  {
   "cell_type": "markdown",
   "metadata": {},
   "source": [
    "### Blechkuchen"
   ]
  },
  {
   "cell_type": "code",
   "execution_count": 297,
   "metadata": {},
   "outputs": [
    {
     "data": {
      "text/plain": [
       "count    1979.000000\n",
       "mean       93.154924\n",
       "std        46.648699\n",
       "min         0.000000\n",
       "50%        87.470191\n",
       "90%       155.746063\n",
       "99%       222.225412\n",
       "max       338.496148\n",
       "Name: Blechkuchen, dtype: float64"
      ]
     },
     "execution_count": 297,
     "metadata": {},
     "output_type": "execute_result"
    }
   ],
   "source": [
    "df_new_2.Blechkuchen.describe(percentiles=[0.9, 0.99])"
   ]
  },
  {
   "cell_type": "code",
   "execution_count": 298,
   "metadata": {},
   "outputs": [
    {
     "data": {
      "text/html": [
       "<div>\n",
       "<style scoped>\n",
       "    .dataframe tbody tr th:only-of-type {\n",
       "        vertical-align: middle;\n",
       "    }\n",
       "\n",
       "    .dataframe tbody tr th {\n",
       "        vertical-align: top;\n",
       "    }\n",
       "\n",
       "    .dataframe thead th {\n",
       "        text-align: right;\n",
       "    }\n",
       "</style>\n",
       "<table border=\"1\" class=\"dataframe\">\n",
       "  <thead>\n",
       "    <tr style=\"text-align: right;\">\n",
       "      <th></th>\n",
       "      <th>Datum</th>\n",
       "      <th>Blechkuchen</th>\n",
       "      <th>Wochenende_flag</th>\n",
       "      <th>Feiertag_DE</th>\n",
       "      <th>Holidays_SH</th>\n",
       "    </tr>\n",
       "  </thead>\n",
       "  <tbody>\n",
       "    <tr>\n",
       "      <th>144</th>\n",
       "      <td>2015-05-25</td>\n",
       "      <td>237.669884</td>\n",
       "      <td>0</td>\n",
       "      <td>1</td>\n",
       "      <td>0.0</td>\n",
       "    </tr>\n",
       "    <tr>\n",
       "      <th>157</th>\n",
       "      <td>2015-06-07</td>\n",
       "      <td>227.839234</td>\n",
       "      <td>1</td>\n",
       "      <td>0</td>\n",
       "      <td>0.0</td>\n",
       "    </tr>\n",
       "    <tr>\n",
       "      <th>247</th>\n",
       "      <td>2015-09-05</td>\n",
       "      <td>275.758250</td>\n",
       "      <td>1</td>\n",
       "      <td>0</td>\n",
       "      <td>0.0</td>\n",
       "    </tr>\n",
       "    <tr>\n",
       "      <th>261</th>\n",
       "      <td>2015-09-19</td>\n",
       "      <td>250.168163</td>\n",
       "      <td>1</td>\n",
       "      <td>0</td>\n",
       "      <td>0.0</td>\n",
       "    </tr>\n",
       "    <tr>\n",
       "      <th>590</th>\n",
       "      <td>2016-08-13</td>\n",
       "      <td>284.154770</td>\n",
       "      <td>1</td>\n",
       "      <td>0</td>\n",
       "      <td>1.0</td>\n",
       "    </tr>\n",
       "    <tr>\n",
       "      <th>597</th>\n",
       "      <td>2016-08-20</td>\n",
       "      <td>247.344333</td>\n",
       "      <td>1</td>\n",
       "      <td>0</td>\n",
       "      <td>1.0</td>\n",
       "    </tr>\n",
       "    <tr>\n",
       "      <th>954</th>\n",
       "      <td>2017-08-12</td>\n",
       "      <td>338.496148</td>\n",
       "      <td>1</td>\n",
       "      <td>0</td>\n",
       "      <td>1.0</td>\n",
       "    </tr>\n",
       "    <tr>\n",
       "      <th>955</th>\n",
       "      <td>2017-08-13</td>\n",
       "      <td>282.968118</td>\n",
       "      <td>1</td>\n",
       "      <td>0</td>\n",
       "      <td>1.0</td>\n",
       "    </tr>\n",
       "    <tr>\n",
       "      <th>962</th>\n",
       "      <td>2017-08-20</td>\n",
       "      <td>263.313403</td>\n",
       "      <td>1</td>\n",
       "      <td>0</td>\n",
       "      <td>1.0</td>\n",
       "    </tr>\n",
       "    <tr>\n",
       "      <th>1269</th>\n",
       "      <td>2018-06-23</td>\n",
       "      <td>293.819720</td>\n",
       "      <td>1</td>\n",
       "      <td>0</td>\n",
       "      <td>0.0</td>\n",
       "    </tr>\n",
       "    <tr>\n",
       "      <th>1333</th>\n",
       "      <td>2018-08-26</td>\n",
       "      <td>270.915773</td>\n",
       "      <td>1</td>\n",
       "      <td>0</td>\n",
       "      <td>0.0</td>\n",
       "    </tr>\n",
       "    <tr>\n",
       "      <th>1508</th>\n",
       "      <td>2019-02-17</td>\n",
       "      <td>229.121269</td>\n",
       "      <td>1</td>\n",
       "      <td>0</td>\n",
       "      <td>0.0</td>\n",
       "    </tr>\n",
       "    <tr>\n",
       "      <th>1606</th>\n",
       "      <td>2019-05-26</td>\n",
       "      <td>222.775376</td>\n",
       "      <td>1</td>\n",
       "      <td>0</td>\n",
       "      <td>0.0</td>\n",
       "    </tr>\n",
       "    <tr>\n",
       "      <th>1640</th>\n",
       "      <td>2019-06-29</td>\n",
       "      <td>257.774312</td>\n",
       "      <td>1</td>\n",
       "      <td>0</td>\n",
       "      <td>0.0</td>\n",
       "    </tr>\n",
       "    <tr>\n",
       "      <th>1653</th>\n",
       "      <td>2019-07-12</td>\n",
       "      <td>223.855530</td>\n",
       "      <td>0</td>\n",
       "      <td>0</td>\n",
       "      <td>1.0</td>\n",
       "    </tr>\n",
       "    <tr>\n",
       "      <th>1654</th>\n",
       "      <td>2019-07-13</td>\n",
       "      <td>223.780099</td>\n",
       "      <td>1</td>\n",
       "      <td>0</td>\n",
       "      <td>1.0</td>\n",
       "    </tr>\n",
       "    <tr>\n",
       "      <th>1655</th>\n",
       "      <td>2019-07-14</td>\n",
       "      <td>235.872790</td>\n",
       "      <td>1</td>\n",
       "      <td>0</td>\n",
       "      <td>1.0</td>\n",
       "    </tr>\n",
       "    <tr>\n",
       "      <th>1690</th>\n",
       "      <td>2019-08-18</td>\n",
       "      <td>239.976503</td>\n",
       "      <td>1</td>\n",
       "      <td>0</td>\n",
       "      <td>0.0</td>\n",
       "    </tr>\n",
       "    <tr>\n",
       "      <th>1954</th>\n",
       "      <td>2020-05-08</td>\n",
       "      <td>223.740035</td>\n",
       "      <td>0</td>\n",
       "      <td>0</td>\n",
       "      <td>0.0</td>\n",
       "    </tr>\n",
       "    <tr>\n",
       "      <th>1977</th>\n",
       "      <td>2020-05-31</td>\n",
       "      <td>236.650859</td>\n",
       "      <td>1</td>\n",
       "      <td>0</td>\n",
       "      <td>0.0</td>\n",
       "    </tr>\n",
       "  </tbody>\n",
       "</table>\n",
       "</div>"
      ],
      "text/plain": [
       "          Datum  Blechkuchen  Wochenende_flag  Feiertag_DE  Holidays_SH\n",
       "144  2015-05-25   237.669884                0            1          0.0\n",
       "157  2015-06-07   227.839234                1            0          0.0\n",
       "247  2015-09-05   275.758250                1            0          0.0\n",
       "261  2015-09-19   250.168163                1            0          0.0\n",
       "590  2016-08-13   284.154770                1            0          1.0\n",
       "597  2016-08-20   247.344333                1            0          1.0\n",
       "954  2017-08-12   338.496148                1            0          1.0\n",
       "955  2017-08-13   282.968118                1            0          1.0\n",
       "962  2017-08-20   263.313403                1            0          1.0\n",
       "1269 2018-06-23   293.819720                1            0          0.0\n",
       "1333 2018-08-26   270.915773                1            0          0.0\n",
       "1508 2019-02-17   229.121269                1            0          0.0\n",
       "1606 2019-05-26   222.775376                1            0          0.0\n",
       "1640 2019-06-29   257.774312                1            0          0.0\n",
       "1653 2019-07-12   223.855530                0            0          1.0\n",
       "1654 2019-07-13   223.780099                1            0          1.0\n",
       "1655 2019-07-14   235.872790                1            0          1.0\n",
       "1690 2019-08-18   239.976503                1            0          0.0\n",
       "1954 2020-05-08   223.740035                0            0          0.0\n",
       "1977 2020-05-31   236.650859                1            0          0.0"
      ]
     },
     "execution_count": 298,
     "metadata": {},
     "output_type": "execute_result"
    }
   ],
   "source": [
    "df_new_2.query('Blechkuchen>222.225412')[['Datum','Blechkuchen','Wochenende_flag','Feiertag_DE','Holidays_SH']]"
   ]
  },
  {
   "cell_type": "code",
   "execution_count": 345,
   "metadata": {},
   "outputs": [],
   "source": [
    "data_2_clean['Blechkuchen']=data_2_clean['Blechkuchen'].apply(lambda x: x if x <222.225412 else None)"
   ]
  },
  {
   "cell_type": "markdown",
   "metadata": {},
   "source": [
    "### Stückgebäck"
   ]
  },
  {
   "cell_type": "code",
   "execution_count": 300,
   "metadata": {},
   "outputs": [
    {
     "data": {
      "text/plain": [
       "count    1979.000000\n",
       "mean      152.085738\n",
       "std        89.090462\n",
       "min         0.000000\n",
       "50%       145.715536\n",
       "90%       203.852504\n",
       "99%       303.260565\n",
       "max      1798.588913\n",
       "Name: Stückgebäck, dtype: float64"
      ]
     },
     "execution_count": 300,
     "metadata": {},
     "output_type": "execute_result"
    }
   ],
   "source": [
    "df_new_2.Stückgebäck.describe(percentiles=[0.9, 0.99])"
   ]
  },
  {
   "cell_type": "code",
   "execution_count": 301,
   "metadata": {},
   "outputs": [
    {
     "data": {
      "text/plain": [
       "Index(['Datum', 'Weizenbrot', 'Mischbrot', 'Vollkornbrot', 'Stangenbrote',\n",
       "       'Spezialbrot', 'Brötchen', 'Süsse_Brötchen', 'Herzhafte_Brötchen',\n",
       "       'KonditoreiBlech', 'Stückgebäck', 'Blechkuchen', 'Weihnachtsartikel',\n",
       "       'Wochentag', 'Tag', 'Jahr', 'Monat', 'Gesamt', 'Wochenende_flag',\n",
       "       'Season', 'Closed', 'Outlier', 'Feiertag_DE', 'Holidays_SH',\n",
       "       'Kieler_Woche', 'Niederschlag', 'Sonne_h', 'Temperatur_max',\n",
       "       'Brötchen>', 'Süsse_Brötchen>', 'Herzhafte_Brötchen>',\n",
       "       'KonditoreiBlech>', 'Blechkuchen>'],\n",
       "      dtype='object')"
      ]
     },
     "execution_count": 301,
     "metadata": {},
     "output_type": "execute_result"
    }
   ],
   "source": [
    "data_2_clean.columns"
   ]
  },
  {
   "cell_type": "code",
   "execution_count": 302,
   "metadata": {},
   "outputs": [
    {
     "data": {
      "text/html": [
       "<div>\n",
       "<style scoped>\n",
       "    .dataframe tbody tr th:only-of-type {\n",
       "        vertical-align: middle;\n",
       "    }\n",
       "\n",
       "    .dataframe tbody tr th {\n",
       "        vertical-align: top;\n",
       "    }\n",
       "\n",
       "    .dataframe thead th {\n",
       "        text-align: right;\n",
       "    }\n",
       "</style>\n",
       "<table border=\"1\" class=\"dataframe\">\n",
       "  <thead>\n",
       "    <tr style=\"text-align: right;\">\n",
       "      <th></th>\n",
       "      <th>Datum</th>\n",
       "      <th>Weizenbrot</th>\n",
       "      <th>Mischbrot</th>\n",
       "      <th>Vollkornbrot</th>\n",
       "      <th>Stangenbrote</th>\n",
       "      <th>Spezialbrot</th>\n",
       "      <th>Brötchen</th>\n",
       "      <th>Süsse_Brötchen</th>\n",
       "      <th>Herzhafte_Brötchen</th>\n",
       "      <th>KonditoreiBlech</th>\n",
       "      <th>...</th>\n",
       "      <th>Holidays_SH</th>\n",
       "      <th>Kieler_Woche</th>\n",
       "      <th>Niederschlag</th>\n",
       "      <th>Sonne_h</th>\n",
       "      <th>Temperatur_max</th>\n",
       "      <th>Brötchen&gt;</th>\n",
       "      <th>Süsse_Brötchen&gt;</th>\n",
       "      <th>Herzhafte_Brötchen&gt;</th>\n",
       "      <th>KonditoreiBlech&gt;</th>\n",
       "      <th>Blechkuchen&gt;</th>\n",
       "    </tr>\n",
       "  </thead>\n",
       "  <tbody>\n",
       "    <tr>\n",
       "      <th>363</th>\n",
       "      <td>2015-12-30</td>\n",
       "      <td>74.207039</td>\n",
       "      <td>84.776793</td>\n",
       "      <td>110.678033</td>\n",
       "      <td>44.484650</td>\n",
       "      <td>93.489671</td>\n",
       "      <td>513.542454</td>\n",
       "      <td>222.236631</td>\n",
       "      <td>95.773345</td>\n",
       "      <td>70.119212</td>\n",
       "      <td>...</td>\n",
       "      <td>1.0</td>\n",
       "      <td>0</td>\n",
       "      <td>0.0</td>\n",
       "      <td>0.000</td>\n",
       "      <td>6.0</td>\n",
       "      <td>513.542454</td>\n",
       "      <td>222.236631</td>\n",
       "      <td>95.773345</td>\n",
       "      <td>70.119212</td>\n",
       "      <td>0.000000</td>\n",
       "    </tr>\n",
       "    <tr>\n",
       "      <th>364</th>\n",
       "      <td>2015-12-31</td>\n",
       "      <td>80.696523</td>\n",
       "      <td>103.007808</td>\n",
       "      <td>111.867599</td>\n",
       "      <td>29.439600</td>\n",
       "      <td>150.641623</td>\n",
       "      <td>621.392020</td>\n",
       "      <td>223.927194</td>\n",
       "      <td>104.438491</td>\n",
       "      <td>0.000000</td>\n",
       "      <td>...</td>\n",
       "      <td>1.0</td>\n",
       "      <td>0</td>\n",
       "      <td>1.8</td>\n",
       "      <td>0.000</td>\n",
       "      <td>5.9</td>\n",
       "      <td>621.392020</td>\n",
       "      <td>223.927194</td>\n",
       "      <td>104.438491</td>\n",
       "      <td>0.000000</td>\n",
       "      <td>0.000000</td>\n",
       "    </tr>\n",
       "    <tr>\n",
       "      <th>729</th>\n",
       "      <td>2016-12-30</td>\n",
       "      <td>75.684263</td>\n",
       "      <td>89.247237</td>\n",
       "      <td>116.589440</td>\n",
       "      <td>33.456708</td>\n",
       "      <td>67.554767</td>\n",
       "      <td>482.435003</td>\n",
       "      <td>195.119217</td>\n",
       "      <td>37.811926</td>\n",
       "      <td>134.197804</td>\n",
       "      <td>...</td>\n",
       "      <td>1.0</td>\n",
       "      <td>0</td>\n",
       "      <td>0.0</td>\n",
       "      <td>2.800</td>\n",
       "      <td>2.9</td>\n",
       "      <td>482.435003</td>\n",
       "      <td>195.119217</td>\n",
       "      <td>37.811926</td>\n",
       "      <td>134.197804</td>\n",
       "      <td>0.000000</td>\n",
       "    </tr>\n",
       "    <tr>\n",
       "      <th>730</th>\n",
       "      <td>2016-12-31</td>\n",
       "      <td>NaN</td>\n",
       "      <td>79.836849</td>\n",
       "      <td>115.958559</td>\n",
       "      <td>42.671246</td>\n",
       "      <td>161.978059</td>\n",
       "      <td>573.556869</td>\n",
       "      <td>237.232767</td>\n",
       "      <td>68.495242</td>\n",
       "      <td>122.198305</td>\n",
       "      <td>...</td>\n",
       "      <td>1.0</td>\n",
       "      <td>0</td>\n",
       "      <td>0.1</td>\n",
       "      <td>0.000</td>\n",
       "      <td>5.7</td>\n",
       "      <td>573.556869</td>\n",
       "      <td>237.232767</td>\n",
       "      <td>68.495242</td>\n",
       "      <td>122.198305</td>\n",
       "      <td>0.000000</td>\n",
       "    </tr>\n",
       "    <tr>\n",
       "      <th>1094</th>\n",
       "      <td>2017-12-30</td>\n",
       "      <td>74.016200</td>\n",
       "      <td>91.435729</td>\n",
       "      <td>138.645026</td>\n",
       "      <td>36.205173</td>\n",
       "      <td>109.960417</td>\n",
       "      <td>488.780540</td>\n",
       "      <td>205.471655</td>\n",
       "      <td>94.864324</td>\n",
       "      <td>85.151008</td>\n",
       "      <td>...</td>\n",
       "      <td>1.0</td>\n",
       "      <td>0</td>\n",
       "      <td>2.4</td>\n",
       "      <td>0.000</td>\n",
       "      <td>5.6</td>\n",
       "      <td>488.780540</td>\n",
       "      <td>205.471655</td>\n",
       "      <td>94.864324</td>\n",
       "      <td>85.151008</td>\n",
       "      <td>29.090461</td>\n",
       "    </tr>\n",
       "    <tr>\n",
       "      <th>1095</th>\n",
       "      <td>2017-12-31</td>\n",
       "      <td>85.929438</td>\n",
       "      <td>49.851079</td>\n",
       "      <td>95.192115</td>\n",
       "      <td>0.000000</td>\n",
       "      <td>NaN</td>\n",
       "      <td>583.322137</td>\n",
       "      <td>224.616688</td>\n",
       "      <td>80.509262</td>\n",
       "      <td>40.254108</td>\n",
       "      <td>...</td>\n",
       "      <td>1.0</td>\n",
       "      <td>0</td>\n",
       "      <td>14.5</td>\n",
       "      <td>0.000</td>\n",
       "      <td>11.5</td>\n",
       "      <td>583.322137</td>\n",
       "      <td>224.616688</td>\n",
       "      <td>80.509262</td>\n",
       "      <td>40.254108</td>\n",
       "      <td>47.570151</td>\n",
       "    </tr>\n",
       "    <tr>\n",
       "      <th>1459</th>\n",
       "      <td>2018-12-30</td>\n",
       "      <td>0.000000</td>\n",
       "      <td>41.313901</td>\n",
       "      <td>102.979151</td>\n",
       "      <td>12.713490</td>\n",
       "      <td>62.880604</td>\n",
       "      <td>510.098921</td>\n",
       "      <td>242.113512</td>\n",
       "      <td>124.080903</td>\n",
       "      <td>63.215898</td>\n",
       "      <td>...</td>\n",
       "      <td>1.0</td>\n",
       "      <td>0</td>\n",
       "      <td>0.0</td>\n",
       "      <td>3.783</td>\n",
       "      <td>8.2</td>\n",
       "      <td>510.098921</td>\n",
       "      <td>242.113512</td>\n",
       "      <td>124.080903</td>\n",
       "      <td>63.215898</td>\n",
       "      <td>40.548101</td>\n",
       "    </tr>\n",
       "    <tr>\n",
       "      <th>1460</th>\n",
       "      <td>2018-12-31</td>\n",
       "      <td>77.031724</td>\n",
       "      <td>71.343652</td>\n",
       "      <td>130.801084</td>\n",
       "      <td>37.688275</td>\n",
       "      <td>NaN</td>\n",
       "      <td>619.135110</td>\n",
       "      <td>252.557643</td>\n",
       "      <td>121.648554</td>\n",
       "      <td>0.000000</td>\n",
       "      <td>...</td>\n",
       "      <td>1.0</td>\n",
       "      <td>0</td>\n",
       "      <td>0.3</td>\n",
       "      <td>0.000</td>\n",
       "      <td>8.2</td>\n",
       "      <td>619.135110</td>\n",
       "      <td>252.557643</td>\n",
       "      <td>121.648554</td>\n",
       "      <td>0.000000</td>\n",
       "      <td>0.000000</td>\n",
       "    </tr>\n",
       "    <tr>\n",
       "      <th>1824</th>\n",
       "      <td>2019-12-30</td>\n",
       "      <td>91.048103</td>\n",
       "      <td>86.728311</td>\n",
       "      <td>153.868426</td>\n",
       "      <td>8.227841</td>\n",
       "      <td>81.994086</td>\n",
       "      <td>577.170659</td>\n",
       "      <td>206.088817</td>\n",
       "      <td>184.756249</td>\n",
       "      <td>79.538165</td>\n",
       "      <td>...</td>\n",
       "      <td>1.0</td>\n",
       "      <td>0</td>\n",
       "      <td>0.1</td>\n",
       "      <td>0.000</td>\n",
       "      <td>7.8</td>\n",
       "      <td>577.170659</td>\n",
       "      <td>206.088817</td>\n",
       "      <td>184.756249</td>\n",
       "      <td>79.538165</td>\n",
       "      <td>0.000000</td>\n",
       "    </tr>\n",
       "    <tr>\n",
       "      <th>1825</th>\n",
       "      <td>2019-12-31</td>\n",
       "      <td>84.140637</td>\n",
       "      <td>79.728814</td>\n",
       "      <td>120.497757</td>\n",
       "      <td>32.527453</td>\n",
       "      <td>161.209522</td>\n",
       "      <td>684.935898</td>\n",
       "      <td>257.226027</td>\n",
       "      <td>107.078955</td>\n",
       "      <td>0.000000</td>\n",
       "      <td>...</td>\n",
       "      <td>1.0</td>\n",
       "      <td>0</td>\n",
       "      <td>0.0</td>\n",
       "      <td>0.000</td>\n",
       "      <td>7.9</td>\n",
       "      <td>684.935898</td>\n",
       "      <td>257.226027</td>\n",
       "      <td>107.078955</td>\n",
       "      <td>0.000000</td>\n",
       "      <td>0.000000</td>\n",
       "    </tr>\n",
       "  </tbody>\n",
       "</table>\n",
       "<p>10 rows × 33 columns</p>\n",
       "</div>"
      ],
      "text/plain": [
       "          Datum  Weizenbrot   Mischbrot  Vollkornbrot  Stangenbrote  \\\n",
       "363  2015-12-30   74.207039   84.776793    110.678033     44.484650   \n",
       "364  2015-12-31   80.696523  103.007808    111.867599     29.439600   \n",
       "729  2016-12-30   75.684263   89.247237    116.589440     33.456708   \n",
       "730  2016-12-31         NaN   79.836849    115.958559     42.671246   \n",
       "1094 2017-12-30   74.016200   91.435729    138.645026     36.205173   \n",
       "1095 2017-12-31   85.929438   49.851079     95.192115      0.000000   \n",
       "1459 2018-12-30    0.000000   41.313901    102.979151     12.713490   \n",
       "1460 2018-12-31   77.031724   71.343652    130.801084     37.688275   \n",
       "1824 2019-12-30   91.048103   86.728311    153.868426      8.227841   \n",
       "1825 2019-12-31   84.140637   79.728814    120.497757     32.527453   \n",
       "\n",
       "      Spezialbrot    Brötchen  Süsse_Brötchen  Herzhafte_Brötchen  \\\n",
       "363     93.489671  513.542454      222.236631           95.773345   \n",
       "364    150.641623  621.392020      223.927194          104.438491   \n",
       "729     67.554767  482.435003      195.119217           37.811926   \n",
       "730    161.978059  573.556869      237.232767           68.495242   \n",
       "1094   109.960417  488.780540      205.471655           94.864324   \n",
       "1095          NaN  583.322137      224.616688           80.509262   \n",
       "1459    62.880604  510.098921      242.113512          124.080903   \n",
       "1460          NaN  619.135110      252.557643          121.648554   \n",
       "1824    81.994086  577.170659      206.088817          184.756249   \n",
       "1825   161.209522  684.935898      257.226027          107.078955   \n",
       "\n",
       "      KonditoreiBlech  ...  Holidays_SH  Kieler_Woche  Niederschlag  Sonne_h  \\\n",
       "363         70.119212  ...          1.0             0           0.0    0.000   \n",
       "364          0.000000  ...          1.0             0           1.8    0.000   \n",
       "729        134.197804  ...          1.0             0           0.0    2.800   \n",
       "730        122.198305  ...          1.0             0           0.1    0.000   \n",
       "1094        85.151008  ...          1.0             0           2.4    0.000   \n",
       "1095        40.254108  ...          1.0             0          14.5    0.000   \n",
       "1459        63.215898  ...          1.0             0           0.0    3.783   \n",
       "1460         0.000000  ...          1.0             0           0.3    0.000   \n",
       "1824        79.538165  ...          1.0             0           0.1    0.000   \n",
       "1825         0.000000  ...          1.0             0           0.0    0.000   \n",
       "\n",
       "      Temperatur_max   Brötchen>  Süsse_Brötchen>  Herzhafte_Brötchen>  \\\n",
       "363              6.0  513.542454       222.236631            95.773345   \n",
       "364              5.9  621.392020       223.927194           104.438491   \n",
       "729              2.9  482.435003       195.119217            37.811926   \n",
       "730              5.7  573.556869       237.232767            68.495242   \n",
       "1094             5.6  488.780540       205.471655            94.864324   \n",
       "1095            11.5  583.322137       224.616688            80.509262   \n",
       "1459             8.2  510.098921       242.113512           124.080903   \n",
       "1460             8.2  619.135110       252.557643           121.648554   \n",
       "1824             7.8  577.170659       206.088817           184.756249   \n",
       "1825             7.9  684.935898       257.226027           107.078955   \n",
       "\n",
       "      KonditoreiBlech>  Blechkuchen>  \n",
       "363          70.119212      0.000000  \n",
       "364           0.000000      0.000000  \n",
       "729         134.197804      0.000000  \n",
       "730         122.198305      0.000000  \n",
       "1094         85.151008     29.090461  \n",
       "1095         40.254108     47.570151  \n",
       "1459         63.215898     40.548101  \n",
       "1460          0.000000      0.000000  \n",
       "1824         79.538165      0.000000  \n",
       "1825          0.000000      0.000000  \n",
       "\n",
       "[10 rows x 33 columns]"
      ]
     },
     "execution_count": 302,
     "metadata": {},
     "output_type": "execute_result"
    }
   ],
   "source": [
    "data_2_clean.query('Stückgebäck>303.260565')\n",
    "#[['Datum','Stückgebäck','Wochenende_flag','Feiertag_DE','Holidays_SH','Outlier']]"
   ]
  },
  {
   "cell_type": "code",
   "execution_count": 303,
   "metadata": {},
   "outputs": [],
   "source": [
    "def def_sales(sales,out):\n",
    "    ergebnis=0\n",
    "    if out==1 or sales<303.260565:\n",
    "        ergebnis=sales\n",
    "    else:\n",
    "        ergebnis=None\n",
    "    return ergebnis  "
   ]
  },
  {
   "cell_type": "code",
   "execution_count": 304,
   "metadata": {},
   "outputs": [],
   "source": [
    "data_2_clean['Stückgebäck']=data_2_clean.apply(lambda row: def_sales(row['Stückgebäck'],row['Outlier']), axis=1)"
   ]
  },
  {
   "cell_type": "markdown",
   "metadata": {},
   "source": [
    "### Weihnachtsartikel"
   ]
  },
  {
   "cell_type": "code",
   "execution_count": 347,
   "metadata": {},
   "outputs": [
    {
     "data": {
      "text/plain": [
       "count    1979.000000\n",
       "mean       21.198583\n",
       "std        53.875080\n",
       "min         0.000000\n",
       "50%         0.000000\n",
       "90%       125.578646\n",
       "99%       203.102616\n",
       "max       245.976731\n",
       "Name: Weihnachtsartikel, dtype: float64"
      ]
     },
     "execution_count": 347,
     "metadata": {},
     "output_type": "execute_result"
    }
   ],
   "source": [
    "data_2_clean.Weihnachtsartikel.describe(percentiles=[0.9, 0.99])"
   ]
  },
  {
   "cell_type": "code",
   "execution_count": 353,
   "metadata": {},
   "outputs": [],
   "source": [
    "data_2_clean.fillna(method='bfill',inplace=True)"
   ]
  },
  {
   "cell_type": "code",
   "execution_count": null,
   "metadata": {},
   "outputs": [],
   "source": [
    "# checking null values\n",
    "nan = pd.DataFrame(data_2_clean.isnull().sum(),columns=['Count'])\n",
    "#nan"
   ]
  },
  {
   "cell_type": "markdown",
   "metadata": {},
   "source": [
    "# Export to csv"
   ]
  },
  {
   "cell_type": "code",
   "execution_count": 349,
   "metadata": {},
   "outputs": [],
   "source": [
    "df_new_1.to_csv(\"df_new_1.csv\")\n",
    "df_new_3.to_csv(\"df_new_3.csv\")\n",
    "df_new.to_csv(\"df_new.csv\")"
   ]
  },
  {
   "cell_type": "code",
   "execution_count": 354,
   "metadata": {},
   "outputs": [],
   "source": [
    "df_new_2.to_csv(\"df_new_2.csv\")\n",
    "data_2_clean.to_csv(\"data_2_clean.csv\")"
   ]
  },
  {
   "cell_type": "code",
   "execution_count": null,
   "metadata": {},
   "outputs": [],
   "source": [
    "df_import_2=df_new_2.copy()"
   ]
  },
  {
   "cell_type": "code",
   "execution_count": 348,
   "metadata": {},
   "outputs": [
    {
     "name": "stdout",
     "output_type": "stream",
     "text": [
      "<class 'pandas.core.frame.DataFrame'>\n",
      "Int64Index: 1979 entries, 0 to 1978\n",
      "Data columns (total 31 columns):\n",
      " #   Column              Non-Null Count  Dtype         \n",
      "---  ------              --------------  -----         \n",
      " 0   Datum               1979 non-null   datetime64[ns]\n",
      " 1   Weizenbrot          1959 non-null   float64       \n",
      " 2   Mischbrot           1959 non-null   float64       \n",
      " 3   Vollkornbrot        1959 non-null   float64       \n",
      " 4   Stangenbrote        1959 non-null   float64       \n",
      " 5   Spezialbrot         1975 non-null   float64       \n",
      " 6   Brötchen            1959 non-null   float64       \n",
      " 7   Süsse_Brötchen      1959 non-null   float64       \n",
      " 8   Herzhafte_Brötchen  1959 non-null   float64       \n",
      " 9   KonditoreiBlech     1959 non-null   float64       \n",
      " 10  Stückgebäck         1979 non-null   float64       \n",
      " 11  Blechkuchen         1959 non-null   float64       \n",
      " 12  Weihnachtsartikel   1979 non-null   float64       \n",
      " 13  Wochentag           1979 non-null   int64         \n",
      " 14  Tag                 1979 non-null   int64         \n",
      " 15  Jahr                1979 non-null   int64         \n",
      " 16  Monat               1979 non-null   int64         \n",
      " 17  Gesamt              1979 non-null   float64       \n",
      " 18  Wochenende_flag     1979 non-null   int64         \n",
      " 19  Season              1979 non-null   int64         \n",
      " 20  Christmas           1979 non-null   int64         \n",
      " 21  Closed              1979 non-null   int64         \n",
      " 22  Outlier             1979 non-null   int64         \n",
      " 23  New_Years_Eve       1979 non-null   int64         \n",
      " 24  Feiertag_DE         1979 non-null   int64         \n",
      " 25  Ostern              1979 non-null   float64       \n",
      " 26  Holidays_SH         1979 non-null   float64       \n",
      " 27  SUMMER_SH           1979 non-null   float64       \n",
      " 28  Niederschlag        1979 non-null   float64       \n",
      " 29  Sonne_h             1979 non-null   float64       \n",
      " 30  Temperatur_max      1979 non-null   float64       \n",
      "dtypes: datetime64[ns](1), float64(19), int64(11)\n",
      "memory usage: 494.8 KB\n"
     ]
    }
   ],
   "source": [
    "data_2_clean.info()"
   ]
  },
  {
   "cell_type": "code",
   "execution_count": 153,
   "metadata": {},
   "outputs": [],
   "source": [
    "article_selection=df_import_2.iloc[:,0:13].columns.tolist()"
   ]
  },
  {
   "cell_type": "code",
   "execution_count": 155,
   "metadata": {},
   "outputs": [],
   "source": [
    "df_import_2.to_csv(\"df_import_2.csv\")"
   ]
  },
  {
   "cell_type": "code",
   "execution_count": null,
   "metadata": {},
   "outputs": [],
   "source": []
  }
 ],
 "metadata": {
  "kernelspec": {
   "display_name": "Python [conda env:nf] *",
   "language": "python",
   "name": "conda-env-nf-py"
  },
  "language_info": {
   "codemirror_mode": {
    "name": "ipython",
    "version": 3
   },
   "file_extension": ".py",
   "mimetype": "text/x-python",
   "name": "python",
   "nbconvert_exporter": "python",
   "pygments_lexer": "ipython3",
   "version": "3.6.10"
  },
  "toc": {
   "base_numbering": 1,
   "nav_menu": {},
   "number_sections": true,
   "sideBar": true,
   "skip_h1_title": false,
   "title_cell": "Table of Contents",
   "title_sidebar": "Contents",
   "toc_cell": false,
   "toc_position": {
    "height": "527.778px",
    "left": "137px",
    "top": "110.052px",
    "width": "389.757px"
   },
   "toc_section_display": true,
   "toc_window_display": true
  },
  "varInspector": {
   "cols": {
    "lenName": 16,
    "lenType": 16,
    "lenVar": 40
   },
   "kernels_config": {
    "python": {
     "delete_cmd_postfix": "",
     "delete_cmd_prefix": "del ",
     "library": "var_list.py",
     "varRefreshCmd": "print(var_dic_list())"
    },
    "r": {
     "delete_cmd_postfix": ") ",
     "delete_cmd_prefix": "rm(",
     "library": "var_list.r",
     "varRefreshCmd": "cat(var_dic_list()) "
    }
   },
   "types_to_exclude": [
    "module",
    "function",
    "builtin_function_or_method",
    "instance",
    "_Feature"
   ],
   "window_display": false
  }
 },
 "nbformat": 4,
 "nbformat_minor": 4
}
