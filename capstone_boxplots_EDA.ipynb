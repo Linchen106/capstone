{
 "cells": [
  {
   "cell_type": "markdown",
   "metadata": {},
   "source": [
    "# Loading Data and Cleaning"
   ]
  },
  {
   "cell_type": "code",
   "execution_count": 1,
   "metadata": {},
   "outputs": [],
   "source": [
    "#import basic system functions\n",
    "import os\n",
    "import datetime\n",
    "from collections import Counter\n",
    "\n",
    "#import libraries for data wrangling\n",
    "import pandas as pd\n",
    "import numpy as np\n",
    "\n",
    "#import libraries for plotting data\n",
    "import matplotlib.pyplot as plt\n",
    "\n",
    "\n",
    "%matplotlib inline\n",
    "import seaborn as sns\n",
    "import plotly.express as px\n",
    "import plotly.graph_objects as go\n",
    "from plotly.subplots import make_subplots\n",
    "from pandas.plotting import autocorrelation_plot\n",
    "\n",
    "\n",
    "\n",
    "#import libraries for time series analysis\n",
    "#from fbprophet import Prophet\n",
    "from pylab import rcParams\n",
    "import statsmodels.api as sm\n",
    "\n",
    "import warnings\n",
    "warnings.filterwarnings('ignore')\n",
    "\n",
    "\n",
    "from IPython.display import Image\n",
    "from datetime import datetime"
   ]
  },
  {
   "cell_type": "markdown",
   "metadata": {},
   "source": [
    "<span style='font-family:Tahoma'>   </span>"
   ]
  },
  {
   "cell_type": "code",
   "execution_count": 2,
   "metadata": {},
   "outputs": [],
   "source": [
    "df = pd.read_csv(\"/Users/brittarover/Capstone/Meteolytics/meteolytix_Artikelgruppen_Umsatz_verschiedeneStandorte.csv\")"
   ]
  },
  {
   "cell_type": "code",
   "execution_count": 3,
   "metadata": {},
   "outputs": [],
   "source": [
    "# Renaming Columnlabels\n",
    "df['Artikelgruppe']=df['Artikelgruppe'].apply(lambda x: 'Weizenbrot' if x==1 else \"Mischbrot\" if x==2 else \n",
    "                    \"Vollkornbrot\" if x==3 else \"Spezialbrot\" if x==4 else \"Stangenbrote\" if x==5 else \"Brötchen\"\n",
    "                                                  if x==6 else \"Süsse_Brötchen\" if x==7 else\n",
    "                                              \"Herzhafte_Brötchen\" if x==8 else \"KonditoreiBlech1\" if x==9\n",
    "                                                  else \"KonditoreiBlech2\" if x==10 else \"Stückgebäck\" \n",
    "                                              if x==11 else\n",
    "                                              \"Blechkuchen\" if x==12 else \"Weihnachtsartikel\" )"
   ]
  },
  {
   "cell_type": "code",
   "execution_count": 4,
   "metadata": {},
   "outputs": [
    {
     "data": {
      "text/html": [
       "<div>\n",
       "<style scoped>\n",
       "    .dataframe tbody tr th:only-of-type {\n",
       "        vertical-align: middle;\n",
       "    }\n",
       "\n",
       "    .dataframe tbody tr th {\n",
       "        vertical-align: top;\n",
       "    }\n",
       "\n",
       "    .dataframe thead th {\n",
       "        text-align: right;\n",
       "    }\n",
       "</style>\n",
       "<table border=\"1\" class=\"dataframe\">\n",
       "  <thead>\n",
       "    <tr style=\"text-align: right;\">\n",
       "      <th></th>\n",
       "      <th>Filiale</th>\n",
       "      <th>Datum</th>\n",
       "      <th>Artikelgruppe</th>\n",
       "      <th>Umsatz</th>\n",
       "    </tr>\n",
       "  </thead>\n",
       "  <tbody>\n",
       "    <tr>\n",
       "      <th>0</th>\n",
       "      <td>1</td>\n",
       "      <td>2015-01-07</td>\n",
       "      <td>Weizenbrot</td>\n",
       "      <td>50.092235</td>\n",
       "    </tr>\n",
       "    <tr>\n",
       "      <th>1</th>\n",
       "      <td>1</td>\n",
       "      <td>2015-01-27</td>\n",
       "      <td>Weizenbrot</td>\n",
       "      <td>57.002341</td>\n",
       "    </tr>\n",
       "    <tr>\n",
       "      <th>2</th>\n",
       "      <td>1</td>\n",
       "      <td>2015-01-30</td>\n",
       "      <td>Weizenbrot</td>\n",
       "      <td>52.920825</td>\n",
       "    </tr>\n",
       "    <tr>\n",
       "      <th>3</th>\n",
       "      <td>1</td>\n",
       "      <td>2015-02-02</td>\n",
       "      <td>Weizenbrot</td>\n",
       "      <td>89.343474</td>\n",
       "    </tr>\n",
       "    <tr>\n",
       "      <th>4</th>\n",
       "      <td>1</td>\n",
       "      <td>2015-02-05</td>\n",
       "      <td>Weizenbrot</td>\n",
       "      <td>68.717498</td>\n",
       "    </tr>\n",
       "  </tbody>\n",
       "</table>\n",
       "</div>"
      ],
      "text/plain": [
       "   Filiale       Datum Artikelgruppe     Umsatz\n",
       "0        1  2015-01-07    Weizenbrot  50.092235\n",
       "1        1  2015-01-27    Weizenbrot  57.002341\n",
       "2        1  2015-01-30    Weizenbrot  52.920825\n",
       "3        1  2015-02-02    Weizenbrot  89.343474\n",
       "4        1  2015-02-05    Weizenbrot  68.717498"
      ]
     },
     "execution_count": 4,
     "metadata": {},
     "output_type": "execute_result"
    }
   ],
   "source": [
    "df.head()"
   ]
  },
  {
   "cell_type": "markdown",
   "metadata": {},
   "source": [
    "\n",
    "### Definitions\n",
    "\n",
    "- **Filiale** - There are three different filial stores which are analyzed, one direct in the city (filiale=1), one near the water front (filiale=2) and the third in a residential area (filiale=3)\n",
    "1 = city; 2 = waterfront area; 3 = city disctrict\n",
    "- **Datum** - date of the sales data. The period \n",
    "- **Warengruppe** - main article group\n",
    "1 = Brot; 2 = Brötchen; 3 = Spezial_Brötchen; 4 = Konditorei; 5 = Kuchen; 6 = Weihnachtsartikel    \n",
    "- **Artikelgruppe** - article group\n",
    "1 = Weizenbrot; 2 = Mischbrot; 3 = Vollkornbrot; 4 = Spezialbrot; 5 = Stangenbrote; 6 = Brötchen; 7 = Süße Brötchen; 8 = Herzhafte Brötchen; 9 = KonditoreiBlech1; 10 = KonditoreiBlech2; 11 = Stückgebäck; 12 = Blechkuchen; 13 = Weiohnachtsartikel;     \n",
    "- **Umsatz** - Sales volumne per day and article group   "
   ]
  },
  {
   "cell_type": "markdown",
   "metadata": {},
   "source": [
    "### Modify Dataframe with groupby and unstack "
   ]
  },
  {
   "cell_type": "code",
   "execution_count": 5,
   "metadata": {},
   "outputs": [],
   "source": [
    "df_new=pd.pivot_table(df, values='Umsatz', index=['Datum','Filiale'],columns=['Artikelgruppe'], \n",
    "                        aggfunc=np.sum, fill_value=0).reset_index()"
   ]
  },
  {
   "cell_type": "code",
   "execution_count": 6,
   "metadata": {},
   "outputs": [],
   "source": [
    "#create empty dataframe with 'complete' datetime index\n",
    "date_df = pd.DataFrame(index=pd.date_range(start='1/1/2015', end=df.Datum.max()))\n",
    "df_new_1 = pd.pivot_table(df[df.Filiale == 1], values='Umsatz', index=['Datum'],columns=['Artikelgruppe'], \n",
    "                        aggfunc=np.sum, fill_value=0)\n",
    "#fill missing days due to store closings with 0 \n",
    "df_new_1=df_new_1.merge(date_df, how='right', left_index= True,right_index=True).fillna(0)\n",
    "df_new_1.index = df_new_1.index.set_names(['Datum'])\n",
    "df_new_1=df_new_1.reset_index()\n",
    "\n",
    "df_new_2 = pd.pivot_table(df[df.Filiale == 2], values='Umsatz', index=['Datum'],columns=['Artikelgruppe'], \n",
    "                        aggfunc=np.sum, fill_value=0)\n",
    "#fill missing days due to store closings with 0 \n",
    "df_new_2 = df_new_2.merge(date_df, how='right',left_index= True,right_index=True).fillna(0)\n",
    "df_new_2.index = df_new_2.index.set_names(['Datum'])\n",
    "df_new_2=df_new_2.reset_index()\n",
    "\n",
    "df_new_3 = pd.pivot_table(df[df.Filiale == 3], values='Umsatz', index=['Datum'],columns=['Artikelgruppe'], \n",
    "                        aggfunc=np.sum, fill_value=0)\n",
    "#fill missing days due to store closings with 0 \n",
    "df_new_3 = df_new_3.merge(date_df, how='right',left_index= True,right_index=True).fillna(0)\n",
    "df_new_3.index = df_new_3.index.set_names(['Datum'])\n",
    "df_new_3=df_new_3.reset_index()"
   ]
  },
  {
   "cell_type": "markdown",
   "metadata": {},
   "source": [
    "### Transformation to Datetime"
   ]
  },
  {
   "cell_type": "code",
   "execution_count": 7,
   "metadata": {},
   "outputs": [],
   "source": [
    "# Transformation to Datetime\n",
    "list=[df,df_new,df_new_1,df_new_2,df_new_3]\n",
    "\n",
    "for i in list:\n",
    "  i['Datum'] = pd.to_datetime(i['Datum'])\n"
   ]
  },
  {
   "cell_type": "markdown",
   "metadata": {},
   "source": [
    "### Additional Date columns"
   ]
  },
  {
   "cell_type": "code",
   "execution_count": 8,
   "metadata": {},
   "outputs": [],
   "source": [
    "for i in list:\n",
    "   i['Wochentag']=i['Datum'].dt.weekday\n",
    "   i['Jahr']=i['Datum'].dt.year\n",
    "   i['Monat']=i['Datum'].dt.month\n",
    "   i['Wochenende']=i['Wochentag'].apply(lambda x: 'Wochentag' if x in (0,1,2,3,4) else 'Wochenende')\n",
    "    "
   ]
  },
  {
   "cell_type": "markdown",
   "metadata": {},
   "source": [
    "### Adding a Gesamt Column"
   ]
  },
  {
   "cell_type": "code",
   "execution_count": 9,
   "metadata": {},
   "outputs": [],
   "source": [
    "#Adding a Gesamt column to all the new dataframes which contains the total sales\n",
    "list=[df_new,df_new_1,df_new_2,df_new_3]\n",
    "\n",
    "for i in list:\n",
    "    i['Gesamt']=i['Vollkornbrot']+i['Mischbrot']+i['Stangenbrote']+i['Weizenbrot']+i['Spezialbrot']+i['Brötchen']\n",
    "    +i['Süsse_Brötchen']+i['Herzhafte_Brötchen']+i['KonditoreiBlech1']+i['KonditoreiBlech2']+i['Blechkuchen']\n",
    "    +i['Weihnachtsartikel']+i['Stückgebäck']"
   ]
  },
  {
   "cell_type": "code",
   "execution_count": 10,
   "metadata": {},
   "outputs": [],
   "source": [
    "df_new_index = df_new.set_index('Datum')\n"
   ]
  },
  {
   "cell_type": "markdown",
   "metadata": {},
   "source": [
    "### Definition of KonditoreiBlech as Sum"
   ]
  },
  {
   "cell_type": "code",
   "execution_count": 11,
   "metadata": {},
   "outputs": [],
   "source": [
    "#KonditoreiBlech1 is only sold until 2019, so I build the sum of both caketypes\n",
    "for i in list:\n",
    "  i['KonditoreiBlech1']=i['KonditoreiBlech1']+i['KonditoreiBlech2']\n",
    "  i.rename(columns={'KonditoreiBlech1':'KonditoreiBlech'}, inplace=True)\n",
    "  i.drop('KonditoreiBlech2',axis='columns', inplace=True)"
   ]
  },
  {
   "cell_type": "markdown",
   "metadata": {},
   "source": [
    "# Boxplots"
   ]
  },
  {
   "cell_type": "markdown",
   "metadata": {},
   "source": [
    "## Filiale 1"
   ]
  },
  {
   "cell_type": "markdown",
   "metadata": {},
   "source": [
    "### Brötchen"
   ]
  },
  {
   "cell_type": "code",
   "execution_count": 13,
   "metadata": {
    "scrolled": false
   },
   "outputs": [
    {
     "data": {
      "text/plain": [
       "Text(0.5, 1.0, 'Sales per Weekday and articlegroup Brötchen')"
      ]
     },
     "execution_count": 13,
     "metadata": {},
     "output_type": "execute_result"
    },
    {
     "data": {
      "text/plain": [
       "<Figure size 1440x216 with 0 Axes>"
      ]
     },
     "metadata": {},
     "output_type": "display_data"
    },
    {
     "data": {
      "image/png": "[encoded data removed]",
      "text/plain": [
       "<Figure size 432x288 with 3 Axes>"
      ]
     },
     "metadata": {
      "needs_background": "light"
     },
     "output_type": "display_data"
    }
   ],
   "source": [
    "#plot boxplots for Brötchen in first store\n",
    "plt.figure(figsize=(20,3))\n",
    "\n",
    "fig, (ax1, ax2,ax3) = plt.subplots(1, 3)\n",
    "\n",
    "sns.boxplot(data=df_new_1,x='Jahr',y='Brötchen',ax=ax1).set_title(f'Sales per Year and articlegroup Brötchen')\n",
    "sns.boxplot(data=df_new_1,x='Monat',y='Brötchen',ax=ax2).set_title(f'Sales per Month and articlegroup Brötchen')                  \n",
    "sns.boxplot(data=df_new_1,x='Wochentag',y='Brötchen',ax=ax3).set_title(f'Sales per Weekday and articlegroup Brötchen')\n"
   ]
  },
  {
   "cell_type": "markdown",
   "metadata": {},
   "source": [
    "### Süße Brötchen"
   ]
  },
  {
   "cell_type": "code",
   "execution_count": null,
   "metadata": {},
   "outputs": [],
   "source": [
    "#plot boxplots for each article in first store\n",
    "plt.figure(figsize=(10,3))\n",
    "fig, (ax1, ax2,ax3) = plt.subplots(1, 3)\n",
    "\n",
    "sns.boxplot(data=df_new_3,x='Jahr',y='Süsse_Brötchen',ax=ax1).set_title(f'Sales per Year and articlegroup Süße Brötchen')\n",
    "sns.boxplot(data=df_new_1,x='Monat',y='Süsse_Brötchen',ax=ax2).set_title(f'Sales per Month and articlegroup Süße Brötchen')\n",
    "sns.boxplot(data=df_new_1,x='Wochentag',y='Süsse_Brötchen',ax=ax3).set_title(f'Sales per Weekday and articlegroup Süße Brötchen')                                                                "
   ]
  },
  {
   "cell_type": "markdown",
   "metadata": {},
   "source": [
    "### Herzhafte Brötchen"
   ]
  },
  {
   "cell_type": "code",
   "execution_count": null,
   "metadata": {},
   "outputs": [],
   "source": [
    "#plot boxplots for Herzhafte Brötchen in first store\n",
    "plt.figure(figsize=(10,3))\n",
    "fig, (ax1, ax2,ax3) = plt.subplots(1, 3)\n",
    "\n",
    "sns.boxplot(data=df_new_1,x='Jahr',y='Herzhafte_Brötchen',ax=ax1).set_title(f'Sales per Year and articlegroup Herzhafte Brötchen')\n",
    "sns.boxplot(data=df_new_1,x='Monat',y='Herzhafte_Brötchen',ax=ax2).set_title(f'Sales per Month and articlegroup Herzhafte Brötchen')\n",
    "sns.boxplot(data=df_new_1,x='Wochentag',y='Herzhafte_Brötchen',ax=ax3).set_title(f'Sales per Weekday and articlegroup Herzhafte Brötchen')"
   ]
  },
  {
   "cell_type": "markdown",
   "metadata": {},
   "source": [
    "### Blechkuchen"
   ]
  },
  {
   "cell_type": "code",
   "execution_count": null,
   "metadata": {},
   "outputs": [],
   "source": [
    "#plot boxplots for Blechkuchen in first store\n",
    "plt.figure(figsize=(10,3))\n",
    "fig, (ax1, ax2,ax3) = plt.subplots(1, 3)\n",
    "name='Blechkuchen'\n",
    "sns.boxplot(data=df_new_1,x='Jahr',y=name,ax=ax1).set_title(f'Sales per Year and articlegroup {name}')\n",
    "sns.boxplot(data=df_new_1,x='Monat',y=name,ax=ax2).set_title(f'Sales per Month and articlegroup {name}')\n",
    "sns.boxplot(data=df_new_1,x='Wochentag',y=name,ax=ax3).set_title(f'Sales per Weekday and articlegroup {name}')"
   ]
  },
  {
   "cell_type": "markdown",
   "metadata": {},
   "source": [
    "### KonditoreiBlech"
   ]
  },
  {
   "cell_type": "code",
   "execution_count": null,
   "metadata": {},
   "outputs": [],
   "source": [
    "#plot boxplots for KonditoreiBlech in first store\n",
    "plt.figure(figsize=(10,3))\n",
    "fig, (ax1, ax2,ax3) = plt.subplots(1, 3)\n",
    "\n",
    "name='KonditoreiBlech'\n",
    "sns.boxplot(data=df_new_1,x='Jahr',y=name,ax=ax1).set_title(f'Sales per Year and articlegroup {name}')\n",
    "sns.boxplot(data=df_new_1,x='Monat',y=name,ax=ax2).set_title(f'Sales per Month and articlegroup {name}')\n",
    "sns.boxplot(data=df_new_1,x='Wochentag',y=name,ax=ax3).set_title(f'Sales per Weekday and articlegroup {name}')"
   ]
  },
  {
   "cell_type": "markdown",
   "metadata": {},
   "source": [
    "### Stückgebäck"
   ]
  },
  {
   "cell_type": "code",
   "execution_count": null,
   "metadata": {},
   "outputs": [],
   "source": [
    "#plot boxplots for Stückgebäck in first store\n",
    "plt.figure(figsize=(10,3))\n",
    "fig, (ax1, ax2,ax3) = plt.subplots(1, 3)\n",
    "name='Stückgebäck'\n",
    "sns.boxplot(data=df_new_1,x='Jahr',y=name,ax=ax1).set_title(f'Sales per Year and articlegroup {name}')\n",
    "sns.boxplot(data=df_new_1,x='Monat',y=name,ax=ax2).set_title(f'Sales per Month and articlegroup {name}')\n",
    "sns.boxplot(data=df_new_1,x='Wochentag',y=name,ax=ax3).set_title(f'Sales per Weekday and articlegroup {name}')"
   ]
  },
  {
   "cell_type": "markdown",
   "metadata": {},
   "source": [
    "### Stangenbrote"
   ]
  },
  {
   "cell_type": "code",
   "execution_count": null,
   "metadata": {},
   "outputs": [],
   "source": [
    "#plot boxplots for Stangenbrote in first store\n",
    "plt.figure(figsize=(10,3))\n",
    "fig, (ax1, ax2,ax3) = plt.subplots(1, 3)\n",
    "name='Stangenbrote'\n",
    "\n",
    "sns.boxplot(data=df_new_1,x='Jahr',y=name,ax=ax1).set_title(f'Sales per Year and articlegroup {name}')\n",
    "sns.boxplot(data=df_new_1,x='Monat',y=name,ax=ax2).set_title(f'Sales per Month and articlegroup {name}')                  \n",
    "sns.boxplot(data=df_new_1,x='Wochentag',y=name,ax=ax3).set_title(f'Sales per Weekday and articlegroup {name}')"
   ]
  },
  {
   "cell_type": "markdown",
   "metadata": {},
   "source": [
    "### Weizenbrot"
   ]
  },
  {
   "cell_type": "code",
   "execution_count": null,
   "metadata": {},
   "outputs": [],
   "source": [
    "#plot boxplots for Weizenbrot in first store\n",
    "plt.figure(figsize=(10,3))\n",
    "fig, (ax1, ax2,ax3) = plt.subplots(1, 3)\n",
    "name='Weizenbrot'\n",
    "sns.boxplot(data=df_new_1,x='Jahr',y=name,ax=ax1).set_title(f'Sales per Year and articlegroup {name}')\n",
    "sns.boxplot(data=df_new_1,x='Monat',y=name,ax=ax2).set_title(f'Sales per Month and articlegroup {name}')\n",
    "sns.boxplot(data=df_new_1,x='Wochentag',y=name,ax=ax3).set_title(f'Sales per Weekday and articlegroup {name}')"
   ]
  },
  {
   "cell_type": "markdown",
   "metadata": {},
   "source": [
    "### Mischbrot"
   ]
  },
  {
   "cell_type": "code",
   "execution_count": null,
   "metadata": {},
   "outputs": [],
   "source": [
    "#plot boxplots for Mischbrot in first store\n",
    "plt.figure(figsize=(10,3))\n",
    "fig, (ax1, ax2,ax3) = plt.subplots(1, 3)\n",
    "name='Mischbrot'\n",
    "sns.boxplot(data=df_new_1,x='Jahr',y=name,ax=ax1).set_title(f'Sales per Year and articlegroup {name}')\n",
    "sns.boxplot(data=df_new_1,x='Monat',y=name,ax=ax2).set_title(f'Sales per Month and articlegroup {name}')                  \n",
    "sns.boxplot(data=df_new_1,x='Wochentag',y=name,ax=ax3).set_title(f'Sales per Weekday and articlegroup {name}')"
   ]
  },
  {
   "cell_type": "markdown",
   "metadata": {},
   "source": [
    "### Vollkornbrot"
   ]
  },
  {
   "cell_type": "code",
   "execution_count": null,
   "metadata": {},
   "outputs": [],
   "source": [
    "#plot boxplots for Volkornbrot in first store\n",
    "plt.figure(figsize=(10,3))\n",
    "fig, (ax1, ax2,ax3) = plt.subplots(1, 3)\n",
    "name='Vollkornbrot'\n",
    "sns.boxplot(data=df_new_1,x='Jahr',y=name,ax=ax1).set_title(f'Sales per Year and articlegroup {name}')\n",
    "sns.boxplot(data=df_new_1,x='Monat',y=name,ax=ax2).set_title(f'Sales per Month and articlegroup {name}')\n",
    "sns.boxplot(data=df_new_1,x='Wochentag',y=name,ax=ax3).set_title(f'Sales per Weekday and articlegroup {name}')"
   ]
  },
  {
   "cell_type": "markdown",
   "metadata": {},
   "source": [
    "### Spezialbrot"
   ]
  },
  {
   "cell_type": "code",
   "execution_count": null,
   "metadata": {},
   "outputs": [],
   "source": [
    "#plot boxplots for Spezialbrot in first store\n",
    "plt.figure(figsize=(10,3))\n",
    "fig, (ax1, ax2,ax3) = plt.subplots(1, 3)\n",
    "name='Spezialbrot'\n",
    "sns.boxplot(data=df_new_1,x='Monat',y=name,ax=ax1).set_title(f'Sales per Year and articlegroup {name}')\n",
    "sns.boxplot(data=df_new_1,x='Monat',y=name,ax=ax2).set_title(f'Sales per Month and articlegroup {name}')\n",
    "sns.boxplot(data=df_new_1,x='Wochentag',y=name,ax=ax3).set_title(f'Sales per Weekday and articlegroup {name}')"
   ]
  },
  {
   "cell_type": "markdown",
   "metadata": {},
   "source": [
    "### Weihnachtsartikel"
   ]
  },
  {
   "cell_type": "markdown",
   "metadata": {},
   "source": [
    "## Filiale 2"
   ]
  },
  {
   "cell_type": "markdown",
   "metadata": {},
   "source": [
    "### Brötchen"
   ]
  },
  {
   "cell_type": "code",
   "execution_count": null,
   "metadata": {},
   "outputs": [],
   "source": [
    "#plot boxplots for Brötchen in second store\n",
    "plt.figure(figsize=(10,3))\n",
    "fig, (ax1, ax2,ax3) = plt.subplots(1, 3)\n",
    "\n",
    "sns.boxplot(data=df_new_2,x='Jahr',y='Brötchen',ax=ax1).set_title(f'Sales per Jahr and articlegroup Brötchen')\n",
    "sns.boxplot(data=df_new_2,x='Monat',y='Brötchen',ax=ax2).set_title(f'Sales per Month and articlegroup Brötchen')\n",
    "sns.boxplot(data=df_new_2,x='Wochentag',y='Brötchen',ax=ax3).set_title(f'Sales per Weekday and articlegroup Brötchen')                                                                    "
   ]
  },
  {
   "cell_type": "markdown",
   "metadata": {},
   "source": [
    "### Süße Brötchen"
   ]
  },
  {
   "cell_type": "code",
   "execution_count": null,
   "metadata": {},
   "outputs": [],
   "source": [
    "#plot boxplots for each article in second store\n",
    "plt.figure(figsize=(10,3))\n",
    "fig, (ax1, ax2,ax3) = plt.subplots(1, 3)\n",
    "\n",
    "sns.boxplot(data=df_new_2,x='Jahr',y='Süsse_Brötchen',ax=ax1).set_title(f'Sales per Jahr and articlegroup Süße Brötchen')\n",
    "sns.boxplot(data=df_new_2,x='Monat',y='Süsse_Brötchen',ax=ax2).set_title(f'Sales per Month and articlegroup Süße Brötchen')\n",
    "sns.boxplot(data=df_new_2,x='Wochentag',y='Süsse_Brötchen',ax=ax3).set_title(f'Sales per Weekday and articlegroup Süße Brötchen')                                                                "
   ]
  },
  {
   "cell_type": "markdown",
   "metadata": {},
   "source": [
    "### Herzhafte Brötchen"
   ]
  },
  {
   "cell_type": "code",
   "execution_count": null,
   "metadata": {},
   "outputs": [],
   "source": [
    "#plot boxplots for Herzhafte Brötchen in second store\n",
    "plt.figure(figsize=(10,3))\n",
    "fig, (ax1, ax2,ax3) = plt.subplots(1, 3)\n",
    "\n",
    "sns.boxplot(data=df_new_2,x='Jahr',y='Herzhafte_Brötchen',ax=ax1).set_title(f'Sales per Year and articlegroup Herzhafte Brötchen')\n",
    "sns.boxplot(data=df_new_2,x='Monat',y='Herzhafte_Brötchen',ax=ax2).set_title(f'Sales per Month and articlegroup Herzhafte Brötchen')\n",
    "sns.boxplot(data=df_new_2,x='Wochentag',y='Herzhafte_Brötchen',ax=ax3).set_title(f'Sales per Weekday and articlegroup Herzhafte Brötchen')"
   ]
  },
  {
   "cell_type": "markdown",
   "metadata": {},
   "source": [
    "### Blechkuchen"
   ]
  },
  {
   "cell_type": "code",
   "execution_count": null,
   "metadata": {},
   "outputs": [],
   "source": [
    "#plot boxplots for Blechkuchen in second store\n",
    "plt.figure(figsize=(10,3))\n",
    "fig, (ax1, ax2,ax3) = plt.subplots(1, 3)\n",
    "name='Blechkuchen'\n",
    "sns.boxplot(data=df_new_2,x='Jahr',y=name,ax=ax1).set_title(f'Sales per Year and articlegroup {name}')\n",
    "sns.boxplot(data=df_new_2,x='Monat',y=name,ax=ax2).set_title(f'Sales per Month and articlegroup {name}')\n",
    "sns.boxplot(data=df_new_2,x='Wochentag',y=name,ax=ax3).set_title(f'Sales per Weekday and articlegroup {name}')"
   ]
  },
  {
   "cell_type": "markdown",
   "metadata": {},
   "source": [
    "### KonditoreiBlech"
   ]
  },
  {
   "cell_type": "code",
   "execution_count": null,
   "metadata": {},
   "outputs": [],
   "source": [
    "#plot boxplots for KonditoreiBlech in second store\n",
    "plt.figure(figsize=(10,3))\n",
    "fig, (ax1, ax2,ax3) = plt.subplots(1, 3)\n",
    "name='KonditoreiBlech'\n",
    "sns.boxplot(data=df_new_2,x='Jahr',y=name,ax=ax1).set_title(f'Sales per Month and articlegroup {name}')\n",
    "sns.boxplot(data=df_new_2,x='Monat',y=name,ax=ax2).set_title(f'Sales per Month and articlegroup {name}')\n",
    "sns.boxplot(data=df_new_2,x='Wochentag',y=name,ax=ax3).set_title(f'Sales per Weekday and articlegroup {name}')"
   ]
  },
  {
   "cell_type": "markdown",
   "metadata": {},
   "source": [
    "### Stückgebäck"
   ]
  },
  {
   "cell_type": "code",
   "execution_count": null,
   "metadata": {},
   "outputs": [],
   "source": [
    "#plot boxplots for Stückgebäck in second store\n",
    "plt.figure(figsize=(10,3))\n",
    "fig, (ax1, ax2,ax3) = plt.subplots(1, 3)\n",
    "name='Stückgebäck'\n",
    "sns.boxplot(data=df_new_2,x='Jahr',y=name,ax=ax1).set_title(f'Sales per Year and articlegroup {name}')\n",
    "sns.boxplot(data=df_new_2,x='Monat',y=name,ax=ax2).set_title(f'Sales per Month and articlegroup {name}')\n",
    "sns.boxplot(data=df_new_2,x='Wochentag',y=name,ax=ax3).set_title(f'Sales per Weekday and articlegroup {name}')"
   ]
  },
  {
   "cell_type": "markdown",
   "metadata": {},
   "source": [
    "### Stangenbrote"
   ]
  },
  {
   "cell_type": "code",
   "execution_count": null,
   "metadata": {},
   "outputs": [],
   "source": [
    "#plot boxplots for Stangenbrote in second store\n",
    "plt.figure(figsize=(10,3))\n",
    "fig, (ax1, ax2,ax3) = plt.subplots(1, 3)\n",
    "name='Stangenbrote'\n",
    "sns.boxplot(data=df_new_2,x='Jahr',y=name,ax=ax1).set_title(f'Sales per Year and articlegroup {name}')\n",
    "sns.boxplot(data=df_new_2,x='Monat',y=name,ax=ax2).set_title(f'Sales per Month and articlegroup {name}')                  \n",
    "sns.boxplot(data=df_new_2,x='Wochentag',y=name,ax=ax3).set_title(f'Sales per Weekday and articlegroup {name}')"
   ]
  },
  {
   "cell_type": "markdown",
   "metadata": {},
   "source": [
    "### Weizenbrot"
   ]
  },
  {
   "cell_type": "code",
   "execution_count": null,
   "metadata": {},
   "outputs": [],
   "source": [
    "#plot boxplots for Weizenbrot in second store\n",
    "plt.figure(figsize=(10,3))\n",
    "fig, (ax1, ax2,ax3) = plt.subplots(1, 3)\n",
    "name='Weizenbrot'\n",
    "sns.boxplot(data=df_new_2,x='Jahr',y=name,ax=ax1).set_title(f'Sales per Year and articlegroup {name}')\n",
    "sns.boxplot(data=df_new_2,x='Monat',y=name,ax=ax2).set_title(f'Sales per Month and articlegroup {name}')                  \n",
    "sns.boxplot(data=df_new_2,x='Wochentag',y=name,ax=ax3).set_title(f'Sales per Weekday and articlegroup {name}')"
   ]
  },
  {
   "cell_type": "markdown",
   "metadata": {},
   "source": [
    "### Mischbrot"
   ]
  },
  {
   "cell_type": "code",
   "execution_count": null,
   "metadata": {},
   "outputs": [],
   "source": [
    "#plot boxplots for Mischbrot in second store\n",
    "plt.figure(figsize=(10,3))\n",
    "fig, (ax1, ax2,ax3) = plt.subplots(1, 3)\n",
    "name='Mischbrot'\n",
    "sns.boxplot(data=df_new_2,x='Jahr',y=name,ax=ax1).set_title(f'Sales per Year and articlegroup {name}')\n",
    "sns.boxplot(data=df_new_2,x='Monat',y=name,ax=ax2).set_title(f'Sales per Month and articlegroup {name}')\n",
    "sns.boxplot(data=df_new_2,x='Wochentag',y=name,ax=ax3).set_title(f'Sales per Weekday and articlegroup {name}')"
   ]
  },
  {
   "cell_type": "markdown",
   "metadata": {},
   "source": [
    "### Vollkornbrot"
   ]
  },
  {
   "cell_type": "code",
   "execution_count": null,
   "metadata": {},
   "outputs": [],
   "source": [
    "#plot boxplots for Volkornbrot in second store\n",
    "plt.figure(figsize=(10,3))\n",
    "fig, (ax1, ax2,ax3) = plt.subplots(1, 3)\n",
    "name='Vollkornbrot'\n",
    "sns.boxplot(data=df_new_2,x='Jahr',y=name,ax=ax1).set_title(f'Sales per Year and articlegroup {name}')\n",
    "sns.boxplot(data=df_new_2,x='Monat',y=name,ax=ax2).set_title(f'Sales per Month and articlegroup {name}')\n",
    "sns.boxplot(data=df_new_2,x='Wochentag',y=name,ax=ax3).set_title(f'Sales per Weekday and articlegroup {name}')"
   ]
  },
  {
   "cell_type": "markdown",
   "metadata": {},
   "source": [
    "### Spezialbrot"
   ]
  },
  {
   "cell_type": "code",
   "execution_count": null,
   "metadata": {},
   "outputs": [],
   "source": [
    "#plot boxplots for Spezialbrot in second store\n",
    "plt.figure(figsize=(10,3))\n",
    "fig, (ax1, ax2,ax3) = plt.subplots(1, 3)\n",
    "name='Spezialbrot'\n",
    "sns.boxplot(data=df_new_2,x='Jahr',y=name,ax=ax1).set_title(f'Sales per Year and articlegroup {name}')\n",
    "sns.boxplot(data=df_new_2,x='Monat',y=name,ax=ax2).set_title(f'Sales per Month and articlegroup {name}')\n",
    "sns.boxplot(data=df_new_2,x='Wochentag',y=name,ax=ax3).set_title(f'Sales per Weekday and articlegroup {name}')"
   ]
  },
  {
   "cell_type": "markdown",
   "metadata": {},
   "source": [
    "### Weihnachtsartikel"
   ]
  },
  {
   "cell_type": "markdown",
   "metadata": {},
   "source": [
    "## Filiale 3"
   ]
  },
  {
   "cell_type": "markdown",
   "metadata": {},
   "source": [
    "### Brötchen"
   ]
  },
  {
   "cell_type": "code",
   "execution_count": null,
   "metadata": {},
   "outputs": [],
   "source": [
    "#plot boxplots for Brötchen in third store\n",
    "plt.figure(figsize=(10,3))\n",
    "fig, (ax1, ax2, ax3) = plt.subplots(1, 3)\n",
    "\n",
    "sns.boxplot(data=df_new_3,x='Jahr',y='Brötchen',ax=ax1).set_title(f'Sales per Year and articlegroup Brötchen')\n",
    "sns.boxplot(data=df_new_3,x='Monat',y='Brötchen',ax=ax2).set_title(f'Sales per Month and articlegroup Brötchen')\n",
    "sns.boxplot(data=df_new_3,x='Wochentag',y='Brötchen',ax=ax3).set_title(f'Sales per Weekday and articlegroup Brötchen')                                                                    "
   ]
  },
  {
   "cell_type": "markdown",
   "metadata": {},
   "source": [
    "### Süße Brötchen"
   ]
  },
  {
   "cell_type": "code",
   "execution_count": null,
   "metadata": {},
   "outputs": [],
   "source": [
    "#plot boxplots for each article in third store\n",
    "plt.figure(figsize=(10,3))\n",
    "fig, (ax1, ax2,ax3) = plt.subplots(1, 3)\n",
    "\n",
    "sns.boxplot(data=df_new_3,x='Jahr',y='Süsse_Brötchen',ax=ax1).set_title(f'Sales per Year and articlegroup Süße Brötchen')\n",
    "\n",
    "sns.boxplot(data=df_new_3,x='Monat',y='Süsse_Brötchen',ax=ax2).set_title(f'Sales per Month and articlegroup Süße Brötchen')\n",
    "                  \n",
    "sns.boxplot(data=df_new_3,x='Wochentag',y='Süsse_Brötchen',ax=ax3).set_title(f'Sales per Weekday and articlegroup Süße Brötchen')                                                                "
   ]
  },
  {
   "cell_type": "markdown",
   "metadata": {
    "heading_collapsed": true
   },
   "source": [
    "### Herzhafte Brötchen"
   ]
  },
  {
   "cell_type": "code",
   "execution_count": null,
   "metadata": {
    "hidden": true
   },
   "outputs": [],
   "source": [
    "#plot boxplots for Herzhafte Brötchen in third store\n",
    "plt.figure(figsize=(10,3))\n",
    "fig, (ax1, ax2) = plt.subplots(1, 2)\n",
    "\n",
    "\n",
    "sns.boxplot(data=df_new_3,x='Monat',y='Herzhafte_Brötchen',ax=ax1).set_title(f'Sales per Month and articlegroup Herzhafte Brötchen')\n",
    "                  \n",
    "sns.boxplot(data=df_new_3,x='Wochentag',y='Herzhafte_Brötchen',ax=ax2).set_title(f'Sales per Weekday and articlegroup Herzhafte Brötchen')"
   ]
  },
  {
   "cell_type": "markdown",
   "metadata": {},
   "source": [
    "### Blechkuchen"
   ]
  },
  {
   "cell_type": "code",
   "execution_count": null,
   "metadata": {},
   "outputs": [],
   "source": [
    "#plot boxplots for Blechkuchen in third store\n",
    "plt.figure(figsize=(10,3))\n",
    "fig, (ax1, ax2,ax3) = plt.subplots(1, 3)\n",
    "name='Blechkuchen'\n",
    "sns.boxplot(data=df_basismodel2_3,x='Jahr',y='Brötchen',ax=ax1).set_title(f'Sales per Year and articlegroup {name}')\n",
    "sns.boxplot(data=df_basismodel2_3,x='Monat',y=name,ax=ax2).set_title(f'Sales per Month and articlegroup {name}')\n",
    "sns.boxplot(data=df_basismodel2_3,x='Wochentag',y=name,ax=ax3).set_title(f'Sales per Weekday and articlegroup {name}')"
   ]
  },
  {
   "cell_type": "markdown",
   "metadata": {},
   "source": [
    "### KonditoreiBlech"
   ]
  },
  {
   "cell_type": "code",
   "execution_count": null,
   "metadata": {},
   "outputs": [],
   "source": [
    "#plot boxplots for KonditoreiBlech in third store\n",
    "plt.figure(figsize=(10,3))\n",
    "fig, (ax1, ax2,ax3) = plt.subplots(1, 3)\n",
    "name='KonditoreiBlech'\n",
    "sns.boxplot(data=df_basismodel2_3,x='Jahr',y='Brötchen',ax=ax1).set_title(f'Sales per Year and articlegroup {name}')\n",
    "sns.boxplot(data=df_basismodel2_3,x='Monat',y=name,ax=ax2).set_title(f'Sales per Month and articlegroup {name}')\n",
    "sns.boxplot(data=df_basismodel2_3,x='Wochentag',y=name,ax=ax3).set_title(f'Sales per Weekday and articlegroup {name}')"
   ]
  },
  {
   "cell_type": "markdown",
   "metadata": {},
   "source": [
    "### Stückgebäck"
   ]
  },
  {
   "cell_type": "code",
   "execution_count": null,
   "metadata": {},
   "outputs": [],
   "source": [
    "#plot boxplots for Stückgebäck in third store\n",
    "plt.figure(figsize=(10,3))\n",
    "fig, (ax1, ax2,ax3) = plt.subplots(1, 3)\n",
    "name='Stückgebäck'\n",
    "\n",
    "sns.boxplot(data=df_basismodel2_3,x='Jahr',y='Brötchen',ax=ax1).set_title(f'Sales per Year and articlegroup {name}')\n",
    "sns.boxplot(data=df_basismodel2_3,x='Monat',y=name,ax=ax2).set_title(f'Sales per Month and articlegroup {name}')\n",
    "sns.boxplot(data=df_basismodel2_3,x='Wochentag',y=name,ax=ax3).set_title(f'Sales per Weekday and articlegroup {name}')"
   ]
  },
  {
   "cell_type": "markdown",
   "metadata": {},
   "source": [
    "### Stangenbrote"
   ]
  },
  {
   "cell_type": "code",
   "execution_count": null,
   "metadata": {},
   "outputs": [],
   "source": [
    "#plot boxplots for Stangenbrote in third store\n",
    "plt.figure(figsize=(10,3))\n",
    "fig, (ax1, ax2,ax3) = plt.subplots(1, 3)\n",
    "name='Stangenbrote'\n",
    "sns.boxplot(data=df_basismodel2_3,x='Jahr',y='Brötchen',ax=ax1).set_title(f'Sales per Year and articlegroup {name}')\n",
    "sns.boxplot(data=df_basismodel2_3,x='Monat',y=name,ax=ax2).set_title(f'Sales per Month and articlegroup {name}')\n",
    "sns.boxplot(data=df_basismodel2_3,x='Wochentag',y=name,ax=ax3).set_title(f'Sales per Weekday and articlegroup {name}')"
   ]
  },
  {
   "cell_type": "markdown",
   "metadata": {},
   "source": [
    "### Weizenbrot"
   ]
  },
  {
   "cell_type": "code",
   "execution_count": null,
   "metadata": {},
   "outputs": [],
   "source": [
    "#plot boxplots for Weizenbrot in third store\n",
    "plt.figure(figsize=(10,3))\n",
    "fig, (ax1, ax2,ax3) = plt.subplots(1, 3)\n",
    "name='Weizenbrot'\n",
    "sns.boxplot(data=df_basismodel2_3,x='Jahr',y='Brötchen',ax=ax1).set_title(f'Sales per Year and articlegroup {name}')\n",
    "sns.boxplot(data=df_basismodel2_3,x='Monat',y=name,ax=ax2).set_title(f'Sales per Month and articlegroup {name}')\n",
    "sns.boxplot(data=df_basismodel2_3,x='Wochentag',y=name,ax=ax3).set_title(f'Sales per Weekday and articlegroup {name}')"
   ]
  },
  {
   "cell_type": "markdown",
   "metadata": {},
   "source": [
    "### Mischbrot"
   ]
  },
  {
   "cell_type": "code",
   "execution_count": null,
   "metadata": {},
   "outputs": [],
   "source": [
    "#plot boxplots for Mischbrot in third store\n",
    "plt.figure(figsize=(10,3))\n",
    "fig, (ax1, ax2,ax3) = plt.subplots(1, 3)\n",
    "name='Mischbrot'\n",
    "sns.boxplot(data=df_new_3,x='Jahr',y='Brötchen',ax=ax1).set_title(f'Sales per Year and articlegroup {name}')\n",
    "sns.boxplot(data=df_new_3,x='Monat',y=name,ax=ax2).set_title(f'Sales per Month and articlegroup {name}')\n",
    "sns.boxplot(data=df_new_3,x='Wochentag',y=name,ax=ax3).set_title(f'Sales per Weekday and articlegroup {name}')"
   ]
  },
  {
   "cell_type": "markdown",
   "metadata": {},
   "source": [
    "### Vollkornbrot"
   ]
  },
  {
   "cell_type": "code",
   "execution_count": null,
   "metadata": {},
   "outputs": [],
   "source": [
    "#plot boxplots for Volkornbrot in third store\n",
    "plt.figure(figsize=(10,3))\n",
    "fig, (ax1, ax2,ax3) = plt.subplots(1, 3)\n",
    "name='Vollkornbrot'\n",
    "sns.boxplot(data=df_new_3,x='Jahr',y='Brötchen',ax=ax1).set_title(f'Sales per Year and articlegroup {name}')\n",
    "sns.boxplot(data=df_new_3,x='Monat',y=name,ax=ax2).set_title(f'Sales per Month and articlegroup {name}')\n",
    "sns.boxplot(data=df_new_3,x='Wochentag',y=name,ax=ax3).set_title(f'Sales per Weekday and articlegroup {name}')"
   ]
  },
  {
   "cell_type": "markdown",
   "metadata": {},
   "source": [
    "### Spezialbrot"
   ]
  },
  {
   "cell_type": "code",
   "execution_count": null,
   "metadata": {},
   "outputs": [],
   "source": [
    "#plot boxplots for Spezialbrot in third store\n",
    "plt.figure(figsize=(10,3))\n",
    "fig, (ax1, ax2,ax3) = plt.subplots(1, 3)\n",
    "name='Spezialbrot'\n",
    "sns.boxplot(data=df_new_3,x='Jahr',y='Brötchen',ax=ax1).set_title(f'Sales per Year and articlegroup {name}')\n",
    "sns.boxplot(data=df_new_3,x='Monat',y=name,ax=ax2).set_title(f'Sales per Month and articlegroup {name}')\n",
    "sns.boxplot(data=df_new_3,x='Wochentag',y=name,ax=ax3).set_title(f'Sales per Weekday and articlegroup {name}')\n",
    "\n",
    "### Weihnachtsartikel"
   ]
  },
  {
   "cell_type": "markdown",
   "metadata": {},
   "source": [
    "# Histogramms"
   ]
  },
  {
   "cell_type": "markdown",
   "metadata": {},
   "source": [
    "## Filiale 1"
   ]
  },
  {
   "cell_type": "code",
   "execution_count": null,
   "metadata": {},
   "outputs": [],
   "source": [
    "df_model_1=df_new_1.iloc[:,1:12]"
   ]
  },
  {
   "cell_type": "code",
   "execution_count": null,
   "metadata": {},
   "outputs": [],
   "source": [
    "_ = df_model_1.hist(figsize=(12,12))\n"
   ]
  },
  {
   "cell_type": "markdown",
   "metadata": {},
   "source": [
    "## Filiale 2"
   ]
  },
  {
   "cell_type": "code",
   "execution_count": null,
   "metadata": {},
   "outputs": [],
   "source": [
    "df_model_2=df_new_2.iloc[:,1:12]"
   ]
  },
  {
   "cell_type": "code",
   "execution_count": null,
   "metadata": {},
   "outputs": [],
   "source": [
    "_ = df_model_2.hist(figsize=(12,12))"
   ]
  },
  {
   "cell_type": "markdown",
   "metadata": {},
   "source": [
    "## Filiale 3"
   ]
  },
  {
   "cell_type": "code",
   "execution_count": null,
   "metadata": {},
   "outputs": [],
   "source": [
    "df_model_3=df_new_3.iloc[:,1:12]"
   ]
  },
  {
   "cell_type": "code",
   "execution_count": null,
   "metadata": {},
   "outputs": [],
   "source": [
    "_ = df_model_3.hist(figsize=(12,12))"
   ]
  },
  {
   "cell_type": "code",
   "execution_count": null,
   "metadata": {},
   "outputs": [],
   "source": []
  }
 ],
 "metadata": {
  "kernelspec": {
   "display_name": "Python [conda env:nf] *",
   "language": "python",
   "name": "conda-env-nf-py"
  },
  "language_info": {
   "codemirror_mode": {
    "name": "ipython",
    "version": 3
   },
   "file_extension": ".py",
   "mimetype": "text/x-python",
   "name": "python",
   "nbconvert_exporter": "python",
   "pygments_lexer": "ipython3",
   "version": "3.6.10"
  },
  "toc": {
   "base_numbering": 1,
   "nav_menu": {},
   "number_sections": true,
   "sideBar": true,
   "skip_h1_title": false,
   "title_cell": "Table of Contents",
   "title_sidebar": "Contents",
   "toc_cell": false,
   "toc_position": {
    "height": "527.778px",
    "left": "137px",
    "top": "110.052px",
    "width": "389.757px"
   },
   "toc_section_display": true,
   "toc_window_display": true
  },
  "varInspector": {
   "cols": {
    "lenName": 16,
    "lenType": 16,
    "lenVar": 40
   },
   "kernels_config": {
    "python": {
     "delete_cmd_postfix": "",
     "delete_cmd_prefix": "del ",
     "library": "var_list.py",
     "varRefreshCmd": "print(var_dic_list())"
    },
    "r": {
     "delete_cmd_postfix": ") ",
     "delete_cmd_prefix": "rm(",
     "library": "var_list.r",
     "varRefreshCmd": "cat(var_dic_list()) "
    }
   },
   "types_to_exclude": [
    "module",
    "function",
    "builtin_function_or_method",
    "instance",
    "_Feature"
   ],
   "window_display": false
  }
 },
 "nbformat": 4,
 "nbformat_minor": 4
}
