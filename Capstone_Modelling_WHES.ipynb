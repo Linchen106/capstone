{
 "cells": [
  {
   "cell_type": "markdown",
   "metadata": {},
   "source": [
    "# Content"
   ]
  },
  {
   "cell_type": "markdown",
   "metadata": {},
   "source": [
    "[1. Setup](#Setup)\n",
    "\n",
    "[2. Data Cleaning and Preparation](#Data-Cleaning-&-Preparation)"
   ]
  },
  {
   "cell_type": "markdown",
   "metadata": {},
   "source": [
    "# Setup & Import¶"
   ]
  },
  {
   "cell_type": "code",
   "execution_count": 1,
   "metadata": {},
   "outputs": [],
   "source": [
    "#import basic system functions\n",
    "import os\n",
    "import datetime\n",
    "from collections import Counter\n",
    "import itertools\n",
    "\n",
    "import random\n",
    "\n",
    "#import libraries for data wrangling\n",
    "import pandas as pd\n",
    "import numpy as np\n",
    "\n",
    "#import libraries for plotting data\n",
    "import matplotlib.pyplot as plt\n",
    "import matplotlib.pyplot as mplt\n",
    "\n",
    "%matplotlib inline\n",
    "import seaborn as sns\n",
    "import plotly.express as px\n",
    "import plotly.graph_objects as go\n",
    "from plotly.subplots import make_subplots\n",
    "from pandas.plotting import autocorrelation_plot, lag_plot\n",
    "from scipy import signal\n",
    "# If you want a style choose one\n",
    "#plt.style.use('Solarize_Light2')\n",
    "#plt.style.use('tableau-colorblind10')\n",
    "NF_ORANGE = '#ff5a36'\n",
    "NF_BLUE = '#163251'\n",
    "\n",
    "\n",
    "\n",
    "#import libraries for time series analysis\n",
    "from fbprophet import Prophet\n",
    "from fbprophet.plot import add_changepoints_to_plot\n",
    "from fbprophet.diagnostics import cross_validation\n",
    "from fbprophet.diagnostics import performance_metrics\n",
    "from fbprophet.plot import plot_cross_validation_metric\n",
    "from scipy.stats import boxcox\n",
    "from scipy.special import inv_boxcox\n",
    "from pylab import rcParams\n",
    "import statsmodels.api as sm\n",
    "from statsmodels.graphics.tsaplots import plot_acf\n",
    "from statsmodels.graphics.tsaplots import plot_pacf\n",
    "from pandas.plotting import autocorrelation_plot\n",
    "from statsmodels.tsa.stattools import adfuller\n",
    "from statsmodels.tsa.stattools import grangercausalitytests\n",
    "from pmdarima.arima import auto_arima\n",
    "from statsmodels.tsa.holtwinters import ExponentialSmoothing\n",
    "from statsmodels.tsa.api import SimpleExpSmoothing\n",
    "from sklearn.model_selection import TimeSeriesSplit\n",
    "\n",
    "#import libraries for statistics\n",
    "import sklearn.metrics as metrics\n",
    "from sklearn.metrics import mean_squared_error\n",
    "from sklearn.metrics import mean_absolute_error\n",
    "from fbprophet.diagnostics import performance_metrics\n",
    "from fbprophet.diagnostics import cross_validation\n",
    "from sklearn.model_selection import cross_val_score\n",
    "from sklearn.model_selection import train_test_split\n",
    "\n",
    "import warnings\n",
    "warnings.filterwarnings('ignore')\n",
    "\n",
    "\n",
    "from IPython.display import Image\n",
    "from datetime import datetime\n",
    "import holidays"
   ]
  },
  {
   "cell_type": "code",
   "execution_count": 6,
   "metadata": {},
   "outputs": [],
   "source": [
    "df_2= pd.read_csv(\"df_new_2.csv\")\n",
    "df_2_clean= pd.read_csv(\"data_2_clean.csv\")"
   ]
  },
  {
   "cell_type": "code",
   "execution_count": 7,
   "metadata": {},
   "outputs": [],
   "source": [
    "df_2.drop(columns=['Unnamed: 0'],inplace=True)\n",
    "df_2_clean.drop(columns=['Unnamed: 0'],inplace=True)"
   ]
  },
  {
   "cell_type": "code",
   "execution_count": 4,
   "metadata": {},
   "outputs": [],
   "source": [
    "#df= pd.read_csv(\"/Users/brittarover/Capstone/Meteolytics/meteolytix_Artikelgruppen_Umsatz_verschiedeneStandorte.csv\")"
   ]
  },
  {
   "cell_type": "code",
   "execution_count": 8,
   "metadata": {},
   "outputs": [],
   "source": [
    "df_basis_2=df_2.iloc[:,1:13]\n",
    "df_basis_2_clean=df_2_clean.iloc[:,1:13]"
   ]
  },
  {
   "cell_type": "code",
   "execution_count": 9,
   "metadata": {},
   "outputs": [],
   "source": [
    "df_2['Datum'] = pd.to_datetime(df_2['Datum'])\n",
    "df_2_clean['Datum'] = pd.to_datetime(df_2_clean['Datum'])"
   ]
  },
  {
   "cell_type": "markdown",
   "metadata": {},
   "source": [
    "## Distribution"
   ]
  },
  {
   "cell_type": "code",
   "execution_count": 145,
   "metadata": {},
   "outputs": [
    {
     "data": {
      "text/html": [
       "<div>\n",
       "<style scoped>\n",
       "    .dataframe tbody tr th:only-of-type {\n",
       "        vertical-align: middle;\n",
       "    }\n",
       "\n",
       "    .dataframe tbody tr th {\n",
       "        vertical-align: top;\n",
       "    }\n",
       "\n",
       "    .dataframe thead th {\n",
       "        text-align: right;\n",
       "    }\n",
       "</style>\n",
       "<table border=\"1\" class=\"dataframe\">\n",
       "  <thead>\n",
       "    <tr style=\"text-align: right;\">\n",
       "      <th></th>\n",
       "      <th>count</th>\n",
       "      <th>mean</th>\n",
       "      <th>std</th>\n",
       "      <th>min</th>\n",
       "      <th>25%</th>\n",
       "      <th>50%</th>\n",
       "      <th>75%</th>\n",
       "      <th>max</th>\n",
       "    </tr>\n",
       "  </thead>\n",
       "  <tbody>\n",
       "    <tr>\n",
       "      <th>Weizenbrot</th>\n",
       "      <td>1979.0</td>\n",
       "      <td>63.447962</td>\n",
       "      <td>29.216742</td>\n",
       "      <td>0.0</td>\n",
       "      <td>60.117258</td>\n",
       "      <td>71.638075</td>\n",
       "      <td>81.295926</td>\n",
       "      <td>120.423144</td>\n",
       "    </tr>\n",
       "    <tr>\n",
       "      <th>Mischbrot</th>\n",
       "      <td>1979.0</td>\n",
       "      <td>71.860719</td>\n",
       "      <td>20.052765</td>\n",
       "      <td>0.0</td>\n",
       "      <td>60.991450</td>\n",
       "      <td>73.463033</td>\n",
       "      <td>84.206328</td>\n",
       "      <td>152.746146</td>\n",
       "    </tr>\n",
       "    <tr>\n",
       "      <th>Vollkornbrot</th>\n",
       "      <td>1979.0</td>\n",
       "      <td>108.283982</td>\n",
       "      <td>26.926271</td>\n",
       "      <td>0.0</td>\n",
       "      <td>95.047923</td>\n",
       "      <td>108.428509</td>\n",
       "      <td>123.201725</td>\n",
       "      <td>225.035588</td>\n",
       "    </tr>\n",
       "    <tr>\n",
       "      <th>Stangenbrote</th>\n",
       "      <td>1979.0</td>\n",
       "      <td>39.816439</td>\n",
       "      <td>17.646559</td>\n",
       "      <td>0.0</td>\n",
       "      <td>30.038129</td>\n",
       "      <td>39.332197</td>\n",
       "      <td>49.454939</td>\n",
       "      <td>198.752191</td>\n",
       "    </tr>\n",
       "    <tr>\n",
       "      <th>Spezialbrot</th>\n",
       "      <td>1979.0</td>\n",
       "      <td>56.310284</td>\n",
       "      <td>26.874605</td>\n",
       "      <td>0.0</td>\n",
       "      <td>51.758903</td>\n",
       "      <td>61.850288</td>\n",
       "      <td>71.343340</td>\n",
       "      <td>200.259200</td>\n",
       "    </tr>\n",
       "    <tr>\n",
       "      <th>Brötchen</th>\n",
       "      <td>1979.0</td>\n",
       "      <td>375.431206</td>\n",
       "      <td>138.927415</td>\n",
       "      <td>0.0</td>\n",
       "      <td>273.886926</td>\n",
       "      <td>355.500769</td>\n",
       "      <td>462.666723</td>\n",
       "      <td>820.516093</td>\n",
       "    </tr>\n",
       "    <tr>\n",
       "      <th>Süsse_Brötchen</th>\n",
       "      <td>1979.0</td>\n",
       "      <td>196.670399</td>\n",
       "      <td>57.579214</td>\n",
       "      <td>0.0</td>\n",
       "      <td>161.334074</td>\n",
       "      <td>185.408152</td>\n",
       "      <td>228.537989</td>\n",
       "      <td>428.071519</td>\n",
       "    </tr>\n",
       "    <tr>\n",
       "      <th>Herzhafte_Brötchen</th>\n",
       "      <td>1979.0</td>\n",
       "      <td>93.947422</td>\n",
       "      <td>36.940020</td>\n",
       "      <td>0.0</td>\n",
       "      <td>70.681393</td>\n",
       "      <td>87.759013</td>\n",
       "      <td>111.181716</td>\n",
       "      <td>268.706655</td>\n",
       "    </tr>\n",
       "    <tr>\n",
       "      <th>KonditoreiBlech</th>\n",
       "      <td>1979.0</td>\n",
       "      <td>98.692646</td>\n",
       "      <td>64.111577</td>\n",
       "      <td>0.0</td>\n",
       "      <td>54.576132</td>\n",
       "      <td>73.102484</td>\n",
       "      <td>150.262028</td>\n",
       "      <td>399.988543</td>\n",
       "    </tr>\n",
       "    <tr>\n",
       "      <th>Stückgebäck</th>\n",
       "      <td>1979.0</td>\n",
       "      <td>152.085738</td>\n",
       "      <td>89.090462</td>\n",
       "      <td>0.0</td>\n",
       "      <td>121.227612</td>\n",
       "      <td>145.715536</td>\n",
       "      <td>172.554556</td>\n",
       "      <td>1798.588913</td>\n",
       "    </tr>\n",
       "    <tr>\n",
       "      <th>Blechkuchen</th>\n",
       "      <td>1979.0</td>\n",
       "      <td>93.154924</td>\n",
       "      <td>46.648699</td>\n",
       "      <td>0.0</td>\n",
       "      <td>61.066615</td>\n",
       "      <td>87.470191</td>\n",
       "      <td>119.576307</td>\n",
       "      <td>338.496148</td>\n",
       "    </tr>\n",
       "    <tr>\n",
       "      <th>Weihnachtsartikel</th>\n",
       "      <td>1979.0</td>\n",
       "      <td>21.198583</td>\n",
       "      <td>53.875080</td>\n",
       "      <td>0.0</td>\n",
       "      <td>0.000000</td>\n",
       "      <td>0.000000</td>\n",
       "      <td>0.000000</td>\n",
       "      <td>245.976731</td>\n",
       "    </tr>\n",
       "    <tr>\n",
       "      <th>Gesamt</th>\n",
       "      <td>1979.0</td>\n",
       "      <td>715.150591</td>\n",
       "      <td>181.970439</td>\n",
       "      <td>0.0</td>\n",
       "      <td>614.870943</td>\n",
       "      <td>701.781576</td>\n",
       "      <td>812.942889</td>\n",
       "      <td>1433.695516</td>\n",
       "    </tr>\n",
       "    <tr>\n",
       "      <th>Wochentag</th>\n",
       "      <td>1979.0</td>\n",
       "      <td>3.001516</td>\n",
       "      <td>2.000884</td>\n",
       "      <td>0.0</td>\n",
       "      <td>1.000000</td>\n",
       "      <td>3.000000</td>\n",
       "      <td>5.000000</td>\n",
       "      <td>6.000000</td>\n",
       "    </tr>\n",
       "    <tr>\n",
       "      <th>Jahr</th>\n",
       "      <td>1979.0</td>\n",
       "      <td>2017.231430</td>\n",
       "      <td>1.577458</td>\n",
       "      <td>2015.0</td>\n",
       "      <td>2016.000000</td>\n",
       "      <td>2017.000000</td>\n",
       "      <td>2019.000000</td>\n",
       "      <td>2020.000000</td>\n",
       "    </tr>\n",
       "    <tr>\n",
       "      <th>Monat</th>\n",
       "      <td>1979.0</td>\n",
       "      <td>6.253158</td>\n",
       "      <td>3.465719</td>\n",
       "      <td>1.0</td>\n",
       "      <td>3.000000</td>\n",
       "      <td>6.000000</td>\n",
       "      <td>9.000000</td>\n",
       "      <td>12.000000</td>\n",
       "    </tr>\n",
       "    <tr>\n",
       "      <th>Wochenende_flag</th>\n",
       "      <td>1979.0</td>\n",
       "      <td>0.286003</td>\n",
       "      <td>0.452005</td>\n",
       "      <td>0.0</td>\n",
       "      <td>0.000000</td>\n",
       "      <td>0.000000</td>\n",
       "      <td>1.000000</td>\n",
       "      <td>1.000000</td>\n",
       "    </tr>\n",
       "    <tr>\n",
       "      <th>Season</th>\n",
       "      <td>1979.0</td>\n",
       "      <td>2.492168</td>\n",
       "      <td>1.151477</td>\n",
       "      <td>1.0</td>\n",
       "      <td>1.000000</td>\n",
       "      <td>2.000000</td>\n",
       "      <td>4.000000</td>\n",
       "      <td>4.000000</td>\n",
       "    </tr>\n",
       "    <tr>\n",
       "      <th>Feiertag_DE</th>\n",
       "      <td>1979.0</td>\n",
       "      <td>0.026276</td>\n",
       "      <td>0.159995</td>\n",
       "      <td>0.0</td>\n",
       "      <td>0.000000</td>\n",
       "      <td>0.000000</td>\n",
       "      <td>0.000000</td>\n",
       "      <td>1.000000</td>\n",
       "    </tr>\n",
       "    <tr>\n",
       "      <th>Holidays_SH</th>\n",
       "      <td>1979.0</td>\n",
       "      <td>0.237494</td>\n",
       "      <td>0.425655</td>\n",
       "      <td>0.0</td>\n",
       "      <td>0.000000</td>\n",
       "      <td>0.000000</td>\n",
       "      <td>0.000000</td>\n",
       "      <td>1.000000</td>\n",
       "    </tr>\n",
       "    <tr>\n",
       "      <th>Kieler_Woche</th>\n",
       "      <td>1979.0</td>\n",
       "      <td>0.022739</td>\n",
       "      <td>0.149107</td>\n",
       "      <td>0.0</td>\n",
       "      <td>0.000000</td>\n",
       "      <td>0.000000</td>\n",
       "      <td>0.000000</td>\n",
       "      <td>1.000000</td>\n",
       "    </tr>\n",
       "    <tr>\n",
       "      <th>Closed</th>\n",
       "      <td>1979.0</td>\n",
       "      <td>0.022739</td>\n",
       "      <td>0.149107</td>\n",
       "      <td>0.0</td>\n",
       "      <td>0.000000</td>\n",
       "      <td>0.000000</td>\n",
       "      <td>0.000000</td>\n",
       "      <td>1.000000</td>\n",
       "    </tr>\n",
       "    <tr>\n",
       "      <th>Niederschlag</th>\n",
       "      <td>1979.0</td>\n",
       "      <td>2.008085</td>\n",
       "      <td>3.922612</td>\n",
       "      <td>0.0</td>\n",
       "      <td>0.000000</td>\n",
       "      <td>0.100000</td>\n",
       "      <td>2.300000</td>\n",
       "      <td>37.700000</td>\n",
       "    </tr>\n",
       "    <tr>\n",
       "      <th>Sonne_h</th>\n",
       "      <td>1979.0</td>\n",
       "      <td>3.623483</td>\n",
       "      <td>4.501013</td>\n",
       "      <td>0.0</td>\n",
       "      <td>0.000000</td>\n",
       "      <td>1.317000</td>\n",
       "      <td>6.450000</td>\n",
       "      <td>16.550000</td>\n",
       "    </tr>\n",
       "    <tr>\n",
       "      <th>Temperatur_max</th>\n",
       "      <td>1979.0</td>\n",
       "      <td>13.282820</td>\n",
       "      <td>7.451813</td>\n",
       "      <td>-5.1</td>\n",
       "      <td>7.600000</td>\n",
       "      <td>12.700000</td>\n",
       "      <td>19.400000</td>\n",
       "      <td>35.100000</td>\n",
       "    </tr>\n",
       "    <tr>\n",
       "      <th>Brötchen_364</th>\n",
       "      <td>1615.0</td>\n",
       "      <td>369.496120</td>\n",
       "      <td>134.768593</td>\n",
       "      <td>0.0</td>\n",
       "      <td>271.039901</td>\n",
       "      <td>349.506964</td>\n",
       "      <td>453.992079</td>\n",
       "      <td>810.818652</td>\n",
       "    </tr>\n",
       "    <tr>\n",
       "      <th>Brötchen_7</th>\n",
       "      <td>1972.0</td>\n",
       "      <td>374.798441</td>\n",
       "      <td>138.438383</td>\n",
       "      <td>0.0</td>\n",
       "      <td>273.735775</td>\n",
       "      <td>354.921694</td>\n",
       "      <td>462.412270</td>\n",
       "      <td>820.516093</td>\n",
       "    </tr>\n",
       "    <tr>\n",
       "      <th>Süsse_Brötchen_7</th>\n",
       "      <td>1972.0</td>\n",
       "      <td>196.405386</td>\n",
       "      <td>57.320954</td>\n",
       "      <td>0.0</td>\n",
       "      <td>161.277861</td>\n",
       "      <td>185.333223</td>\n",
       "      <td>228.435804</td>\n",
       "      <td>428.071519</td>\n",
       "    </tr>\n",
       "    <tr>\n",
       "      <th>Süsse_Brötchen_364</th>\n",
       "      <td>1615.0</td>\n",
       "      <td>195.246049</td>\n",
       "      <td>55.818823</td>\n",
       "      <td>0.0</td>\n",
       "      <td>161.470752</td>\n",
       "      <td>183.763670</td>\n",
       "      <td>226.383545</td>\n",
       "      <td>428.071519</td>\n",
       "    </tr>\n",
       "    <tr>\n",
       "      <th>Herzhafte_Brötchen_7</th>\n",
       "      <td>1972.0</td>\n",
       "      <td>93.666809</td>\n",
       "      <td>36.617502</td>\n",
       "      <td>0.0</td>\n",
       "      <td>70.659797</td>\n",
       "      <td>87.689886</td>\n",
       "      <td>110.953663</td>\n",
       "      <td>244.708756</td>\n",
       "    </tr>\n",
       "    <tr>\n",
       "      <th>Herzhafte_Brötchen_364</th>\n",
       "      <td>1615.0</td>\n",
       "      <td>89.847874</td>\n",
       "      <td>33.308341</td>\n",
       "      <td>0.0</td>\n",
       "      <td>69.384680</td>\n",
       "      <td>84.951218</td>\n",
       "      <td>105.776873</td>\n",
       "      <td>232.411259</td>\n",
       "    </tr>\n",
       "  </tbody>\n",
       "</table>\n",
       "</div>"
      ],
      "text/plain": [
       "                         count         mean         std     min          25%  \\\n",
       "Weizenbrot              1979.0    63.447962   29.216742     0.0    60.117258   \n",
       "Mischbrot               1979.0    71.860719   20.052765     0.0    60.991450   \n",
       "Vollkornbrot            1979.0   108.283982   26.926271     0.0    95.047923   \n",
       "Stangenbrote            1979.0    39.816439   17.646559     0.0    30.038129   \n",
       "Spezialbrot             1979.0    56.310284   26.874605     0.0    51.758903   \n",
       "Brötchen                1979.0   375.431206  138.927415     0.0   273.886926   \n",
       "Süsse_Brötchen          1979.0   196.670399   57.579214     0.0   161.334074   \n",
       "Herzhafte_Brötchen      1979.0    93.947422   36.940020     0.0    70.681393   \n",
       "KonditoreiBlech         1979.0    98.692646   64.111577     0.0    54.576132   \n",
       "Stückgebäck             1979.0   152.085738   89.090462     0.0   121.227612   \n",
       "Blechkuchen             1979.0    93.154924   46.648699     0.0    61.066615   \n",
       "Weihnachtsartikel       1979.0    21.198583   53.875080     0.0     0.000000   \n",
       "Gesamt                  1979.0   715.150591  181.970439     0.0   614.870943   \n",
       "Wochentag               1979.0     3.001516    2.000884     0.0     1.000000   \n",
       "Jahr                    1979.0  2017.231430    1.577458  2015.0  2016.000000   \n",
       "Monat                   1979.0     6.253158    3.465719     1.0     3.000000   \n",
       "Wochenende_flag         1979.0     0.286003    0.452005     0.0     0.000000   \n",
       "Season                  1979.0     2.492168    1.151477     1.0     1.000000   \n",
       "Feiertag_DE             1979.0     0.026276    0.159995     0.0     0.000000   \n",
       "Holidays_SH             1979.0     0.237494    0.425655     0.0     0.000000   \n",
       "Kieler_Woche            1979.0     0.022739    0.149107     0.0     0.000000   \n",
       "Closed                  1979.0     0.022739    0.149107     0.0     0.000000   \n",
       "Niederschlag            1979.0     2.008085    3.922612     0.0     0.000000   \n",
       "Sonne_h                 1979.0     3.623483    4.501013     0.0     0.000000   \n",
       "Temperatur_max          1979.0    13.282820    7.451813    -5.1     7.600000   \n",
       "Brötchen_364            1615.0   369.496120  134.768593     0.0   271.039901   \n",
       "Brötchen_7              1972.0   374.798441  138.438383     0.0   273.735775   \n",
       "Süsse_Brötchen_7        1972.0   196.405386   57.320954     0.0   161.277861   \n",
       "Süsse_Brötchen_364      1615.0   195.246049   55.818823     0.0   161.470752   \n",
       "Herzhafte_Brötchen_7    1972.0    93.666809   36.617502     0.0    70.659797   \n",
       "Herzhafte_Brötchen_364  1615.0    89.847874   33.308341     0.0    69.384680   \n",
       "\n",
       "                                50%          75%          max  \n",
       "Weizenbrot                71.638075    81.295926   120.423144  \n",
       "Mischbrot                 73.463033    84.206328   152.746146  \n",
       "Vollkornbrot             108.428509   123.201725   225.035588  \n",
       "Stangenbrote              39.332197    49.454939   198.752191  \n",
       "Spezialbrot               61.850288    71.343340   200.259200  \n",
       "Brötchen                 355.500769   462.666723   820.516093  \n",
       "Süsse_Brötchen           185.408152   228.537989   428.071519  \n",
       "Herzhafte_Brötchen        87.759013   111.181716   268.706655  \n",
       "KonditoreiBlech           73.102484   150.262028   399.988543  \n",
       "Stückgebäck              145.715536   172.554556  1798.588913  \n",
       "Blechkuchen               87.470191   119.576307   338.496148  \n",
       "Weihnachtsartikel          0.000000     0.000000   245.976731  \n",
       "Gesamt                   701.781576   812.942889  1433.695516  \n",
       "Wochentag                  3.000000     5.000000     6.000000  \n",
       "Jahr                    2017.000000  2019.000000  2020.000000  \n",
       "Monat                      6.000000     9.000000    12.000000  \n",
       "Wochenende_flag            0.000000     1.000000     1.000000  \n",
       "Season                     2.000000     4.000000     4.000000  \n",
       "Feiertag_DE                0.000000     0.000000     1.000000  \n",
       "Holidays_SH                0.000000     0.000000     1.000000  \n",
       "Kieler_Woche               0.000000     0.000000     1.000000  \n",
       "Closed                     0.000000     0.000000     1.000000  \n",
       "Niederschlag               0.100000     2.300000    37.700000  \n",
       "Sonne_h                    1.317000     6.450000    16.550000  \n",
       "Temperatur_max            12.700000    19.400000    35.100000  \n",
       "Brötchen_364             349.506964   453.992079   810.818652  \n",
       "Brötchen_7               354.921694   462.412270   820.516093  \n",
       "Süsse_Brötchen_7         185.333223   228.435804   428.071519  \n",
       "Süsse_Brötchen_364       183.763670   226.383545   428.071519  \n",
       "Herzhafte_Brötchen_7      87.689886   110.953663   244.708756  \n",
       "Herzhafte_Brötchen_364    84.951218   105.776873   232.411259  "
      ]
     },
     "execution_count": 145,
     "metadata": {},
     "output_type": "execute_result"
    }
   ],
   "source": [
    "# Valuation of agg.Values\n",
    "df_2.describe().T"
   ]
  },
  {
   "cell_type": "markdown",
   "metadata": {},
   "source": [
    "## Correlations"
   ]
  },
  {
   "cell_type": "code",
   "execution_count": 146,
   "metadata": {},
   "outputs": [
    {
     "data": {
      "text/plain": [
       "<AxesSubplot:title={'center':'Korrelation nach Pearson für Brötchen'}>"
      ]
     },
     "execution_count": 146,
     "metadata": {},
     "output_type": "execute_result"
    },
    {
     "data": {
      "image/png": "[encoded data removed]",
      "text/plain": [
       "<Figure size 720x576 with 1 Axes>"
      ]
     },
     "metadata": {
      "needs_background": "light"
     },
     "output_type": "display_data"
    }
   ],
   "source": [
    "# correlation für Brötchen\n",
    "basis=num_df.corr(method='pearson')['Brötchen'].sort_values(axis=0, ascending=False)\n",
    "basis.plot(kind='bar',figsize=(10,8),title='Korrelation nach Pearson für Brötchen')"
   ]
  },
  {
   "cell_type": "code",
   "execution_count": 34,
   "metadata": {},
   "outputs": [
    {
     "data": {
      "text/plain": [
       "<function matplotlib.pyplot.show(close=None, block=None)>"
      ]
     },
     "execution_count": 34,
     "metadata": {},
     "output_type": "execute_result"
    },
    {
     "data": {
      "image/png": "[encoded data removed]",
      "text/plain": [
       "<Figure size 2160x1296 with 2 Axes>"
      ]
     },
     "metadata": {
      "needs_background": "light"
     },
     "output_type": "display_data"
    }
   ],
   "source": [
    "#First we create a new DataFrame with only numerical features\n",
    "numerics = ['int64', 'float64']\n",
    "\n",
    "num_df = df_2.select_dtypes(include=numerics)\n",
    "\n",
    "#Korrelationsanalyse\n",
    "mask = np.triu( num_df.corr())\n",
    "plt.figure(figsize=(30,18))\n",
    "plt.title('Correlation of variables')\n",
    "ax=sns.heatmap(num_df.corr(),vmax=1.0,annot=True,mask=mask,cmap='coolwarm')\n",
    "plt.savefig('correlogram_simple.png')\n",
    "ax.set_ylim((0,40))\n",
    "plt.show"
   ]
  },
  {
   "cell_type": "markdown",
   "metadata": {},
   "source": [
    "# Checks Timeseries & Setup Modelling"
   ]
  },
  {
   "cell_type": "code",
   "execution_count": 10,
   "metadata": {},
   "outputs": [],
   "source": [
    "df_newmodel_2 = df_2.set_index('Datum')"
   ]
  },
  {
   "cell_type": "code",
   "execution_count": 11,
   "metadata": {},
   "outputs": [],
   "source": [
    "df_newmodel_2_clean = df_2_clean.set_index('Datum')"
   ]
  },
  {
   "cell_type": "code",
   "execution_count": null,
   "metadata": {},
   "outputs": [],
   "source": [
    "#df_new_1_index=df_newmodel_1.set_index('Datum')\n",
    "#df_new_2_index=df_newmodel_2.set_index('Datum')\n",
    "#df_new_3_index=df_newmodel_1.set_index('Datum')"
   ]
  },
  {
   "cell_type": "markdown",
   "metadata": {},
   "source": [
    "## Metrics"
   ]
  },
  {
   "cell_type": "markdown",
   "metadata": {},
   "source": [
    "**Conclusions**\n",
    "- `I choose MAE and MAPE as Performance Measures for my project.`"
   ]
  },
  {
   "cell_type": "markdown",
   "metadata": {},
   "source": [
    "I would analyse the results from the different models via the two different metrics mean absolute error **MAE** which is available via Sklearn.metrics and via the metrics mean absolute percentage error called **MAPE**.\n",
    "\n",
    "There is no inbuilt function in sci-kit learn, so i define a custom function to calculate this measure. I adjusted the commom measure in the way that i do not consider all closed days of a Filiale.\n"
   ]
  },
  {
   "cell_type": "code",
   "execution_count": 12,
   "metadata": {},
   "outputs": [],
   "source": [
    "#calculate mean absolute forecast error which only take actual values unequal to zero in consideration\n",
    "def mean_absolute_percentage_error_WZ(actual, predicted): \n",
    "    \n",
    "    actual, predicted = np.array(actual), np.array(predicted)\n",
    "    return np.mean(np.abs((actual - predicted) / actual)) * 100\n"
   ]
  },
  {
   "cell_type": "code",
   "execution_count": 13,
   "metadata": {},
   "outputs": [],
   "source": [
    "#calculate mean absolute percentage forecast error\n",
    "def mean_absolute_percentage_error(actual, predicted): \n",
    "    \n",
    "    nz_1=(actual==0)\n",
    "    actual_nz=actual[nz_1==0]\n",
    "    \n",
    "    difference_nz=actual-predicted\n",
    "    difference_nz.dropna()\n",
    "    return np.mean(np.abs((difference_nz) / actual_nz)) * 100"
   ]
  },
  {
   "cell_type": "code",
   "execution_count": 14,
   "metadata": {},
   "outputs": [],
   "source": [
    "from sklearn.metrics import make_scorer\n",
    "def mae(actual, predict):\n",
    "    predict = np.array(predict)\n",
    "    actual = np.array(actual)\n",
    "    distance = predict - actual\n",
    "    distance_mean = distance.mean()\n",
    "    score = np.sqrt(distance_mean)\n",
    "    return score\n",
    "mae_score = make_scorer(mae, greater_is_better = False)"
   ]
  },
  {
   "cell_type": "code",
   "execution_count": 15,
   "metadata": {},
   "outputs": [],
   "source": [
    "def regression_results(y_true, y_pred):\n",
    "# Regression metrics\n",
    "    explained_variance=metrics.explained_variance_score(y_true, y_pred)\n",
    "    mean_absolute_error=metrics.mean_absolute_error(y_true, y_pred) \n",
    "    mse=metrics.mean_squared_error(y_true, y_pred) \n",
    "    mean_squared_log_error=metrics.mean_squared_log_error(y_true, y_pred)\n",
    "    median_absolute_error=metrics.median_absolute_error(y_true, y_pred)\n",
    "    r2=metrics.r2_score(y_true, y_pred)\n",
    "    print('explained_variance: ', round(explained_variance,4))    \n",
    "    print('mean_squared_log_error: ', round(mean_squared_log_error,4))\n",
    "    print('r2: ', round(r2,4))\n",
    "    print('MAE: ', round(mean_absolute_error,4))\n",
    "    print('MAPE', round(mean_absolute_percentage_error,4))\n",
    "    print('MSE: ', round(mse,4))\n",
    "    print('RMSE: ', round(np.sqrt(mse),4))"
   ]
  },
  {
   "cell_type": "markdown",
   "metadata": {},
   "source": [
    "## Test-/Train-Split"
   ]
  },
  {
   "cell_type": "markdown",
   "metadata": {},
   "source": [
    "Split into train and test datasets to build the model on the training dataset and forecast using the test dataset. I decide to use the first 4 years for training and the period since 01.01.2019 for testing. "
   ]
  },
  {
   "cell_type": "code",
   "execution_count": 16,
   "metadata": {},
   "outputs": [],
   "source": [
    "# use past 4 years data to forecast the next 15 months until corona\n",
    "\n",
    "start_train='01.01.2016'\n",
    "end_train = '31.12.2018'\n",
    "start_test='01.01.2019'"
   ]
  },
  {
   "cell_type": "code",
   "execution_count": 17,
   "metadata": {},
   "outputs": [],
   "source": [
    "start_short='01.01.2018'\n",
    "end_short = '31.12.2019'\n",
    "start_test_short='01.01.2020'\n",
    "\n",
    "corona='15.03.2020'"
   ]
  },
  {
   "cell_type": "code",
   "execution_count": 18,
   "metadata": {
    "scrolled": true
   },
   "outputs": [],
   "source": [
    "# Basismodel\n",
    "train_basis_2 = df_newmodel_2[:end_train].copy()\n",
    "test_basis_2 = df_newmodel_2[end_train:corona].copy()\n",
    "df_basis_2_short=df_newmodel_2[start_short:corona].iloc[:,0:12]"
   ]
  },
  {
   "cell_type": "code",
   "execution_count": 19,
   "metadata": {},
   "outputs": [],
   "source": [
    "train_2 = df_newmodel_2[start_train:end_train].copy()\n",
    "test_2 = df_newmodel_2[start_test:corona].copy()"
   ]
  },
  {
   "cell_type": "code",
   "execution_count": 20,
   "metadata": {},
   "outputs": [],
   "source": [
    "train_short_2 = df_newmodel_2[start_short:end_short]\n",
    "test_short_2 = df_newmodel_2[start_test_short:corona]"
   ]
  },
  {
   "cell_type": "code",
   "execution_count": 21,
   "metadata": {},
   "outputs": [],
   "source": [
    "train_short_2_clean = df_newmodel_2_clean[start_short:end_short]\n",
    "test_short_2_clean = df_newmodel_2_clean[start_test_short:corona]"
   ]
  },
  {
   "cell_type": "markdown",
   "metadata": {},
   "source": [
    "## Baseline Model"
   ]
  },
  {
   "cell_type": "markdown",
   "metadata": {},
   "source": [
    "The moving average value can also be used directly to make predictions as a naive model and baseline for further \n",
    "on analysis. The fit would has been better if trend and seasonality components of the time series have already been removed or adjusted for."
   ]
  },
  {
   "cell_type": "code",
   "execution_count": 197,
   "metadata": {},
   "outputs": [],
   "source": [
    "# moving average smoothing as a forecast model\n",
    "from math import sqrt\n",
    "from numpy import mean\n",
    "from sklearn.metrics import mean_squared_error\n",
    "from matplotlib import pyplot"
   ]
  },
  {
   "cell_type": "code",
   "execution_count": 307,
   "metadata": {},
   "outputs": [],
   "source": [
    "df_results_Baseline = pd.DataFrame( \n",
    "                  columns=['Model', 'Label','MAE_BASELINE'])"
   ]
  },
  {
   "cell_type": "code",
   "execution_count": 129,
   "metadata": {},
   "outputs": [
    {
     "data": {
      "text/html": [
       "<div>\n",
       "<style scoped>\n",
       "    .dataframe tbody tr th:only-of-type {\n",
       "        vertical-align: middle;\n",
       "    }\n",
       "\n",
       "    .dataframe tbody tr th {\n",
       "        vertical-align: top;\n",
       "    }\n",
       "\n",
       "    .dataframe thead th {\n",
       "        text-align: right;\n",
       "    }\n",
       "</style>\n",
       "<table border=\"1\" class=\"dataframe\">\n",
       "  <thead>\n",
       "    <tr style=\"text-align: right;\">\n",
       "      <th></th>\n",
       "      <th>Unnamed: 0</th>\n",
       "      <th>Model</th>\n",
       "      <th>Label</th>\n",
       "      <th>MAE_BASELINE</th>\n",
       "    </tr>\n",
       "  </thead>\n",
       "  <tbody>\n",
       "    <tr>\n",
       "      <th>0</th>\n",
       "      <td>1</td>\n",
       "      <td>BASELINE</td>\n",
       "      <td>Weizenbrot</td>\n",
       "      <td>21.810966</td>\n",
       "    </tr>\n",
       "    <tr>\n",
       "      <th>1</th>\n",
       "      <td>2</td>\n",
       "      <td>BASELINE</td>\n",
       "      <td>Mischbrot</td>\n",
       "      <td>14.696344</td>\n",
       "    </tr>\n",
       "    <tr>\n",
       "      <th>2</th>\n",
       "      <td>3</td>\n",
       "      <td>BASELINE</td>\n",
       "      <td>Vollkornbrot</td>\n",
       "      <td>17.744443</td>\n",
       "    </tr>\n",
       "    <tr>\n",
       "      <th>3</th>\n",
       "      <td>4</td>\n",
       "      <td>BASELINE</td>\n",
       "      <td>Stangenbrote</td>\n",
       "      <td>16.508831</td>\n",
       "    </tr>\n",
       "    <tr>\n",
       "      <th>4</th>\n",
       "      <td>5</td>\n",
       "      <td>BASELINE</td>\n",
       "      <td>Spezialbrot</td>\n",
       "      <td>13.188681</td>\n",
       "    </tr>\n",
       "    <tr>\n",
       "      <th>5</th>\n",
       "      <td>6</td>\n",
       "      <td>BASELINE</td>\n",
       "      <td>Brötchen</td>\n",
       "      <td>77.563061</td>\n",
       "    </tr>\n",
       "    <tr>\n",
       "      <th>6</th>\n",
       "      <td>7</td>\n",
       "      <td>BASELINE</td>\n",
       "      <td>Süsse_Brötchen</td>\n",
       "      <td>32.109803</td>\n",
       "    </tr>\n",
       "    <tr>\n",
       "      <th>7</th>\n",
       "      <td>8</td>\n",
       "      <td>BASELINE</td>\n",
       "      <td>Herzhafte_Brötchen</td>\n",
       "      <td>18.289108</td>\n",
       "    </tr>\n",
       "    <tr>\n",
       "      <th>8</th>\n",
       "      <td>9</td>\n",
       "      <td>BASELINE</td>\n",
       "      <td>KonditoreiBlech</td>\n",
       "      <td>34.783809</td>\n",
       "    </tr>\n",
       "    <tr>\n",
       "      <th>9</th>\n",
       "      <td>10</td>\n",
       "      <td>BASELINE</td>\n",
       "      <td>Stückgebäck</td>\n",
       "      <td>36.841229</td>\n",
       "    </tr>\n",
       "    <tr>\n",
       "      <th>10</th>\n",
       "      <td>11</td>\n",
       "      <td>BASELINE</td>\n",
       "      <td>Blechkuchen</td>\n",
       "      <td>27.420724</td>\n",
       "    </tr>\n",
       "    <tr>\n",
       "      <th>11</th>\n",
       "      <td>12</td>\n",
       "      <td>BASELINE</td>\n",
       "      <td>Weihnachtsartikel</td>\n",
       "      <td>6.205920</td>\n",
       "    </tr>\n",
       "  </tbody>\n",
       "</table>\n",
       "</div>"
      ],
      "text/plain": [
       "    Unnamed: 0     Model               Label  MAE_BASELINE\n",
       "0            1  BASELINE          Weizenbrot     21.810966\n",
       "1            2  BASELINE           Mischbrot     14.696344\n",
       "2            3  BASELINE        Vollkornbrot     17.744443\n",
       "3            4  BASELINE        Stangenbrote     16.508831\n",
       "4            5  BASELINE         Spezialbrot     13.188681\n",
       "5            6  BASELINE            Brötchen     77.563061\n",
       "6            7  BASELINE      Süsse_Brötchen     32.109803\n",
       "7            8  BASELINE  Herzhafte_Brötchen     18.289108\n",
       "8            9  BASELINE     KonditoreiBlech     34.783809\n",
       "9           10  BASELINE         Stückgebäck     36.841229\n",
       "10          11  BASELINE         Blechkuchen     27.420724\n",
       "11          12  BASELINE   Weihnachtsartikel      6.205920"
      ]
     },
     "execution_count": 129,
     "metadata": {},
     "output_type": "execute_result"
    }
   ],
   "source": [
    "df_results_Baseline= pd.read_csv(\"df_results_Baseline\")\n",
    "df_results_Baseline"
   ]
  },
  {
   "cell_type": "markdown",
   "metadata": {},
   "source": [
    "# Winters Holt Expontial Smoothing-short Period"
   ]
  },
  {
   "cell_type": "code",
   "execution_count": 31,
   "metadata": {},
   "outputs": [],
   "source": [
    "df_results_Winters_Holt_OPT = pd.DataFrame( \n",
    "                  columns=['Model','Fit', 'Label','MAE','MAPE'])"
   ]
  },
  {
   "cell_type": "code",
   "execution_count": 23,
   "metadata": {},
   "outputs": [],
   "source": [
    "from statsmodels.tsa.api import ExponentialSmoothing, SimpleExpSmoothing, Holt"
   ]
  },
  {
   "cell_type": "code",
   "execution_count": 24,
   "metadata": {},
   "outputs": [],
   "source": [
    "#For Winters Holt all values have to be strictly positive so I decide to set the 0-values to NaN and \n",
    "#use interpolation to fill the missing data\n"
   ]
  },
  {
   "cell_type": "code",
   "execution_count": 25,
   "metadata": {},
   "outputs": [],
   "source": [
    "articlelist=train_short_2.iloc[:,0:11].columns.tolist()"
   ]
  },
  {
   "cell_type": "code",
   "execution_count": 26,
   "metadata": {},
   "outputs": [],
   "source": [
    "for i in articlelist:\n",
    "    train_short_2[i]=train_short_2[i].apply(lambda x: x if x>0 else None )\n",
    "\n",
    "    train_short_2[i].fillna(method='ffill',inplace=True)\n",
    "    train_short_2[i].fillna(method='bfill',inplace=True)"
   ]
  },
  {
   "cell_type": "code",
   "execution_count": 106,
   "metadata": {},
   "outputs": [],
   "source": [
    "df_results_Winters_Holt_OPT.to_csv(\"df_results_Winters_Holt_OPT.csv\")"
   ]
  },
  {
   "cell_type": "markdown",
   "metadata": {},
   "source": [
    "## Weizenbrot"
   ]
  },
  {
   "cell_type": "code",
   "execution_count": 27,
   "metadata": {},
   "outputs": [],
   "source": [
    "fit1 = ExponentialSmoothing(train_short_2.Weizenbrot, seasonal_periods=365, seasonal='add').fit(use_boxcox=True)\n",
    "fit2 = ExponentialSmoothing(train_short_2.Weizenbrot, seasonal_periods=365,  seasonal='mul').fit(use_boxcox=True)\n",
    "fit3 = ExponentialSmoothing(train_short_2.Weizenbrot, trend='add',damped=False,seasonal_periods=365, seasonal='add').fit(use_boxcox=True)"
   ]
  },
  {
   "cell_type": "code",
   "execution_count": 411,
   "metadata": {},
   "outputs": [],
   "source": [
    "fit4 = ExponentialSmoothing(train_short_2.Weizenbrot, trend='add',damped=False,seasonal_periods=365, seasonal='mul').fit(use_boxcox=True)"
   ]
  },
  {
   "cell_type": "code",
   "execution_count": 29,
   "metadata": {},
   "outputs": [],
   "source": [
    "article='Weizenbrot'"
   ]
  },
  {
   "cell_type": "code",
   "execution_count": 271,
   "metadata": {},
   "outputs": [
    {
     "name": "stdout",
     "output_type": "stream",
     "text": [
      "Article Weizenbrot FIT1, MAE:20.878688112617212\n",
      "Article Weizenbrot FIT1, MAPE:18.991319819756587\n"
     ]
    }
   ],
   "source": [
    "MAE_1_FIT1 = mean_absolute_error(test_short_2.Weizenbrot,fit1.forecast(75))\n",
    "MAPE_1_FIT1= mean_absolute_percentage_error(test_short_2.Weizenbrot,fit1.forecast(75))\n",
    "print(f'Article {article} FIT1, MAE:{MAE_1_FIT1}')\n",
    "print(f'Article {article} FIT1, MAPE:{MAPE_1_FIT1}')"
   ]
  },
  {
   "cell_type": "code",
   "execution_count": 32,
   "metadata": {},
   "outputs": [
    {
     "name": "stdout",
     "output_type": "stream",
     "text": [
      "Article Weizenbrot FIT2, MAE:20.194920500809992\n",
      "Article Weizenbrot FIT2, MAPE:18.06289981741875\n"
     ]
    }
   ],
   "source": [
    "MAE_1_FIT2 = mean_absolute_error(test_short_2.Weizenbrot,fit2.forecast(75))\n",
    "MAPE_1_FIT2= mean_absolute_percentage_error(test_short_2.Weizenbrot,fit2.forecast(75))\n",
    "print(f'Article {article} FIT2, MAE:{MAE_1_FIT2}')\n",
    "print(f'Article {article} FIT2, MAPE:{MAPE_1_FIT2}')\n",
    "\n",
    "df_results_Winters_Holt_OPT.loc['1',:] = ['Winters_Holt','Seas_mult',article,MAE_1_FIT2,MAPE_1_FIT2]"
   ]
  },
  {
   "cell_type": "code",
   "execution_count": 284,
   "metadata": {},
   "outputs": [
    {
     "name": "stdout",
     "output_type": "stream",
     "text": [
      "Article Weizenbrot FIT3, MAE:20.69392365280232\n",
      "Article Weizenbrot FIT3, MAPE:18.726045754487497\n"
     ]
    }
   ],
   "source": [
    "MAE_1_FIT3 = mean_absolute_error(test_short_2.Weizenbrot,fit3.forecast(75))\n",
    "MAPE_1_FIT3= mean_absolute_percentage_error(test_short_2.Weizenbrot,fit3.forecast(75))\n",
    "#df_results_Prophet_Opt=df_results_Prophet_Opt.append({'Model' : 'Prophet-OPT' , 'Label' : article, 'MAE' : MAE,'MAPE' : MAPE} , ignore_index=True)\n",
    "print(f'Article {article} FIT3, MAE:{MAE_1_FIT3}')\n",
    "print(f'Article {article} FIT3, MAPE:{MAPE_1_FIT3}')"
   ]
  },
  {
   "cell_type": "code",
   "execution_count": 283,
   "metadata": {},
   "outputs": [
    {
     "name": "stdout",
     "output_type": "stream",
     "text": [
      "Article Weizenbrot FIT4, MAE:20.614100681894097\n",
      "Article Weizenbrot FIT4, MAPE:18.598913924385403\n"
     ]
    }
   ],
   "source": [
    "MAE_1_FIT4 = mean_absolute_error(test_short_2.Weizenbrot,fit4.forecast(75))\n",
    "MAPE_1_FIT4= mean_absolute_percentage_error(test_short_2.Weizenbrot,fit4.forecast(75))\n",
    "#df_results_Prophet_Opt=df_results_Prophet_Opt.append({'Model' : 'Prophet-OPT' , 'Label' : article, 'MAE' : MAE,'MAPE' : MAPE} , ignore_index=True)\n",
    "print(f'Article {article} FIT4, MAE:{MAE_1_FIT4}')\n",
    "print(f'Article {article} FIT4, MAPE:{MAPE_1_FIT4}')\n",
    "df_results_Prophet_Winters_Holt.loc['4',:] = ['Winters_Holt','Seas_mult/Trend_dampF',article,\n",
    "                                               MAE_1_FIT4,MAPE_1_FIT4]\n"
   ]
  },
  {
   "cell_type": "markdown",
   "metadata": {},
   "source": [
    "## Mischbrot"
   ]
  },
  {
   "cell_type": "code",
   "execution_count": 34,
   "metadata": {},
   "outputs": [],
   "source": [
    "fit1 = ExponentialSmoothing(train_short_2.Mischbrot, seasonal_periods=365, seasonal='add').fit(use_boxcox=True)\n",
    "fit2 = ExponentialSmoothing(train_short_2.Mischbrot, seasonal_periods=365,  seasonal='mul').fit(use_boxcox=True)"
   ]
  },
  {
   "cell_type": "code",
   "execution_count": 35,
   "metadata": {},
   "outputs": [],
   "source": [
    "fit3 = ExponentialSmoothing(train_short_2.Mischbrot, trend='add',damped=True,seasonal_periods=365, seasonal='add').fit(use_boxcox=True)\n",
    "fit4 = ExponentialSmoothing(train_short_2.Mischbrot, trend='add',damped=False,seasonal_periods=365, seasonal='mul').fit(use_boxcox=True)"
   ]
  },
  {
   "cell_type": "code",
   "execution_count": 33,
   "metadata": {},
   "outputs": [],
   "source": [
    "article='Mischbrot'"
   ]
  },
  {
   "cell_type": "code",
   "execution_count": 290,
   "metadata": {},
   "outputs": [
    {
     "name": "stdout",
     "output_type": "stream",
     "text": [
      "Article Mischbrot FIT1, MAE:16.39042634021618\n",
      "Article Mischbrot FIT1, MAPE:23.20340416084934\n"
     ]
    }
   ],
   "source": [
    "MAE_2_FIT1 = mean_absolute_error(test_short_2.Mischbrot,fit1.forecast(75))\n",
    "MAPE_2_FIT1= mean_absolute_percentage_error(test_short_2.Mischbrot,fit1.forecast(75))\n",
    "print(f'Article {article} FIT1, MAE:{MAE_2_FIT1}')\n",
    "print(f'Article {article} FIT1, MAPE:{MAPE_2_FIT1}')"
   ]
  },
  {
   "cell_type": "code",
   "execution_count": 291,
   "metadata": {},
   "outputs": [
    {
     "name": "stdout",
     "output_type": "stream",
     "text": [
      "Article Mischbrot FIT2, MAE:16.39275927862955\n",
      "Article Mischbrot FIT2, MAPE:23.23635851690697\n"
     ]
    }
   ],
   "source": [
    "MAE_2_FIT2 = mean_absolute_error(test_short_2.Mischbrot,fit2.forecast(75))\n",
    "MAPE_2_FIT2= mean_absolute_percentage_error(test_short_2.Mischbrot,fit2.forecast(75))\n",
    "print(f'Article {article} FIT2, MAE:{MAE_2_FIT2}')\n",
    "print(f'Article {article} FIT2, MAPE:{MAPE_2_FIT2}')"
   ]
  },
  {
   "cell_type": "code",
   "execution_count": 295,
   "metadata": {},
   "outputs": [
    {
     "name": "stdout",
     "output_type": "stream",
     "text": [
      "Article Mischbrot FIT3, MAE:16.34777842300484\n",
      "Article Mischbrot FIT3, MAPE:23.369709575549457\n"
     ]
    }
   ],
   "source": [
    "MAE_2_FIT3 = mean_absolute_error(test_short_2.Mischbrot,fit3.forecast(75))\n",
    "MAPE_2_FIT3= mean_absolute_percentage_error(test_short_2.Mischbrot,fit3.forecast(75))\n",
    "print(f'Article {article} FIT3, MAE:{MAE_2_FIT3}')\n",
    "print(f'Article {article} FIT3, MAPE:{MAPE_2_FIT3}')"
   ]
  },
  {
   "cell_type": "code",
   "execution_count": 36,
   "metadata": {},
   "outputs": [
    {
     "name": "stdout",
     "output_type": "stream",
     "text": [
      "Article Mischbrot FIT4, MAE:17.199703974639622\n",
      "Article Mischbrot FIT4, MAPE:23.12950411370845\n"
     ]
    }
   ],
   "source": [
    "MAE_2_FIT4 = mean_absolute_error(test_short_2.Mischbrot,fit4.forecast(75))\n",
    "MAPE_2_FIT4= mean_absolute_percentage_error(test_short_2.Mischbrot,fit4.forecast(75))\n",
    "print(f'Article {article} FIT4, MAE:{MAE_2_FIT4}')\n",
    "print(f'Article {article} FIT4, MAPE:{MAPE_2_FIT4}')\n",
    "df_results_Winters_Holt_OPT.loc['2',:] = ['Winters_Holt','Seas_mult/Trend_dampF',article,\n",
    "                                               MAE_2_FIT4,MAPE_2_FIT4]"
   ]
  },
  {
   "cell_type": "markdown",
   "metadata": {},
   "source": [
    "## Vollkornbrot"
   ]
  },
  {
   "cell_type": "code",
   "execution_count": 37,
   "metadata": {},
   "outputs": [],
   "source": [
    "fit1 = ExponentialSmoothing(train_short_2.Vollkornbrot, seasonal_periods=365, seasonal='add').fit(use_boxcox=True)\n",
    "fit2 = ExponentialSmoothing(train_short_2.Vollkornbrot, seasonal_periods=365,  seasonal='mul').fit(use_boxcox=True)\n",
    "fit3 = ExponentialSmoothing(train_short_2.Vollkornbrot, trend='add',damped=True,seasonal_periods=365, seasonal='add').fit(use_boxcox=True)\n",
    "fit4 = ExponentialSmoothing(train_short_2.Vollkornbrot, trend='add',damped=True,seasonal_periods=365, seasonal='mul').fit(use_boxcox=True)"
   ]
  },
  {
   "cell_type": "code",
   "execution_count": 38,
   "metadata": {},
   "outputs": [
    {
     "name": "stdout",
     "output_type": "stream",
     "text": [
      "Article Vollkornbrot FIT1, MAE:21.973916065965398\n",
      "Article Vollkornbrot FIT1, MAPE:16.727852410250655\n"
     ]
    }
   ],
   "source": [
    "article='Vollkornbrot'\n",
    "MAE_3_FIT1 = mean_absolute_error(test_short_2.Vollkornbrot,fit1.forecast(75))\n",
    "MAPE_3_FIT1= mean_absolute_percentage_error(test_short_2.Vollkornbrot,fit1.forecast(75))\n",
    "print(f'Article {article} FIT1, MAE:{MAE_3_FIT1}')\n",
    "print(f'Article {article} FIT1, MAPE:{MAPE_3_FIT1}')\n",
    "\n",
    "df_results_Winters_Holt_OPT.loc['3',:] = ['Winters_Holt','Seas_add',article,MAE_3_FIT1,MAPE_3_FIT1]\n"
   ]
  },
  {
   "cell_type": "code",
   "execution_count": 254,
   "metadata": {},
   "outputs": [
    {
     "name": "stdout",
     "output_type": "stream",
     "text": [
      "Article Vollkornbrot FIT2, MAE:22.380064353046066\n",
      "Article Vollkornbrot FIT2, MAPE:17.15132170084414\n"
     ]
    }
   ],
   "source": [
    "article='Vollkornbrot'\n",
    "MAE_3_FIT2 = mean_absolute_error(test_short_2.Vollkornbrot,fit2.forecast(75))\n",
    "MAPE_3_FIT2= mean_absolute_percentage_error(test_short_2.Vollkornbrot,fit2.forecast(75))\n",
    "print(f'Article {article} FIT2, MAE:{MAE_3_FIT2}')\n",
    "print(f'Article {article} FIT2, MAPE:{MAPE_3_FIT2}')"
   ]
  },
  {
   "cell_type": "code",
   "execution_count": 255,
   "metadata": {},
   "outputs": [
    {
     "name": "stdout",
     "output_type": "stream",
     "text": [
      "Article Vollkornbrot FIT3, MAE:21.851657027438968\n",
      "Article Vollkornbrot FIT3, MAPE:16.939464873867255\n"
     ]
    }
   ],
   "source": [
    "article='Vollkornbrot'\n",
    "MAE_3_FIT3 = mean_absolute_error(test_short_2.Vollkornbrot,fit3.forecast(75))\n",
    "MAPE_3_FIT3= mean_absolute_percentage_error(test_short_2.Vollkornbrot,fit3.forecast(75))\n",
    "print(f'Article {article} FIT3, MAE:{MAE_3_FIT3}')\n",
    "print(f'Article {article} FIT3, MAPE:{MAPE_3_FIT3}')"
   ]
  },
  {
   "cell_type": "code",
   "execution_count": 256,
   "metadata": {},
   "outputs": [
    {
     "name": "stdout",
     "output_type": "stream",
     "text": [
      "Article Vollkornbrot FIT4, MAE:22.28640606796929\n",
      "Article Vollkornbrot FIT4, MAPE:16.987065913740405\n"
     ]
    }
   ],
   "source": [
    "article='Vollkornbrot'\n",
    "MAE_3_FIT4 = mean_absolute_error(test_short_2.Vollkornbrot,fit4.forecast(75))\n",
    "MAPE_3_FIT4= mean_absolute_percentage_error(test_short_2.Vollkornbrot,fit4.forecast(75))\n",
    "print(f'Article {article} FIT4, MAE:{MAE_3_FIT4}')\n",
    "print(f'Article {article} FIT4, MAPE:{MAPE_3_FIT4}')"
   ]
  },
  {
   "cell_type": "markdown",
   "metadata": {},
   "source": [
    "## Spezialbrot"
   ]
  },
  {
   "cell_type": "code",
   "execution_count": 39,
   "metadata": {},
   "outputs": [],
   "source": [
    "article='Spezialbrot'"
   ]
  },
  {
   "cell_type": "code",
   "execution_count": 40,
   "metadata": {},
   "outputs": [],
   "source": [
    "fit1 = ExponentialSmoothing(train_short_2[article], seasonal_periods=365, seasonal='add').fit(use_boxcox=True)\n",
    "fit2 = ExponentialSmoothing(train_short_2[article], seasonal_periods=365,  seasonal='mul').fit(use_boxcox=True)"
   ]
  },
  {
   "cell_type": "code",
   "execution_count": 41,
   "metadata": {},
   "outputs": [],
   "source": [
    "fit3 = ExponentialSmoothing(train_short_2[article], trend='add',damped=True,seasonal_periods=365, seasonal='add').fit(use_boxcox=True)\n",
    "fit4 = ExponentialSmoothing(train_short_2[article], trend='add',damped=True,seasonal_periods=365, seasonal='mul').fit(use_boxcox=True)"
   ]
  },
  {
   "cell_type": "code",
   "execution_count": 301,
   "metadata": {},
   "outputs": [
    {
     "name": "stdout",
     "output_type": "stream",
     "text": [
      "Article Spezialbrot FIT1, MAE:11.115681266847174\n",
      "Article Spezialbrot FIT1, MAPE:15.44578497695416\n"
     ]
    }
   ],
   "source": [
    "MAE_4_FIT1 = mean_absolute_error(test_short_2[article],fit1.forecast(75))\n",
    "MAPE_4_FIT1= mean_absolute_percentage_error(test_short_2[article],fit1.forecast(75))\n",
    "print(f'Article {article} FIT1, MAE:{MAE_4_FIT1}')\n",
    "print(f'Article {article} FIT1, MAPE:{MAPE_4_FIT1}')"
   ]
  },
  {
   "cell_type": "code",
   "execution_count": 302,
   "metadata": {},
   "outputs": [
    {
     "name": "stdout",
     "output_type": "stream",
     "text": [
      "Article Spezialbrot FIT2, MAE:11.10858078511261\n",
      "Article Spezialbrot FIT2, MAPE:15.437774067445414\n"
     ]
    }
   ],
   "source": [
    "MAE_4_FIT2 = mean_absolute_error(test_short_2[article],fit2.forecast(75))\n",
    "MAPE_4_FIT2= mean_absolute_percentage_error(test_short_2[article],fit2.forecast(75))\n",
    "print(f'Article {article} FIT2, MAE:{MAE_4_FIT2}')\n",
    "print(f'Article {article} FIT2, MAPE:{MAPE_4_FIT2}')"
   ]
  },
  {
   "cell_type": "code",
   "execution_count": 42,
   "metadata": {},
   "outputs": [
    {
     "name": "stdout",
     "output_type": "stream",
     "text": [
      "Article Spezialbrot FIT3, MAE:11.203307147670893\n",
      "Article Spezialbrot FIT3, MAPE:15.361159697394333\n"
     ]
    }
   ],
   "source": [
    "MAE_4_FIT3 = mean_absolute_error(test_short_2[article],fit3.forecast(75))\n",
    "MAPE_4_FIT3= mean_absolute_percentage_error(test_short_2[article],fit3.forecast(75))\n",
    "print(f'Article {article} FIT3, MAE:{MAE_4_FIT3}')\n",
    "print(f'Article {article} FIT3, MAPE:{MAPE_4_FIT3}')\n",
    "\n",
    "df_results_Winters_Holt_OPT.loc['4',:] = ['Winters_Holt','Seas_add/Trend_damp',article,MAE_4_FIT3,MAPE_4_FIT3]\n"
   ]
  },
  {
   "cell_type": "code",
   "execution_count": 310,
   "metadata": {},
   "outputs": [
    {
     "name": "stdout",
     "output_type": "stream",
     "text": [
      "Article Spezialbrot FIT4, MAE:11.195197150916865\n",
      "Article Spezialbrot FIT4, MAPE:15.375044122384166\n"
     ]
    }
   ],
   "source": [
    "MAE_4_FIT4 = mean_absolute_error(test_short_2[article],fit4.forecast(75))\n",
    "MAPE_4_FIT4= mean_absolute_percentage_error(test_short_2[article],fit4.forecast(75))\n",
    "#df_results_Prophet_Opt=df_results_Prophet_Opt.append({'Model' : 'Prophet-OPT' , 'Label' : article, 'MAE' : MAE,'MAPE' : MAPE} , ignore_index=True)\n",
    "print(f'Article {article} FIT4, MAE:{MAE_4_FIT4}')\n",
    "print(f'Article {article} FIT4, MAPE:{MAPE_4_FIT4}')\n",
    "df_results_Prophet_Winters_Holt.loc['16',:] = ['Winters_Holt','Seas_mult/Trend_damp',article,\n",
    "                                               MAE_4_FIT4,MAPE_4_FIT4]"
   ]
  },
  {
   "cell_type": "code",
   "execution_count": null,
   "metadata": {},
   "outputs": [],
   "source": []
  },
  {
   "cell_type": "markdown",
   "metadata": {},
   "source": [
    "## Stangenbrote"
   ]
  },
  {
   "cell_type": "code",
   "execution_count": 43,
   "metadata": {},
   "outputs": [],
   "source": [
    "article='Stangenbrote'"
   ]
  },
  {
   "cell_type": "code",
   "execution_count": 315,
   "metadata": {},
   "outputs": [],
   "source": [
    "fit1 = ExponentialSmoothing(train_short_2[article], seasonal_periods=365, seasonal='add').fit(use_boxcox=True)\n",
    "fit2 = ExponentialSmoothing(train_short_2[article], seasonal_periods=365,  seasonal='mul').fit(use_boxcox=True)"
   ]
  },
  {
   "cell_type": "code",
   "execution_count": 44,
   "metadata": {},
   "outputs": [],
   "source": [
    "fit3 = ExponentialSmoothing(train_short_2[article], trend='add',damped=True,seasonal_periods=365, seasonal='add').fit(use_boxcox=True)\n",
    "fit4 = ExponentialSmoothing(train_short_2[article], trend='add',damped=True,seasonal_periods=365, seasonal='mul').fit(use_boxcox=True)"
   ]
  },
  {
   "cell_type": "code",
   "execution_count": 317,
   "metadata": {},
   "outputs": [
    {
     "name": "stdout",
     "output_type": "stream",
     "text": [
      "Article Stangenbrote FIT1, MAE:14.471898211294244\n",
      "Article Stangenbrote FIT1, MAPE:40.45194693780696\n"
     ]
    }
   ],
   "source": [
    "MAE_5_FIT1 = mean_absolute_error(test_short_2[article],fit1.forecast(75))\n",
    "MAPE_5_FIT1= mean_absolute_percentage_error(test_short_2[article],fit1.forecast(75))\n",
    "print(f'Article {article} FIT1, MAE:{MAE_5_FIT1}')\n",
    "print(f'Article {article} FIT1, MAPE:{MAPE_5_FIT1}')"
   ]
  },
  {
   "cell_type": "code",
   "execution_count": 318,
   "metadata": {},
   "outputs": [
    {
     "name": "stdout",
     "output_type": "stream",
     "text": [
      "Article Stangenbrote FIT2, MAE:17.104221446152774\n",
      "Article Stangenbrote FIT2, MAPE:52.50654551976734\n"
     ]
    }
   ],
   "source": [
    "MAE_5_FIT2 = mean_absolute_error(test_short_2[article],fit2.forecast(75))\n",
    "MAPE_5_FIT2= mean_absolute_percentage_error(test_short_2[article],fit2.forecast(75))\n",
    "print(f'Article {article} FIT2, MAE:{MAE_5_FIT2}')\n",
    "print(f'Article {article} FIT2, MAPE:{MAPE_5_FIT2}')"
   ]
  },
  {
   "cell_type": "code",
   "execution_count": 325,
   "metadata": {},
   "outputs": [
    {
     "name": "stdout",
     "output_type": "stream",
     "text": [
      "Article Stangenbrote FIT3, MAE:13.852679695979617\n",
      "Article Stangenbrote FIT3, MAPE:43.3186281846247\n"
     ]
    }
   ],
   "source": [
    "MAE_5_FIT3 = mean_absolute_error(test_short_2[article],fit3.forecast(75))\n",
    "MAPE_5_FIT3= mean_absolute_percentage_error(test_short_2[article],fit3.forecast(75))\n",
    "\n",
    "print(f'Article {article} FIT3, MAE:{MAE_5_FIT3}')\n",
    "print(f'Article {article} FIT3, MAPE:{MAPE_5_FIT3}')"
   ]
  },
  {
   "cell_type": "code",
   "execution_count": 45,
   "metadata": {},
   "outputs": [
    {
     "name": "stdout",
     "output_type": "stream",
     "text": [
      "Article Stangenbrote FIT4, MAE:13.725387248414506\n",
      "Article Stangenbrote FIT4, MAPE:38.97711072897021\n"
     ]
    }
   ],
   "source": [
    "MAE_5_FIT4 = mean_absolute_error(test_short_2[article],fit4.forecast(75))\n",
    "MAPE_5_FIT4= mean_absolute_percentage_error(test_short_2[article],fit4.forecast(75))\n",
    "\n",
    "print(f'Article {article} FIT4, MAE:{MAE_5_FIT4}')\n",
    "print(f'Article {article} FIT4, MAPE:{MAPE_5_FIT4}')\n",
    "\n",
    "df_results_Winters_Holt_OPT.loc['5',:] = ['Winters_Holt','Seas_mult/Trend_damp',article,\n",
    "                                               MAE_5_FIT4,MAPE_5_FIT4]\n"
   ]
  },
  {
   "cell_type": "markdown",
   "metadata": {},
   "source": [
    "## Brötchen"
   ]
  },
  {
   "cell_type": "code",
   "execution_count": 46,
   "metadata": {},
   "outputs": [],
   "source": [
    "fit1 = ExponentialSmoothing(train_short_2.Brötchen, seasonal_periods=365, seasonal='add').fit(use_boxcox=True)\n",
    "fit2 = ExponentialSmoothing(train_short_2.Brötchen, seasonal_periods=365,  seasonal='mul').fit(use_boxcox=True)\n",
    "fit3 = ExponentialSmoothing(train_short_2.Brötchen, seasonal_periods=365,trend='add',damped=False, seasonal='add').fit(use_boxcox=True)\n",
    "fit4 = ExponentialSmoothing(train_short_2.Brötchen, seasonal_periods=365,trend='add',damped=False, seasonal='mul').fit(use_boxcox=True)"
   ]
  },
  {
   "cell_type": "code",
   "execution_count": 351,
   "metadata": {},
   "outputs": [],
   "source": [
    "#fit1.fittedvalues.plot(style='--', color='red')\n",
    "#fit2.fittedvalues.plot(style='--', color='green')\n",
    "\n",
    "#fit1.forecast(12).plot(style='--', marker='o', color='red', legend=True)\n",
    "#fit2.forecast(12).plot(style='--', marker='o', color='green', legend=True)\n",
    "\n",
    "#plt.show()\n",
    "#print(\"Forecasting sales of properties using Holt-Winters method with both additive and multiplicative seasonality.\")"
   ]
  },
  {
   "cell_type": "code",
   "execution_count": 47,
   "metadata": {},
   "outputs": [
    {
     "name": "stdout",
     "output_type": "stream",
     "text": [
      "Article Brötchen FIT1, MAE:87.61023077580506\n",
      "Article Brötchen FIT1, MAPE:26.06264882808942\n"
     ]
    }
   ],
   "source": [
    "article='Brötchen'\n",
    "MAE_6_FIT1 = mean_absolute_error(test_short_2.Brötchen,fit1.forecast(75))\n",
    "MAPE_6_FIT1= mean_absolute_percentage_error(test_short_2.Brötchen,fit1.forecast(75))\n",
    "print(f'Article {article} FIT1, MAE:{MAE_6_FIT1}')\n",
    "print(f'Article {article} FIT1, MAPE:{MAPE_6_FIT1}')\n",
    "df_results_Winters_Holt_OPT.loc['6',:] = ['Winters_Holt','Seas_add','Brötchen',\n",
    "                                               MAE_6_FIT1,MAPE_6_FIT1]"
   ]
  },
  {
   "cell_type": "code",
   "execution_count": 198,
   "metadata": {},
   "outputs": [
    {
     "name": "stdout",
     "output_type": "stream",
     "text": [
      "Article Brötchen FIT2, MAE:86.67432133015389\n",
      "Article Brötchen FIT2, MAPE:25.61599237420222\n"
     ]
    }
   ],
   "source": [
    "article='Brötchen'\n",
    "MAE_6_FIT2 = mean_absolute_error(test_short_2.Brötchen,fit2.forecast(75))\n",
    "MAPE_6_FIT2= mean_absolute_percentage_error(test_short_2.Brötchen,fit2.forecast(75))\n",
    "print(f'Article {article} FIT2, MAE:{MAE_6_FIT2}')\n",
    "print(f'Article {article} FIT2, MAPE:{MAPE_6_FIT2}')"
   ]
  },
  {
   "cell_type": "code",
   "execution_count": 336,
   "metadata": {},
   "outputs": [
    {
     "name": "stdout",
     "output_type": "stream",
     "text": [
      "Article Brötchen FIT3, MAE:86.7023071671584\n",
      "Article Brötchen FIT3, MAPE:25.94620784980825\n"
     ]
    }
   ],
   "source": [
    "article='Brötchen'\n",
    "MAE_6_FIT3 = mean_absolute_error(test_short_2.Brötchen,fit3.forecast(75))\n",
    "MAPE_6_FIT3= mean_absolute_percentage_error(test_short_2.Brötchen,fit3.forecast(75))\n",
    "print(f'Article {article} FIT3, MAE:{MAE_6_FIT3}')\n",
    "print(f'Article {article} FIT3, MAPE:{MAPE_6_FIT3}')"
   ]
  },
  {
   "cell_type": "code",
   "execution_count": 337,
   "metadata": {},
   "outputs": [
    {
     "name": "stdout",
     "output_type": "stream",
     "text": [
      "Article Brötchen FIT4, MAE:86.904749185034\n",
      "Article Brötchen FIT4, MAPE:25.96423400502475\n"
     ]
    }
   ],
   "source": [
    "article='Brötchen'\n",
    "MAE_6_FIT4 = mean_absolute_error(test_short_2.Brötchen,fit4.forecast(75))\n",
    "MAPE_6_FIT4= mean_absolute_percentage_error(test_short_2.Brötchen,fit4.forecast(75))\n",
    "print(f'Article {article} FIT4, MAE:{MAE_6_FIT4}')\n",
    "print(f'Article {article} FIT4, MAPE:{MAPE_6_FIT4}')"
   ]
  },
  {
   "cell_type": "markdown",
   "metadata": {},
   "source": [
    "## Süsse Brötchen"
   ]
  },
  {
   "cell_type": "code",
   "execution_count": 48,
   "metadata": {},
   "outputs": [],
   "source": [
    "fit1 = ExponentialSmoothing(train_short_2.Süsse_Brötchen, seasonal_periods=365, seasonal='add').fit(use_boxcox=True)\n",
    "fit2 = ExponentialSmoothing(train_short_2.Süsse_Brötchen, seasonal_periods=365,  seasonal='mul').fit(use_boxcox=True)\n",
    "fit3 = ExponentialSmoothing(train_short_2.Süsse_Brötchen,trend='add',damped=True, seasonal_periods=365, seasonal='add').fit(use_boxcox=True)\n",
    "fit4 = ExponentialSmoothing(train_short_2.Süsse_Brötchen,trend='add',damped=True, seasonal_periods=365, seasonal='mul').fit(use_boxcox=True)"
   ]
  },
  {
   "cell_type": "code",
   "execution_count": 208,
   "metadata": {},
   "outputs": [
    {
     "name": "stdout",
     "output_type": "stream",
     "text": [
      "Article Süsse_Brötchen FIT1, MAE:48.03039285748446\n",
      "Article Süsse_Brötchen FIT1, MAPE:23.073277415820954\n"
     ]
    }
   ],
   "source": [
    "article='Süsse_Brötchen'\n",
    "MAE_7_FIT1 = mean_absolute_error(test_short_2.Süsse_Brötchen,fit1.forecast(75))\n",
    "MAPE_7_FIT1= mean_absolute_percentage_error(test_short_2.Süsse_Brötchen,fit1.forecast(75))\n",
    "print(f'Article {article} FIT1, MAE:{MAE_7_FIT1}')\n",
    "print(f'Article {article} FIT1, MAPE:{MAPE_7_FIT1}')"
   ]
  },
  {
   "cell_type": "code",
   "execution_count": 209,
   "metadata": {},
   "outputs": [
    {
     "name": "stdout",
     "output_type": "stream",
     "text": [
      "Article Süsse_Brötchen FIT2, MAE:40.79222261854292\n",
      "Article Süsse_Brötchen FIT2, MAPE:21.35539637431054\n"
     ]
    }
   ],
   "source": [
    "article='Süsse_Brötchen'\n",
    "MAE_7_FIT2 = mean_absolute_error(test_short_2.Süsse_Brötchen,fit2.forecast(75))\n",
    "MAPE_7_FIT2= mean_absolute_percentage_error(test_short_2.Süsse_Brötchen,fit2.forecast(75))\n",
    "print(f'Article {article} FIT2, MAE:{MAE_7_FIT2}')\n",
    "print(f'Article {article} FIT2, MAPE:{MAPE_7_FIT2}')"
   ]
  },
  {
   "cell_type": "code",
   "execution_count": 346,
   "metadata": {},
   "outputs": [
    {
     "name": "stdout",
     "output_type": "stream",
     "text": [
      "Article Süsse_Brötchen FIT3, MAE:38.23940347223121\n",
      "Article Süsse_Brötchen FIT3, MAPE:19.025496252622226\n"
     ]
    }
   ],
   "source": [
    "article='Süsse_Brötchen'\n",
    "MAE_7_FIT3 = mean_absolute_error(test_short_2.Süsse_Brötchen,fit3.forecast(75))\n",
    "MAPE_7_FIT3= mean_absolute_percentage_error(test_short_2.Süsse_Brötchen,fit3.forecast(75))\n",
    "print(f'Article {article} FIT3, MAE:{MAE_7_FIT3}')\n",
    "print(f'Article {article} FIT3, MAPE:{MAPE_7_FIT3}')"
   ]
  },
  {
   "cell_type": "code",
   "execution_count": 49,
   "metadata": {},
   "outputs": [
    {
     "name": "stdout",
     "output_type": "stream",
     "text": [
      "Article Süsse_Brötchen FIT4, MAE:38.22934297818093\n",
      "Article Süsse_Brötchen FIT4, MAPE:19.01860321706809\n"
     ]
    }
   ],
   "source": [
    "article='Süsse_Brötchen'\n",
    "MAE_7_FIT4 = mean_absolute_error(test_short_2.Süsse_Brötchen,fit4.forecast(75))\n",
    "MAPE_7_FIT4= mean_absolute_percentage_error(test_short_2.Süsse_Brötchen,fit4.forecast(75))\n",
    "print(f'Article {article} FIT4, MAE:{MAE_7_FIT4}')\n",
    "print(f'Article {article} FIT4, MAPE:{MAPE_7_FIT4}')\n",
    "df_results_Winters_Holt_OPT.loc['7',:] = ['Winters_Holt','Seas_mult/Trend_damp','Süsse_Brötchen',\n",
    "                                               MAE_7_FIT4,MAPE_7_FIT4]"
   ]
  },
  {
   "cell_type": "markdown",
   "metadata": {},
   "source": [
    "## Herzhafte Brötchen"
   ]
  },
  {
   "cell_type": "code",
   "execution_count": 50,
   "metadata": {},
   "outputs": [],
   "source": [
    "fit1 = ExponentialSmoothing(train_short_2.Herzhafte_Brötchen, seasonal_periods=365, seasonal='add').fit(use_boxcox=True)\n",
    "fit2 = ExponentialSmoothing(train_short_2.Herzhafte_Brötchen, seasonal_periods=365,  seasonal='mul').fit(use_boxcox=True)\n",
    "fit3 = ExponentialSmoothing(train_short_2.Herzhafte_Brötchen, trend='add',damped=True,seasonal_periods=365, seasonal='add').fit(use_boxcox=True)\n",
    "fit4 = ExponentialSmoothing(train_short_2.Herzhafte_Brötchen, trend='add',damped=True,seasonal_periods=365, seasonal='mul').fit(use_boxcox=True)"
   ]
  },
  {
   "cell_type": "code",
   "execution_count": 215,
   "metadata": {},
   "outputs": [
    {
     "name": "stdout",
     "output_type": "stream",
     "text": [
      "Article Herzhafte_Brötchen FIT1, MAE:19.723671734105334\n",
      "Article Herzhafte_Brötchen FIT1, MAPE:24.930660559915594\n"
     ]
    }
   ],
   "source": [
    "article='Herzhafte_Brötchen'\n",
    "MAE_8_FIT1 = mean_absolute_error(test_short_2.Herzhafte_Brötchen,fit1.forecast(75))\n",
    "MAPE_8_FIT1= mean_absolute_percentage_error(test_short_2.Herzhafte_Brötchen,fit1.forecast(75))\n",
    "print(f'Article {article} FIT1, MAE:{MAE_8_FIT1}')\n",
    "print(f'Article {article} FIT1, MAPE:{MAPE_8_FIT1}')"
   ]
  },
  {
   "cell_type": "code",
   "execution_count": 216,
   "metadata": {},
   "outputs": [
    {
     "name": "stdout",
     "output_type": "stream",
     "text": [
      "Article Herzhafte_Brötchen FIT2, MAE:19.794664478524428\n",
      "Article Herzhafte_Brötchen FIT2, MAPE:24.982263548416675\n"
     ]
    }
   ],
   "source": [
    "article='Herzhafte_Brötchen'\n",
    "MAE_8_FIT2 = mean_absolute_error(test_short_2.Herzhafte_Brötchen,fit2.forecast(75))\n",
    "MAPE_8_FIT2= mean_absolute_percentage_error(test_short_2.Herzhafte_Brötchen,fit2.forecast(75))\n",
    "print(f'Article {article} FIT2, MAE:{MAE_8_FIT2}')\n",
    "print(f'Article {article} FIT2, MAPE:{MAPE_8_FIT2}')"
   ]
  },
  {
   "cell_type": "code",
   "execution_count": 221,
   "metadata": {},
   "outputs": [
    {
     "name": "stdout",
     "output_type": "stream",
     "text": [
      "Article Herzhafte_Brötchen FIT3, MAE:19.812558188945324\n",
      "Article Herzhafte_Brötchen FIT3, MAPE:25.206787311948492\n"
     ]
    }
   ],
   "source": [
    "article='Herzhafte_Brötchen'\n",
    "MAE_8_FIT3 = mean_absolute_error(test_short_2.Herzhafte_Brötchen,fit3.forecast(75))\n",
    "MAPE_8_FIT3= mean_absolute_percentage_error(test_short_2.Herzhafte_Brötchen,fit3.forecast(75))\n",
    "print(f'Article {article} FIT3, MAE:{MAE_8_FIT3}')\n",
    "print(f'Article {article} FIT3, MAPE:{MAPE_8_FIT3}')"
   ]
  },
  {
   "cell_type": "code",
   "execution_count": 51,
   "metadata": {},
   "outputs": [
    {
     "name": "stdout",
     "output_type": "stream",
     "text": [
      "Article Herzhafte_Brötchen FIT4, MAE:19.69578533996954\n",
      "Article Herzhafte_Brötchen FIT4, MAPE:24.797427934740586\n"
     ]
    }
   ],
   "source": [
    "article='Herzhafte_Brötchen'\n",
    "MAE_8_FIT4 = mean_absolute_error(test_short_2.Herzhafte_Brötchen,fit4.forecast(75))\n",
    "MAPE_8_FIT4= mean_absolute_percentage_error(test_short_2.Herzhafte_Brötchen,fit4.forecast(75))\n",
    "print(f'Article {article} FIT4, MAE:{MAE_8_FIT4}')\n",
    "print(f'Article {article} FIT4, MAPE:{MAPE_8_FIT4}')\n",
    "df_results_Winters_Holt_OPT.loc['8',:] = ['Winters_Holt','Seas_mult/Trend_damp','Herzhafte_Brötchen',\n",
    "                                               MAE_8_FIT4,MAPE_8_FIT4]"
   ]
  },
  {
   "cell_type": "markdown",
   "metadata": {},
   "source": [
    "## KonditoreiBlech"
   ]
  },
  {
   "cell_type": "code",
   "execution_count": 52,
   "metadata": {},
   "outputs": [],
   "source": [
    "fit1 = ExponentialSmoothing(train_short_2.KonditoreiBlech, seasonal_periods=365, seasonal='add').fit(use_boxcox=True)\n",
    "fit2 = ExponentialSmoothing(train_short_2.KonditoreiBlech, seasonal_periods=365,  seasonal='mul').fit(use_boxcox=True)\n",
    "fit3 = ExponentialSmoothing(train_short_2.KonditoreiBlech, trend='add',damped=True,seasonal_periods=365, seasonal='add').fit(use_boxcox=True)\n",
    "fit4 = ExponentialSmoothing(train_short_2.KonditoreiBlech, trend='add',damped=True,seasonal_periods=365, seasonal='mul').fit(use_boxcox=True)"
   ]
  },
  {
   "cell_type": "code",
   "execution_count": 235,
   "metadata": {},
   "outputs": [],
   "source": [
    "article='KonditoreiBlech'"
   ]
  },
  {
   "cell_type": "code",
   "execution_count": 53,
   "metadata": {},
   "outputs": [
    {
     "name": "stdout",
     "output_type": "stream",
     "text": [
      "Article Herzhafte_Brötchen FIT1, MAE:28.026943710590494\n",
      "Article Herzhafte_Brötchen FIT1, MAPE:31.7257535020956\n"
     ]
    }
   ],
   "source": [
    "MAE_9_FIT1 = mean_absolute_error(test_short_2.KonditoreiBlech,fit1.forecast(75))\n",
    "MAPE_9_FIT1= mean_absolute_percentage_error(test_short_2.KonditoreiBlech,fit1.forecast(75))\n",
    "print(f'Article {article} FIT1, MAE:{MAE_9_FIT1}')\n",
    "print(f'Article {article} FIT1, MAPE:{MAPE_9_FIT1}')\n",
    "df_results_Winters_Holt_OPT.loc['9',:] = ['Winters_Holt','Seas_add','KonditoreiBlech',\n",
    "                                               MAE_9_FIT1,MAPE_9_FIT1]"
   ]
  },
  {
   "cell_type": "code",
   "execution_count": 237,
   "metadata": {},
   "outputs": [
    {
     "name": "stdout",
     "output_type": "stream",
     "text": [
      "Article KonditoreiBlech FIT2, MAE:29.242160202222312\n",
      "Article KonditoreiBlech FIT2, MAPE:34.27948191939469\n"
     ]
    }
   ],
   "source": [
    "MAE_9_FIT2 = mean_absolute_error(test_short_2.KonditoreiBlech,fit2.forecast(75))\n",
    "MAPE_9_FIT2= mean_absolute_percentage_error(test_short_2.KonditoreiBlech,fit2.forecast(75))\n",
    "print(f'Article {article} FIT2, MAE:{MAE_9_FIT2}')\n",
    "print(f'Article {article} FIT2, MAPE:{MAPE_9_FIT2}')"
   ]
  },
  {
   "cell_type": "code",
   "execution_count": 238,
   "metadata": {},
   "outputs": [
    {
     "name": "stdout",
     "output_type": "stream",
     "text": [
      "Article KonditoreiBlech FIT3, MAE:28.318437036556496\n",
      "Article KonditoreiBlech FIT3, MAPE:32.63234448602855\n"
     ]
    }
   ],
   "source": [
    "MAE_9_FIT3 = mean_absolute_error(test_short_2.KonditoreiBlech,fit3.forecast(75))\n",
    "MAPE_9_FIT3= mean_absolute_percentage_error(test_short_2.KonditoreiBlech,fit3.forecast(75))\n",
    "print(f'Article {article} FIT3, MAE:{MAE_9_FIT3}')\n",
    "print(f'Article {article} FIT3, MAPE:{MAPE_9_FIT3}')"
   ]
  },
  {
   "cell_type": "code",
   "execution_count": 239,
   "metadata": {},
   "outputs": [
    {
     "name": "stdout",
     "output_type": "stream",
     "text": [
      "Article KonditoreiBlech FIT4, MAE:29.56181233444167\n",
      "Article KonditoreiBlech FIT4, MAPE:35.04192564173172\n"
     ]
    }
   ],
   "source": [
    "MAE_9_FIT4 = mean_absolute_error(test_short_2.KonditoreiBlech,fit4.forecast(75))\n",
    "MAPE_9_FIT4= mean_absolute_percentage_error(test_short_2.KonditoreiBlech,fit4.forecast(75))\n",
    "print(f'Article {article} FIT4, MAE:{MAE_9_FIT4}')\n",
    "print(f'Article {article} FIT4, MAPE:{MAPE_9_FIT4}')"
   ]
  },
  {
   "cell_type": "code",
   "execution_count": null,
   "metadata": {},
   "outputs": [],
   "source": []
  },
  {
   "cell_type": "markdown",
   "metadata": {},
   "source": [
    "## Stückgebäck"
   ]
  },
  {
   "cell_type": "code",
   "execution_count": 54,
   "metadata": {},
   "outputs": [],
   "source": [
    "article='Stückgebäck'"
   ]
  },
  {
   "cell_type": "code",
   "execution_count": 358,
   "metadata": {},
   "outputs": [],
   "source": [
    "fit1 = ExponentialSmoothing(train_short_2[article], seasonal_periods=365, seasonal='add').fit(use_boxcox=True)\n",
    "fit2 = ExponentialSmoothing(train_short_2[article], seasonal_periods=365,  seasonal='mul').fit(use_boxcox=True)"
   ]
  },
  {
   "cell_type": "code",
   "execution_count": 55,
   "metadata": {},
   "outputs": [],
   "source": [
    "fit3 = ExponentialSmoothing(train_short_2[article], trend='add',damped=True,seasonal_periods=365, seasonal='add').fit(use_boxcox=True)\n",
    "fit4 = ExponentialSmoothing(train_short_2[article], trend='add',damped=True,seasonal_periods=365, seasonal='mul').fit(use_boxcox=True)"
   ]
  },
  {
   "cell_type": "code",
   "execution_count": 360,
   "metadata": {},
   "outputs": [
    {
     "name": "stdout",
     "output_type": "stream",
     "text": [
      "Article Stückgebäck FIT1, MAE:50.95364064758407\n",
      "Article Stückgebäck FIT1, MAPE:37.95344809290997\n"
     ]
    }
   ],
   "source": [
    "MAE_10_FIT1 = mean_absolute_error(test_short_2[article],fit1.forecast(75))\n",
    "MAPE_10_FIT1= mean_absolute_percentage_error(test_short_2[article],fit1.forecast(75))\n",
    "print(f'Article {article} FIT1, MAE:{MAE_10_FIT1}')\n",
    "print(f'Article {article} FIT1, MAPE:{MAPE_10_FIT1}')\n"
   ]
  },
  {
   "cell_type": "code",
   "execution_count": 361,
   "metadata": {},
   "outputs": [
    {
     "name": "stdout",
     "output_type": "stream",
     "text": [
      "Article Stückgebäck FIT2, MAE:51.40603285754276\n",
      "Article Stückgebäck FIT2, MAPE:38.250780694687506\n"
     ]
    }
   ],
   "source": [
    "MAE_10_FIT2 = mean_absolute_error(test_short_2[article],fit2.forecast(75))\n",
    "MAPE_10_FIT2= mean_absolute_percentage_error(test_short_2[article],fit2.forecast(75))\n",
    "\n",
    "print(f'Article {article} FIT2, MAE:{MAE_10_FIT2}')\n",
    "print(f'Article {article} FIT2, MAPE:{MAPE_10_FIT2}')\n"
   ]
  },
  {
   "cell_type": "code",
   "execution_count": 56,
   "metadata": {},
   "outputs": [
    {
     "name": "stdout",
     "output_type": "stream",
     "text": [
      "Article Stückgebäck FIT3, MAE:44.12044451225513\n",
      "Article Stückgebäck FIT3, MAPE:29.72755451411623\n"
     ]
    }
   ],
   "source": [
    "MAE_10_FIT3 = mean_absolute_error(test_short_2[article],fit3.forecast(75))\n",
    "MAPE_10_FIT3= mean_absolute_percentage_error(test_short_2[article],fit3.forecast(75))\n",
    "print(f'Article {article} FIT3, MAE:{MAE_10_FIT3}')\n",
    "print(f'Article {article} FIT3, MAPE:{MAPE_10_FIT3}')\n",
    "\n",
    "df_results_Winters_Holt_OPT.loc['10',:] = ['Winters_Holt','Seas_mult/Trend_damp',article,\n",
    "                                               MAE_10_FIT3,MAPE_10_FIT3]\n"
   ]
  },
  {
   "cell_type": "code",
   "execution_count": 371,
   "metadata": {},
   "outputs": [
    {
     "name": "stdout",
     "output_type": "stream",
     "text": [
      "Article Stückgebäck FIT4, MAE:44.42605101956507\n",
      "Article Stückgebäck FIT4, MAPE:29.793781238119855\n"
     ]
    }
   ],
   "source": [
    "MAE_10_FIT4 = mean_absolute_error(test_short_2[article],fit4.forecast(75))\n",
    "MAPE_10_FIT4= mean_absolute_percentage_error(test_short_2[article],fit4.forecast(75))\n",
    "\n",
    "print(f'Article {article} FIT4, MAE:{MAE_10_FIT4}')\n",
    "print(f'Article {article} FIT4, MAPE:{MAPE_10_FIT4}')\n",
    "\n",
    "#df_results_Prophet_Winters_Holt_OPT.loc['5',:] = ['Winters_Holt','Seas_mult/Trend_damp',article,\n",
    "                                              # MAE_5_FIT4,MAPE_5_FIT4]\n"
   ]
  },
  {
   "cell_type": "markdown",
   "metadata": {},
   "source": [
    "## Blechkuchen"
   ]
  },
  {
   "cell_type": "code",
   "execution_count": 58,
   "metadata": {},
   "outputs": [],
   "source": [
    "article='Blechkuchen'"
   ]
  },
  {
   "cell_type": "code",
   "execution_count": 59,
   "metadata": {},
   "outputs": [],
   "source": [
    "fit1 = ExponentialSmoothing(train_short_2[article], seasonal_periods=365, seasonal='add').fit(use_boxcox=True)\n",
    "fit2 = ExponentialSmoothing(train_short_2[article], seasonal_periods=365,  seasonal='mul').fit(use_boxcox=True)"
   ]
  },
  {
   "cell_type": "code",
   "execution_count": 382,
   "metadata": {},
   "outputs": [],
   "source": [
    "fit3 = ExponentialSmoothing(train_short_2[article], trend='add',damped=False,seasonal_periods=365, seasonal='add').fit(use_boxcox=True)\n",
    "fit4 = ExponentialSmoothing(train_short_2[article], trend='add',damped=False,seasonal_periods=365, seasonal='mul').fit(use_boxcox=True)"
   ]
  },
  {
   "cell_type": "code",
   "execution_count": 378,
   "metadata": {},
   "outputs": [
    {
     "name": "stdout",
     "output_type": "stream",
     "text": [
      "Article Blechkuchen FIT1, MAE:30.86429337400019\n",
      "Article Blechkuchen FIT1, MAPE:39.36827984958145\n"
     ]
    }
   ],
   "source": [
    "MAE_11_FIT1 = mean_absolute_error(test_short_2[article],fit1.forecast(75))\n",
    "MAPE_11_FIT1= mean_absolute_percentage_error(test_short_2[article],fit1.forecast(75))\n",
    "print(f'Article {article} FIT1, MAE:{MAE_11_FIT1}')\n",
    "print(f'Article {article} FIT1, MAPE:{MAPE_11_FIT1}')"
   ]
  },
  {
   "cell_type": "code",
   "execution_count": 60,
   "metadata": {},
   "outputs": [
    {
     "name": "stdout",
     "output_type": "stream",
     "text": [
      "Article Blechkuchen FIT2, MAE:30.226688088493756\n",
      "Article Blechkuchen FIT2, MAPE:38.22937007318673\n"
     ]
    }
   ],
   "source": [
    "MAE_11_FIT2 = mean_absolute_error(test_short_2[article],fit2.forecast(75))\n",
    "MAPE_11_FIT2= mean_absolute_percentage_error(test_short_2[article],fit2.forecast(75))\n",
    "print(f'Article {article} FIT2, MAE:{MAE_11_FIT2}')\n",
    "print(f'Article {article} FIT2, MAPE:{MAPE_11_FIT2}')\n",
    "df_results_Winters_Holt_OPT.loc['11',:] = ['Winters_Holt','Seas_mult',article,\n",
    "                                              MAE_11_FIT2,MAPE_11_FIT2]\n"
   ]
  },
  {
   "cell_type": "code",
   "execution_count": 383,
   "metadata": {},
   "outputs": [
    {
     "name": "stdout",
     "output_type": "stream",
     "text": [
      "Article Blechkuchen FIT3, MAE:31.14545178473422\n",
      "Article Blechkuchen FIT3, MAPE:39.09636377000933\n"
     ]
    }
   ],
   "source": [
    "MAE_11_FIT3 = mean_absolute_error(test_short_2[article],fit3.forecast(75))\n",
    "MAPE_11_FIT3= mean_absolute_percentage_error(test_short_2[article],fit3.forecast(75))\n",
    "print(f'Article {article} FIT3, MAE:{MAE_11_FIT3}')\n",
    "print(f'Article {article} FIT3, MAPE:{MAPE_11_FIT3}')"
   ]
  },
  {
   "cell_type": "code",
   "execution_count": 386,
   "metadata": {},
   "outputs": [
    {
     "name": "stdout",
     "output_type": "stream",
     "text": [
      "Article Blechkuchen FIT4, MAE:13.997588634260756\n",
      "Article Blechkuchen FIT4, MAPE:38.69908469905434\n"
     ]
    }
   ],
   "source": [
    "MAE_11_FIT4 = mean_absolute_error(test_short_2[article],fit4.forecast(75))\n",
    "MAPE_11_FIT4= mean_absolute_percentage_error(test_short_2[article],fit4.forecast(75))\n",
    "print(f'Article {article} FIT4, MAE:{MAE_5_FIT4}')\n",
    "print(f'Article {article} FIT4, MAPE:{MAPE_5_FIT4}')\n",
    "\n",
    "#df_results_Prophet_Winters_Holt.loc['20',:] = ['Winters_Holt','Seas_mult/Trend_damp',article,\n",
    "                                              # MAE_5_FIT4,MAPE_5_FIT4]\n"
   ]
  },
  {
   "cell_type": "markdown",
   "metadata": {},
   "source": [
    "# Winters Holt Expontial Smoothing-long Period"
   ]
  },
  {
   "cell_type": "code",
   "execution_count": null,
   "metadata": {},
   "outputs": [],
   "source": [
    "#For Winters Holt all values have to be strictly positive so I decide to set the 0-values to NaN and \n",
    "#use interpolation to fill the missing data\n"
   ]
  },
  {
   "cell_type": "code",
   "execution_count": 61,
   "metadata": {},
   "outputs": [],
   "source": [
    "for i in articlelist:\n",
    "    train_2[i]=train_2[i].apply(lambda x: x if x>0 else None )\n",
    "\n",
    "    train_2[i].fillna(method='ffill',inplace=True)\n",
    "    train_2[i].fillna(method='bfill',inplace=True)"
   ]
  },
  {
   "cell_type": "markdown",
   "metadata": {},
   "source": [
    "## Weizenbrot"
   ]
  },
  {
   "cell_type": "code",
   "execution_count": 62,
   "metadata": {},
   "outputs": [],
   "source": [
    "fit1 = ExponentialSmoothing(train_2.Weizenbrot, seasonal_periods=365, seasonal='add').fit(use_boxcox=True)\n",
    "fit2 = ExponentialSmoothing(train_2.Weizenbrot, seasonal_periods=365,  seasonal='mul').fit(use_boxcox=True)\n",
    "fit3 = ExponentialSmoothing(train_2.Weizenbrot, trend='add',damped=False,seasonal_periods=365, seasonal='add').fit(use_boxcox=True)"
   ]
  },
  {
   "cell_type": "code",
   "execution_count": 65,
   "metadata": {},
   "outputs": [],
   "source": [
    "fit4 = ExponentialSmoothing(train_2.Weizenbrot, trend='add',damped=False,seasonal_periods=365, seasonal='mul').fit(use_boxcox=True)"
   ]
  },
  {
   "cell_type": "code",
   "execution_count": 63,
   "metadata": {},
   "outputs": [],
   "source": [
    "article='Weizenbrot'"
   ]
  },
  {
   "cell_type": "code",
   "execution_count": 422,
   "metadata": {},
   "outputs": [
    {
     "name": "stdout",
     "output_type": "stream",
     "text": [
      "Article Weizenbrot FIT1, MAE:19.84966119230079\n",
      "Article Weizenbrot FIT1, MAPE:15.271958644295601\n"
     ]
    }
   ],
   "source": [
    "MAE_1_FIT1 = mean_absolute_error(test_2.Weizenbrot,fit1.forecast(440))\n",
    "MAPE_1_FIT1= mean_absolute_percentage_error(test_2.Weizenbrot,fit1.forecast(440))\n",
    "print(f'Article {article} FIT1, MAE:{MAE_1_FIT1}')\n",
    "print(f'Article {article} FIT1, MAPE:{MAPE_1_FIT1}')"
   ]
  },
  {
   "cell_type": "code",
   "execution_count": 423,
   "metadata": {},
   "outputs": [
    {
     "name": "stdout",
     "output_type": "stream",
     "text": [
      "Article Weizenbrot FIT2, MAE:19.841415470772798\n",
      "Article Weizenbrot FIT2, MAPE:15.260016655197456\n"
     ]
    }
   ],
   "source": [
    "MAE_1_FIT2 = mean_absolute_error(test_2.Weizenbrot,fit2.forecast(440))\n",
    "MAPE_1_FIT2= mean_absolute_percentage_error(test_2.Weizenbrot,fit2.forecast(440))\n",
    "print(f'Article {article} FIT2, MAE:{MAE_1_FIT2}')\n",
    "print(f'Article {article} FIT2, MAPE:{MAPE_1_FIT2}')\n",
    "\n",
    "#df_results_Winters_Holt_OPT.loc['1',:] = ['Winters_Holt','Seas_mult',article,MAE_1_FIT2,MAPE_1_FIT2]"
   ]
  },
  {
   "cell_type": "code",
   "execution_count": 424,
   "metadata": {},
   "outputs": [
    {
     "name": "stdout",
     "output_type": "stream",
     "text": [
      "Article Weizenbrot FIT3, MAE:21.520728700891826\n",
      "Article Weizenbrot FIT3, MAPE:17.59846887393582\n"
     ]
    }
   ],
   "source": [
    "MAE_1_FIT3 = mean_absolute_error(test_2.Weizenbrot,fit3.forecast(440))\n",
    "MAPE_1_FIT3= mean_absolute_percentage_error(test_2.Weizenbrot,fit3.forecast(440))\n",
    "print(f'Article {article} FIT3, MAE:{MAE_1_FIT3}')\n",
    "print(f'Article {article} FIT3, MAPE:{MAPE_1_FIT3}')"
   ]
  },
  {
   "cell_type": "code",
   "execution_count": 66,
   "metadata": {},
   "outputs": [
    {
     "name": "stdout",
     "output_type": "stream",
     "text": [
      "Article Weizenbrot FIT4, MAE:20.36369280249813\n",
      "Article Weizenbrot FIT4, MAPE:16.208129186272757\n"
     ]
    }
   ],
   "source": [
    "MAE_1_FIT4 = mean_absolute_error(test_2.Weizenbrot,fit4.forecast(440))\n",
    "MAPE_1_FIT4= mean_absolute_percentage_error(test_2.Weizenbrot,fit4.forecast(440))\n",
    "print(f'Article {article} FIT4, MAE:{MAE_1_FIT4}')\n",
    "print(f'Article {article} FIT4, MAPE:{MAPE_1_FIT4}')\n",
    "df_results_Winters_Holt_OPT.loc['13',:] = ['Winters_Holt_long','Seas_mult/Trend_damp',article,MAE_1_FIT2,MAPE_1_FIT2]"
   ]
  },
  {
   "cell_type": "markdown",
   "metadata": {},
   "source": [
    "## Mischbrot"
   ]
  },
  {
   "cell_type": "code",
   "execution_count": 97,
   "metadata": {},
   "outputs": [],
   "source": [
    "fit1 = ExponentialSmoothing(train_2.Mischbrot, seasonal_periods=365, seasonal='add').fit(use_boxcox=True)\n",
    "fit2 = ExponentialSmoothing(train_2.Mischbrot, seasonal_periods=365,  seasonal='mul').fit(use_boxcox=True)"
   ]
  },
  {
   "cell_type": "code",
   "execution_count": 98,
   "metadata": {},
   "outputs": [],
   "source": [
    "fit3 = ExponentialSmoothing(train_2.Mischbrot, trend='add',damped=True,seasonal_periods=365, seasonal='add').fit(use_boxcox=True)\n",
    "fit4 = ExponentialSmoothing(train_2.Mischbrot, trend='add',damped=False,seasonal_periods=365, seasonal='mul').fit(use_boxcox=True)"
   ]
  },
  {
   "cell_type": "code",
   "execution_count": 99,
   "metadata": {},
   "outputs": [],
   "source": [
    "article='Mischbrot'"
   ]
  },
  {
   "cell_type": "code",
   "execution_count": 430,
   "metadata": {},
   "outputs": [
    {
     "name": "stdout",
     "output_type": "stream",
     "text": [
      "Article Mischbrot FIT1, MAE:15.940281380615907\n",
      "Article Mischbrot FIT1, MAPE:21.048830197104987\n"
     ]
    }
   ],
   "source": [
    "MAE_2_FIT1 = mean_absolute_error(test_2.Mischbrot,fit1.forecast(440))\n",
    "MAPE_2_FIT1= mean_absolute_percentage_error(test_2.Mischbrot,fit1.forecast(440))\n",
    "print(f'Article {article} FIT1, MAE:{MAE_2_FIT1}')\n",
    "print(f'Article {article} FIT1, MAPE:{MAPE_2_FIT1}')"
   ]
  },
  {
   "cell_type": "code",
   "execution_count": 431,
   "metadata": {},
   "outputs": [
    {
     "name": "stdout",
     "output_type": "stream",
     "text": [
      "Article Mischbrot FIT2, MAE:15.940737512726317\n",
      "Article Mischbrot FIT2, MAPE:21.04940721711307\n"
     ]
    }
   ],
   "source": [
    "MAE_2_FIT2 = mean_absolute_error(test_2.Mischbrot,fit2.forecast(440))\n",
    "MAPE_2_FIT2= mean_absolute_percentage_error(test_2.Mischbrot,fit2.forecast(440))\n",
    "print(f'Article {article} FIT2, MAE:{MAE_2_FIT2}')\n",
    "print(f'Article {article} FIT2, MAPE:{MAPE_2_FIT2}')"
   ]
  },
  {
   "cell_type": "code",
   "execution_count": null,
   "metadata": {},
   "outputs": [],
   "source": [
    "MAE_2_FIT3 = mean_absolute_error(test_2.Mischbrot,fit3.forecast(440))\n",
    "MAPE_2_FIT3= mean_absolute_percentage_error(test_2.Mischbrot,fit3.forecast(440))\n",
    "print(f'Article {article} FIT3, MAE:{MAE_2_FIT3}')\n",
    "print(f'Article {article} FIT3, MAPE:{MAPE_2_FIT3}')"
   ]
  },
  {
   "cell_type": "code",
   "execution_count": 100,
   "metadata": {},
   "outputs": [
    {
     "name": "stdout",
     "output_type": "stream",
     "text": [
      "Article Mischbrot FIT4, MAE:17.466538972772458\n",
      "Article Mischbrot FIT4, MAPE:22.675451802139992\n"
     ]
    }
   ],
   "source": [
    "MAE_2_FIT4 = mean_absolute_error(test_2.Mischbrot,fit4.forecast(440))\n",
    "MAPE_2_FIT4= mean_absolute_percentage_error(test_2.Mischbrot,fit4.forecast(440))\n",
    "print(f'Article {article} FIT4, MAE:{MAE_2_FIT4}')\n",
    "print(f'Article {article} FIT4, MAPE:{MAPE_2_FIT4}')\n",
    "df_results_Winters_Holt_OPT.loc['14',:] = ['Winters_Holt_long','Seas_mult/Trend_dampF',article,\n",
    "                                               MAE_2_FIT4,MAPE_2_FIT4]"
   ]
  },
  {
   "cell_type": "markdown",
   "metadata": {},
   "source": [
    "## Vollkornbrot"
   ]
  },
  {
   "cell_type": "code",
   "execution_count": 70,
   "metadata": {},
   "outputs": [],
   "source": [
    "fit1 = ExponentialSmoothing(train_2.Vollkornbrot, seasonal_periods=365, seasonal='add').fit(use_boxcox=True)\n",
    "fit2 = ExponentialSmoothing(train_2.Vollkornbrot, seasonal_periods=365,  seasonal='mul').fit(use_boxcox=True)\n",
    "fit3 = ExponentialSmoothing(train_2.Vollkornbrot, trend='add',damped=True,seasonal_periods=365, seasonal='add').fit(use_boxcox=True)\n",
    "fit4 = ExponentialSmoothing(train_2.Vollkornbrot, trend='add',damped=True,seasonal_periods=365, seasonal='mul').fit(use_boxcox=True)"
   ]
  },
  {
   "cell_type": "code",
   "execution_count": 450,
   "metadata": {},
   "outputs": [
    {
     "name": "stdout",
     "output_type": "stream",
     "text": [
      "Article Vollkornbrot FIT1, MAE:21.70670508338372\n",
      "Article Vollkornbrot FIT1, MAPE:15.43826646398127\n"
     ]
    }
   ],
   "source": [
    "article='Vollkornbrot'\n",
    "MAE_3_FIT1 = mean_absolute_error(test_2.Vollkornbrot,fit1.forecast(440))\n",
    "MAPE_3_FIT1= mean_absolute_percentage_error(test_2.Vollkornbrot,fit1.forecast(440))\n",
    "print(f'Article {article} FIT1, MAE:{MAE_3_FIT1}')\n",
    "print(f'Article {article} FIT1, MAPE:{MAPE_3_FIT1}')\n",
    "\n",
    "#df_results_Winters_Holt_OPT.loc['3',:] = ['Winters_Holt','Seas_add',article,MAE_3_FIT1,MAPE_3_FIT1]\n"
   ]
  },
  {
   "cell_type": "code",
   "execution_count": 453,
   "metadata": {},
   "outputs": [
    {
     "name": "stdout",
     "output_type": "stream",
     "text": [
      "Article Vollkornbrot FIT2, MAE:21.69109751034073\n",
      "Article Vollkornbrot FIT2, MAPE:15.440658857646053\n"
     ]
    }
   ],
   "source": [
    "article='Vollkornbrot'\n",
    "MAE_3_FIT2 = mean_absolute_error(test_2.Vollkornbrot,fit2.forecast(440))\n",
    "MAPE_3_FIT2= mean_absolute_percentage_error(test_2.Vollkornbrot,fit2.forecast(440))\n",
    "print(f'Article {article} FIT2, MAE:{MAE_3_FIT2}')\n",
    "print(f'Article {article} FIT2, MAPE:{MAPE_3_FIT2}')"
   ]
  },
  {
   "cell_type": "code",
   "execution_count": 454,
   "metadata": {},
   "outputs": [
    {
     "name": "stdout",
     "output_type": "stream",
     "text": [
      "Article Vollkornbrot FIT3, MAE:21.754774787401473\n",
      "Article Vollkornbrot FIT3, MAPE:15.464356741877777\n"
     ]
    }
   ],
   "source": [
    "article='Vollkornbrot'\n",
    "MAE_3_FIT3 = mean_absolute_error(test_2.Vollkornbrot,fit3.forecast(440))\n",
    "MAPE_3_FIT3= mean_absolute_percentage_error(test_2.Vollkornbrot,fit3.forecast(440))\n",
    "print(f'Article {article} FIT3, MAE:{MAE_3_FIT3}')\n",
    "print(f'Article {article} FIT3, MAPE:{MAPE_3_FIT3}')"
   ]
  },
  {
   "cell_type": "code",
   "execution_count": 71,
   "metadata": {},
   "outputs": [
    {
     "name": "stdout",
     "output_type": "stream",
     "text": [
      "Article Vollkornbrot FIT4, MAE:22.86968876764619\n",
      "Article Vollkornbrot FIT4, MAPE:16.91016162076334\n"
     ]
    }
   ],
   "source": [
    "article='Vollkornbrot'\n",
    "MAE_3_FIT4 = mean_absolute_error(test_2.Vollkornbrot,fit4.forecast(440))\n",
    "MAPE_3_FIT4= mean_absolute_percentage_error(test_2.Vollkornbrot,fit4.forecast(440))\n",
    "print(f'Article {article} FIT4, MAE:{MAE_3_FIT4}')\n",
    "print(f'Article {article} FIT4, MAPE:{MAPE_3_FIT4}')\n",
    "df_results_Winters_Holt_OPT.loc['15',:] = ['Winters_Holt_long','Seas_add',article,MAE_3_FIT4,MAPE_3_FIT4]\n"
   ]
  },
  {
   "cell_type": "markdown",
   "metadata": {},
   "source": [
    "## Spezialbrot"
   ]
  },
  {
   "cell_type": "code",
   "execution_count": 72,
   "metadata": {},
   "outputs": [],
   "source": [
    "article='Spezialbrot'"
   ]
  },
  {
   "cell_type": "code",
   "execution_count": 73,
   "metadata": {},
   "outputs": [],
   "source": [
    "fit1 = ExponentialSmoothing(train_2[article], seasonal_periods=365, seasonal='add').fit(use_boxcox=True)\n",
    "fit2 = ExponentialSmoothing(train_2[article], seasonal_periods=365,  seasonal='mul').fit(use_boxcox=True)"
   ]
  },
  {
   "cell_type": "code",
   "execution_count": 74,
   "metadata": {},
   "outputs": [],
   "source": [
    "fit3 = ExponentialSmoothing(train_2[article], trend='add',damped=True,seasonal_periods=365, seasonal='add').fit(use_boxcox=True)\n",
    "fit4 = ExponentialSmoothing(train_2[article], trend='add',damped=True,seasonal_periods=365, seasonal='mul').fit(use_boxcox=True)"
   ]
  },
  {
   "cell_type": "code",
   "execution_count": 470,
   "metadata": {},
   "outputs": [
    {
     "name": "stdout",
     "output_type": "stream",
     "text": [
      "Article Spezialbrot FIT1, MAE:13.76109815375457\n",
      "Article Spezialbrot FIT1, MAPE:21.001322412729028\n"
     ]
    }
   ],
   "source": [
    "MAE_4_FIT1 = mean_absolute_error(test_2[article],fit1.forecast(440))\n",
    "MAPE_4_FIT1= mean_absolute_percentage_error(test_2[article],fit1.forecast(440))\n",
    "print(f'Article {article} FIT1, MAE:{MAE_4_FIT1}')\n",
    "print(f'Article {article} FIT1, MAPE:{MAPE_4_FIT1}')"
   ]
  },
  {
   "cell_type": "code",
   "execution_count": 471,
   "metadata": {},
   "outputs": [
    {
     "name": "stdout",
     "output_type": "stream",
     "text": [
      "Article Spezialbrot FIT2, MAE:13.638044459577698\n",
      "Article Spezialbrot FIT2, MAPE:20.762093469278316\n"
     ]
    }
   ],
   "source": [
    "MAE_4_FIT2 = mean_absolute_error(test_2[article],fit2.forecast(440))\n",
    "MAPE_4_FIT2= mean_absolute_percentage_error(test_2[article],fit2.forecast(440))\n",
    "print(f'Article {article} FIT2, MAE:{MAE_4_FIT2}')\n",
    "print(f'Article {article} FIT2, MAPE:{MAPE_4_FIT2}')"
   ]
  },
  {
   "cell_type": "code",
   "execution_count": 472,
   "metadata": {},
   "outputs": [
    {
     "name": "stdout",
     "output_type": "stream",
     "text": [
      "Article Spezialbrot FIT3, MAE:13.299267827989297\n",
      "Article Spezialbrot FIT3, MAPE:20.080387196504116\n"
     ]
    }
   ],
   "source": [
    "MAE_4_FIT3 = mean_absolute_error(test_2[article],fit3.forecast(440))\n",
    "MAPE_4_FIT3= mean_absolute_percentage_error(test_2[article],fit3.forecast(440))\n",
    "print(f'Article {article} FIT3, MAE:{MAE_4_FIT3}')\n",
    "print(f'Article {article} FIT3, MAPE:{MAPE_4_FIT3}')\n",
    "\n",
    "                                          MAE_4_FIT3,MAPE_4_FIT3]\n"
   ]
  },
  {
   "cell_type": "code",
   "execution_count": 75,
   "metadata": {},
   "outputs": [
    {
     "name": "stdout",
     "output_type": "stream",
     "text": [
      "Article Spezialbrot FIT4, MAE:12.722809384535744\n",
      "Article Spezialbrot FIT4, MAPE:16.877337251941622\n"
     ]
    }
   ],
   "source": [
    "MAE_4_FIT4 = mean_absolute_error(test_2[article],fit4.forecast(440))\n",
    "MAPE_4_FIT4= mean_absolute_percentage_error(test_2[article],fit4.forecast(440))\n",
    "print(f'Article {article} FIT4, MAE:{MAE_4_FIT4}')\n",
    "print(f'Article {article} FIT4, MAPE:{MAPE_4_FIT4}')\n",
    "\n",
    "df_results_Winters_Holt_OPT.loc['16',:] = ['Winters_Holt_long','Seas_add/Trend_damp',article,\n",
    "                                          MAE_4_FIT4,MAPE_4_FIT4]\n"
   ]
  },
  {
   "cell_type": "code",
   "execution_count": null,
   "metadata": {},
   "outputs": [],
   "source": []
  },
  {
   "cell_type": "markdown",
   "metadata": {},
   "source": [
    "## Stangenbrote"
   ]
  },
  {
   "cell_type": "code",
   "execution_count": 76,
   "metadata": {},
   "outputs": [],
   "source": [
    "article='Stangenbrote'"
   ]
  },
  {
   "cell_type": "code",
   "execution_count": 77,
   "metadata": {},
   "outputs": [],
   "source": [
    "fit1 = ExponentialSmoothing(train_2[article], seasonal_periods=365, seasonal='add').fit(use_boxcox=True)\n",
    "fit2 = ExponentialSmoothing(train_2[article], seasonal_periods=365,  seasonal='mul').fit(use_boxcox=True)"
   ]
  },
  {
   "cell_type": "code",
   "execution_count": 477,
   "metadata": {},
   "outputs": [],
   "source": [
    "fit3 = ExponentialSmoothing(train_2[article], trend='add',damped=True,seasonal_periods=365, seasonal='add').fit(use_boxcox=True)\n",
    "fit4 = ExponentialSmoothing(train_2[article], trend='add',damped=True,seasonal_periods=365, seasonal='mul').fit(use_boxcox=True)"
   ]
  },
  {
   "cell_type": "code",
   "execution_count": 78,
   "metadata": {},
   "outputs": [
    {
     "name": "stdout",
     "output_type": "stream",
     "text": [
      "Article Stangenbrote FIT1, MAE:15.40440852039632\n",
      "Article Stangenbrote FIT1, MAPE:45.59976807385882\n"
     ]
    }
   ],
   "source": [
    "MAE_5_FIT1 = mean_absolute_error(test_2[article],fit1.forecast(440))\n",
    "MAPE_5_FIT1= mean_absolute_percentage_error(test_2[article],fit1.forecast(440))\n",
    "print(f'Article {article} FIT1, MAE:{MAE_5_FIT1}')\n",
    "print(f'Article {article} FIT1, MAPE:{MAPE_5_FIT1}')\n",
    "df_results_Winters_Holt_OPT.loc['17',:] = ['Winters_Holt_long','Seas_add',article,\n",
    "                                           MAE_5_FIT1,MAPE_5_FIT1] "
   ]
  },
  {
   "cell_type": "code",
   "execution_count": 479,
   "metadata": {},
   "outputs": [
    {
     "name": "stdout",
     "output_type": "stream",
     "text": [
      "Article Stangenbrote FIT2, MAE:14.069007014609992\n",
      "Article Stangenbrote FIT2, MAPE:52.50654551976734\n"
     ]
    }
   ],
   "source": [
    "MAE_5_FIT2 = mean_absolute_error(test_2[article],fit2.forecast(440))\n",
    "MAPE_5_FIT2= mean_absolute_percentage_error(test_2[article],fit2.forecast(440))\n",
    "print(f'Article {article} FIT2, MAE:{MAE_5_FIT2}')\n",
    "print(f'Article {article} FIT2, MAPE:{MAPE_5_FIT2}')"
   ]
  },
  {
   "cell_type": "code",
   "execution_count": 480,
   "metadata": {},
   "outputs": [
    {
     "name": "stdout",
     "output_type": "stream",
     "text": [
      "Article Stangenbrote FIT3, MAE:14.553191543912764\n",
      "Article Stangenbrote FIT3, MAPE:37.05584202969456\n"
     ]
    }
   ],
   "source": [
    "MAE_5_FIT3 = mean_absolute_error(test_2[article],fit3.forecast(440))\n",
    "MAPE_5_FIT3= mean_absolute_percentage_error(test_2[article],fit3.forecast(440))\n",
    "\n",
    "print(f'Article {article} FIT3, MAE:{MAE_5_FIT3}')\n",
    "print(f'Article {article} FIT3, MAPE:{MAPE_5_FIT3}')"
   ]
  },
  {
   "cell_type": "code",
   "execution_count": 482,
   "metadata": {},
   "outputs": [
    {
     "name": "stdout",
     "output_type": "stream",
     "text": [
      "Article Stangenbrote FIT4, MAE:15.49170033383728\n",
      "Article Stangenbrote FIT4, MAPE:49.77095493092406\n"
     ]
    }
   ],
   "source": [
    "MAE_5_FIT4 = mean_absolute_error(test_2[article],fit4.forecast(440))\n",
    "MAPE_5_FIT4= mean_absolute_percentage_error(test_2[article],fit4.forecast(440))\n",
    "\n",
    "print(f'Article {article} FIT4, MAE:{MAE_5_FIT4}')\n",
    "print(f'Article {article} FIT4, MAPE:{MAPE_5_FIT4}')\n",
    "                                           MAE_5_FIT4,MAPE_5_FIT4]\n"
   ]
  },
  {
   "cell_type": "markdown",
   "metadata": {},
   "source": [
    "## Brötchen"
   ]
  },
  {
   "cell_type": "code",
   "execution_count": 101,
   "metadata": {},
   "outputs": [],
   "source": [
    "fit1 = ExponentialSmoothing(train_2.Brötchen, seasonal_periods=365, seasonal='add').fit(use_boxcox=True)\n",
    "fit2 = ExponentialSmoothing(train_2.Brötchen, seasonal_periods=365,  seasonal='mul').fit(use_boxcox=True)\n",
    "fit3 = ExponentialSmoothing(train_2.Brötchen, seasonal_periods=365,trend='add',damped=True, seasonal='add').fit(use_boxcox=True)\n",
    "fit4 = ExponentialSmoothing(train_2.Brötchen, seasonal_periods=365,trend='add',damped=True, seasonal='mul').fit(use_boxcox=True)"
   ]
  },
  {
   "cell_type": "code",
   "execution_count": 351,
   "metadata": {},
   "outputs": [],
   "source": [
    "#fit1.fittedvalues.plot(style='--', color='red')\n",
    "#fit2.fittedvalues.plot(style='--', color='green')\n",
    "\n",
    "#fit1.forecast(12).plot(style='--', marker='o', color='red', legend=True)\n",
    "#fit2.forecast(12).plot(style='--', marker='o', color='green', legend=True)\n",
    "\n",
    "#plt.show()\n",
    "#print(\"Forecasting sales of properties using Holt-Winters method with both additive and multiplicative seasonality.\")"
   ]
  },
  {
   "cell_type": "code",
   "execution_count": 80,
   "metadata": {},
   "outputs": [
    {
     "name": "stdout",
     "output_type": "stream",
     "text": [
      "Article Brötchen FIT1, MAE:98.92113185528626\n",
      "Article Brötchen FIT1, MAPE:22.693085061175566\n"
     ]
    }
   ],
   "source": [
    "article='Brötchen'\n",
    "MAE_6_FIT1 = mean_absolute_error(test_2.Brötchen,fit1.forecast(440))\n",
    "MAPE_6_FIT1= mean_absolute_percentage_error(test_2.Brötchen,fit1.forecast(440))\n",
    "print(f'Article {article} FIT1, MAE:{MAE_6_FIT1}')\n",
    "print(f'Article {article} FIT1, MAPE:{MAPE_6_FIT1}')\n"
   ]
  },
  {
   "cell_type": "code",
   "execution_count": 486,
   "metadata": {},
   "outputs": [
    {
     "name": "stdout",
     "output_type": "stream",
     "text": [
      "Article Brötchen FIT2, MAE:113.99804529671032\n",
      "Article Brötchen FIT2, MAPE:33.10648140811649\n"
     ]
    }
   ],
   "source": [
    "article='Brötchen'\n",
    "MAE_6_FIT2 = mean_absolute_error(test_2.Brötchen,fit2.forecast(440))\n",
    "MAPE_6_FIT2= mean_absolute_percentage_error(test_2.Brötchen,fit2.forecast(440))\n",
    "print(f'Article {article} FIT2, MAE:{MAE_6_FIT2}')\n",
    "print(f'Article {article} FIT2, MAPE:{MAPE_6_FIT2}')"
   ]
  },
  {
   "cell_type": "code",
   "execution_count": 102,
   "metadata": {},
   "outputs": [
    {
     "name": "stdout",
     "output_type": "stream",
     "text": [
      "Article Brötchen FIT3, MAE:98.65583065079657\n",
      "Article Brötchen FIT3, MAPE:22.341864378395456\n"
     ]
    }
   ],
   "source": [
    "article='Brötchen'\n",
    "MAE_6_FIT3 = mean_absolute_error(test_2.Brötchen,fit3.forecast(440))\n",
    "MAPE_6_FIT3= mean_absolute_percentage_error(test_2.Brötchen,fit3.forecast(440))\n",
    "print(f'Article {article} FIT3, MAE:{MAE_6_FIT3}')\n",
    "print(f'Article {article} FIT3, MAPE:{MAPE_6_FIT3}')\n",
    "df_results_Winters_Holt_OPT.loc['18',:] = ['Winters_Holt_long','Seas_add/Trend_damp','Brötchen',MAE_6_FIT3,MAPE_6_FIT3]"
   ]
  },
  {
   "cell_type": "code",
   "execution_count": 491,
   "metadata": {},
   "outputs": [
    {
     "name": "stdout",
     "output_type": "stream",
     "text": [
      "Article Brötchen FIT4, MAE:105.80247510138251\n",
      "Article Brötchen FIT4, MAPE:29.767038706067822\n"
     ]
    }
   ],
   "source": [
    "article='Brötchen'\n",
    "MAE_6_FIT4 = mean_absolute_error(test_2.Brötchen,fit4.forecast(440))\n",
    "MAPE_6_FIT4= mean_absolute_percentage_error(test_2.Brötchen,fit4.forecast(440))\n",
    "print(f'Article {article} FIT4, MAE:{MAE_6_FIT4}')\n",
    "print(f'Article {article} FIT4, MAPE:{MAPE_6_FIT4}')"
   ]
  },
  {
   "cell_type": "markdown",
   "metadata": {},
   "source": [
    "## Süsse Brötchen"
   ]
  },
  {
   "cell_type": "code",
   "execution_count": 103,
   "metadata": {},
   "outputs": [],
   "source": [
    "fit1 = ExponentialSmoothing(train_2.Süsse_Brötchen, seasonal_periods=365, seasonal='add').fit(use_boxcox=True)\n",
    "fit2 = ExponentialSmoothing(train_2.Süsse_Brötchen, seasonal_periods=365,  seasonal='mul').fit(use_boxcox=True)\n",
    "fit3 = ExponentialSmoothing(train_2.Süsse_Brötchen,trend='add',damped=True, seasonal_periods=365, seasonal='add').fit(use_boxcox=True)\n",
    "fit4 = ExponentialSmoothing(train_2.Süsse_Brötchen,trend='add',damped=True, seasonal_periods=365, seasonal='mul').fit(use_boxcox=True)"
   ]
  },
  {
   "cell_type": "code",
   "execution_count": 494,
   "metadata": {},
   "outputs": [
    {
     "name": "stdout",
     "output_type": "stream",
     "text": [
      "Article Süsse_Brötchen FIT1, MAE:51.49299145057905\n",
      "Article Süsse_Brötchen FIT1, MAPE:24.17591903818851\n"
     ]
    }
   ],
   "source": [
    "article='Süsse_Brötchen'\n",
    "MAE_7_FIT1 = mean_absolute_error(test_2.Süsse_Brötchen,fit1.forecast(440))\n",
    "MAPE_7_FIT1= mean_absolute_percentage_error(test_2.Süsse_Brötchen,fit1.forecast(440))\n",
    "print(f'Article {article} FIT1, MAE:{MAE_7_FIT1}')\n",
    "print(f'Article {article} FIT1, MAPE:{MAPE_7_FIT1}')"
   ]
  },
  {
   "cell_type": "code",
   "execution_count": 495,
   "metadata": {},
   "outputs": [
    {
     "name": "stdout",
     "output_type": "stream",
     "text": [
      "Article Süsse_Brötchen FIT2, MAE:45.10862836953854\n",
      "Article Süsse_Brötchen FIT2, MAPE:19.433757859798607\n"
     ]
    }
   ],
   "source": [
    "article='Süsse_Brötchen'\n",
    "MAE_7_FIT2 = mean_absolute_error(test_2.Süsse_Brötchen,fit2.forecast(440))\n",
    "MAPE_7_FIT2= mean_absolute_percentage_error(test_2.Süsse_Brötchen,fit2.forecast(440))\n",
    "print(f'Article {article} FIT2, MAE:{MAE_7_FIT2}')\n",
    "print(f'Article {article} FIT2, MAPE:{MAPE_7_FIT2}')"
   ]
  },
  {
   "cell_type": "code",
   "execution_count": 496,
   "metadata": {},
   "outputs": [
    {
     "name": "stdout",
     "output_type": "stream",
     "text": [
      "Article Süsse_Brötchen FIT3, MAE:44.99204148997669\n",
      "Article Süsse_Brötchen FIT3, MAPE:18.99441385745107\n"
     ]
    }
   ],
   "source": [
    "article='Süsse_Brötchen'\n",
    "MAE_7_FIT3 = mean_absolute_error(test_2.Süsse_Brötchen,fit3.forecast(440))\n",
    "MAPE_7_FIT3= mean_absolute_percentage_error(test_2.Süsse_Brötchen,fit3.forecast(440))\n",
    "print(f'Article {article} FIT3, MAE:{MAE_7_FIT3}')\n",
    "print(f'Article {article} FIT3, MAPE:{MAPE_7_FIT3}')"
   ]
  },
  {
   "cell_type": "code",
   "execution_count": 104,
   "metadata": {},
   "outputs": [
    {
     "name": "stdout",
     "output_type": "stream",
     "text": [
      "Article Süsse_Brötchen FIT4, MAE:39.96401523804059\n",
      "Article Süsse_Brötchen FIT4, MAPE:17.591097310859496\n"
     ]
    }
   ],
   "source": [
    "article='Süsse_Brötchen'\n",
    "MAE_7_FIT4 = mean_absolute_error(test_2.Süsse_Brötchen,fit4.forecast(440))\n",
    "MAPE_7_FIT4= mean_absolute_percentage_error(test_2.Süsse_Brötchen,fit4.forecast(440))\n",
    "print(f'Article {article} FIT4, MAE:{MAE_7_FIT4}')\n",
    "print(f'Article {article} FIT4, MAPE:{MAPE_7_FIT4}')\n",
    "df_results_Winters_Holt_OPT.loc['19',:] = ['Winters_Holt_long','Seas_mult/Trend_damp','Süsse_Brötchen',\n",
    "                                           MAE_7_FIT4,MAPE_7_FIT4]"
   ]
  },
  {
   "cell_type": "markdown",
   "metadata": {},
   "source": [
    "## Herzhafte Brötchen"
   ]
  },
  {
   "cell_type": "code",
   "execution_count": 84,
   "metadata": {},
   "outputs": [],
   "source": [
    "fit1 = ExponentialSmoothing(train_2.Herzhafte_Brötchen, seasonal_periods=365, seasonal='add').fit(use_boxcox=True)\n",
    "fit2 = ExponentialSmoothing(train_2.Herzhafte_Brötchen, seasonal_periods=365,  seasonal='mul').fit(use_boxcox=True)"
   ]
  },
  {
   "cell_type": "code",
   "execution_count": 85,
   "metadata": {},
   "outputs": [],
   "source": [
    "fit3 = ExponentialSmoothing(train_2.Herzhafte_Brötchen, trend='add',damped=True,seasonal_periods=365, seasonal='add').fit(use_boxcox=True)\n",
    "fit4 = ExponentialSmoothing(train_2.Herzhafte_Brötchen, trend='add',damped=True,seasonal_periods=365, seasonal='mul').fit(use_boxcox=True)"
   ]
  },
  {
   "cell_type": "code",
   "execution_count": 503,
   "metadata": {},
   "outputs": [
    {
     "name": "stdout",
     "output_type": "stream",
     "text": [
      "Article Herzhafte_Brötchen FIT1, MAE:26.186770067061396\n",
      "Article Herzhafte_Brötchen FIT1, MAPE:22.86783194783094\n"
     ]
    }
   ],
   "source": [
    "article='Herzhafte_Brötchen'\n",
    "MAE_8_FIT1 = mean_absolute_error(test_2.Herzhafte_Brötchen,fit1.forecast(440))\n",
    "MAPE_8_FIT1= mean_absolute_percentage_error(test_2.Herzhafte_Brötchen,fit1.forecast(440))\n",
    "print(f'Article {article} FIT1, MAE:{MAE_8_FIT1}')\n",
    "print(f'Article {article} FIT1, MAPE:{MAPE_8_FIT1}')"
   ]
  },
  {
   "cell_type": "code",
   "execution_count": 504,
   "metadata": {},
   "outputs": [
    {
     "name": "stdout",
     "output_type": "stream",
     "text": [
      "Article Herzhafte_Brötchen FIT2, MAE:26.583959496255705\n",
      "Article Herzhafte_Brötchen FIT2, MAPE:22.76120846917425\n"
     ]
    }
   ],
   "source": [
    "article='Herzhafte_Brötchen'\n",
    "MAE_8_FIT2 = mean_absolute_error(test_2.Herzhafte_Brötchen,fit2.forecast(440))\n",
    "MAPE_8_FIT2= mean_absolute_percentage_error(test_2.Herzhafte_Brötchen,fit2.forecast(440))\n",
    "print(f'Article {article} FIT2, MAE:{MAE_8_FIT2}')\n",
    "print(f'Article {article} FIT2, MAPE:{MAPE_8_FIT2}')"
   ]
  },
  {
   "cell_type": "code",
   "execution_count": 511,
   "metadata": {},
   "outputs": [
    {
     "name": "stdout",
     "output_type": "stream",
     "text": [
      "Article Herzhafte_Brötchen FIT3, MAE:27.420582153633397\n",
      "Article Herzhafte_Brötchen FIT3, MAPE:22.922719886097624\n"
     ]
    }
   ],
   "source": [
    "article='Herzhafte_Brötchen'\n",
    "MAE_8_FIT3 = mean_absolute_error(test_2.Herzhafte_Brötchen,fit3.forecast(440))\n",
    "MAPE_8_FIT3= mean_absolute_percentage_error(test_2.Herzhafte_Brötchen,fit3.forecast(440))\n",
    "print(f'Article {article} FIT3, MAE:{MAE_8_FIT3}')\n",
    "print(f'Article {article} FIT3, MAPE:{MAPE_8_FIT3}')"
   ]
  },
  {
   "cell_type": "code",
   "execution_count": 86,
   "metadata": {},
   "outputs": [
    {
     "name": "stdout",
     "output_type": "stream",
     "text": [
      "Article Herzhafte_Brötchen FIT4, MAE:29.237492764628307\n",
      "Article Herzhafte_Brötchen FIT4, MAPE:25.582229449065526\n"
     ]
    }
   ],
   "source": [
    "article='Herzhafte_Brötchen'\n",
    "MAE_8_FIT4 = mean_absolute_error(test_2.Herzhafte_Brötchen,fit4.forecast(440))\n",
    "MAPE_8_FIT4= mean_absolute_percentage_error(test_2.Herzhafte_Brötchen,fit4.forecast(440))\n",
    "print(f'Article {article} FIT4, MAE:{MAE_8_FIT4}')\n",
    "print(f'Article {article} FIT4, MAPE:{MAPE_8_FIT4}')\n",
    "df_results_Winters_Holt_OPT.loc['20',:] = ['Winters_Holt_long','Seas_mult/Trend_damp','Herzhafte_Brötchen',\n",
    "                                               MAE_8_FIT4,MAPE_8_FIT4]"
   ]
  },
  {
   "cell_type": "markdown",
   "metadata": {},
   "source": [
    "## KonditoreiBlech"
   ]
  },
  {
   "cell_type": "code",
   "execution_count": 87,
   "metadata": {},
   "outputs": [],
   "source": [
    "fit1 = ExponentialSmoothing(train_2.KonditoreiBlech, seasonal_periods=365, seasonal='add').fit(use_boxcox=True)\n",
    "fit2 = ExponentialSmoothing(train_2.KonditoreiBlech, seasonal_periods=365,  seasonal='mul').fit(use_boxcox=True)\n",
    "fit3 = ExponentialSmoothing(train_2.KonditoreiBlech, trend='add',damped=False,seasonal_periods=365, seasonal='add').fit(use_boxcox=True)\n",
    "fit4 = ExponentialSmoothing(train_2.KonditoreiBlech, trend='add',damped=True,seasonal_periods=365, seasonal='mul').fit(use_boxcox=True)"
   ]
  },
  {
   "cell_type": "code",
   "execution_count": 88,
   "metadata": {},
   "outputs": [],
   "source": [
    "article='KonditoreiBlech'"
   ]
  },
  {
   "cell_type": "code",
   "execution_count": 518,
   "metadata": {},
   "outputs": [
    {
     "name": "stdout",
     "output_type": "stream",
     "text": [
      "Article KonditoreiBlech FIT1, MAE:23.64269411399441\n",
      "Article KonditoreiBlech FIT1, MAPE:27.771114623001942\n"
     ]
    }
   ],
   "source": [
    "MAE_9_FIT1 = mean_absolute_error(test_2.KonditoreiBlech,fit1.forecast(440))\n",
    "MAPE_9_FIT1= mean_absolute_percentage_error(test_2.KonditoreiBlech,fit1.forecast(440))\n",
    "print(f'Article {article} FIT1, MAE:{MAE_9_FIT1}')\n",
    "print(f'Article {article} FIT1, MAPE:{MAPE_9_FIT1}')\n",
    "                                             MAE_9_FIT1,MAPE_9_FIT1]"
   ]
  },
  {
   "cell_type": "code",
   "execution_count": 519,
   "metadata": {},
   "outputs": [
    {
     "name": "stdout",
     "output_type": "stream",
     "text": [
      "Article KonditoreiBlech FIT2, MAE:21.43823534304208\n",
      "Article KonditoreiBlech FIT2, MAPE:24.90325911891108\n"
     ]
    }
   ],
   "source": [
    "MAE_9_FIT2 = mean_absolute_error(test_2.KonditoreiBlech,fit2.forecast(440))\n",
    "MAPE_9_FIT2= mean_absolute_percentage_error(test_2.KonditoreiBlech,fit2.forecast(440))\n",
    "print(f'Article {article} FIT2, MAE:{MAE_9_FIT2}')\n",
    "print(f'Article {article} FIT2, MAPE:{MAPE_9_FIT2}')"
   ]
  },
  {
   "cell_type": "code",
   "execution_count": 523,
   "metadata": {},
   "outputs": [
    {
     "name": "stdout",
     "output_type": "stream",
     "text": [
      "Article KonditoreiBlech FIT3, MAE:27.613468146118\n",
      "Article KonditoreiBlech FIT3, MAPE:32.31072758320928\n"
     ]
    }
   ],
   "source": [
    "MAE_9_FIT3 = mean_absolute_error(test_2.KonditoreiBlech,fit3.forecast(440))\n",
    "MAPE_9_FIT3= mean_absolute_percentage_error(test_2.KonditoreiBlech,fit3.forecast(440))\n",
    "print(f'Article {article} FIT3, MAE:{MAE_9_FIT3}')\n",
    "print(f'Article {article} FIT3, MAPE:{MAPE_9_FIT3}')"
   ]
  },
  {
   "cell_type": "code",
   "execution_count": 89,
   "metadata": {},
   "outputs": [
    {
     "name": "stdout",
     "output_type": "stream",
     "text": [
      "Article KonditoreiBlech FIT4, MAE:23.59109157328694\n",
      "Article KonditoreiBlech FIT4, MAPE:31.46219390533726\n"
     ]
    }
   ],
   "source": [
    "MAE_9_FIT4 = mean_absolute_error(test_2.KonditoreiBlech,fit4.forecast(440))\n",
    "MAPE_9_FIT4= mean_absolute_percentage_error(test_2.KonditoreiBlech,fit4.forecast(440))\n",
    "print(f'Article {article} FIT4, MAE:{MAE_9_FIT4}')\n",
    "print(f'Article {article} FIT4, MAPE:{MAPE_9_FIT4}')\n",
    "df_results_Winters_Holt_OPT.loc['21',:] = ['Winters_Holt_long','Seas_add','KonditoreiBlech',\n",
    "                                           MAE_9_FIT4,MAPE_9_FIT4]\n",
    " "
   ]
  },
  {
   "cell_type": "code",
   "execution_count": null,
   "metadata": {},
   "outputs": [],
   "source": []
  },
  {
   "cell_type": "markdown",
   "metadata": {},
   "source": [
    "## Stückgebäck"
   ]
  },
  {
   "cell_type": "code",
   "execution_count": 90,
   "metadata": {},
   "outputs": [],
   "source": [
    "article='Stückgebäck'"
   ]
  },
  {
   "cell_type": "code",
   "execution_count": 581,
   "metadata": {},
   "outputs": [],
   "source": [
    "fit1 = ExponentialSmoothing(train_2[article], seasonal_periods=365, seasonal='add').fit(use_boxcox=True)\n",
    "fit2 = ExponentialSmoothing(train_2[article], seasonal_periods=365,  seasonal='mul').fit(use_boxcox=True)"
   ]
  },
  {
   "cell_type": "code",
   "execution_count": 582,
   "metadata": {},
   "outputs": [],
   "source": [
    "fit3 = ExponentialSmoothing(train_2[article], trend='add',damped=True,seasonal_periods=365, seasonal='add').fit(use_boxcox=True)\n",
    "fit4 = ExponentialSmoothing(train_2[article], trend='add',damped=True,seasonal_periods=365, seasonal='mul').fit(use_boxcox=True)"
   ]
  },
  {
   "cell_type": "code",
   "execution_count": 583,
   "metadata": {},
   "outputs": [
    {
     "name": "stdout",
     "output_type": "stream",
     "text": [
      "Article Stückgebäck FIT1, MAE:268.61207595907405\n",
      "Article Stückgebäck FIT1, MAPE:186.90374862540023\n"
     ]
    }
   ],
   "source": [
    "MAE_10_FIT1 = mean_absolute_error(test_2[article],fit1.forecast(440))\n",
    "MAPE_10_FIT1= mean_absolute_percentage_error(test_2[article],fit1.forecast(440))\n",
    "print(f'Article {article} FIT1, MAE:{MAE_10_FIT1}')\n",
    "print(f'Article {article} FIT1, MAPE:{MAPE_10_FIT1}')\n"
   ]
  },
  {
   "cell_type": "code",
   "execution_count": 584,
   "metadata": {},
   "outputs": [
    {
     "name": "stdout",
     "output_type": "stream",
     "text": [
      "Article Stückgebäck FIT2, MAE:254.7281738373885\n",
      "Article Stückgebäck FIT2, MAPE:177.1690074610063\n"
     ]
    }
   ],
   "source": [
    "MAE_10_FIT2 = mean_absolute_error(test_2[article],fit2.forecast(440))\n",
    "MAPE_10_FIT2= mean_absolute_percentage_error(test_2[article],fit2.forecast(440))\n",
    "\n",
    "print(f'Article {article} FIT2, MAE:{MAE_10_FIT2}')\n",
    "print(f'Article {article} FIT2, MAPE:{MAPE_10_FIT2}')\n"
   ]
  },
  {
   "cell_type": "code",
   "execution_count": 585,
   "metadata": {},
   "outputs": [
    {
     "name": "stdout",
     "output_type": "stream",
     "text": [
      "Article Stückgebäck FIT3, MAE:339.7533296724047\n",
      "Article Stückgebäck FIT3, MAPE:236.27426674397384\n"
     ]
    }
   ],
   "source": [
    "MAE_10_FIT3 = mean_absolute_error(test_2[article],fit3.forecast(440))\n",
    "MAPE_10_FIT3= mean_absolute_percentage_error(test_2[article],fit3.forecast(440))\n",
    "print(f'Article {article} FIT3, MAE:{MAE_10_FIT3}')\n",
    "print(f'Article {article} FIT3, MAPE:{MAPE_10_FIT3}')\n",
    "\n",
    "#df_results_Winters_Holt_OPT.loc['10',:] = ['Winters_Holt','Seas_mult/Trend_damp',article,MAE_10_FIT3,MAPE_10_FIT3]\n"
   ]
  },
  {
   "cell_type": "code",
   "execution_count": 586,
   "metadata": {},
   "outputs": [
    {
     "name": "stdout",
     "output_type": "stream",
     "text": [
      "Article Stückgebäck FIT4, MAE:215.79066461184365\n",
      "Article Stückgebäck FIT4, MAPE:151.10826022995525\n"
     ]
    }
   ],
   "source": [
    "MAE_10_FIT4 = mean_absolute_error(test_2[article],fit4.forecast(440))\n",
    "MAPE_10_FIT4= mean_absolute_percentage_error(test_2[article],fit4.forecast(440))\n",
    "\n",
    "print(f'Article {article} FIT4, MAE:{MAE_10_FIT4}')\n",
    "print(f'Article {article} FIT4, MAPE:{MAPE_10_FIT4}')\n",
    "\n"
   ]
  },
  {
   "cell_type": "markdown",
   "metadata": {},
   "source": [
    "## Blechkuchen"
   ]
  },
  {
   "cell_type": "code",
   "execution_count": 91,
   "metadata": {},
   "outputs": [],
   "source": [
    "article='Blechkuchen'"
   ]
  },
  {
   "cell_type": "code",
   "execution_count": 92,
   "metadata": {},
   "outputs": [],
   "source": [
    "fit1 = ExponentialSmoothing(train_2[article], seasonal_periods=365, seasonal='add').fit(use_boxcox=True)\n",
    "fit2 = ExponentialSmoothing(train_2[article], seasonal_periods=365,  seasonal='mul').fit(use_boxcox=True)"
   ]
  },
  {
   "cell_type": "code",
   "execution_count": 93,
   "metadata": {},
   "outputs": [],
   "source": [
    "fit3 = ExponentialSmoothing(train_2[article], trend='add',damped=True,seasonal_periods=365, seasonal='add').fit(use_boxcox=True)\n",
    "fit4 = ExponentialSmoothing(train_2[article], trend='add',damped=True,seasonal_periods=365, seasonal='mul').fit(use_boxcox=True)"
   ]
  },
  {
   "cell_type": "code",
   "execution_count": 94,
   "metadata": {},
   "outputs": [
    {
     "name": "stdout",
     "output_type": "stream",
     "text": [
      "Article Blechkuchen FIT1, MAE:39.14840458558419\n",
      "Article Blechkuchen FIT1, MAPE:46.97346051536812\n"
     ]
    }
   ],
   "source": [
    "MAE_11_FIT1 = mean_absolute_error(test_2[article],fit1.forecast(440))\n",
    "MAPE_11_FIT1= mean_absolute_percentage_error(test_2[article],fit1.forecast(440))\n",
    "print(f'Article {article} FIT1, MAE:{MAE_11_FIT1}')\n",
    "print(f'Article {article} FIT1, MAPE:{MAPE_11_FIT1}')\n",
    "df_results_Winters_Holt_OPT.loc['23',:] = ['Winters_Holt_long','Seas_add',article,MAE_11_FIT1,MAPE_11_FIT1]\n"
   ]
  },
  {
   "cell_type": "code",
   "execution_count": 550,
   "metadata": {},
   "outputs": [
    {
     "name": "stdout",
     "output_type": "stream",
     "text": [
      "Article Blechkuchen FIT2, MAE:41.46030275212301\n",
      "Article Blechkuchen FIT2, MAPE:36.63360635294227\n"
     ]
    }
   ],
   "source": [
    "MAE_11_FIT2 = mean_absolute_error(test_2[article],fit2.forecast(440))\n",
    "MAPE_11_FIT2= mean_absolute_percentage_error(test_2[article],fit2.forecast(440))\n",
    "print(f'Article {article} FIT2, MAE:{MAE_11_FIT2}')\n",
    "print(f'Article {article} FIT2, MAPE:{MAPE_11_FIT2}')"
   ]
  },
  {
   "cell_type": "code",
   "execution_count": 554,
   "metadata": {},
   "outputs": [
    {
     "name": "stdout",
     "output_type": "stream",
     "text": [
      "Article Blechkuchen FIT3, MAE:32.325810537938494\n",
      "Article Blechkuchen FIT3, MAPE:38.27860532073451\n"
     ]
    }
   ],
   "source": [
    "MAE_11_FIT3 = mean_absolute_error(test_short_2[article],fit3.forecast(75))\n",
    "MAPE_11_FIT3= mean_absolute_percentage_error(test_2[article],fit3.forecast(75))\n",
    "print(f'Article {article} FIT3, MAE:{MAE_11_FIT3}')\n",
    "print(f'Article {article} FIT3, MAPE:{MAPE_11_FIT3}')"
   ]
  },
  {
   "cell_type": "code",
   "execution_count": 555,
   "metadata": {},
   "outputs": [
    {
     "name": "stdout",
     "output_type": "stream",
     "text": [
      "Article Blechkuchen FIT4, MAE:15.49170033383728\n",
      "Article Blechkuchen FIT4, MAPE:49.77095493092406\n"
     ]
    }
   ],
   "source": [
    "MAE_11_FIT4 = mean_absolute_error(test_short_2[article],fit4.forecast(75))\n",
    "MAPE_11_FIT4= mean_absolute_percentage_error(test_short_2[article],fit4.forecast(75))\n",
    "print(f'Article {article} FIT4, MAE:{MAE_5_FIT4}')\n",
    "print(f'Article {article} FIT4, MAPE:{MAPE_5_FIT4}')\n",
    "\n"
   ]
  },
  {
   "cell_type": "code",
   "execution_count": null,
   "metadata": {},
   "outputs": [],
   "source": []
  }
 ],
 "metadata": {
  "kernelspec": {
   "display_name": "Python [conda env:nf] *",
   "language": "python",
   "name": "conda-env-nf-py"
  },
  "language_info": {
   "codemirror_mode": {
    "name": "ipython",
    "version": 3
   },
   "file_extension": ".py",
   "mimetype": "text/x-python",
   "name": "python",
   "nbconvert_exporter": "python",
   "pygments_lexer": "ipython3",
   "version": "3.6.10"
  },
  "toc": {
   "base_numbering": 1,
   "nav_menu": {},
   "number_sections": true,
   "sideBar": true,
   "skip_h1_title": false,
   "title_cell": "Table of Contents",
   "title_sidebar": "Contents",
   "toc_cell": false,
   "toc_position": {
    "height": "527.778px",
    "left": "50px",
    "top": "110.052px",
    "width": "282.778px"
   },
   "toc_section_display": true,
   "toc_window_display": true
  },
  "varInspector": {
   "cols": {
    "lenName": 16,
    "lenType": 16,
    "lenVar": 40
   },
   "kernels_config": {
    "python": {
     "delete_cmd_postfix": "",
     "delete_cmd_prefix": "del ",
     "library": "var_list.py",
     "varRefreshCmd": "print(var_dic_list())"
    },
    "r": {
     "delete_cmd_postfix": ") ",
     "delete_cmd_prefix": "rm(",
     "library": "var_list.r",
     "varRefreshCmd": "cat(var_dic_list()) "
    }
   },
   "types_to_exclude": [
    "module",
    "function",
    "builtin_function_or_method",
    "instance",
    "_Feature"
   ],
   "window_display": false
  }
 },
 "nbformat": 4,
 "nbformat_minor": 4
}
