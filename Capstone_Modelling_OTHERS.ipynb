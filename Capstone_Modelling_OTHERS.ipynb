{
 "cells": [
  {
   "cell_type": "markdown",
   "metadata": {},
   "source": [
    "# Content"
   ]
  },
  {
   "cell_type": "markdown",
   "metadata": {},
   "source": [
    "[1. Setup](#Setup)\n",
    "\n",
    "[2. Data Cleaning and Preparation](#Data-Cleaning-&-Preparation)"
   ]
  },
  {
   "cell_type": "markdown",
   "metadata": {},
   "source": [
    "# Setup & Import¶"
   ]
  },
  {
   "cell_type": "code",
   "execution_count": 855,
   "metadata": {},
   "outputs": [],
   "source": [
    "#import basic system functions\n",
    "import os\n",
    "import datetime\n",
    "from collections import Counter\n",
    "import itertools\n",
    "\n",
    "import random\n",
    "\n",
    "#import libraries for data wrangling\n",
    "import pandas as pd\n",
    "import numpy as np\n",
    "\n",
    "#import libraries for plotting data\n",
    "import matplotlib.pyplot as plt\n",
    "import matplotlib.pyplot as mplt\n",
    "\n",
    "%matplotlib inline\n",
    "import seaborn as sns\n",
    "import plotly.express as px\n",
    "import plotly.graph_objects as go\n",
    "from plotly.subplots import make_subplots\n",
    "from pandas.plotting import autocorrelation_plot, lag_plot\n",
    "from scipy import signal\n",
    "# If you want a style choose one\n",
    "#plt.style.use('Solarize_Light2')\n",
    "#plt.style.use('tableau-colorblind10')\n",
    "NF_ORANGE = '#ff5a36'\n",
    "NF_BLUE = '#163251'\n",
    "\n",
    "\n",
    "\n",
    "#import libraries for time series analysis\n",
    "from fbprophet import Prophet\n",
    "from fbprophet.plot import add_changepoints_to_plot\n",
    "from fbprophet.diagnostics import cross_validation\n",
    "from fbprophet.diagnostics import performance_metrics\n",
    "from fbprophet.plot import plot_cross_validation_metric\n",
    "from scipy.stats import boxcox\n",
    "from scipy.special import inv_boxcox\n",
    "from pylab import rcParams\n",
    "import statsmodels.api as sm\n",
    "from statsmodels.graphics.tsaplots import plot_acf\n",
    "from statsmodels.graphics.tsaplots import plot_pacf\n",
    "from pandas.plotting import autocorrelation_plot\n",
    "from statsmodels.tsa.stattools import adfuller\n",
    "from statsmodels.tsa.stattools import grangercausalitytests\n",
    "from pmdarima.arima import auto_arima\n",
    "from statsmodels.tsa.holtwinters import ExponentialSmoothing\n",
    "from statsmodels.tsa.api import SimpleExpSmoothing\n",
    "from sklearn.model_selection import TimeSeriesSplit\n",
    "from sklearn.model_selection import RandomizedSearchCV\n",
    "from sklearn.ensemble import RandomForestClassifier\n",
    "\n",
    "#import libraries for statistics\n",
    "import sklearn.metrics as metrics\n",
    "from sklearn.metrics import mean_squared_error\n",
    "from sklearn.metrics import mean_absolute_error\n",
    "from fbprophet.diagnostics import performance_metrics\n",
    "from fbprophet.diagnostics import cross_validation\n",
    "from sklearn.model_selection import cross_val_score\n",
    "from sklearn.model_selection import train_test_split\n",
    "\n",
    "import warnings\n",
    "warnings.filterwarnings('ignore')\n",
    "\n",
    "\n",
    "from IPython.display import Image\n",
    "from datetime import datetime\n",
    "import holidays"
   ]
  },
  {
   "cell_type": "code",
   "execution_count": null,
   "metadata": {},
   "outputs": [],
   "source": [
    "df_2= pd.read_csv(\"df_new_2.csv\")\n",
    "df_2_clean= pd.read_csv(\"data_2_clean.csv\")"
   ]
  },
  {
   "cell_type": "code",
   "execution_count": null,
   "metadata": {},
   "outputs": [],
   "source": [
    "df_2.drop(columns=['Unnamed: 0'],inplace=True)\n",
    "df_2_clean.drop(columns=['Unnamed: 0'],inplace=True)"
   ]
  },
  {
   "cell_type": "code",
   "execution_count": null,
   "metadata": {},
   "outputs": [],
   "source": [
    "#df= pd.read_csv(\"/Users/brittarover/Capstone/Meteolytics/meteolytix_Artikelgruppen_Umsatz_verschiedeneStandorte.csv\")"
   ]
  },
  {
   "cell_type": "code",
   "execution_count": null,
   "metadata": {
    "scrolled": true
   },
   "outputs": [],
   "source": [
    "df_2_clean.head(2)"
   ]
  },
  {
   "cell_type": "code",
   "execution_count": null,
   "metadata": {},
   "outputs": [],
   "source": [
    "df_2_clean.info()"
   ]
  },
  {
   "cell_type": "code",
   "execution_count": null,
   "metadata": {
    "scrolled": true
   },
   "outputs": [],
   "source": [
    "df_2.shape"
   ]
  },
  {
   "cell_type": "markdown",
   "metadata": {},
   "source": [
    "## Convert to datetime"
   ]
  },
  {
   "cell_type": "code",
   "execution_count": null,
   "metadata": {},
   "outputs": [],
   "source": [
    "df_2['Datum'] = pd.to_datetime(df_2['Datum'])\n",
    "df_2_clean['Datum'] = pd.to_datetime(df_2_clean['Datum'])\n"
   ]
  },
  {
   "cell_type": "code",
   "execution_count": null,
   "metadata": {},
   "outputs": [],
   "source": [
    "df_basis_2=df_2.iloc[:,1:13]\n",
    "df_basis_2_clean=df_2_clean.iloc[:,1:13]\n",
    "df_basis_2_dum=df_2_dum.iloc[:,1:13]"
   ]
  },
  {
   "cell_type": "markdown",
   "metadata": {},
   "source": [
    "## Modify categorical features"
   ]
  },
  {
   "cell_type": "code",
   "execution_count": null,
   "metadata": {},
   "outputs": [],
   "source": [
    "month_dummy= pd.get_dummies(df_2_clean['Monat'], prefix='M', drop_first=True)\n",
    "weekday_dummy= pd.get_dummies(df_2_clean['Wochentag'], prefix='W', drop_first=True)\n",
    "season_dummy=pd.get_dummies(df_2_clean['Season'], prefix='S', drop_first=True)"
   ]
  },
  {
   "cell_type": "code",
   "execution_count": null,
   "metadata": {},
   "outputs": [],
   "source": [
    "df_2_dum = df_2_clean.drop(['Tag','Monat','Wochentag','Jahr','Season'], axis=1) "
   ]
  },
  {
   "cell_type": "code",
   "execution_count": null,
   "metadata": {},
   "outputs": [],
   "source": [
    "df_2_dum = pd.concat([df_2_dum,month_dummy,weekday_dummy,season_dummy], axis=1) "
   ]
  },
  {
   "cell_type": "code",
   "execution_count": null,
   "metadata": {},
   "outputs": [],
   "source": [
    "df_2_dum.columns"
   ]
  },
  {
   "cell_type": "markdown",
   "metadata": {},
   "source": [
    "### Kieler Woche"
   ]
  },
  {
   "cell_type": "code",
   "execution_count": null,
   "metadata": {},
   "outputs": [],
   "source": [
    "kieler_woche= pd.DataFrame({'date':pd.date_range('2019-06-22', '2019-06-30')})\n",
    "kieler_woche = kieler_woche.append(pd.DataFrame({'date':pd.date_range('2018-06-16', '2018-06-24')}))\n",
    "kieler_woche = kieler_woche.append(pd.DataFrame({'date':pd.date_range('2017-06-17', '2017-06-25')}))\n",
    "kieler_woche = kieler_woche.append(pd.DataFrame({'date':pd.date_range('2016-06-18', '2016-06-26')}))\n",
    "kieler_woche = kieler_woche.append(pd.DataFrame({'date':pd.date_range('2015-06-20', '2015-06-28')}))"
   ]
  },
  {
   "cell_type": "code",
   "execution_count": null,
   "metadata": {},
   "outputs": [],
   "source": [
    "kieler_woche['Datum']=kieler_woche['date'].apply(lambda x: x.strftime(format = \"%Y-%m-%d\"))\n",
    "liste_kw=kieler_woche['Datum'].tolist()"
   ]
  },
  {
   "cell_type": "code",
   "execution_count": null,
   "metadata": {},
   "outputs": [],
   "source": [
    "#Definition of new column Kieler Woche\n",
    "df_2_dum['Kieler_Woche']=df_2_dum['Datum'].apply(lambda x: 1 if x.strftime(format = \"%Y-%m-%d\") in liste_kw else 0)"
   ]
  },
  {
   "cell_type": "markdown",
   "metadata": {},
   "source": [
    "## Timerelated Features for Salesvolumne in the past"
   ]
  },
  {
   "cell_type": "markdown",
   "metadata": {},
   "source": [
    "#### Values of the previous week and year"
   ]
  },
  {
   "cell_type": "code",
   "execution_count": null,
   "metadata": {},
   "outputs": [],
   "source": [
    "articlelist=df_basis_2_dum.columns.tolist()"
   ]
  },
  {
   "cell_type": "code",
   "execution_count": 577,
   "metadata": {},
   "outputs": [],
   "source": [
    "#For multiple Columns and also Dataframes\n",
    "var=['Gesamt']\n",
    "numbers=[7,364]\n",
    "\n",
    "for i in var:\n",
    "    for j in numbers:\n",
    "       df_2_dum[\"%s_%d\" % (i,j)]=df_2_dum[i].shift(j)\n",
    "       df_2_dum[\"%s_%d\" % (i,j)].fillna(0)"
   ]
  },
  {
   "cell_type": "code",
   "execution_count": null,
   "metadata": {},
   "outputs": [],
   "source": [
    "#For multiple Columns and also Dataframes\n",
    "var=['Brötchen','Süsse_Brötchen','Herzhafte_Brötchen']\n",
    "numbers=[7,364]\n",
    "\n",
    "for i in var:\n",
    "    for j in numbers:\n",
    "       df_2_clean[\"%s_%d\" % (i,j)]=df_2_clean[i].shift(j)\n",
    "       df_2_clean[\"%s_%d\" % (i,j)].fillna(0)"
   ]
  },
  {
   "cell_type": "markdown",
   "metadata": {},
   "source": [
    "#### mean and max-Values for Weekday and Monthly Values"
   ]
  },
  {
   "cell_type": "markdown",
   "metadata": {},
   "source": [
    "**Conclusions**\n",
    "- `Mean and Maxvalues have no significant impact to the correlation. I need to do it for Months and Weekdays.`\n"
   ]
  },
  {
   "cell_type": "code",
   "execution_count": null,
   "metadata": {},
   "outputs": [],
   "source": [
    "# Definition on weekldaybase\n",
    "def Brötchen_mean(x):\n",
    "    return df_2.groupby('Wochentag')['Brötchen'].mean()[x]\n",
    "def Brötchen_max(x):\n",
    "    return df_2.groupby('Wochentag')['Brötchen'].max()[x]\n"
   ]
  },
  {
   "cell_type": "code",
   "execution_count": null,
   "metadata": {},
   "outputs": [],
   "source": [
    "#For multiple Columns and also Dataframes\n",
    "var=['Süsse_Brötchen','Herzhafte_Brötchen']\n",
    "\n",
    "\n",
    "for i in var:\n",
    "    name=i+ \"_mean\"\n",
    "    \n",
    "    def name(x):\n",
    "        return df_2.groupby('Wochentag')['%s' % (i)].mean()[x]\n",
    "\n",
    "    df_2['%s_mean_WD' % (i)]=df_2['Wochentag'].apply(lambda x:  name(x))\n",
    "                                   "
   ]
  },
  {
   "cell_type": "code",
   "execution_count": null,
   "metadata": {},
   "outputs": [],
   "source": [
    "#For multiple Columns and also Dataframes\n",
    "var=['Süsse_Brötchen','Herzhafte_Brötchen']\n",
    "\n",
    "\n",
    "for i in var:\n",
    "    name=i+ \"_max\"\n",
    "    \n",
    "    def name(x):\n",
    "        return df_2.groupby('Wochentag')['%s' % (i)].mean()[x]\n",
    "\n",
    "    df_2['%s_max_WD' % (i)]=df_2['Wochentag'].apply(lambda x:  name(x))"
   ]
  },
  {
   "cell_type": "code",
   "execution_count": null,
   "metadata": {},
   "outputs": [],
   "source": [
    "def Brötchen_mean_M(x):\n",
    "    return df_2.groupby('Monat')['Brötchen'].mean()[x]\n",
    "def Brötchen_max_M(x):\n",
    "    return df_2.groupby('Monat')['Brötchen'].max()[x]\n"
   ]
  },
  {
   "cell_type": "code",
   "execution_count": null,
   "metadata": {},
   "outputs": [],
   "source": [
    "df_2['Brötchen_mean_M']=df_2['Monat'].apply(lambda x:  Brötchen_mean_M(x))\n",
    "df_2['Brötchen_max_M']=df_2['Monat'].apply(lambda x:  Brötchen_max_M(x))\n"
   ]
  },
  {
   "cell_type": "code",
   "execution_count": null,
   "metadata": {},
   "outputs": [],
   "source": [
    "#For multiple Columns and also Dataframes\n",
    "var=['Süsse_Brötchen','Herzhafte_Brötchen']\n",
    "\n",
    "for i in var:\n",
    "    name=i+ \"_mean\"\n",
    "    \n",
    "    def name(x):\n",
    "        return df_2.groupby('Monat')['%s' % (i)].mean()[x]\n",
    "\n",
    "    df_2['%s_mean_M' % (i)]=df_2['Monat'].apply(lambda x:  name(x))"
   ]
  },
  {
   "cell_type": "code",
   "execution_count": null,
   "metadata": {},
   "outputs": [],
   "source": [
    "#For multiple Columns and also Dataframes\n",
    "var=['Süsse_Brötchen','Herzhafte_Brötchen']\n",
    "\n",
    "\n",
    "for i in var:\n",
    "    name=i+ \"_max\"\n",
    "    \n",
    "    def name(x):\n",
    "        return df_2.groupby('Monat')['%s' % (i)].mean()[x]\n",
    "\n",
    "    df_2['%s_max_M' % (i)]=df_2['Monat'].apply(lambda x:  name(x))\n",
    "                                   "
   ]
  },
  {
   "cell_type": "markdown",
   "metadata": {},
   "source": [
    "## Distribution"
   ]
  },
  {
   "cell_type": "code",
   "execution_count": null,
   "metadata": {},
   "outputs": [],
   "source": [
    "# Valuation of agg.Values\n",
    "df_2.describe().T"
   ]
  },
  {
   "cell_type": "markdown",
   "metadata": {},
   "source": [
    "## Correlations"
   ]
  },
  {
   "cell_type": "code",
   "execution_count": null,
   "metadata": {},
   "outputs": [],
   "source": [
    "# correlation für Brötchen\n",
    "basis=num_df.corr(method='pearson')['Brötchen'].sort_values(axis=0, ascending=False)\n",
    "basis.plot(kind='bar',figsize=(10,8),title='Korrelation nach Pearson für Brötchen')"
   ]
  },
  {
   "cell_type": "code",
   "execution_count": null,
   "metadata": {},
   "outputs": [],
   "source": [
    "#First we create a new DataFrame with only numerical features\n",
    "numerics = ['int64', 'float64']\n",
    "\n",
    "num_df = df_2.select_dtypes(include=numerics)\n",
    "\n",
    "#Korrelationsanalyse\n",
    "mask = np.triu( num_df.corr())\n",
    "plt.figure(figsize=(30,18))\n",
    "plt.title('Correlation of variables')\n",
    "ax=sns.heatmap(num_df.corr(),vmax=1.0,annot=True,mask=mask,cmap='coolwarm')\n",
    "plt.savefig('correlogram_simple.png')\n",
    "ax.set_ylim((0,40))\n",
    "plt.show"
   ]
  },
  {
   "cell_type": "code",
   "execution_count": null,
   "metadata": {},
   "outputs": [],
   "source": [
    "df_2.to_csv(\"df_new_2.csv\")"
   ]
  },
  {
   "cell_type": "markdown",
   "metadata": {},
   "source": [
    "# Checks Timeseries & Setup Modelling"
   ]
  },
  {
   "cell_type": "code",
   "execution_count": 578,
   "metadata": {},
   "outputs": [],
   "source": [
    "df_newmodel_2 = df_2.set_index('Datum')\n",
    "df_newmodel_2_dum=df_2_dum.set_index('Datum')"
   ]
  },
  {
   "cell_type": "code",
   "execution_count": null,
   "metadata": {},
   "outputs": [],
   "source": [
    "#df_new_1_index=df_newmodel_1.set_index('Datum')\n",
    "#df_new_2_index=df_newmodel_2.set_index('Datum')\n",
    "#df_new_3_index=df_newmodel_1.set_index('Datum')"
   ]
  },
  {
   "cell_type": "markdown",
   "metadata": {},
   "source": [
    "## Metrics"
   ]
  },
  {
   "cell_type": "markdown",
   "metadata": {},
   "source": [
    "**Conclusions**\n",
    "- `I choose MAE and MAPE as Performance Measures for my project.`"
   ]
  },
  {
   "cell_type": "markdown",
   "metadata": {},
   "source": [
    "I would analyse the results from the different models via the two different metrics mean absolute error **MAE** which is available via Sklearn.metrics and via the metrics mean absolute percentage error called **MAPE**.\n",
    "\n",
    "There is no inbuilt function in sci-kit learn, so i define a custom function to calculate this measure. I adjusted the commom measure in the way that i do not consider all closed days of a Filiale.\n"
   ]
  },
  {
   "cell_type": "code",
   "execution_count": 355,
   "metadata": {},
   "outputs": [],
   "source": [
    "#calculate mean absolute forecast error which only take actual values unequal to zero in consideration\n",
    "def mean_absolute_percentage_error_WZ(actual, predicted): \n",
    "    \n",
    "    actual, predicted = np.array(actual), np.array(predicted)\n",
    "    return np.mean(np.abs((actual - predicted) / actual)) * 100\n"
   ]
  },
  {
   "cell_type": "code",
   "execution_count": 356,
   "metadata": {},
   "outputs": [],
   "source": [
    "#calculate mean absolute percentage forecast error\n",
    "def mean_absolute_percentage_error(actual, predicted): \n",
    "    \n",
    "    nz_1=(actual==0)\n",
    "    actual_nz=actual[nz_1==0]\n",
    "    \n",
    "    difference_nz=actual-predicted\n",
    "    difference_nz.dropna()\n",
    "    return np.mean(np.abs((difference_nz) / actual_nz)) * 100"
   ]
  },
  {
   "cell_type": "code",
   "execution_count": 357,
   "metadata": {},
   "outputs": [],
   "source": [
    "#calculate mean absolute percentage forecast error\n",
    "def mean_absolute_percentage_error_modify(actual, predicted): \n",
    "    \n",
    "    nz_1=(actual==0)\n",
    "    actual_nz=actual[nz_1==0]\n",
    "    \n",
    "    difference_nz=actual-predicted\n",
    "    difference_nz.dropna()\n",
    "    return np.mean(np.abs((difference_nz))) "
   ]
  },
  {
   "cell_type": "code",
   "execution_count": 856,
   "metadata": {},
   "outputs": [],
   "source": [
    "from sklearn.metrics import make_scorer\n",
    "def mae(actual, predict):\n",
    "    predict = np.array(predict)\n",
    "    actual = np.array(actual)\n",
    "    distance = predict - actual\n",
    "    distance_mean = distance.mean()\n",
    "    score = np.sqrt(distance_mean)\n",
    "    return score"
   ]
  },
  {
   "cell_type": "code",
   "execution_count": 857,
   "metadata": {},
   "outputs": [],
   "source": [
    "mae_score = make_scorer(mae, greater_is_better = False)"
   ]
  },
  {
   "cell_type": "code",
   "execution_count": null,
   "metadata": {},
   "outputs": [],
   "source": [
    "def regression_results(y_true, y_pred):\n",
    "# Regression metrics\n",
    "    explained_variance=metrics.explained_variance_score(y_true, y_pred)\n",
    "    mean_absolute_error=metrics.mean_absolute_error(y_true, y_pred) \n",
    "    mse=metrics.mean_squared_error(y_true, y_pred) \n",
    "    mean_squared_log_error=metrics.mean_squared_log_error(y_true, y_pred)\n",
    "    median_absolute_error=metrics.median_absolute_error(y_true, y_pred)\n",
    "    r2=metrics.r2_score(y_true, y_pred)\n",
    "    print('explained_variance: ', round(explained_variance,4))    \n",
    "    print('mean_squared_log_error: ', round(mean_squared_log_error,4))\n",
    "    print('r2: ', round(r2,4))\n",
    "    print('MAE: ', round(mean_absolute_error,4))\n",
    "    print('MAPE', round(mean_absolute_percentage_error,4))\n",
    "    print('MSE: ', round(mse,4))\n",
    "    print('RMSE: ', round(np.sqrt(mse),4))"
   ]
  },
  {
   "cell_type": "markdown",
   "metadata": {},
   "source": [
    "## Test-/Train-Split"
   ]
  },
  {
   "cell_type": "markdown",
   "metadata": {},
   "source": [
    "Split into train and test datasets to build the model on the training dataset and forecast using the test dataset. I decide to use the first 4 years for training and the period since 01.01.2019 for testing. "
   ]
  },
  {
   "cell_type": "code",
   "execution_count": 579,
   "metadata": {},
   "outputs": [],
   "source": [
    "# use past 4 years data to forecast the next 15 months until corona\n",
    "\n",
    "start_train='01.01.2016'\n",
    "end_train = '31.12.2018'\n",
    "start_test='01.01.2019'\n",
    "corona='15.03.2020'"
   ]
  },
  {
   "cell_type": "code",
   "execution_count": 580,
   "metadata": {
    "scrolled": true
   },
   "outputs": [],
   "source": [
    "# Basismodel\n",
    "train_basis_2 = df_newmodel_2_dum[:end_train].copy()\n",
    "test_basis_2 = df_newmodel_2_dum[end_train:corona].copy()"
   ]
  },
  {
   "cell_type": "code",
   "execution_count": 581,
   "metadata": {},
   "outputs": [],
   "source": [
    "train_2 = df_newmodel_2_dum[start_train:end_train].copy()\n",
    "test_2 = df_newmodel_2_dum[start_test:corona].copy()"
   ]
  },
  {
   "cell_type": "markdown",
   "metadata": {},
   "source": [
    "## Baseline Model"
   ]
  },
  {
   "cell_type": "markdown",
   "metadata": {},
   "source": [
    "The moving average value can also be used directly to make predictions as a naive model and baseline for further \n",
    "on analysis. The fit would has been better if trend and seasonality components of the time series have already been removed or adjusted for."
   ]
  },
  {
   "cell_type": "code",
   "execution_count": 364,
   "metadata": {},
   "outputs": [],
   "source": [
    "# moving average smoothing as a forecast model\n",
    "from math import sqrt\n",
    "from numpy import mean\n",
    "from sklearn.metrics import mean_squared_error\n",
    "from matplotlib import pyplot"
   ]
  },
  {
   "cell_type": "code",
   "execution_count": 371,
   "metadata": {},
   "outputs": [
    {
     "data": {
      "text/html": [
       "<div>\n",
       "<style scoped>\n",
       "    .dataframe tbody tr th:only-of-type {\n",
       "        vertical-align: middle;\n",
       "    }\n",
       "\n",
       "    .dataframe tbody tr th {\n",
       "        vertical-align: top;\n",
       "    }\n",
       "\n",
       "    .dataframe thead th {\n",
       "        text-align: right;\n",
       "    }\n",
       "</style>\n",
       "<table border=\"1\" class=\"dataframe\">\n",
       "  <thead>\n",
       "    <tr style=\"text-align: right;\">\n",
       "      <th></th>\n",
       "      <th>Model</th>\n",
       "      <th>Label</th>\n",
       "      <th>MAE_BASELINE</th>\n",
       "    </tr>\n",
       "  </thead>\n",
       "  <tbody>\n",
       "    <tr>\n",
       "      <th>0</th>\n",
       "      <td>BASELINE</td>\n",
       "      <td>Weizenbrot</td>\n",
       "      <td>21.810966</td>\n",
       "    </tr>\n",
       "    <tr>\n",
       "      <th>1</th>\n",
       "      <td>BASELINE</td>\n",
       "      <td>Mischbrot</td>\n",
       "      <td>14.696344</td>\n",
       "    </tr>\n",
       "    <tr>\n",
       "      <th>2</th>\n",
       "      <td>BASELINE</td>\n",
       "      <td>Vollkornbrot</td>\n",
       "      <td>17.744443</td>\n",
       "    </tr>\n",
       "    <tr>\n",
       "      <th>3</th>\n",
       "      <td>BASELINE</td>\n",
       "      <td>Stangenbrote</td>\n",
       "      <td>13.188681</td>\n",
       "    </tr>\n",
       "    <tr>\n",
       "      <th>4</th>\n",
       "      <td>BASELINE</td>\n",
       "      <td>Spezialbrot</td>\n",
       "      <td>16.508831</td>\n",
       "    </tr>\n",
       "    <tr>\n",
       "      <th>5</th>\n",
       "      <td>BASELINE</td>\n",
       "      <td>Brötchen</td>\n",
       "      <td>77.563061</td>\n",
       "    </tr>\n",
       "    <tr>\n",
       "      <th>6</th>\n",
       "      <td>BASELINE</td>\n",
       "      <td>Süsse_Brötchen</td>\n",
       "      <td>32.109803</td>\n",
       "    </tr>\n",
       "    <tr>\n",
       "      <th>7</th>\n",
       "      <td>BASELINE</td>\n",
       "      <td>Herzhafte_Brötchen</td>\n",
       "      <td>18.289108</td>\n",
       "    </tr>\n",
       "    <tr>\n",
       "      <th>8</th>\n",
       "      <td>BASELINE</td>\n",
       "      <td>KonditoreiBlech</td>\n",
       "      <td>34.783809</td>\n",
       "    </tr>\n",
       "    <tr>\n",
       "      <th>9</th>\n",
       "      <td>BASELINE</td>\n",
       "      <td>Stückgebäck</td>\n",
       "      <td>36.841229</td>\n",
       "    </tr>\n",
       "    <tr>\n",
       "      <th>10</th>\n",
       "      <td>BASELINE</td>\n",
       "      <td>Blechkuchen</td>\n",
       "      <td>27.420724</td>\n",
       "    </tr>\n",
       "    <tr>\n",
       "      <th>11</th>\n",
       "      <td>BASELINE</td>\n",
       "      <td>Weihnachtsartikel</td>\n",
       "      <td>6.205920</td>\n",
       "    </tr>\n",
       "  </tbody>\n",
       "</table>\n",
       "</div>"
      ],
      "text/plain": [
       "       Model               Label  MAE_BASELINE\n",
       "0   BASELINE          Weizenbrot     21.810966\n",
       "1   BASELINE           Mischbrot     14.696344\n",
       "2   BASELINE        Vollkornbrot     17.744443\n",
       "3   BASELINE        Stangenbrote     13.188681\n",
       "4   BASELINE         Spezialbrot     16.508831\n",
       "5   BASELINE            Brötchen     77.563061\n",
       "6   BASELINE      Süsse_Brötchen     32.109803\n",
       "7   BASELINE  Herzhafte_Brötchen     18.289108\n",
       "8   BASELINE     KonditoreiBlech     34.783809\n",
       "9   BASELINE         Stückgebäck     36.841229\n",
       "10  BASELINE         Blechkuchen     27.420724\n",
       "11  BASELINE   Weihnachtsartikel      6.205920"
      ]
     },
     "execution_count": 371,
     "metadata": {},
     "output_type": "execute_result"
    }
   ],
   "source": [
    "df_results_Baseline= pd.read_csv(\"df_results_Baseline\")\n",
    "df_results_Baseline.drop(columns=['Unnamed: 0'],inplace=True)\n",
    "df_results_Baseline"
   ]
  },
  {
   "cell_type": "markdown",
   "metadata": {},
   "source": [
    "# Random Forest"
   ]
  },
  {
   "cell_type": "code",
   "execution_count": null,
   "metadata": {},
   "outputs": [],
   "source": [
    "start_train='01.01.2016'\n",
    "end_train = '31.12.2018'\n",
    "start_test='01.01.2019'\n",
    "corona='15.03.2020'"
   ]
  },
  {
   "cell_type": "code",
   "execution_count": 582,
   "metadata": {},
   "outputs": [],
   "source": [
    "# Basismodel\n",
    "train_2 = df_2_dum[365:1461]"
   ]
  },
  {
   "cell_type": "code",
   "execution_count": 583,
   "metadata": {},
   "outputs": [],
   "source": [
    "test_2 = df_2_dum[1462:1901]"
   ]
  },
  {
   "cell_type": "code",
   "execution_count": 584,
   "metadata": {},
   "outputs": [
    {
     "name": "stdout",
     "output_type": "stream",
     "text": [
      "<class 'pandas.core.frame.DataFrame'>\n",
      "RangeIndex: 1096 entries, 365 to 1460\n",
      "Data columns (total 73 columns):\n",
      " #   Column                  Non-Null Count  Dtype         \n",
      "---  ------                  --------------  -----         \n",
      " 0   Datum                   1096 non-null   datetime64[ns]\n",
      " 1   Weizenbrot              1096 non-null   float64       \n",
      " 2   Mischbrot               1096 non-null   float64       \n",
      " 3   Vollkornbrot            1096 non-null   float64       \n",
      " 4   Stangenbrote            1096 non-null   float64       \n",
      " 5   Spezialbrot             1096 non-null   float64       \n",
      " 6   Brötchen                1096 non-null   float64       \n",
      " 7   Süsse_Brötchen          1096 non-null   float64       \n",
      " 8   Herzhafte_Brötchen      1096 non-null   float64       \n",
      " 9   KonditoreiBlech         1096 non-null   float64       \n",
      " 10  Stückgebäck             1096 non-null   float64       \n",
      " 11  Blechkuchen             1096 non-null   float64       \n",
      " 12  Weihnachtsartikel       1096 non-null   float64       \n",
      " 13  Gesamt                  1096 non-null   float64       \n",
      " 14  Wochenende_flag         1096 non-null   int64         \n",
      " 15  Christmas               1096 non-null   int64         \n",
      " 16  Closed                  1096 non-null   int64         \n",
      " 17  Outlier                 1096 non-null   int64         \n",
      " 18  New_Years_Eve           1096 non-null   int64         \n",
      " 19  Feiertag_DE             1096 non-null   int64         \n",
      " 20  Ostern                  1096 non-null   float64       \n",
      " 21  Holidays_SH             1096 non-null   float64       \n",
      " 22  SUMMER_SH               1096 non-null   float64       \n",
      " 23  Niederschlag            1096 non-null   float64       \n",
      " 24  Sonne_h                 1096 non-null   float64       \n",
      " 25  Temperatur_max          1096 non-null   float64       \n",
      " 26  M_2                     1096 non-null   uint8         \n",
      " 27  M_3                     1096 non-null   uint8         \n",
      " 28  M_4                     1096 non-null   uint8         \n",
      " 29  M_5                     1096 non-null   uint8         \n",
      " 30  M_6                     1096 non-null   uint8         \n",
      " 31  M_7                     1096 non-null   uint8         \n",
      " 32  M_8                     1096 non-null   uint8         \n",
      " 33  M_9                     1096 non-null   uint8         \n",
      " 34  M_10                    1096 non-null   uint8         \n",
      " 35  M_11                    1096 non-null   uint8         \n",
      " 36  M_12                    1096 non-null   uint8         \n",
      " 37  W_1                     1096 non-null   uint8         \n",
      " 38  W_2                     1096 non-null   uint8         \n",
      " 39  W_3                     1096 non-null   uint8         \n",
      " 40  W_4                     1096 non-null   uint8         \n",
      " 41  W_5                     1096 non-null   uint8         \n",
      " 42  W_6                     1096 non-null   uint8         \n",
      " 43  S_2                     1096 non-null   uint8         \n",
      " 44  S_3                     1096 non-null   uint8         \n",
      " 45  S_4                     1096 non-null   uint8         \n",
      " 46  Kieler_Woche            1096 non-null   int64         \n",
      " 47  Weizenbrot_7            1096 non-null   float64       \n",
      " 48  Weizenbrot_364          1096 non-null   float64       \n",
      " 49  Mischbrot_7             1096 non-null   float64       \n",
      " 50  Mischbrot_364           1096 non-null   float64       \n",
      " 51  Vollkornbrot_7          1096 non-null   float64       \n",
      " 52  Vollkornbrot_364        1096 non-null   float64       \n",
      " 53  Stangenbrote_7          1096 non-null   float64       \n",
      " 54  Stangenbrote_364        1096 non-null   float64       \n",
      " 55  Spezialbrot_7           1096 non-null   float64       \n",
      " 56  Spezialbrot_364         1096 non-null   float64       \n",
      " 57  Brötchen_7              1096 non-null   float64       \n",
      " 58  Brötchen_364            1096 non-null   float64       \n",
      " 59  Süsse_Brötchen_7        1096 non-null   float64       \n",
      " 60  Süsse_Brötchen_364      1096 non-null   float64       \n",
      " 61  Herzhafte_Brötchen_7    1096 non-null   float64       \n",
      " 62  Herzhafte_Brötchen_364  1096 non-null   float64       \n",
      " 63  KonditoreiBlech_7       1096 non-null   float64       \n",
      " 64  KonditoreiBlech_364     1096 non-null   float64       \n",
      " 65  Stückgebäck_7           1096 non-null   float64       \n",
      " 66  Stückgebäck_364         1096 non-null   float64       \n",
      " 67  Blechkuchen_7           1096 non-null   float64       \n",
      " 68  Blechkuchen_364         1096 non-null   float64       \n",
      " 69  Weihnachtsartikel_7     1096 non-null   float64       \n",
      " 70  Weihnachtsartikel_364   1096 non-null   float64       \n",
      " 71  Gesamt_7                1096 non-null   float64       \n",
      " 72  Gesamt_364              1096 non-null   float64       \n",
      "dtypes: datetime64[ns](1), float64(45), int64(7), uint8(20)\n",
      "memory usage: 475.3 KB\n"
     ]
    }
   ],
   "source": [
    "train_2.info()"
   ]
  },
  {
   "cell_type": "code",
   "execution_count": null,
   "metadata": {},
   "outputs": [],
   "source": [
    "for i in train_2.iloc[:,1:13].columns:\n",
    "     train_2[i]=train_2[i].astype(int)"
   ]
  },
  {
   "cell_type": "code",
   "execution_count": null,
   "metadata": {},
   "outputs": [],
   "source": [
    "for i in test_2.iloc[:,1:13].columns:\n",
    "     test_2[i]=test_2[i].astype(int)"
   ]
  },
  {
   "cell_type": "code",
   "execution_count": null,
   "metadata": {},
   "outputs": [],
   "source": [
    "y_train_2_1=train_2['Weizenbrot']\n",
    "y_train_2_2=train_2['Mischbrot']\n",
    "y_train_2_3=train_2['Vollkornbrot']\n",
    "y_train_2_4=train_2['Spezialbrot']\n",
    "y_train_2_5=train_2['Stangenbrote']\n",
    "y_train_2_6=train_2['Brötchen']\n",
    "y_train_2_7=train_2['Süsse_Brötchen']\n",
    "y_train_2_8=train_2['Herzhafte_Brötchen']\n",
    "y_train_2_9=train_2['KonditoreiBlech']\n",
    "y_train_2_10=train_2['Stückgebäck']\n",
    "y_train_2_11=train_2['Blechkuchen']\n",
    "y_train_2_12=train_2['Weihnachtsartikel']"
   ]
  },
  {
   "cell_type": "code",
   "execution_count": null,
   "metadata": {},
   "outputs": [],
   "source": [
    "y_test_2_1=test_2['Weizenbrot']\n",
    "y_test_2_2=test_2['Mischbrot']\n",
    "y_test_2_3=test_2['Vollkornbrot']\n",
    "y_test_2_4=test_2['Spezialbrot']\n",
    "y_test_2_5=test_2['Stangenbrote']\n",
    "y_test_2_6=test_2['Brötchen']\n",
    "y_test_2_7=test_2['Süsse_Brötchen']\n",
    "y_test_2_8=test_2['Herzhafte_Brötchen']\n",
    "y_test_2_9=test_2['KonditoreiBlech']\n",
    "y_test_2_10=test_2['Stückgebäck']\n",
    "y_test_2_11=test_2['Blechkuchen']\n",
    "y_test_2_12=test_2['Weihnachtsartikel']"
   ]
  },
  {
   "cell_type": "code",
   "execution_count": null,
   "metadata": {},
   "outputs": [],
   "source": [
    "print(X_train_2_6.shape, X_test_2_6.shape) "
   ]
  },
  {
   "cell_type": "code",
   "execution_count": null,
   "metadata": {},
   "outputs": [],
   "source": [
    "y_train_2_6.head()"
   ]
  },
  {
   "cell_type": "markdown",
   "metadata": {},
   "source": [
    "## Basismodel"
   ]
  },
  {
   "cell_type": "code",
   "execution_count": 387,
   "metadata": {},
   "outputs": [],
   "source": [
    "df_results_Random_Forest = pd.DataFrame( \n",
    "                  columns=['Model', 'Label','MAE','MAPE'])"
   ]
  },
  {
   "cell_type": "code",
   "execution_count": 877,
   "metadata": {},
   "outputs": [],
   "source": [
    "df_results_Random_Forest.to_csv(\"df_results_Random_Forest.csv\")"
   ]
  },
  {
   "cell_type": "code",
   "execution_count": 876,
   "metadata": {},
   "outputs": [
    {
     "data": {
      "text/html": [
       "<div>\n",
       "<style scoped>\n",
       "    .dataframe tbody tr th:only-of-type {\n",
       "        vertical-align: middle;\n",
       "    }\n",
       "\n",
       "    .dataframe tbody tr th {\n",
       "        vertical-align: top;\n",
       "    }\n",
       "\n",
       "    .dataframe thead th {\n",
       "        text-align: right;\n",
       "    }\n",
       "</style>\n",
       "<table border=\"1\" class=\"dataframe\">\n",
       "  <thead>\n",
       "    <tr style=\"text-align: right;\">\n",
       "      <th></th>\n",
       "      <th>Model</th>\n",
       "      <th>Label</th>\n",
       "      <th>MAE</th>\n",
       "      <th>MAPE</th>\n",
       "    </tr>\n",
       "  </thead>\n",
       "  <tbody>\n",
       "    <tr>\n",
       "      <th>11</th>\n",
       "      <td>Random_Forest-Basis</td>\n",
       "      <td>Blechkuchen</td>\n",
       "      <td>26.5626</td>\n",
       "      <td>30.3632</td>\n",
       "    </tr>\n",
       "    <tr>\n",
       "      <th>23</th>\n",
       "      <td>Random_Forest-Basis</td>\n",
       "      <td>Blechkuchen</td>\n",
       "      <td>26.2096</td>\n",
       "      <td>30.5732</td>\n",
       "    </tr>\n",
       "    <tr>\n",
       "      <th>18</th>\n",
       "      <td>Random_Forest-Advanced</td>\n",
       "      <td>Brötchen</td>\n",
       "      <td>56.0729</td>\n",
       "      <td>13.5356</td>\n",
       "    </tr>\n",
       "    <tr>\n",
       "      <th>42</th>\n",
       "      <td>Random_Forest-Advanced_inclGesamt</td>\n",
       "      <td>Brötchen</td>\n",
       "      <td>56.7836</td>\n",
       "      <td>13.682</td>\n",
       "    </tr>\n",
       "    <tr>\n",
       "      <th>54</th>\n",
       "      <td>Random_Forest-Advanced_Closedrepl</td>\n",
       "      <td>Brötchen</td>\n",
       "      <td>67.5034</td>\n",
       "      <td>14.099</td>\n",
       "    </tr>\n",
       "    <tr>\n",
       "      <th>30</th>\n",
       "      <td>Random_Forest-Advanced_year</td>\n",
       "      <td>Brötchen</td>\n",
       "      <td>59.9043</td>\n",
       "      <td>14.7575</td>\n",
       "    </tr>\n",
       "    <tr>\n",
       "      <th>6</th>\n",
       "      <td>Random_Forest-Basis</td>\n",
       "      <td>Brötchen</td>\n",
       "      <td>61.8269</td>\n",
       "      <td>15.1678</td>\n",
       "    </tr>\n",
       "    <tr>\n",
       "      <th>8</th>\n",
       "      <td>Random_Forest-Basis</td>\n",
       "      <td>Herzhafte_Brötchen</td>\n",
       "      <td>30.8497</td>\n",
       "      <td>26.9775</td>\n",
       "    </tr>\n",
       "    <tr>\n",
       "      <th>20</th>\n",
       "      <td>Random_Forest-Advanced</td>\n",
       "      <td>Herzhafte_Brötchen</td>\n",
       "      <td>30.8497</td>\n",
       "      <td>26.9775</td>\n",
       "    </tr>\n",
       "    <tr>\n",
       "      <th>56</th>\n",
       "      <td>Random_Forest-Advanced</td>\n",
       "      <td>Herzhafte_Brötchen</td>\n",
       "      <td>30.8497</td>\n",
       "      <td>26.9775</td>\n",
       "    </tr>\n",
       "    <tr>\n",
       "      <th>21</th>\n",
       "      <td>Random_Forest-Advanced</td>\n",
       "      <td>KonditoreiBlech</td>\n",
       "      <td>30.5239</td>\n",
       "      <td>45.8313</td>\n",
       "    </tr>\n",
       "    <tr>\n",
       "      <th>9</th>\n",
       "      <td>Random_Forest-Basis</td>\n",
       "      <td>KonditoreiBlech</td>\n",
       "      <td>54.7335</td>\n",
       "      <td>87.6495</td>\n",
       "    </tr>\n",
       "    <tr>\n",
       "      <th>2</th>\n",
       "      <td>Random_Forest-Basis</td>\n",
       "      <td>Mischbrot</td>\n",
       "      <td>14.0547</td>\n",
       "      <td>20.8944</td>\n",
       "    </tr>\n",
       "    <tr>\n",
       "      <th>14</th>\n",
       "      <td>Random_Forest-Advanced</td>\n",
       "      <td>Mischbrot</td>\n",
       "      <td>15.4465</td>\n",
       "      <td>21.8813</td>\n",
       "    </tr>\n",
       "    <tr>\n",
       "      <th>16</th>\n",
       "      <td>Random_Forest-Advanced</td>\n",
       "      <td>Spezialbrot</td>\n",
       "      <td>17.7677</td>\n",
       "      <td>28.3166</td>\n",
       "    </tr>\n",
       "    <tr>\n",
       "      <th>4</th>\n",
       "      <td>Random_Forest-Basis</td>\n",
       "      <td>Spezialbrot</td>\n",
       "      <td>22.8383</td>\n",
       "      <td>36.3981</td>\n",
       "    </tr>\n",
       "    <tr>\n",
       "      <th>5</th>\n",
       "      <td>Random_Forest-Basis</td>\n",
       "      <td>Stangenbrote</td>\n",
       "      <td>14.1572</td>\n",
       "      <td>46.282</td>\n",
       "    </tr>\n",
       "    <tr>\n",
       "      <th>17</th>\n",
       "      <td>Random_Forest-Advanced</td>\n",
       "      <td>Stangenbrote</td>\n",
       "      <td>14.7494</td>\n",
       "      <td>48.4927</td>\n",
       "    </tr>\n",
       "    <tr>\n",
       "      <th>22</th>\n",
       "      <td>Random_Forest-Advanced</td>\n",
       "      <td>Stückgebäck</td>\n",
       "      <td>38.8223</td>\n",
       "      <td>25.8438</td>\n",
       "    </tr>\n",
       "    <tr>\n",
       "      <th>10</th>\n",
       "      <td>Random_Forest-Basis</td>\n",
       "      <td>Stückgebäck</td>\n",
       "      <td>38.5923</td>\n",
       "      <td>26.0194</td>\n",
       "    </tr>\n",
       "    <tr>\n",
       "      <th>19</th>\n",
       "      <td>Random_Forest-Advanced</td>\n",
       "      <td>Süsse Brötchen</td>\n",
       "      <td>22.1708</td>\n",
       "      <td>10.8024</td>\n",
       "    </tr>\n",
       "    <tr>\n",
       "      <th>43</th>\n",
       "      <td>Random_Forest-Advanced_Gesamt</td>\n",
       "      <td>Süsse Brötchen</td>\n",
       "      <td>22.4032</td>\n",
       "      <td>10.9362</td>\n",
       "    </tr>\n",
       "    <tr>\n",
       "      <th>55</th>\n",
       "      <td>Random_Forest-Advanced_Closedrepl</td>\n",
       "      <td>Süsse Brötchen</td>\n",
       "      <td>27.0114</td>\n",
       "      <td>11.1321</td>\n",
       "    </tr>\n",
       "    <tr>\n",
       "      <th>31</th>\n",
       "      <td>Random_Forest-Advanced_year</td>\n",
       "      <td>Süsse Brötchen</td>\n",
       "      <td>23.2483</td>\n",
       "      <td>11.2432</td>\n",
       "    </tr>\n",
       "    <tr>\n",
       "      <th>7</th>\n",
       "      <td>Random_Forest-Basis</td>\n",
       "      <td>Süsse Brötchen</td>\n",
       "      <td>24.5763</td>\n",
       "      <td>11.8762</td>\n",
       "    </tr>\n",
       "    <tr>\n",
       "      <th>15</th>\n",
       "      <td>Random_Forest-Advanced</td>\n",
       "      <td>Vollkornbrot</td>\n",
       "      <td>24.0478</td>\n",
       "      <td>19.3007</td>\n",
       "    </tr>\n",
       "    <tr>\n",
       "      <th>3</th>\n",
       "      <td>Random_Forest-Basis</td>\n",
       "      <td>Vollkornbrot</td>\n",
       "      <td>24.5991</td>\n",
       "      <td>19.6089</td>\n",
       "    </tr>\n",
       "    <tr>\n",
       "      <th>24</th>\n",
       "      <td>Random_Forest-Basis</td>\n",
       "      <td>Weihnachtsartikel</td>\n",
       "      <td>5.85877</td>\n",
       "      <td>23.4353</td>\n",
       "    </tr>\n",
       "    <tr>\n",
       "      <th>12</th>\n",
       "      <td>Random_Forest-Basis</td>\n",
       "      <td>Weihnachtsartikel</td>\n",
       "      <td>5.85877</td>\n",
       "      <td>31.2181</td>\n",
       "    </tr>\n",
       "    <tr>\n",
       "      <th>1</th>\n",
       "      <td>Random_Forest-Basis</td>\n",
       "      <td>Weizenbrot</td>\n",
       "      <td>11.5809</td>\n",
       "      <td>20.4311</td>\n",
       "    </tr>\n",
       "    <tr>\n",
       "      <th>13</th>\n",
       "      <td>Random_Forest-Advanced</td>\n",
       "      <td>Weizenbrot</td>\n",
       "      <td>12.5809</td>\n",
       "      <td>21.6574</td>\n",
       "    </tr>\n",
       "  </tbody>\n",
       "</table>\n",
       "</div>"
      ],
      "text/plain": [
       "                                Model               Label      MAE     MAPE\n",
       "11                Random_Forest-Basis         Blechkuchen  26.5626  30.3632\n",
       "23                Random_Forest-Basis         Blechkuchen  26.2096  30.5732\n",
       "18             Random_Forest-Advanced            Brötchen  56.0729  13.5356\n",
       "42  Random_Forest-Advanced_inclGesamt            Brötchen  56.7836   13.682\n",
       "54  Random_Forest-Advanced_Closedrepl            Brötchen  67.5034   14.099\n",
       "30        Random_Forest-Advanced_year            Brötchen  59.9043  14.7575\n",
       "6                 Random_Forest-Basis            Brötchen  61.8269  15.1678\n",
       "8                 Random_Forest-Basis  Herzhafte_Brötchen  30.8497  26.9775\n",
       "20             Random_Forest-Advanced  Herzhafte_Brötchen  30.8497  26.9775\n",
       "56             Random_Forest-Advanced  Herzhafte_Brötchen  30.8497  26.9775\n",
       "21             Random_Forest-Advanced     KonditoreiBlech  30.5239  45.8313\n",
       "9                 Random_Forest-Basis     KonditoreiBlech  54.7335  87.6495\n",
       "2                 Random_Forest-Basis           Mischbrot  14.0547  20.8944\n",
       "14             Random_Forest-Advanced           Mischbrot  15.4465  21.8813\n",
       "16             Random_Forest-Advanced         Spezialbrot  17.7677  28.3166\n",
       "4                 Random_Forest-Basis         Spezialbrot  22.8383  36.3981\n",
       "5                 Random_Forest-Basis        Stangenbrote  14.1572   46.282\n",
       "17             Random_Forest-Advanced        Stangenbrote  14.7494  48.4927\n",
       "22             Random_Forest-Advanced         Stückgebäck  38.8223  25.8438\n",
       "10                Random_Forest-Basis         Stückgebäck  38.5923  26.0194\n",
       "19             Random_Forest-Advanced      Süsse Brötchen  22.1708  10.8024\n",
       "43      Random_Forest-Advanced_Gesamt      Süsse Brötchen  22.4032  10.9362\n",
       "55  Random_Forest-Advanced_Closedrepl      Süsse Brötchen  27.0114  11.1321\n",
       "31        Random_Forest-Advanced_year      Süsse Brötchen  23.2483  11.2432\n",
       "7                 Random_Forest-Basis      Süsse Brötchen  24.5763  11.8762\n",
       "15             Random_Forest-Advanced        Vollkornbrot  24.0478  19.3007\n",
       "3                 Random_Forest-Basis        Vollkornbrot  24.5991  19.6089\n",
       "24                Random_Forest-Basis   Weihnachtsartikel  5.85877  23.4353\n",
       "12                Random_Forest-Basis   Weihnachtsartikel  5.85877  31.2181\n",
       "1                 Random_Forest-Basis          Weizenbrot  11.5809  20.4311\n",
       "13             Random_Forest-Advanced          Weizenbrot  12.5809  21.6574"
      ]
     },
     "execution_count": 876,
     "metadata": {},
     "output_type": "execute_result"
    }
   ],
   "source": [
    "df_results_Random_Forest.sort_values(['Label','MAPE']) "
   ]
  },
  {
   "cell_type": "markdown",
   "metadata": {},
   "source": [
    "### Weizenbrot"
   ]
  },
  {
   "cell_type": "code",
   "execution_count": null,
   "metadata": {},
   "outputs": [],
   "source": [
    "X_train_2_1=train_2.iloc[:,np.r_[14,16,17,19,26:46]]\n",
    "X_test_2_1=test_2.iloc[:,np.r_[14,16,17,19,26:46]]"
   ]
  },
  {
   "cell_type": "code",
   "execution_count": null,
   "metadata": {},
   "outputs": [],
   "source": [
    "X_train=X_train_2_1\n",
    "X_test=X_test_2_1\n",
    "y_train=y_train_2_1"
   ]
  },
  {
   "cell_type": "code",
   "execution_count": null,
   "metadata": {},
   "outputs": [],
   "source": [
    "# Step 1: Make an instance of the Model\n",
    "forest = RandomForestClassifier(random_state = 0)"
   ]
  },
  {
   "cell_type": "code",
   "execution_count": null,
   "metadata": {},
   "outputs": [],
   "source": [
    "# Step 2: Train the model on the data\n",
    "forest.fit(X_train,y_train)"
   ]
  },
  {
   "cell_type": "code",
   "execution_count": null,
   "metadata": {},
   "outputs": [],
   "source": [
    "# Step 3: predict the response for test data\n",
    "y_pred_rf_2_1= forest.predict(X_test)\n",
    "\n",
    "n_nodes = []\n",
    "max_depths = []\n",
    "n_features=[]\n",
    "\n",
    "for ind_tree in forest.estimators_:\n",
    "    n_features.append(ind_tree.tree_.n_features)\n",
    "    n_nodes.append(ind_tree.tree_.node_count)\n",
    "    max_depths.append(ind_tree.tree_.max_depth)\n",
    "    \n",
    "print(f'Average number of features {int(np.mean(n_features))}')\n",
    "print(f'Average number of nodes {int(np.mean(n_nodes))}')\n",
    "print(f'Average maximum depth {int(np.mean(max_depths))}')"
   ]
  },
  {
   "cell_type": "code",
   "execution_count": 388,
   "metadata": {},
   "outputs": [
    {
     "name": "stdout",
     "output_type": "stream",
     "text": [
      "Der MAE für Weizenbrot beträgt:11.580865603644646\n",
      "Der MAPE für Weizenbrot beträgt:20.43113632145929\n"
     ]
    }
   ],
   "source": [
    "train_rf_predictions = forest.predict(X_train)\n",
    "train_rf_probs = forest.predict_proba(X_train)[:, 1]\n",
    "\n",
    "rf_predictions = forest.predict(X_test)\n",
    "rf_probs = forest.predict_proba(X_test)[:, 1]\n",
    "\n",
    "MAE_1 = mean_absolute_error(y_test_2_1,y_pred_rf_2_1)\n",
    "MAE_mod=mean_absolute_percentage_error_modify(y_test_2_1,y_pred_rf_2_1)\n",
    "MAPE_1=mean_absolute_percentage_error(y_test_2_1,y_pred_rf_2_1)\n",
    "print(f'Der MAE für Weizenbrot beträgt:{MAE_1}')\n",
    "#print(f'Der MAE_mod für Weizenbrot beträgt:{MAE_mod}')\n",
    "print(f'Der MAPE für Weizenbrot beträgt:{MAPE_1}')\n",
    "df_results_Random_Forest.loc['1',:] = ['Random_Forest-Basis','Weizenbrot',MAE_1,MAPE_1]"
   ]
  },
  {
   "cell_type": "code",
   "execution_count": null,
   "metadata": {},
   "outputs": [],
   "source": []
  },
  {
   "cell_type": "markdown",
   "metadata": {},
   "source": [
    "### Mischbrot"
   ]
  },
  {
   "cell_type": "code",
   "execution_count": null,
   "metadata": {},
   "outputs": [],
   "source": [
    "X_train_2_2=train_2.iloc[:,np.r_[14,16,17,19,26:46]]\n",
    "X_test_2_2=test_2.iloc[:,np.r_[14,16,17,19,26:46]]"
   ]
  },
  {
   "cell_type": "code",
   "execution_count": null,
   "metadata": {},
   "outputs": [],
   "source": [
    "X_train=X_train_2_2\n",
    "X_test=X_test_2_2\n",
    "y_train=y_train_2_2"
   ]
  },
  {
   "cell_type": "code",
   "execution_count": null,
   "metadata": {},
   "outputs": [],
   "source": [
    "# Step 1: Make an instance of the Model\n",
    "forest = RandomForestClassifier(random_state = 0)"
   ]
  },
  {
   "cell_type": "code",
   "execution_count": null,
   "metadata": {},
   "outputs": [],
   "source": [
    "# Step 2: Train the model on the data\n",
    "forest.fit(X_train,y_train)"
   ]
  },
  {
   "cell_type": "code",
   "execution_count": null,
   "metadata": {},
   "outputs": [],
   "source": [
    "# Step 3: predict the response for test data\n",
    "y_pred_rf_2_2= forest.predict(X_test)\n",
    "\n",
    "n_nodes = []\n",
    "max_depths = []\n",
    "n_features=[]\n",
    "\n",
    "for ind_tree in forest.estimators_:\n",
    "    n_features.append(ind_tree.tree_.n_features)\n",
    "    n_nodes.append(ind_tree.tree_.node_count)\n",
    "    max_depths.append(ind_tree.tree_.max_depth)\n",
    "    \n",
    "print(f'Average number of features {int(np.mean(n_features))}')\n",
    "print(f'Average number of nodes {int(np.mean(n_nodes))}')\n",
    "print(f'Average maximum depth {int(np.mean(max_depths))}')"
   ]
  },
  {
   "cell_type": "code",
   "execution_count": 389,
   "metadata": {},
   "outputs": [
    {
     "name": "stdout",
     "output_type": "stream",
     "text": [
      "Der MAE für Mischbrot beträgt:14.054669703872438\n",
      "Der MAPE für Mischbrot beträgt:20.89437760632814\n"
     ]
    }
   ],
   "source": [
    "train_rf_predictions = forest.predict(X_train)\n",
    "train_rf_probs = forest.predict_proba(X_train)[:, 1]\n",
    "\n",
    "rf_predictions = forest.predict(X_test)\n",
    "rf_probs = forest.predict_proba(X_test)[:, 1]\n",
    "\n",
    "MAE_2 = mean_absolute_error(y_test_2_2,y_pred_rf_2_2)\n",
    "MAE_mod=mean_absolute_percentage_error_modify(y_test_2_2,y_pred_rf_2_2)\n",
    "MAPE_2=mean_absolute_percentage_error(y_test_2_2,y_pred_rf_2_2)\n",
    "print(f'Der MAE für Mischbrot beträgt:{MAE_2}')\n",
    "#print(f'Der MAE_mod für Weizenbrot beträgt:{MAE_mod}')\n",
    "print(f'Der MAPE für Mischbrot beträgt:{MAPE_2}')\n",
    "df_results_Random_Forest.loc['2',:] = ['Random_Forest-Basis','Mischbrot',MAE_2,MAPE_2]"
   ]
  },
  {
   "cell_type": "markdown",
   "metadata": {},
   "source": [
    "### Vollkornbrot"
   ]
  },
  {
   "cell_type": "code",
   "execution_count": null,
   "metadata": {},
   "outputs": [],
   "source": [
    "X_train_2_3=train_2.iloc[:,np.r_[14,16,17,19,26:46]]\n",
    "X_test_2_3=test_2.iloc[:,np.r_[14,16,17,19,26:46]]"
   ]
  },
  {
   "cell_type": "code",
   "execution_count": null,
   "metadata": {},
   "outputs": [],
   "source": [
    "X_train=X_train_2_3\n",
    "X_test=X_test_2_3\n",
    "y_train=y_train_2_3"
   ]
  },
  {
   "cell_type": "code",
   "execution_count": null,
   "metadata": {},
   "outputs": [],
   "source": [
    "# Step 1: Make an instance of the Model\n",
    "forest = RandomForestClassifier(random_state = 0)"
   ]
  },
  {
   "cell_type": "code",
   "execution_count": null,
   "metadata": {},
   "outputs": [],
   "source": [
    "# Step 2: Train the model on the data\n",
    "forest.fit(X_train,y_train)"
   ]
  },
  {
   "cell_type": "code",
   "execution_count": null,
   "metadata": {},
   "outputs": [],
   "source": [
    "# Step 3: predict the response for test data\n",
    "y_pred_rf_2_3 = forest.predict(X_test)\n",
    "\n",
    "n_nodes = []\n",
    "max_depths = []\n",
    "n_features=[]\n",
    "\n",
    "for ind_tree in forest.estimators_:\n",
    "    n_features.append(ind_tree.tree_.n_features)\n",
    "    n_nodes.append(ind_tree.tree_.node_count)\n",
    "    max_depths.append(ind_tree.tree_.max_depth)\n",
    "    \n",
    "print(f'Average number of features {int(np.mean(n_features))}')\n",
    "print(f'Average number of nodes {int(np.mean(n_nodes))}')\n",
    "print(f'Average maximum depth {int(np.mean(max_depths))}')\n"
   ]
  },
  {
   "cell_type": "code",
   "execution_count": 390,
   "metadata": {},
   "outputs": [
    {
     "name": "stdout",
     "output_type": "stream",
     "text": [
      "Der MAE für Vollkornbrot beträgt:24.59908883826879\n",
      "Der MAPE für Vollkornbrot beträgt:19.608865755704617\n"
     ]
    }
   ],
   "source": [
    "train_rf_predictions = forest.predict(X_train)\n",
    "train_rf_probs = forest.predict_proba(X_train)[:, 1]\n",
    "\n",
    "rf_predictions = forest.predict(X_test)\n",
    "rf_probs = forest.predict_proba(X_test)[:, 1]\n",
    "\n",
    "MAE_3 = mean_absolute_error(y_test_2_3,y_pred_rf_2_3)\n",
    "MAE_mod=mean_absolute_percentage_error_modify(y_test_2_3,y_pred_rf_2_3)\n",
    "MAPE_3=mean_absolute_percentage_error(y_test_2_3,y_pred_rf_2_3)\n",
    "print(f'Der MAE für Vollkornbrot beträgt:{MAE_3}')\n",
    "#print(f'Der MAE_mod für Vollkornbrot beträgt:{MAE_mod}')\n",
    "print(f'Der MAPE für Vollkornbrot beträgt:{MAPE_3}')\n",
    "df_results_Random_Forest.loc['3',:] = ['Random_Forest-Basis','Vollkornbrot',MAE_3,MAPE_3]"
   ]
  },
  {
   "cell_type": "code",
   "execution_count": null,
   "metadata": {},
   "outputs": [],
   "source": []
  },
  {
   "cell_type": "markdown",
   "metadata": {},
   "source": [
    "### Spezialbrot"
   ]
  },
  {
   "cell_type": "code",
   "execution_count": null,
   "metadata": {},
   "outputs": [],
   "source": [
    "X_train_2_4=train_2.iloc[:,np.r_[14,27:43]]\n",
    "X_test_2_4=test_2.iloc[:,np.r_[14,27:43]]"
   ]
  },
  {
   "cell_type": "code",
   "execution_count": 380,
   "metadata": {},
   "outputs": [],
   "source": [
    "X_train_2_4=train_2.iloc[:,np.r_[14:43]]\n",
    "X_test_2_4=test_2.iloc[:,np.r_[14:43]]"
   ]
  },
  {
   "cell_type": "code",
   "execution_count": 381,
   "metadata": {},
   "outputs": [],
   "source": [
    "X_train=X_train_2_4\n",
    "X_test=X_test_2_4\n",
    "y_train=y_train_2_4"
   ]
  },
  {
   "cell_type": "code",
   "execution_count": 382,
   "metadata": {},
   "outputs": [],
   "source": [
    "# Step 1: Make an instance of the Model\n",
    "forest = RandomForestClassifier(random_state = 0)"
   ]
  },
  {
   "cell_type": "code",
   "execution_count": 383,
   "metadata": {},
   "outputs": [
    {
     "data": {
      "text/plain": [
       "RandomForestClassifier(random_state=0)"
      ]
     },
     "execution_count": 383,
     "metadata": {},
     "output_type": "execute_result"
    }
   ],
   "source": [
    "# Step 2: Train the model on the data\n",
    "forest.fit(X_train,y_train)"
   ]
  },
  {
   "cell_type": "code",
   "execution_count": 384,
   "metadata": {},
   "outputs": [
    {
     "name": "stdout",
     "output_type": "stream",
     "text": [
      "Average number of features 29\n",
      "Average number of nodes 1288\n",
      "Average maximum depth 25\n"
     ]
    }
   ],
   "source": [
    "# Step 3: predict the response for test data\n",
    "y_pred_rf_2_4 = forest.predict(X_test)\n",
    "\n",
    "n_nodes = []\n",
    "max_depths = []\n",
    "n_features=[]\n",
    "\n",
    "for ind_tree in forest.estimators_:\n",
    "    n_features.append(ind_tree.tree_.n_features)\n",
    "    n_nodes.append(ind_tree.tree_.node_count)\n",
    "    max_depths.append(ind_tree.tree_.max_depth)\n",
    "    \n",
    "print(f'Average number of features {int(np.mean(n_features))}')\n",
    "print(f'Average number of nodes {int(np.mean(n_nodes))}')\n",
    "print(f'Average maximum depth {int(np.mean(max_depths))}')"
   ]
  },
  {
   "cell_type": "code",
   "execution_count": 391,
   "metadata": {},
   "outputs": [
    {
     "name": "stdout",
     "output_type": "stream",
     "text": [
      "Der MAE für Spezialbrot beträgt:22.838268792710707\n",
      "Der MAPE für Spezialbrot beträgt:36.39806982145019\n"
     ]
    }
   ],
   "source": [
    "train_rf_predictions = forest.predict(X_train)\n",
    "train_rf_probs = forest.predict_proba(X_train)[:, 1]\n",
    "\n",
    "rf_predictions = forest.predict(X_test)\n",
    "rf_probs = forest.predict_proba(X_test)[:, 1]\n",
    "\n",
    "MAE_4 = mean_absolute_error(y_test_2_4,y_pred_rf_2_4)\n",
    "MAE_mod=mean_absolute_percentage_error_modify(y_test_2_4,y_pred_rf_2_4)\n",
    "MAPE_4=mean_absolute_percentage_error(y_test_2_4,y_pred_rf_2_4)\n",
    "print(f'Der MAE für Spezialbrot beträgt:{MAE_4}')\n",
    "#print(f'Der MAE_mod für Spezialbrot beträgt:{MAE_mod}')\n",
    "print(f'Der MAPE für Spezialbrot beträgt:{MAPE_4}')\n",
    "df_results_Random_Forest.loc['4',:] = ['Random_Forest-Basis','Spezialbrot',MAE_4,MAPE_4]"
   ]
  },
  {
   "cell_type": "code",
   "execution_count": null,
   "metadata": {},
   "outputs": [],
   "source": []
  },
  {
   "cell_type": "markdown",
   "metadata": {},
   "source": [
    "### Stangenbrote"
   ]
  },
  {
   "cell_type": "code",
   "execution_count": 336,
   "metadata": {},
   "outputs": [],
   "source": [
    "X_train_2_5=train_2.iloc[:,np.r_[14:47]]\n",
    "X_test_2_5=test_2.iloc[:,np.r_[14:47]]"
   ]
  },
  {
   "cell_type": "code",
   "execution_count": 337,
   "metadata": {},
   "outputs": [],
   "source": [
    "X_train=X_train_2_5\n",
    "X_test=X_test_2_5\n",
    "y_train=y_train_2_5"
   ]
  },
  {
   "cell_type": "code",
   "execution_count": 338,
   "metadata": {},
   "outputs": [],
   "source": [
    "# Step 1: Make an instance of the Model\n",
    "forest = RandomForestClassifier(random_state = 0)"
   ]
  },
  {
   "cell_type": "code",
   "execution_count": 339,
   "metadata": {},
   "outputs": [
    {
     "data": {
      "text/plain": [
       "RandomForestClassifier(random_state=0)"
      ]
     },
     "execution_count": 339,
     "metadata": {},
     "output_type": "execute_result"
    }
   ],
   "source": [
    "# Step 2: Train the model on the data\n",
    "forest.fit(X_train,y_train)"
   ]
  },
  {
   "cell_type": "code",
   "execution_count": 340,
   "metadata": {},
   "outputs": [
    {
     "name": "stdout",
     "output_type": "stream",
     "text": [
      "Average number of features 33\n",
      "Average number of nodes 1319\n",
      "Average maximum depth 27\n"
     ]
    }
   ],
   "source": [
    "# Step 3: predict the response for test data\n",
    "y_pred_rf_2_5 = forest.predict(X_test)\n",
    "\n",
    "n_nodes = []\n",
    "max_depths = []\n",
    "n_features=[]\n",
    "\n",
    "for ind_tree in forest.estimators_:\n",
    "    n_features.append(ind_tree.tree_.n_features)\n",
    "    n_nodes.append(ind_tree.tree_.node_count)\n",
    "    max_depths.append(ind_tree.tree_.max_depth)\n",
    "    \n",
    "print(f'Average number of features {int(np.mean(n_features))}')\n",
    "print(f'Average number of nodes {int(np.mean(n_nodes))}')\n",
    "print(f'Average maximum depth {int(np.mean(max_depths))}')"
   ]
  },
  {
   "cell_type": "code",
   "execution_count": 392,
   "metadata": {},
   "outputs": [
    {
     "name": "stdout",
     "output_type": "stream",
     "text": [
      "Der MAE für Stangenbrote beträgt:14.157175398633257\n",
      "Der MAPE für Stangenbrote beträgt:46.281981386569214\n"
     ]
    }
   ],
   "source": [
    "train_rf_predictions = forest.predict(X_train)\n",
    "train_rf_probs = forest.predict_proba(X_train)[:, 1]\n",
    "\n",
    "rf_predictions = forest.predict(X_test)\n",
    "rf_probs = forest.predict_proba(X_test)[:, 1]\n",
    "\n",
    "MAE_5 = mean_absolute_error(y_test_2_5,y_pred_rf_2_5)\n",
    "MAE_mod=mean_absolute_percentage_error_modify(y_test_2_5,y_pred_rf_2_5)\n",
    "MAPE_5=mean_absolute_percentage_error(y_test_2_5,y_pred_rf_2_5)\n",
    "print(f'Der MAE für Stangenbrote beträgt:{MAE_5}')\n",
    "#print(f'Der MAE_mod für Spezialbrot beträgt:{MAE_mod}')\n",
    "print(f'Der MAPE für Stangenbrote beträgt:{MAPE_5}')\n",
    "df_results_Random_Forest.loc['5',:] = ['Random_Forest-Basis','Stangenbrote',MAE_5,MAPE_5]"
   ]
  },
  {
   "cell_type": "code",
   "execution_count": null,
   "metadata": {},
   "outputs": [],
   "source": []
  },
  {
   "cell_type": "markdown",
   "metadata": {},
   "source": [
    "### Brötchen"
   ]
  },
  {
   "cell_type": "code",
   "execution_count": 843,
   "metadata": {},
   "outputs": [],
   "source": [
    "X_train_2_6=train_2.iloc[:,np.r_[14,16,17,19,21,22,25:47]]\n",
    "X_test_2_6=test_2.iloc[:,np.r_[14,16,17,19,21,22,25:47]]"
   ]
  },
  {
   "cell_type": "code",
   "execution_count": 844,
   "metadata": {},
   "outputs": [],
   "source": [
    "X_train=X_train_2_6\n",
    "X_test=X_test_2_6\n",
    "y_train=y_train_2_6\n",
    "\n"
   ]
  },
  {
   "cell_type": "code",
   "execution_count": null,
   "metadata": {},
   "outputs": [],
   "source": [
    "# Step 1: Make an instance of the Model\n",
    "forest = RandomForestClassifier(random_state = 0)\n",
    "\n",
    "# Step 2: Train the model on the data\n",
    "forest.fit(X_train,y_train)\n",
    "\n",
    "# Step 3: predict the response for test data\n",
    "y_pred_rf_2_6 = forest.predict(X_test)"
   ]
  },
  {
   "cell_type": "code",
   "execution_count": null,
   "metadata": {},
   "outputs": [],
   "source": [
    "n_nodes = []\n",
    "max_depths = []\n",
    "n_features=[]\n",
    "\n",
    "for ind_tree in forest.estimators_:\n",
    "    n_features.append(ind_tree.tree_.n_features)\n",
    "    n_nodes.append(ind_tree.tree_.node_count)\n",
    "    max_depths.append(ind_tree.tree_.max_depth)\n",
    "    \n",
    "print(f'Average number of features {int(np.mean(n_features))}')\n",
    "print(f'Average number of nodes {int(np.mean(n_nodes))}')\n",
    "print(f'Average maximum depth {int(np.mean(max_depths))}')"
   ]
  },
  {
   "cell_type": "code",
   "execution_count": null,
   "metadata": {},
   "outputs": [],
   "source": [
    "train_rf_predictions = forest.predict(X_train)\n",
    "train_rf_probs = forest.predict_proba(X_train)[:, 1]\n",
    "\n",
    "rf_predictions = forest.predict(X_test)\n",
    "rf_probs = forest.predict_proba(X_test)[:, 1]"
   ]
  },
  {
   "cell_type": "code",
   "execution_count": 393,
   "metadata": {},
   "outputs": [
    {
     "name": "stdout",
     "output_type": "stream",
     "text": [
      "Der MAE für Brötchen beträgt:61.82687927107062\n",
      "Der MAPE für Brötchen beträgt:15.16775628072219\n"
     ]
    }
   ],
   "source": [
    "MAE_6 = mean_absolute_error(y_test_2_6,y_pred_rf_2_6)\n",
    "MAE_mod=mean_absolute_percentage_error_modify(y_test_2_6,y_pred_rf_2_6)\n",
    "MAPE_6=mean_absolute_percentage_error(y_test_2_6,y_pred_rf_2_6)\n",
    "print(f'Der MAE für Brötchen beträgt:{MAE_6}')\n",
    "#print(f'Der MAE_mod für Brötchen beträgt:{MAE_mod}')\n",
    "print(f'Der MAPE für Brötchen beträgt:{MAPE_6}')\n",
    "df_results_Random_Forest.loc['6',:] = ['Random_Forest-Basis','Brötchen',MAE_6,MAPE_6]"
   ]
  },
  {
   "cell_type": "code",
   "execution_count": null,
   "metadata": {},
   "outputs": [],
   "source": [
    "# Import Support \n",
    "from sklearn.model_selection import GridSearchCV\n",
    "\n",
    "param_search = { \n",
    "    'n_estimators': [20, 50, 100,200],\n",
    "    'max_features': ['auto', 'sqrt', 'log2'],\n",
    "    'max_depth' : [i for i in range(5,50)]\n",
    "}\n",
    "#'tscv = TimeSeriesSplit(n_splits=10) /  cv=tscv,\n",
    "\n",
    "#instatiate GridSearchCV fit model and make prediction\n",
    "\n",
    "gsearch = GridSearchCV(RandomForestClassifier(), param_grid=param_search, scoring = mae_score)\n",
    "gsearch.fit(X_train, y_train)\n",
    "y_pred_new = gsearch.predict(X_test)\n",
    "best_score = gsearch.best_score_\n",
    "best_model = gsearch.best_estimator_\n"
   ]
  },
  {
   "cell_type": "code",
   "execution_count": null,
   "metadata": {},
   "outputs": [],
   "source": [
    "MAE = mean_absolute_error(y_test_2_6,y_pred_new)\n",
    "MAPE=mean_absolute_percentage_error(y_test_2_6,y_pred_new)\n",
    "print(f'Der MAE für Brötchen beträgt:{MAE}')\n",
    "print(f'Der MAPE für Brötchen beträgt:{MAPE}')"
   ]
  },
  {
   "cell_type": "code",
   "execution_count": null,
   "metadata": {},
   "outputs": [],
   "source": [
    "n_nodes = []\n",
    "max_depths = []\n",
    "n_features=[]\n",
    "\n",
    "for ind_tree in gsearch.best_estimator_:\n",
    "    n_features.append(ind_tree.tree_.n_features)\n",
    "    n_nodes.append(ind_tree.tree_.node_count)\n",
    "    max_depths.append(ind_tree.tree_.max_depth)\n",
    "    \n",
    "print(f'Average number of features {int(np.mean(n_features))}')\n",
    "print(f'Average number of nodes {int(np.mean(n_nodes))}')\n",
    "print(f'Average maximum depth {int(np.mean(max_depths))}')"
   ]
  },
  {
   "cell_type": "markdown",
   "metadata": {},
   "source": [
    "### Süsse Brötchen"
   ]
  },
  {
   "cell_type": "code",
   "execution_count": null,
   "metadata": {},
   "outputs": [],
   "source": [
    "X_train_2_7=train_2.iloc[:,np.r_[14,16,17,19,21,22,25:47]]\n",
    "X_test_2_7=test_2.iloc[:,np.r_[14,16,17,19,21,22,25:47]]"
   ]
  },
  {
   "cell_type": "code",
   "execution_count": null,
   "metadata": {},
   "outputs": [],
   "source": [
    "X_train=X_train_2_7\n",
    "X_test=X_test_2_7\n",
    "y_train=y_train_2_7"
   ]
  },
  {
   "cell_type": "code",
   "execution_count": null,
   "metadata": {},
   "outputs": [],
   "source": [
    "# Step 1: Make an instance of the Model\n",
    "forest = RandomForestClassifier(random_state = 0)"
   ]
  },
  {
   "cell_type": "code",
   "execution_count": null,
   "metadata": {},
   "outputs": [],
   "source": [
    "# Step 2: Train the model on the data\n",
    "forest.fit(X_train,y_train)"
   ]
  },
  {
   "cell_type": "code",
   "execution_count": null,
   "metadata": {},
   "outputs": [],
   "source": [
    "# Step 3: predict the response for test data\n",
    "y_pred_rf_2_7 = forest.predict(X_test)"
   ]
  },
  {
   "cell_type": "code",
   "execution_count": null,
   "metadata": {},
   "outputs": [],
   "source": [
    "n_nodes = []\n",
    "max_depths = []\n",
    "n_features=[]\n",
    "\n",
    "for ind_tree in forest.estimators_:\n",
    "    n_features.append(ind_tree.tree_.n_features)\n",
    "    n_nodes.append(ind_tree.tree_.node_count)\n",
    "    max_depths.append(ind_tree.tree_.max_depth)\n",
    "    \n",
    "print(f'Average number of features {int(np.mean(n_features))}')\n",
    "print(f'Average number of nodes {int(np.mean(n_nodes))}')\n",
    "print(f'Average maximum depth {int(np.mean(max_depths))}')"
   ]
  },
  {
   "cell_type": "code",
   "execution_count": 394,
   "metadata": {},
   "outputs": [
    {
     "name": "stdout",
     "output_type": "stream",
     "text": [
      "Der MAE für Süsse Brötchen beträgt:24.57630979498861\n",
      "Der MAPE für Süsse Brötchen beträgt:11.876150993662565\n"
     ]
    }
   ],
   "source": [
    "train_rf_predictions = forest.predict(X_train)\n",
    "train_rf_probs = forest.predict_proba(X_train)[:, 1]\n",
    "\n",
    "rf_predictions = forest.predict(X_test)\n",
    "rf_probs = forest.predict_proba(X_test)[:, 1]\n",
    "\n",
    "MAE_7 = mean_absolute_error(y_test_2_7,y_pred_rf_2_7)\n",
    "MAE_mod=mean_absolute_percentage_error_modify(y_test_2_7,y_pred_rf_2_7)\n",
    "MAPE_7=mean_absolute_percentage_error(y_test_2_7,y_pred_rf_2_7)\n",
    "print(f'Der MAE für Süsse Brötchen beträgt:{MAE_7}')\n",
    "#print(f'Der MAE_mod für Süsse Brötchen beträgt:{MAE_mod}')\n",
    "print(f'Der MAPE für Süsse Brötchen beträgt:{MAPE_7}')\n",
    "df_results_Random_Forest.loc['7',:] = ['Random_Forest-Basis','Süsse Brötchen',MAE_7,MAPE_7]"
   ]
  },
  {
   "cell_type": "markdown",
   "metadata": {},
   "source": [
    "### Herzhafte Brötchen"
   ]
  },
  {
   "cell_type": "code",
   "execution_count": null,
   "metadata": {},
   "outputs": [],
   "source": [
    "X_train_2_8=train_2.iloc[:,np.r_[14,16,17,19,21,22,25:47]]\n",
    "X_test_2_8=test_2.iloc[:,np.r_[14,16,17,19,21,22,25:47]]"
   ]
  },
  {
   "cell_type": "code",
   "execution_count": 395,
   "metadata": {},
   "outputs": [],
   "source": [
    "X_train_2_8=train_2.iloc[:,np.r_[14:47]]\n",
    "X_test_2_8=test_2.iloc[:,np.r_[14:47]]"
   ]
  },
  {
   "cell_type": "code",
   "execution_count": 396,
   "metadata": {},
   "outputs": [],
   "source": [
    "X_train=X_train_2_8\n",
    "X_test=X_test_2_8\n",
    "y_train=y_train_2_8"
   ]
  },
  {
   "cell_type": "code",
   "execution_count": 397,
   "metadata": {},
   "outputs": [],
   "source": [
    "# Step 1: Make an instance of the Model\n",
    "forest = RandomForestClassifier(random_state = 0)"
   ]
  },
  {
   "cell_type": "code",
   "execution_count": 398,
   "metadata": {},
   "outputs": [
    {
     "data": {
      "text/plain": [
       "RandomForestClassifier(random_state=0)"
      ]
     },
     "execution_count": 398,
     "metadata": {},
     "output_type": "execute_result"
    }
   ],
   "source": [
    "# Step 2: Train the model on the data\n",
    "forest.fit(X_train,y_train)"
   ]
  },
  {
   "cell_type": "code",
   "execution_count": 399,
   "metadata": {},
   "outputs": [],
   "source": [
    "# Step 3: predict the response for test data\n",
    "y_pred_rf_2_8 = forest.predict(X_test)"
   ]
  },
  {
   "cell_type": "code",
   "execution_count": 400,
   "metadata": {},
   "outputs": [],
   "source": [
    "n_nodes = []\n",
    "max_depths = []\n",
    "n_features=[]"
   ]
  },
  {
   "cell_type": "code",
   "execution_count": 401,
   "metadata": {},
   "outputs": [
    {
     "name": "stdout",
     "output_type": "stream",
     "text": [
      "Average number of features 33\n",
      "Average number of nodes 1336\n",
      "Average maximum depth 25\n"
     ]
    }
   ],
   "source": [
    "for ind_tree in forest.estimators_:\n",
    "    n_features.append(ind_tree.tree_.n_features)\n",
    "    n_nodes.append(ind_tree.tree_.node_count)\n",
    "    max_depths.append(ind_tree.tree_.max_depth)\n",
    "    \n",
    "print(f'Average number of features {int(np.mean(n_features))}')\n",
    "print(f'Average number of nodes {int(np.mean(n_nodes))}')\n",
    "print(f'Average maximum depth {int(np.mean(max_depths))}')"
   ]
  },
  {
   "cell_type": "code",
   "execution_count": 402,
   "metadata": {},
   "outputs": [
    {
     "name": "stdout",
     "output_type": "stream",
     "text": [
      "Der MAE für Herzhafte_Brötchen beträgt:30.849658314350798\n",
      "Der MAPE für Herzhafte_Brötchen beträgt:26.977482926515762\n"
     ]
    }
   ],
   "source": [
    "train_rf_predictions = forest.predict(X_train)\n",
    "train_rf_probs = forest.predict_proba(X_train)[:, 1]\n",
    "\n",
    "rf_predictions = forest.predict(X_test)\n",
    "rf_probs = forest.predict_proba(X_test)[:, 1]\n",
    "\n",
    "MAE_8 = mean_absolute_error(y_test_2_8,y_pred_rf_2_8)\n",
    "#MAE_mod=mean_absolute_percentage_error_modify(y_test_2_8,y_pred_rf_2_8)\n",
    "MAPE_8=mean_absolute_percentage_error(y_test_2_8,y_pred_rf_2_8)\n",
    "print(f'Der MAE für Herzhafte_Brötchen beträgt:{MAE_8}')\n",
    "#print(f'Der MAE_mod für Brötchen beträgt:{MAE_mod}')\n",
    "print(f'Der MAPE für Herzhafte_Brötchen beträgt:{MAPE_8}')\n",
    "df_results_Random_Forest.loc['8',:] = ['Random_Forest-Basis','Herzhafte_Brötchen',MAE_8,MAPE_8]"
   ]
  },
  {
   "cell_type": "markdown",
   "metadata": {},
   "source": [
    "### KonditoreiBlech"
   ]
  },
  {
   "cell_type": "code",
   "execution_count": 421,
   "metadata": {},
   "outputs": [],
   "source": [
    "X_train_2_9=train_2.iloc[:,np.r_[26,42,22]]\n",
    "X_test_2_9=test_2.iloc[:,np.r_[26,42,22]]"
   ]
  },
  {
   "cell_type": "code",
   "execution_count": 424,
   "metadata": {},
   "outputs": [],
   "source": [
    "X_train_2_9=train_2.iloc[:,np.r_[14:47]]\n",
    "X_test_2_9=test_2.iloc[:,np.r_[14:47]]"
   ]
  },
  {
   "cell_type": "code",
   "execution_count": 425,
   "metadata": {},
   "outputs": [],
   "source": [
    "X_train=X_train_2_9\n",
    "X_test=X_test_2_9\n",
    "y_train=y_train_2_9"
   ]
  },
  {
   "cell_type": "code",
   "execution_count": 426,
   "metadata": {},
   "outputs": [],
   "source": [
    "# Step 1: Make an instance of the Model\n",
    "forest = RandomForestClassifier(random_state = 0)"
   ]
  },
  {
   "cell_type": "code",
   "execution_count": 427,
   "metadata": {},
   "outputs": [
    {
     "data": {
      "text/plain": [
       "RandomForestClassifier(random_state=0)"
      ]
     },
     "execution_count": 427,
     "metadata": {},
     "output_type": "execute_result"
    }
   ],
   "source": [
    "# Step 2: Train the model on the data\n",
    "forest.fit(X_train,y_train)"
   ]
  },
  {
   "cell_type": "code",
   "execution_count": 428,
   "metadata": {},
   "outputs": [],
   "source": [
    "# Step 3: predict the response for test data\n",
    "y_pred_rf_2_9 = forest.predict(X_test)"
   ]
  },
  {
   "cell_type": "code",
   "execution_count": 429,
   "metadata": {},
   "outputs": [],
   "source": [
    "n_nodes = []\n",
    "max_depths = []\n",
    "n_features=[]"
   ]
  },
  {
   "cell_type": "code",
   "execution_count": 430,
   "metadata": {},
   "outputs": [
    {
     "name": "stdout",
     "output_type": "stream",
     "text": [
      "Average number of features 33\n",
      "Average number of nodes 1340\n",
      "Average maximum depth 28\n"
     ]
    }
   ],
   "source": [
    "for ind_tree in forest.estimators_:\n",
    "    n_features.append(ind_tree.tree_.n_features)\n",
    "    n_nodes.append(ind_tree.tree_.node_count)\n",
    "    max_depths.append(ind_tree.tree_.max_depth)\n",
    "    \n",
    "print(f'Average number of features {int(np.mean(n_features))}')\n",
    "print(f'Average number of nodes {int(np.mean(n_nodes))}')\n",
    "print(f'Average maximum depth {int(np.mean(max_depths))}')"
   ]
  },
  {
   "cell_type": "code",
   "execution_count": 431,
   "metadata": {},
   "outputs": [
    {
     "name": "stdout",
     "output_type": "stream",
     "text": [
      "Der MAE für KonditoreiBlech beträgt:54.73348519362187\n",
      "Der MAPE für KonditoreiBlech beträgt:87.64946334250446\n"
     ]
    }
   ],
   "source": [
    "train_rf_predictions = forest.predict(X_train)\n",
    "train_rf_probs = forest.predict_proba(X_train)[:, 1]\n",
    "\n",
    "rf_predictions = forest.predict(X_test)\n",
    "rf_probs = forest.predict_proba(X_test)[:, 1]\n",
    "\n",
    "MAE_9 = mean_absolute_error(y_test_2_9,y_pred_rf_2_9)\n",
    "#MAE_mod=mean_absolute_percentage_error_modify(y_test_2_8,y_pred_rf_2_8)\n",
    "MAPE_9=mean_absolute_percentage_error(y_test_2_9,y_pred_rf_2_9)\n",
    "print(f'Der MAE für KonditoreiBlech beträgt:{MAE_9}')\n",
    "#print(f'Der MAE_mod für Brötchen beträgt:{MAE_mod}')\n",
    "print(f'Der MAPE für KonditoreiBlech beträgt:{MAPE_9}')\n",
    "df_results_Random_Forest.loc['9',:] = ['Random_Forest-Basis','KonditoreiBlech',MAE_9,MAPE_9]"
   ]
  },
  {
   "cell_type": "markdown",
   "metadata": {},
   "source": [
    "### Stückgebäck"
   ]
  },
  {
   "cell_type": "code",
   "execution_count": null,
   "metadata": {},
   "outputs": [],
   "source": [
    "X_train_2_9=train_2.iloc[:,np.r_[26,42,22]]\n",
    "X_test_2_9=test_2.iloc[:,np.r_[26,42,22]]"
   ]
  },
  {
   "cell_type": "code",
   "execution_count": null,
   "metadata": {},
   "outputs": [],
   "source": [
    "X_train_2_10=train_2.iloc[:,np.r_[14:47]]\n",
    "X_test_2_10=test_2.iloc[:,np.r_[14:47]]"
   ]
  },
  {
   "cell_type": "code",
   "execution_count": null,
   "metadata": {},
   "outputs": [],
   "source": [
    "X_train=X_train_2_10\n",
    "X_test=X_test_2_10\n",
    "y_train=y_train_2_10"
   ]
  },
  {
   "cell_type": "code",
   "execution_count": null,
   "metadata": {},
   "outputs": [],
   "source": [
    "# Step 1: Make an instance of the Model\n",
    "forest = RandomForestClassifier(random_state = 0)"
   ]
  },
  {
   "cell_type": "code",
   "execution_count": null,
   "metadata": {},
   "outputs": [],
   "source": [
    "# Step 2: Train the model on the data\n",
    "forest.fit(X_train,y_train)"
   ]
  },
  {
   "cell_type": "code",
   "execution_count": null,
   "metadata": {},
   "outputs": [],
   "source": [
    "# Step 3: predict the response for test data\n",
    "y_pred_rf_2_10 = forest.predict(X_test)"
   ]
  },
  {
   "cell_type": "code",
   "execution_count": null,
   "metadata": {},
   "outputs": [],
   "source": [
    "n_nodes = []\n",
    "max_depths = []\n",
    "n_features=[]"
   ]
  },
  {
   "cell_type": "code",
   "execution_count": null,
   "metadata": {},
   "outputs": [],
   "source": [
    "for ind_tree in forest.estimators_:\n",
    "    n_features.append(ind_tree.tree_.n_features)\n",
    "    n_nodes.append(ind_tree.tree_.node_count)\n",
    "    max_depths.append(ind_tree.tree_.max_depth)\n",
    "    \n",
    "print(f'Average number of features {int(np.mean(n_features))}')\n",
    "print(f'Average number of nodes {int(np.mean(n_nodes))}')\n",
    "print(f'Average maximum depth {int(np.mean(max_depths))}')"
   ]
  },
  {
   "cell_type": "code",
   "execution_count": 432,
   "metadata": {},
   "outputs": [
    {
     "name": "stdout",
     "output_type": "stream",
     "text": [
      "Der MAE für Stückgebäck beträgt:38.59225512528474\n",
      "Der MAPE für Stückgebäck beträgt:26.019429175450014\n"
     ]
    }
   ],
   "source": [
    "train_rf_predictions = forest.predict(X_train)\n",
    "train_rf_probs = forest.predict_proba(X_train)[:, 1]\n",
    "\n",
    "rf_predictions = forest.predict(X_test)\n",
    "rf_probs = forest.predict_proba(X_test)[:, 1]\n",
    "\n",
    "MAE_10 = mean_absolute_error(y_test_2_10,y_pred_rf_2_10)\n",
    "#MAE_mod=mean_absolute_percentage_error_modify(y_test_2_8,y_pred_rf_2_8)\n",
    "MAPE_10=mean_absolute_percentage_error(y_test_2_10,y_pred_rf_2_10)\n",
    "print(f'Der MAE für Stückgebäck beträgt:{MAE_10}')\n",
    "#print(f'Der MAE_mod für Brötchen beträgt:{MAE_mod}')\n",
    "print(f'Der MAPE für Stückgebäck beträgt:{MAPE_10}')\n",
    "df_results_Random_Forest.loc['10',:] = ['Random_Forest-Basis','Stückgebäck',MAE_10,MAPE_10]"
   ]
  },
  {
   "cell_type": "code",
   "execution_count": null,
   "metadata": {},
   "outputs": [],
   "source": []
  },
  {
   "cell_type": "markdown",
   "metadata": {},
   "source": [
    "### Blechkuchen"
   ]
  },
  {
   "cell_type": "code",
   "execution_count": null,
   "metadata": {},
   "outputs": [],
   "source": [
    "X_train_2_9=train_2.iloc[:,np.r_[26,42,22]]\n",
    "X_test_2_9=test_2.iloc[:,np.r_[26,42,22]]"
   ]
  },
  {
   "cell_type": "code",
   "execution_count": null,
   "metadata": {},
   "outputs": [],
   "source": [
    "X_train_2_11=train_2.iloc[:,np.r_[14:47]]\n",
    "X_test_2_11=test_2.iloc[:,np.r_[14:47]]"
   ]
  },
  {
   "cell_type": "code",
   "execution_count": null,
   "metadata": {},
   "outputs": [],
   "source": [
    "X_train=X_train_2_11\n",
    "X_test=X_test_2_11\n",
    "y_train=y_train_2_11"
   ]
  },
  {
   "cell_type": "code",
   "execution_count": null,
   "metadata": {},
   "outputs": [],
   "source": [
    "# Step 1: Make an instance of the Model\n",
    "forest = RandomForestClassifier(random_state = 0)"
   ]
  },
  {
   "cell_type": "code",
   "execution_count": null,
   "metadata": {},
   "outputs": [],
   "source": [
    "# Step 2: Train the model on the data\n",
    "forest.fit(X_train,y_train)"
   ]
  },
  {
   "cell_type": "code",
   "execution_count": null,
   "metadata": {},
   "outputs": [],
   "source": [
    "# Step 3: predict the response for test data\n",
    "y_pred_rf_2_11 = forest.predict(X_test)"
   ]
  },
  {
   "cell_type": "code",
   "execution_count": null,
   "metadata": {},
   "outputs": [],
   "source": [
    "n_nodes = []\n",
    "max_depths = []\n",
    "n_features=[]"
   ]
  },
  {
   "cell_type": "code",
   "execution_count": null,
   "metadata": {},
   "outputs": [],
   "source": [
    "for ind_tree in forest.estimators_:\n",
    "    n_features.append(ind_tree.tree_.n_features)\n",
    "    n_nodes.append(ind_tree.tree_.node_count)\n",
    "    max_depths.append(ind_tree.tree_.max_depth)\n",
    "    \n",
    "print(f'Average number of features {int(np.mean(n_features))}')\n",
    "print(f'Average number of nodes {int(np.mean(n_nodes))}')\n",
    "print(f'Average maximum depth {int(np.mean(max_depths))}')"
   ]
  },
  {
   "cell_type": "code",
   "execution_count": 433,
   "metadata": {},
   "outputs": [
    {
     "name": "stdout",
     "output_type": "stream",
     "text": [
      "Der MAE für Blechkuchen beträgt:26.5626423690205\n",
      "Der MAPE für Blechkuchen beträgt:30.36321034289488\n"
     ]
    }
   ],
   "source": [
    "train_rf_predictions = forest.predict(X_train)\n",
    "train_rf_probs = forest.predict_proba(X_train)[:, 1]\n",
    "\n",
    "rf_predictions = forest.predict(X_test)\n",
    "rf_probs = forest.predict_proba(X_test)[:, 1]\n",
    "\n",
    "MAE_11 = mean_absolute_error(y_test_2_11,y_pred_rf_2_11)\n",
    "#MAE_mod=mean_absolute_percentage_error_modify(y_test_2_8,y_pred_rf_2_8)\n",
    "MAPE_11=mean_absolute_percentage_error(y_test_2_11,y_pred_rf_2_11)\n",
    "print(f'Der MAE für Blechkuchen beträgt:{MAE_11}')\n",
    "#print(f'Der MAE_mod für Brötchen beträgt:{MAE_mod}')\n",
    "print(f'Der MAPE für Blechkuchen beträgt:{MAPE_11}')\n",
    "df_results_Random_Forest.loc['11',:] = ['Random_Forest-Basis','Blechkuchen',MAE_11,MAPE_11]"
   ]
  },
  {
   "cell_type": "code",
   "execution_count": null,
   "metadata": {},
   "outputs": [],
   "source": []
  },
  {
   "cell_type": "markdown",
   "metadata": {},
   "source": [
    "### Weihnachtsartikel"
   ]
  },
  {
   "cell_type": "code",
   "execution_count": null,
   "metadata": {},
   "outputs": [],
   "source": [
    "X_train_2_9=train_2.iloc[:,np.r_[26,42,22]]\n",
    "X_test_2_9=test_2.iloc[:,np.r_[26,42,22]]"
   ]
  },
  {
   "cell_type": "code",
   "execution_count": null,
   "metadata": {},
   "outputs": [],
   "source": [
    "X_train_2_12=train_2.iloc[:,np.r_[14:47]]\n",
    "X_test_2_12=test_2.iloc[:,np.r_[14:47]]"
   ]
  },
  {
   "cell_type": "code",
   "execution_count": null,
   "metadata": {},
   "outputs": [],
   "source": [
    "X_train=X_train_2_12\n",
    "X_test=X_test_2_12\n",
    "y_train=y_train_2_12"
   ]
  },
  {
   "cell_type": "code",
   "execution_count": null,
   "metadata": {},
   "outputs": [],
   "source": [
    "# Step 1: Make an instance of the Model\n",
    "forest = RandomForestClassifier(random_state = 0)"
   ]
  },
  {
   "cell_type": "code",
   "execution_count": null,
   "metadata": {},
   "outputs": [],
   "source": [
    "# Step 2: Train the model on the data\n",
    "forest.fit(X_train,y_train)"
   ]
  },
  {
   "cell_type": "code",
   "execution_count": null,
   "metadata": {},
   "outputs": [],
   "source": [
    "# Step 3: predict the response for test data\n",
    "y_pred_rf_2_12 = forest.predict(X_test)"
   ]
  },
  {
   "cell_type": "code",
   "execution_count": null,
   "metadata": {},
   "outputs": [],
   "source": [
    "n_nodes = []\n",
    "max_depths = []\n",
    "n_features=[]"
   ]
  },
  {
   "cell_type": "code",
   "execution_count": null,
   "metadata": {},
   "outputs": [],
   "source": [
    "for ind_tree in forest.estimators_:\n",
    "    n_features.append(ind_tree.tree_.n_features)\n",
    "    n_nodes.append(ind_tree.tree_.node_count)\n",
    "    max_depths.append(ind_tree.tree_.max_depth)\n",
    "    \n",
    "print(f'Average number of features {int(np.mean(n_features))}')\n",
    "print(f'Average number of nodes {int(np.mean(n_nodes))}')\n",
    "print(f'Average maximum depth {int(np.mean(max_depths))}')"
   ]
  },
  {
   "cell_type": "code",
   "execution_count": 434,
   "metadata": {},
   "outputs": [
    {
     "name": "stdout",
     "output_type": "stream",
     "text": [
      "Der MAE für Weihnachtsartikel beträgt:5.85876993166287\n",
      "Der MAPE für Weihnachtsartikel beträgt:31.218148187837908\n"
     ]
    }
   ],
   "source": [
    "train_rf_predictions = forest.predict(X_train)\n",
    "train_rf_probs = forest.predict_proba(X_train)[:, 1]\n",
    "\n",
    "rf_predictions = forest.predict(X_test)\n",
    "rf_probs = forest.predict_proba(X_test)[:, 1]\n",
    "\n",
    "MAE_12 = mean_absolute_error(y_test_2_12,y_pred_rf_2_12)\n",
    "#MAE_mod=mean_absolute_percentage_error_modify(y_test_2_8,y_pred_rf_2_8)\n",
    "MAPE_12=mean_absolute_percentage_error(y_test_2_12,y_pred_rf_2_12)\n",
    "print(f'Der MAE für Weihnachtsartikel beträgt:{MAE_12}')\n",
    "#print(f'Der MAE_mod für Weihnachtsartikel beträgt:{MAE_mod}')\n",
    "print(f'Der MAPE für Weihnachtsartikel beträgt:{MAPE_12}')\n",
    "df_results_Random_Forest.loc['12',:] = ['Random_Forest-Basis','Weihnachtsartikel',MAE_12,MAPE_12]"
   ]
  },
  {
   "cell_type": "markdown",
   "metadata": {},
   "source": [
    "## Advanced Model"
   ]
  },
  {
   "cell_type": "markdown",
   "metadata": {},
   "source": [
    "### Weizenbrot"
   ]
  },
  {
   "cell_type": "code",
   "execution_count": 646,
   "metadata": {},
   "outputs": [],
   "source": [
    "X_train_2_1=train_2.iloc[:,np.r_[14,16,17,19,26:49]]\n",
    "X_test_2_1=test_2.iloc[:,np.r_[14,16,17,19,26:49]]"
   ]
  },
  {
   "cell_type": "code",
   "execution_count": 647,
   "metadata": {},
   "outputs": [],
   "source": [
    "X_train=X_train_2_1\n",
    "X_test=X_test_2_1\n",
    "y_train=y_train_2_1"
   ]
  },
  {
   "cell_type": "code",
   "execution_count": 648,
   "metadata": {},
   "outputs": [],
   "source": [
    "# Step 1: Make an instance of the Model\n",
    "forest_1 = RandomForestClassifier(random_state = 0)"
   ]
  },
  {
   "cell_type": "code",
   "execution_count": 649,
   "metadata": {},
   "outputs": [
    {
     "data": {
      "text/plain": [
       "RandomForestClassifier(random_state=0)"
      ]
     },
     "execution_count": 649,
     "metadata": {},
     "output_type": "execute_result"
    }
   ],
   "source": [
    "# Step 2: Train the model on the data\n",
    "forest_1.fit(X_train,y_train)"
   ]
  },
  {
   "cell_type": "code",
   "execution_count": 651,
   "metadata": {},
   "outputs": [
    {
     "name": "stdout",
     "output_type": "stream",
     "text": [
      "Average number of features 27\n",
      "Average number of nodes 1191\n",
      "Average maximum depth 27\n"
     ]
    }
   ],
   "source": [
    "# Step 3: predict the response for test data\n",
    "y_pred_rf_2_1_adv= forest_1.predict(X_test)\n",
    "\n",
    "n_nodes = []\n",
    "max_depths = []\n",
    "n_features=[]\n",
    "\n",
    "for ind_tree in forest_1.estimators_:\n",
    "    n_features.append(ind_tree.tree_.n_features)\n",
    "    n_nodes.append(ind_tree.tree_.node_count)\n",
    "    max_depths.append(ind_tree.tree_.max_depth)\n",
    "    \n",
    "print(f'Average number of features {int(np.mean(n_features))}')\n",
    "print(f'Average number of nodes {int(np.mean(n_nodes))}')\n",
    "print(f'Average maximum depth {int(np.mean(max_depths))}')"
   ]
  },
  {
   "cell_type": "code",
   "execution_count": 544,
   "metadata": {},
   "outputs": [
    {
     "name": "stdout",
     "output_type": "stream",
     "text": [
      "Der MAE für Weizenbrot beträgt:12.580865603644646\n",
      "Der MAPE für Weizenbrot beträgt:21.657389060054697\n"
     ]
    }
   ],
   "source": [
    "train_rf_predictions = forest.predict(X_train)\n",
    "train_rf_probs = forest.predict_proba(X_train)[:, 1]\n",
    "\n",
    "rf_predictions = forest.predict(X_test)\n",
    "rf_probs = forest.predict_proba(X_test)[:, 1]\n",
    "\n",
    "MAE_1_adv = mean_absolute_error(y_test_2_1,y_pred_rf_2_1_adv)\n",
    "MAPE_1_adv=mean_absolute_percentage_error(y_test_2_1,y_pred_rf_2_1_adv)\n",
    "print(f'Der MAE für Weizenbrot beträgt:{MAE_1_adv}')\n",
    "print(f'Der MAPE für Weizenbrot beträgt:{MAPE_1_adv}')\n",
    "df_results_Random_Forest.loc['13',:] = ['Random_Forest-Advanced','Weizenbrot',MAE_1_adv,MAPE_1_adv]"
   ]
  },
  {
   "cell_type": "markdown",
   "metadata": {},
   "source": [
    "### Mischbrot"
   ]
  },
  {
   "cell_type": "code",
   "execution_count": 656,
   "metadata": {},
   "outputs": [],
   "source": [
    "X_train_2_2=train_2.iloc[:,np.r_[14,16,17,19,26:46,49,50]]\n",
    "X_test_2_2=test_2.iloc[:,np.r_[14,16,17,19,26:46,49,50]]"
   ]
  },
  {
   "cell_type": "code",
   "execution_count": 657,
   "metadata": {},
   "outputs": [],
   "source": [
    "X_train=X_train_2_2\n",
    "X_test=X_test_2_2\n",
    "y_train=y_train_2_2"
   ]
  },
  {
   "cell_type": "code",
   "execution_count": 658,
   "metadata": {},
   "outputs": [],
   "source": [
    "# Step 1: Make an instance of the Model\n",
    "forest_2 = RandomForestClassifier(random_state = 0)"
   ]
  },
  {
   "cell_type": "code",
   "execution_count": 659,
   "metadata": {},
   "outputs": [
    {
     "data": {
      "text/plain": [
       "RandomForestClassifier(random_state=0)"
      ]
     },
     "execution_count": 659,
     "metadata": {},
     "output_type": "execute_result"
    }
   ],
   "source": [
    "# Step 2: Train the model on the data\n",
    "forest_2.fit(X_train,y_train)"
   ]
  },
  {
   "cell_type": "code",
   "execution_count": 660,
   "metadata": {},
   "outputs": [
    {
     "name": "stdout",
     "output_type": "stream",
     "text": [
      "Average number of features 26\n",
      "Average number of nodes 1313\n",
      "Average maximum depth 26\n"
     ]
    }
   ],
   "source": [
    "# Step 3: predict the response for test data\n",
    "y_pred_rf_2_2_adv= forest_2.predict(X_test)\n",
    "\n",
    "n_nodes = []\n",
    "max_depths = []\n",
    "n_features=[]\n",
    "\n",
    "for ind_tree in forest_2.estimators_:\n",
    "    n_features.append(ind_tree.tree_.n_features)\n",
    "    n_nodes.append(ind_tree.tree_.node_count)\n",
    "    max_depths.append(ind_tree.tree_.max_depth)\n",
    "    \n",
    "print(f'Average number of features {int(np.mean(n_features))}')\n",
    "print(f'Average number of nodes {int(np.mean(n_nodes))}')\n",
    "print(f'Average maximum depth {int(np.mean(max_depths))}')"
   ]
  },
  {
   "cell_type": "code",
   "execution_count": 661,
   "metadata": {},
   "outputs": [
    {
     "name": "stdout",
     "output_type": "stream",
     "text": [
      "Der MAE für Mischbrot beträgt:15.446469248291573\n",
      "Der MAPE für Mischbrot beträgt:21.88128257777217\n"
     ]
    }
   ],
   "source": [
    "train_rf_predictions = forest_2.predict(X_train)\n",
    "train_rf_probs = forest_2.predict_proba(X_train)[:, 1]\n",
    "\n",
    "rf_predictions = forest_2.predict(X_test)\n",
    "rf_probs = forest_2.predict_proba(X_test)[:, 1]\n",
    "\n",
    "MAE_2_adv = mean_absolute_error(y_test_2_2,y_pred_rf_2_2_adv)\n",
    "MAPE_2_adv=mean_absolute_percentage_error(y_test_2_2,y_pred_rf_2_2_adv)\n",
    "print(f'Der MAE für Mischbrot beträgt:{MAE_2_adv}')\n",
    "print(f'Der MAPE für Mischbrot beträgt:{MAPE_2_adv}')\n",
    "df_results_Random_Forest.loc['14',:] = ['Random_Forest-Advanced','Mischbrot',MAE_2_adv,MAPE_2_adv]"
   ]
  },
  {
   "cell_type": "markdown",
   "metadata": {},
   "source": [
    "### Vollkornbrot"
   ]
  },
  {
   "cell_type": "code",
   "execution_count": 662,
   "metadata": {},
   "outputs": [],
   "source": [
    "X_train_2_3=train_2.iloc[:,np.r_[14,16,17,19,26:46,51,52]]\n",
    "X_test_2_3=test_2.iloc[:,np.r_[14,16,17,19,26:46,51,52]]"
   ]
  },
  {
   "cell_type": "code",
   "execution_count": 663,
   "metadata": {},
   "outputs": [],
   "source": [
    "X_train=X_train_2_3\n",
    "X_test=X_test_2_3\n",
    "y_train=y_train_2_3"
   ]
  },
  {
   "cell_type": "code",
   "execution_count": 664,
   "metadata": {},
   "outputs": [],
   "source": [
    "# Step 1: Make an instance of the Model\n",
    "forest_3 = RandomForestClassifier(random_state = 0)"
   ]
  },
  {
   "cell_type": "code",
   "execution_count": 665,
   "metadata": {},
   "outputs": [
    {
     "data": {
      "text/plain": [
       "RandomForestClassifier(random_state=0)"
      ]
     },
     "execution_count": 665,
     "metadata": {},
     "output_type": "execute_result"
    }
   ],
   "source": [
    "# Step 2: Train the model on the data\n",
    "forest_3.fit(X_train,y_train)"
   ]
  },
  {
   "cell_type": "code",
   "execution_count": 666,
   "metadata": {},
   "outputs": [
    {
     "name": "stdout",
     "output_type": "stream",
     "text": [
      "Average number of features 33\n",
      "Average number of nodes 1354\n",
      "Average maximum depth 25\n"
     ]
    }
   ],
   "source": [
    "# Step 3: predict the response for test data\n",
    "y_pred_rf_2_3_adv = forest_3.predict(X_test)\n",
    "\n",
    "n_nodes = []\n",
    "max_depths = []\n",
    "n_features=[]\n",
    "\n",
    "for ind_tree in forest.estimators_:\n",
    "    n_features.append(ind_tree.tree_.n_features)\n",
    "    n_nodes.append(ind_tree.tree_.node_count)\n",
    "    max_depths.append(ind_tree.tree_.max_depth)\n",
    "    \n",
    "print(f'Average number of features {int(np.mean(n_features))}')\n",
    "print(f'Average number of nodes {int(np.mean(n_nodes))}')\n",
    "print(f'Average maximum depth {int(np.mean(max_depths))}')\n"
   ]
  },
  {
   "cell_type": "code",
   "execution_count": 667,
   "metadata": {},
   "outputs": [
    {
     "name": "stdout",
     "output_type": "stream",
     "text": [
      "Der MAE für Vollkornbrot beträgt:24.047835990888384\n",
      "Der MAPE für Vollkornbrot beträgt:19.300740190161335\n"
     ]
    }
   ],
   "source": [
    "train_rf_predictions = forest_3.predict(X_train)\n",
    "train_rf_probs = forest_3.predict_proba(X_train)[:, 1]\n",
    "\n",
    "rf_predictions = forest_3.predict(X_test)\n",
    "rf_probs = forest_3.predict_proba(X_test)[:, 1]\n",
    "\n",
    "MAE_3_adv = mean_absolute_error(y_test_2_3,y_pred_rf_2_3_adv)\n",
    "MAPE_3_adv=mean_absolute_percentage_error(y_test_2_3,y_pred_rf_2_3_adv)\n",
    "print(f'Der MAE für Vollkornbrot beträgt:{MAE_3_adv}')\n",
    "print(f'Der MAPE für Vollkornbrot beträgt:{MAPE_3_adv}')\n",
    "df_results_Random_Forest.loc['15',:] = ['Random_Forest-Advanced','Vollkornbrot',MAE_3_adv,MAPE_3_adv]"
   ]
  },
  {
   "cell_type": "markdown",
   "metadata": {},
   "source": [
    "### Spezialbrot"
   ]
  },
  {
   "cell_type": "code",
   "execution_count": null,
   "metadata": {},
   "outputs": [],
   "source": [
    "X_train_2_4=train_2.iloc[:,np.r_[14,27:43,55,56]]\n",
    "X_test_2_4=test_2.iloc[:,np.r_[14,27:43,55,56]]"
   ]
  },
  {
   "cell_type": "code",
   "execution_count": 668,
   "metadata": {},
   "outputs": [],
   "source": [
    "X_train_2_4=train_2.iloc[:,np.r_[14:43,55,56]]\n",
    "X_test_2_4=test_2.iloc[:,np.r_[14:43,55,56]]"
   ]
  },
  {
   "cell_type": "code",
   "execution_count": 669,
   "metadata": {},
   "outputs": [],
   "source": [
    "X_train=X_train_2_4\n",
    "X_test=X_test_2_4\n",
    "y_train=y_train_2_4"
   ]
  },
  {
   "cell_type": "code",
   "execution_count": 670,
   "metadata": {},
   "outputs": [],
   "source": [
    "# Step 1: Make an instance of the Model\n",
    "forest_4 = RandomForestClassifier(random_state = 0)"
   ]
  },
  {
   "cell_type": "code",
   "execution_count": 671,
   "metadata": {},
   "outputs": [
    {
     "data": {
      "text/plain": [
       "RandomForestClassifier(random_state=0)"
      ]
     },
     "execution_count": 671,
     "metadata": {},
     "output_type": "execute_result"
    }
   ],
   "source": [
    "# Step 2: Train the model on the data\n",
    "forest_4.fit(X_train,y_train)"
   ]
  },
  {
   "cell_type": "code",
   "execution_count": 672,
   "metadata": {},
   "outputs": [
    {
     "name": "stdout",
     "output_type": "stream",
     "text": [
      "Average number of features 31\n",
      "Average number of nodes 1243\n",
      "Average maximum depth 27\n"
     ]
    }
   ],
   "source": [
    "# Step 3: predict the response for test data\n",
    "y_pred_rf_2_4_adv = forest_4.predict(X_test)\n",
    "\n",
    "n_nodes = []\n",
    "max_depths = []\n",
    "n_features=[]\n",
    "\n",
    "for ind_tree in forest_4.estimators_:\n",
    "    n_features.append(ind_tree.tree_.n_features)\n",
    "    n_nodes.append(ind_tree.tree_.node_count)\n",
    "    max_depths.append(ind_tree.tree_.max_depth)\n",
    "    \n",
    "print(f'Average number of features {int(np.mean(n_features))}')\n",
    "print(f'Average number of nodes {int(np.mean(n_nodes))}')\n",
    "print(f'Average maximum depth {int(np.mean(max_depths))}')"
   ]
  },
  {
   "cell_type": "code",
   "execution_count": 673,
   "metadata": {},
   "outputs": [
    {
     "name": "stdout",
     "output_type": "stream",
     "text": [
      "Der MAE für Spezialbrot beträgt:17.767653758542142\n",
      "Der MAPE für Spezialbrot beträgt:28.316608635679703\n"
     ]
    }
   ],
   "source": [
    "train_rf_predictions = forest_4.predict(X_train)\n",
    "train_rf_probs = forest_4.predict_proba(X_train)[:, 1]\n",
    "\n",
    "rf_predictions = forest_4.predict(X_test)\n",
    "rf_probs = forest_4.predict_proba(X_test)[:, 1]\n",
    "\n",
    "MAE_4_adv = mean_absolute_error(y_test_2_4,y_pred_rf_2_4_adv)\n",
    "MAPE_4_adv=mean_absolute_percentage_error(y_test_2_4,y_pred_rf_2_4_adv)\n",
    "print(f'Der MAE für Spezialbrot beträgt:{MAE_4_adv}')\n",
    "print(f'Der MAPE für Spezialbrot beträgt:{MAPE_4_adv}')\n",
    "df_results_Random_Forest.loc['16',:] = ['Random_Forest-Advanced','Spezialbrot',MAE_4_adv,MAPE_4_adv]"
   ]
  },
  {
   "cell_type": "markdown",
   "metadata": {},
   "source": [
    "### Stangenbrote"
   ]
  },
  {
   "cell_type": "code",
   "execution_count": 674,
   "metadata": {},
   "outputs": [],
   "source": [
    "X_train_2_5=train_2.iloc[:,np.r_[14:47,53,54]]\n",
    "X_test_2_5=test_2.iloc[:,np.r_[14:47,53,54]]"
   ]
  },
  {
   "cell_type": "code",
   "execution_count": 675,
   "metadata": {},
   "outputs": [],
   "source": [
    "X_train=X_train_2_5\n",
    "X_test=X_test_2_5\n",
    "y_train=y_train_2_5"
   ]
  },
  {
   "cell_type": "code",
   "execution_count": 676,
   "metadata": {},
   "outputs": [],
   "source": [
    "# Step 1: Make an instance of the Model\n",
    "forest_5 = RandomForestClassifier(random_state = 0)"
   ]
  },
  {
   "cell_type": "code",
   "execution_count": 677,
   "metadata": {},
   "outputs": [
    {
     "data": {
      "text/plain": [
       "RandomForestClassifier(random_state=0)"
      ]
     },
     "execution_count": 677,
     "metadata": {},
     "output_type": "execute_result"
    }
   ],
   "source": [
    "# Step 2: Train the model on the data\n",
    "forest_5.fit(X_train,y_train)"
   ]
  },
  {
   "cell_type": "code",
   "execution_count": 678,
   "metadata": {},
   "outputs": [
    {
     "name": "stdout",
     "output_type": "stream",
     "text": [
      "Average number of features 35\n",
      "Average number of nodes 1292\n",
      "Average maximum depth 29\n"
     ]
    }
   ],
   "source": [
    "# Step 3: predict the response for test data\n",
    "y_pred_rf_2_5 = forest_5.predict(X_test)\n",
    "\n",
    "n_nodes = []\n",
    "max_depths = []\n",
    "n_features=[]\n",
    "\n",
    "for ind_tree in forest_5.estimators_:\n",
    "    n_features.append(ind_tree.tree_.n_features)\n",
    "    n_nodes.append(ind_tree.tree_.node_count)\n",
    "    max_depths.append(ind_tree.tree_.max_depth)\n",
    "    \n",
    "print(f'Average number of features {int(np.mean(n_features))}')\n",
    "print(f'Average number of nodes {int(np.mean(n_nodes))}')\n",
    "print(f'Average maximum depth {int(np.mean(max_depths))}')"
   ]
  },
  {
   "cell_type": "code",
   "execution_count": 679,
   "metadata": {},
   "outputs": [
    {
     "name": "stdout",
     "output_type": "stream",
     "text": [
      "Der MAE für Stangenbrote beträgt:14.749430523917995\n",
      "Der MAPE für Stangenbrote beträgt:48.49266240975013\n"
     ]
    }
   ],
   "source": [
    "train_rf_predictions = forest_5.predict(X_train)\n",
    "train_rf_probs = forest_5.predict_proba(X_train)[:, 1]\n",
    "\n",
    "rf_predictions = forest_5.predict(X_test)\n",
    "rf_probs = forest_5.predict_proba(X_test)[:, 1]\n",
    "\n",
    "MAE_5 = mean_absolute_error(y_test_2_5,y_pred_rf_2_5)\n",
    "MAE_mod=mean_absolute_percentage_error_modify(y_test_2_5,y_pred_rf_2_5)\n",
    "MAPE_5=mean_absolute_percentage_error(y_test_2_5,y_pred_rf_2_5)\n",
    "print(f'Der MAE für Stangenbrote beträgt:{MAE_5}')\n",
    "#print(f'Der MAE_mod für Spezialbrot beträgt:{MAE_mod}')\n",
    "print(f'Der MAPE für Stangenbrote beträgt:{MAPE_5}')\n",
    "df_results_Random_Forest.loc['17',:] = ['Random_Forest-Advanced','Stangenbrote',MAE_5,MAPE_5]"
   ]
  },
  {
   "cell_type": "markdown",
   "metadata": {},
   "source": [
    "### Brötchen"
   ]
  },
  {
   "cell_type": "code",
   "execution_count": 800,
   "metadata": {},
   "outputs": [],
   "source": [
    "X_train_2_6=train_2.iloc[:,np.r_[14,16,17,18,19,20,21,22,25:47,57,58,71,72]]\n",
    "X_test_2_6=test_2.iloc[:,np.r_[14,16,17,18,19,20,21,22,25:47,57,58,71,72]]"
   ]
  },
  {
   "cell_type": "code",
   "execution_count": 801,
   "metadata": {},
   "outputs": [],
   "source": [
    "X_train=X_train_2_6\n",
    "X_test=X_test_2_6\n",
    "y_train=y_train_2_6\n",
    "\n"
   ]
  },
  {
   "cell_type": "code",
   "execution_count": 802,
   "metadata": {},
   "outputs": [],
   "source": [
    "# Step 1: Make an instance of the Model\n",
    "forest_6 = RandomForestClassifier(random_state = 0)\n",
    "\n",
    "# Step 2: Train the model on the data\n",
    "forest_6.fit(X_train,y_train)\n",
    "\n",
    "# Step 3: predict the response for test data\n",
    "y_pred_rf_2_6_adv = forest_6.predict(X_test)"
   ]
  },
  {
   "cell_type": "code",
   "execution_count": 803,
   "metadata": {},
   "outputs": [
    {
     "name": "stdout",
     "output_type": "stream",
     "text": [
      "Average number of features 34\n",
      "Average number of nodes 1330\n",
      "Average maximum depth 29\n"
     ]
    }
   ],
   "source": [
    "n_nodes = []\n",
    "max_depths = []\n",
    "n_features=[]\n",
    "\n",
    "for ind_tree in forest_6.estimators_:\n",
    "    n_features.append(ind_tree.tree_.n_features)\n",
    "    n_nodes.append(ind_tree.tree_.node_count)\n",
    "    max_depths.append(ind_tree.tree_.max_depth)\n",
    "    \n",
    "print(f'Average number of features {int(np.mean(n_features))}')\n",
    "print(f'Average number of nodes {int(np.mean(n_nodes))}')\n",
    "print(f'Average maximum depth {int(np.mean(max_depths))}')"
   ]
  },
  {
   "cell_type": "code",
   "execution_count": 804,
   "metadata": {},
   "outputs": [],
   "source": [
    "train_rf_predictions = forest_6.predict(X_train)\n",
    "train_rf_probs = forest_6.predict_proba(X_train)[:, 1]\n",
    "\n",
    "rf_predictions = forest_6.predict(X_test)\n",
    "rf_probs = forest_6.predict_proba(X_test)[:, 1]"
   ]
  },
  {
   "cell_type": "code",
   "execution_count": 805,
   "metadata": {},
   "outputs": [
    {
     "name": "stdout",
     "output_type": "stream",
     "text": [
      "Der MAE für Brötchen beträgt:56.783599088838265\n",
      "Der MAPE für Brötchen beträgt:13.682034508010846\n"
     ]
    }
   ],
   "source": [
    "MAE_6_adv = mean_absolute_error(y_test_2_6,y_pred_rf_2_6_adv)\n",
    "MAPE_6_adv=mean_absolute_percentage_error(y_test_2_6,y_pred_rf_2_6_adv)\n",
    "print(f'Der MAE für Brötchen beträgt:{MAE_6_adv}')\n",
    "print(f'Der MAPE für Brötchen beträgt:{MAPE_6_adv}')\n",
    "df_results_Random_Forest.loc['42',:] = ['Random_Forest-Advanced_inclGesamt','Brötchen',MAE_6_adv,MAPE_6_adv]"
   ]
  },
  {
   "cell_type": "markdown",
   "metadata": {},
   "source": [
    "### Süsse Brötchen"
   ]
  },
  {
   "cell_type": "code",
   "execution_count": 806,
   "metadata": {},
   "outputs": [],
   "source": [
    "X_train_2_7=train_2.iloc[:,np.r_[14,16,17,18,19,20,21,22,25:47,60,71,72]]\n",
    "X_test_2_7=test_2.iloc[:,np.r_[14,16,17,18,19,20,21,22,25:47,60,71,72]]"
   ]
  },
  {
   "cell_type": "code",
   "execution_count": 807,
   "metadata": {},
   "outputs": [],
   "source": [
    "X_train=X_train_2_7\n",
    "X_test=X_test_2_7\n",
    "y_train=y_train_2_7"
   ]
  },
  {
   "cell_type": "code",
   "execution_count": 808,
   "metadata": {},
   "outputs": [],
   "source": [
    "# Step 1: Make an instance of the Model\n",
    "forest_7 = RandomForestClassifier(random_state = 0)"
   ]
  },
  {
   "cell_type": "code",
   "execution_count": 809,
   "metadata": {},
   "outputs": [
    {
     "data": {
      "text/plain": [
       "RandomForestClassifier(random_state=0)"
      ]
     },
     "execution_count": 809,
     "metadata": {},
     "output_type": "execute_result"
    }
   ],
   "source": [
    "# Step 2: Train the model on the data\n",
    "forest_7.fit(X_train,y_train)"
   ]
  },
  {
   "cell_type": "code",
   "execution_count": 810,
   "metadata": {},
   "outputs": [],
   "source": [
    "# Step 3: predict the response for test data\n",
    "y_pred_rf_2_7_adv = forest_7.predict(X_test)"
   ]
  },
  {
   "cell_type": "code",
   "execution_count": 811,
   "metadata": {},
   "outputs": [
    {
     "name": "stdout",
     "output_type": "stream",
     "text": [
      "Average number of features 33\n",
      "Average number of nodes 1316\n",
      "Average maximum depth 26\n"
     ]
    }
   ],
   "source": [
    "n_nodes = []\n",
    "max_depths = []\n",
    "n_features=[]\n",
    "\n",
    "for ind_tree in forest_7.estimators_:\n",
    "    n_features.append(ind_tree.tree_.n_features)\n",
    "    n_nodes.append(ind_tree.tree_.node_count)\n",
    "    max_depths.append(ind_tree.tree_.max_depth)\n",
    "    \n",
    "print(f'Average number of features {int(np.mean(n_features))}')\n",
    "print(f'Average number of nodes {int(np.mean(n_nodes))}')\n",
    "print(f'Average maximum depth {int(np.mean(max_depths))}')"
   ]
  },
  {
   "cell_type": "code",
   "execution_count": 812,
   "metadata": {},
   "outputs": [
    {
     "name": "stdout",
     "output_type": "stream",
     "text": [
      "Der MAE für Süsse Brötchen beträgt:22.403189066059227\n",
      "Der MAPE für Süsse Brötchen beträgt:10.93620318917361\n"
     ]
    }
   ],
   "source": [
    "train_rf_predictions = forest_7.predict(X_train)\n",
    "train_rf_probs = forest_7.predict_proba(X_train)[:, 1]\n",
    "\n",
    "rf_predictions = forest_7.predict(X_test)\n",
    "rf_probs = forest_7.predict_proba(X_test)[:, 1]\n",
    "\n",
    "MAE_7_adv = mean_absolute_error(y_test_2_7,y_pred_rf_2_7_adv)\n",
    "MAPE_7_adv=mean_absolute_percentage_error(y_test_2_7,y_pred_rf_2_7_adv)\n",
    "print(f'Der MAE für Süsse Brötchen beträgt:{MAE_7_adv}')\n",
    "print(f'Der MAPE für Süsse Brötchen beträgt:{MAPE_7_adv}')\n",
    "df_results_Random_Forest.loc['43',:] = ['Random_Forest-Advanced_Gesamt','Süsse Brötchen',MAE_7_adv,MAPE_7_adv]"
   ]
  },
  {
   "cell_type": "markdown",
   "metadata": {},
   "source": [
    "### Herzhafte Brötchen"
   ]
  },
  {
   "cell_type": "code",
   "execution_count": 754,
   "metadata": {},
   "outputs": [],
   "source": [
    "X_train_2_8=train_2.iloc[:,np.r_[14,16,17,19,21,22,25:47,61,61,71,72]]\n",
    "X_test_2_8=test_2.iloc[:,np.r_[14,16,17,19,21,22,25:47,61,62,71,72]]"
   ]
  },
  {
   "cell_type": "code",
   "execution_count": 755,
   "metadata": {},
   "outputs": [],
   "source": [
    "X_train_2_8=train_2.iloc[:,np.r_[14:47]]\n",
    "X_test_2_8=test_2.iloc[:,np.r_[14:47]]"
   ]
  },
  {
   "cell_type": "code",
   "execution_count": 756,
   "metadata": {},
   "outputs": [],
   "source": [
    "X_train=X_train_2_8\n",
    "X_test=X_test_2_8\n",
    "y_train=y_train_2_8"
   ]
  },
  {
   "cell_type": "code",
   "execution_count": 757,
   "metadata": {},
   "outputs": [],
   "source": [
    "# Step 1: Make an instance of the Model\n",
    "forest_8 = RandomForestClassifier(random_state = 0)"
   ]
  },
  {
   "cell_type": "code",
   "execution_count": 758,
   "metadata": {},
   "outputs": [
    {
     "data": {
      "text/plain": [
       "RandomForestClassifier(random_state=0)"
      ]
     },
     "execution_count": 758,
     "metadata": {},
     "output_type": "execute_result"
    }
   ],
   "source": [
    "# Step 2: Train the model on the data\n",
    "forest_8.fit(X_train,y_train)"
   ]
  },
  {
   "cell_type": "code",
   "execution_count": 759,
   "metadata": {},
   "outputs": [],
   "source": [
    "# Step 3: predict the response for test data\n",
    "y_pred_rf_2_8_adv = forest_8.predict(X_test)"
   ]
  },
  {
   "cell_type": "code",
   "execution_count": 760,
   "metadata": {},
   "outputs": [],
   "source": [
    "n_nodes = []\n",
    "max_depths = []\n",
    "n_features=[]"
   ]
  },
  {
   "cell_type": "code",
   "execution_count": 761,
   "metadata": {},
   "outputs": [
    {
     "name": "stdout",
     "output_type": "stream",
     "text": [
      "Average number of features 33\n",
      "Average number of nodes 1336\n",
      "Average maximum depth 25\n"
     ]
    }
   ],
   "source": [
    "for ind_tree in forest_8.estimators_:\n",
    "    n_features.append(ind_tree.tree_.n_features)\n",
    "    n_nodes.append(ind_tree.tree_.node_count)\n",
    "    max_depths.append(ind_tree.tree_.max_depth)\n",
    "    \n",
    "print(f'Average number of features {int(np.mean(n_features))}')\n",
    "print(f'Average number of nodes {int(np.mean(n_nodes))}')\n",
    "print(f'Average maximum depth {int(np.mean(max_depths))}')"
   ]
  },
  {
   "cell_type": "code",
   "execution_count": 762,
   "metadata": {},
   "outputs": [
    {
     "name": "stdout",
     "output_type": "stream",
     "text": [
      "Der MAE für Herzhafte_Brötchen beträgt:30.849658314350798\n",
      "Der MAPE für Herzhafte_Brötchen beträgt:26.977482926515762\n"
     ]
    }
   ],
   "source": [
    "train_rf_predictions = forest_8.predict(X_train)\n",
    "train_rf_probs = forest_8.predict_proba(X_train)[:, 1]\n",
    "\n",
    "rf_predictions = forest_8.predict(X_test)\n",
    "rf_probs = forest_8.predict_proba(X_test)[:, 1]\n",
    "\n",
    "MAE_8_adv = mean_absolute_error(y_test_2_8,y_pred_rf_2_8_adv)\n",
    "#MAE_mod=mean_absolute_percentage_error_modify(y_test_2_8,y_pred_rf_2_8)\n",
    "MAPE_8_adv=mean_absolute_percentage_error(y_test_2_8,y_pred_rf_2_8_adv)\n",
    "print(f'Der MAE für Herzhafte_Brötchen beträgt:{MAE_8_adv}')\n",
    "#print(f'Der MAE_mod für Brötchen beträgt:{MAE_mod}')\n",
    "print(f'Der MAPE für Herzhafte_Brötchen beträgt:{MAPE_8_adv}')\n",
    "df_results_Random_Forest.loc['56',:] = ['Random_Forest-Advanced','Herzhafte_Brötchen',MAE_8,MAPE_8_adv]"
   ]
  },
  {
   "cell_type": "markdown",
   "metadata": {},
   "source": [
    "### KonditoreiBlech"
   ]
  },
  {
   "cell_type": "code",
   "execution_count": 704,
   "metadata": {},
   "outputs": [],
   "source": [
    "X_train_2_9=train_2.iloc[:,np.r_[26,42,22,63,64]]\n",
    "X_test_2_9=test_2.iloc[:,np.r_[26,42,22,63,64]]"
   ]
  },
  {
   "cell_type": "code",
   "execution_count": 705,
   "metadata": {},
   "outputs": [],
   "source": [
    "X_train_2_9=train_2.iloc[:,np.r_[14:47,63,64]]\n",
    "X_test_2_9=test_2.iloc[:,np.r_[14:47,63,64]]"
   ]
  },
  {
   "cell_type": "code",
   "execution_count": 706,
   "metadata": {},
   "outputs": [],
   "source": [
    "X_train=X_train_2_9\n",
    "X_test=X_test_2_9\n",
    "y_train=y_train_2_9"
   ]
  },
  {
   "cell_type": "code",
   "execution_count": 707,
   "metadata": {},
   "outputs": [],
   "source": [
    "# Step 1: Make an instance of the Model\n",
    "forest_9 = RandomForestClassifier(random_state = 0)"
   ]
  },
  {
   "cell_type": "code",
   "execution_count": 708,
   "metadata": {},
   "outputs": [
    {
     "data": {
      "text/plain": [
       "RandomForestClassifier(random_state=0)"
      ]
     },
     "execution_count": 708,
     "metadata": {},
     "output_type": "execute_result"
    }
   ],
   "source": [
    "# Step 2: Train the model on the data\n",
    "forest_9.fit(X_train,y_train)"
   ]
  },
  {
   "cell_type": "code",
   "execution_count": 709,
   "metadata": {},
   "outputs": [],
   "source": [
    "# Step 3: predict the response for test data\n",
    "y_pred_rf_2_9_adv = forest_9.predict(X_test)"
   ]
  },
  {
   "cell_type": "code",
   "execution_count": 710,
   "metadata": {},
   "outputs": [],
   "source": [
    "n_nodes = []\n",
    "max_depths = []\n",
    "n_features=[]"
   ]
  },
  {
   "cell_type": "code",
   "execution_count": 711,
   "metadata": {},
   "outputs": [
    {
     "name": "stdout",
     "output_type": "stream",
     "text": [
      "Average number of features 35\n",
      "Average number of nodes 1323\n",
      "Average maximum depth 29\n"
     ]
    }
   ],
   "source": [
    "for ind_tree in forest_9.estimators_:\n",
    "    n_features.append(ind_tree.tree_.n_features)\n",
    "    n_nodes.append(ind_tree.tree_.node_count)\n",
    "    max_depths.append(ind_tree.tree_.max_depth)\n",
    "    \n",
    "print(f'Average number of features {int(np.mean(n_features))}')\n",
    "print(f'Average number of nodes {int(np.mean(n_nodes))}')\n",
    "print(f'Average maximum depth {int(np.mean(max_depths))}')"
   ]
  },
  {
   "cell_type": "code",
   "execution_count": 712,
   "metadata": {},
   "outputs": [
    {
     "name": "stdout",
     "output_type": "stream",
     "text": [
      "Der MAE für KonditoreiBlech beträgt:30.52391799544419\n",
      "Der MAPE für KonditoreiBlech beträgt:45.831334899458646\n"
     ]
    }
   ],
   "source": [
    "train_rf_predictions = forest_9.predict(X_train)\n",
    "train_rf_probs = forest_9.predict_proba(X_train)[:, 1]\n",
    "\n",
    "rf_predictions = forest_9.predict(X_test)\n",
    "rf_probs = forest_9.predict_proba(X_test)[:, 1]\n",
    "\n",
    "MAE_9_adv = mean_absolute_error(y_test_2_9,y_pred_rf_2_9)\n",
    "#MAE_mod=mean_absolute_percentage_error_modify(y_test_2_8,y_pred_rf_2_8)\n",
    "MAPE_9_adv=mean_absolute_percentage_error(y_test_2_9,y_pred_rf_2_9)\n",
    "print(f'Der MAE für KonditoreiBlech beträgt:{MAE_9_adv}')\n",
    "#print(f'Der MAE_mod für Brötchen beträgt:{MAE_mod}')\n",
    "print(f'Der MAPE für KonditoreiBlech beträgt:{MAPE_9_adv}')\n",
    "df_results_Random_Forest.loc['21',:] = ['Random_Forest-Advanced','KonditoreiBlech',MAE_9_adv,MAPE_9_adv]"
   ]
  },
  {
   "cell_type": "markdown",
   "metadata": {},
   "source": [
    "### Stückgebäck"
   ]
  },
  {
   "cell_type": "code",
   "execution_count": null,
   "metadata": {},
   "outputs": [],
   "source": [
    "X_train_2_9=train_2.iloc[:,np.r_[26,42,22]]\n",
    "X_test_2_9=test_2.iloc[:,np.r_[26,42,22]]"
   ]
  },
  {
   "cell_type": "code",
   "execution_count": 713,
   "metadata": {},
   "outputs": [],
   "source": [
    "X_train_2_10=train_2.iloc[:,np.r_[14:47,65,66]]\n",
    "X_test_2_10=test_2.iloc[:,np.r_[14:47,65,66]]"
   ]
  },
  {
   "cell_type": "code",
   "execution_count": 714,
   "metadata": {},
   "outputs": [],
   "source": [
    "X_train=X_train_2_10\n",
    "X_test=X_test_2_10\n",
    "y_train=y_train_2_10"
   ]
  },
  {
   "cell_type": "code",
   "execution_count": 715,
   "metadata": {},
   "outputs": [],
   "source": [
    "# Step 1: Make an instance of the Model\n",
    "forest_10 = RandomForestClassifier(random_state = 0)"
   ]
  },
  {
   "cell_type": "code",
   "execution_count": 716,
   "metadata": {},
   "outputs": [
    {
     "data": {
      "text/plain": [
       "RandomForestClassifier(random_state=0)"
      ]
     },
     "execution_count": 716,
     "metadata": {},
     "output_type": "execute_result"
    }
   ],
   "source": [
    "# Step 2: Train the model on the data\n",
    "forest_10.fit(X_train,y_train)"
   ]
  },
  {
   "cell_type": "code",
   "execution_count": 717,
   "metadata": {},
   "outputs": [],
   "source": [
    "# Step 3: predict the response for test data\n",
    "y_pred_rf_2_10_adv = forest_10.predict(X_test)"
   ]
  },
  {
   "cell_type": "code",
   "execution_count": 718,
   "metadata": {},
   "outputs": [],
   "source": [
    "n_nodes = []\n",
    "max_depths = []\n",
    "n_features=[]"
   ]
  },
  {
   "cell_type": "code",
   "execution_count": 719,
   "metadata": {},
   "outputs": [
    {
     "name": "stdout",
     "output_type": "stream",
     "text": [
      "Average number of features 35\n",
      "Average number of nodes 1326\n",
      "Average maximum depth 29\n"
     ]
    }
   ],
   "source": [
    "for ind_tree in forest_10.estimators_:\n",
    "    n_features.append(ind_tree.tree_.n_features)\n",
    "    n_nodes.append(ind_tree.tree_.node_count)\n",
    "    max_depths.append(ind_tree.tree_.max_depth)\n",
    "    \n",
    "print(f'Average number of features {int(np.mean(n_features))}')\n",
    "print(f'Average number of nodes {int(np.mean(n_nodes))}')\n",
    "print(f'Average maximum depth {int(np.mean(max_depths))}')"
   ]
  },
  {
   "cell_type": "code",
   "execution_count": 720,
   "metadata": {},
   "outputs": [
    {
     "name": "stdout",
     "output_type": "stream",
     "text": [
      "Der MAE für Stückgebäck beträgt:38.82232346241458\n",
      "Der MAPE für Stückgebäck beträgt:25.843807345315433\n"
     ]
    }
   ],
   "source": [
    "train_rf_predictions = forest_10.predict(X_train)\n",
    "train_rf_probs = forest_10.predict_proba(X_train)[:, 1]\n",
    "\n",
    "rf_predictions = forest_10.predict(X_test)\n",
    "rf_probs = forest_10.predict_proba(X_test)[:, 1]\n",
    "\n",
    "MAE_10_adv = mean_absolute_error(y_test_2_10,y_pred_rf_2_10_adv)\n",
    "#MAE_mod=mean_absolute_percentage_error_modify(y_test_2_8,y_pred_rf_2_8)\n",
    "MAPE_10_adv=mean_absolute_percentage_error(y_test_2_10,y_pred_rf_2_10_adv)\n",
    "print(f'Der MAE für Stückgebäck beträgt:{MAE_10_adv}')\n",
    "#print(f'Der MAE_mod für Brötchen beträgt:{MAE_mod}')\n",
    "print(f'Der MAPE für Stückgebäck beträgt:{MAPE_10_adv}')\n",
    "df_results_Random_Forest.loc['22',:] = ['Random_Forest-Advanced','Stückgebäck',MAE_10_adv,MAPE_10_adv]"
   ]
  },
  {
   "cell_type": "markdown",
   "metadata": {},
   "source": [
    "### Blechkuchen"
   ]
  },
  {
   "cell_type": "code",
   "execution_count": null,
   "metadata": {},
   "outputs": [],
   "source": [
    "X_train_2_9=train_2.iloc[:,np.r_[26,42,22]]\n",
    "X_test_2_9=test_2.iloc[:,np.r_[26,42,22]]"
   ]
  },
  {
   "cell_type": "code",
   "execution_count": 721,
   "metadata": {},
   "outputs": [],
   "source": [
    "X_train_2_11=train_2.iloc[:,np.r_[14:47,67,68]]\n",
    "X_test_2_11=test_2.iloc[:,np.r_[14:47,67,68]]"
   ]
  },
  {
   "cell_type": "code",
   "execution_count": 722,
   "metadata": {},
   "outputs": [],
   "source": [
    "X_train=X_train_2_11\n",
    "X_test=X_test_2_11\n",
    "y_train=y_train_2_11"
   ]
  },
  {
   "cell_type": "code",
   "execution_count": 723,
   "metadata": {},
   "outputs": [],
   "source": [
    "# Step 1: Make an instance of the Model\n",
    "forest_11 = RandomForestClassifier(random_state = 0)"
   ]
  },
  {
   "cell_type": "code",
   "execution_count": 724,
   "metadata": {},
   "outputs": [
    {
     "data": {
      "text/plain": [
       "RandomForestClassifier(random_state=0)"
      ]
     },
     "execution_count": 724,
     "metadata": {},
     "output_type": "execute_result"
    }
   ],
   "source": [
    "# Step 2: Train the model on the data\n",
    "forest_11.fit(X_train,y_train)"
   ]
  },
  {
   "cell_type": "code",
   "execution_count": 725,
   "metadata": {},
   "outputs": [],
   "source": [
    "# Step 3: predict the response for test data\n",
    "y_pred_rf_2_11_adv = forest_11.predict(X_test)"
   ]
  },
  {
   "cell_type": "code",
   "execution_count": 726,
   "metadata": {},
   "outputs": [],
   "source": [
    "n_nodes = []\n",
    "max_depths = []\n",
    "n_features=[]"
   ]
  },
  {
   "cell_type": "code",
   "execution_count": 727,
   "metadata": {},
   "outputs": [
    {
     "name": "stdout",
     "output_type": "stream",
     "text": [
      "Average number of features 35\n",
      "Average number of nodes 1315\n",
      "Average maximum depth 26\n"
     ]
    }
   ],
   "source": [
    "for ind_tree in forest_11.estimators_:\n",
    "    n_features.append(ind_tree.tree_.n_features)\n",
    "    n_nodes.append(ind_tree.tree_.node_count)\n",
    "    max_depths.append(ind_tree.tree_.max_depth)\n",
    "    \n",
    "print(f'Average number of features {int(np.mean(n_features))}')\n",
    "print(f'Average number of nodes {int(np.mean(n_nodes))}')\n",
    "print(f'Average maximum depth {int(np.mean(max_depths))}')"
   ]
  },
  {
   "cell_type": "code",
   "execution_count": 728,
   "metadata": {},
   "outputs": [
    {
     "name": "stdout",
     "output_type": "stream",
     "text": [
      "Der MAE für Blechkuchen beträgt:26.209567198177677\n",
      "Der MAPE für Blechkuchen beträgt:30.573227641075746\n"
     ]
    }
   ],
   "source": [
    "train_rf_predictions = forest_11.predict(X_train)\n",
    "train_rf_probs = forest_11.predict_proba(X_train)[:, 1]\n",
    "\n",
    "rf_predictions = forest_11.predict(X_test)\n",
    "rf_probs = forest_11.predict_proba(X_test)[:, 1]\n",
    "\n",
    "MAE_11_adv = mean_absolute_error(y_test_2_11,y_pred_rf_2_11_adv)\n",
    "#MAE_mod=mean_absolute_percentage_error_modify(y_test_2_8,y_pred_rf_2_8)\n",
    "MAPE_11_adv=mean_absolute_percentage_error(y_test_2_11,y_pred_rf_2_11_adv)\n",
    "print(f'Der MAE für Blechkuchen beträgt:{MAE_11_adv}')\n",
    "print(f'Der MAPE für Blechkuchen beträgt:{MAPE_11_adv}')\n",
    "df_results_Random_Forest.loc['23',:] = ['Random_Forest-Basis','Blechkuchen',MAE_11_adv,MAPE_11_adv]"
   ]
  },
  {
   "cell_type": "markdown",
   "metadata": {},
   "source": [
    "### Weihnachtsartikel"
   ]
  },
  {
   "cell_type": "code",
   "execution_count": 729,
   "metadata": {},
   "outputs": [],
   "source": [
    "X_train_2_9=train_2.iloc[:,np.r_[26,42,22,69,70]]\n",
    "X_test_2_9=test_2.iloc[:,np.r_[26,42,22,69,70]]"
   ]
  },
  {
   "cell_type": "code",
   "execution_count": 730,
   "metadata": {},
   "outputs": [],
   "source": [
    "X_train_2_12=train_2.iloc[:,np.r_[14:47,69,70]]\n",
    "X_test_2_12=test_2.iloc[:,np.r_[14:47,60,70]]"
   ]
  },
  {
   "cell_type": "code",
   "execution_count": 731,
   "metadata": {},
   "outputs": [],
   "source": [
    "X_train=X_train_2_12\n",
    "X_test=X_test_2_12\n",
    "y_train=y_train_2_12"
   ]
  },
  {
   "cell_type": "code",
   "execution_count": 732,
   "metadata": {},
   "outputs": [],
   "source": [
    "# Step 1: Make an instance of the Model\n",
    "forest_12 = RandomForestClassifier(random_state = 0)"
   ]
  },
  {
   "cell_type": "code",
   "execution_count": 733,
   "metadata": {},
   "outputs": [
    {
     "data": {
      "text/plain": [
       "RandomForestClassifier(random_state=0)"
      ]
     },
     "execution_count": 733,
     "metadata": {},
     "output_type": "execute_result"
    }
   ],
   "source": [
    "# Step 2: Train the model on the data\n",
    "forest_12.fit(X_train,y_train)"
   ]
  },
  {
   "cell_type": "code",
   "execution_count": 734,
   "metadata": {},
   "outputs": [],
   "source": [
    "# Step 3: predict the response for test data\n",
    "y_pred_rf_2_12_adv = forest_12.predict(X_test)"
   ]
  },
  {
   "cell_type": "code",
   "execution_count": 735,
   "metadata": {},
   "outputs": [],
   "source": [
    "n_nodes = []\n",
    "max_depths = []\n",
    "n_features=[]"
   ]
  },
  {
   "cell_type": "code",
   "execution_count": 736,
   "metadata": {},
   "outputs": [
    {
     "name": "stdout",
     "output_type": "stream",
     "text": [
      "Average number of features 35\n",
      "Average number of nodes 240\n",
      "Average maximum depth 17\n"
     ]
    }
   ],
   "source": [
    "for ind_tree in forest_12.estimators_:\n",
    "    n_features.append(ind_tree.tree_.n_features)\n",
    "    n_nodes.append(ind_tree.tree_.node_count)\n",
    "    max_depths.append(ind_tree.tree_.max_depth)\n",
    "    \n",
    "print(f'Average number of features {int(np.mean(n_features))}')\n",
    "print(f'Average number of nodes {int(np.mean(n_nodes))}')\n",
    "print(f'Average maximum depth {int(np.mean(max_depths))}')"
   ]
  },
  {
   "cell_type": "code",
   "execution_count": 737,
   "metadata": {},
   "outputs": [
    {
     "name": "stdout",
     "output_type": "stream",
     "text": [
      "Der MAE für Weihnachtsartikel beträgt:4.314350797266515\n",
      "Der MAPE für Weihnachtsartikel beträgt:23.435271415802198\n"
     ]
    }
   ],
   "source": [
    "train_rf_predictions = forest_12.predict(X_train)\n",
    "train_rf_probs = forest_12.predict_proba(X_train)[:, 1]\n",
    "\n",
    "rf_predictions = forest_12.predict(X_test)\n",
    "rf_probs = forest_12.predict_proba(X_test)[:, 1]\n",
    "\n",
    "MAE_12_adv = mean_absolute_error(y_test_2_12,y_pred_rf_2_12_adv)\n",
    "MAPE_12_adv=mean_absolute_percentage_error(y_test_2_12,y_pred_rf_2_12_adv)\n",
    "print(f'Der MAE für Weihnachtsartikel beträgt:{MAE_12_adv}')\n",
    "print(f'Der MAPE für Weihnachtsartikel beträgt:{MAPE_12_adv}')\n",
    "df_results_Random_Forest.loc['24',:] = ['Random_Forest-Basis','Weihnachtsartikel',MAE_12,MAPE_12_adv]"
   ]
  },
  {
   "cell_type": "markdown",
   "metadata": {},
   "source": [
    "## Advanced Model with adjusted Trainset"
   ]
  },
  {
   "cell_type": "markdown",
   "metadata": {},
   "source": [
    "**Conclusions**\n",
    "- `I check if the replacing of the zero-Sales has an impact to the predictions. I do it first for all articlegroups which belongs to Brötchen. `\n",
    "- `There is no significant impact so I skip to this and have a lot to feature importance of the different labels. `\n"
   ]
  },
  {
   "cell_type": "code",
   "execution_count": null,
   "metadata": {},
   "outputs": [],
   "source": []
  },
  {
   "cell_type": "markdown",
   "metadata": {},
   "source": [
    "### Brötchen"
   ]
  },
  {
   "cell_type": "code",
   "execution_count": 597,
   "metadata": {},
   "outputs": [],
   "source": [
    "train_2['Brötchen']=train_2['Brötchen'].apply(lambda x: x if x> 0 else None)"
   ]
  },
  {
   "cell_type": "code",
   "execution_count": 607,
   "metadata": {},
   "outputs": [],
   "source": [
    "train_2['Brötchen'].fillna(method='ffill',inplace=True)\n",
    "train_2['Brötchen'].fillna(method='bfill',inplace=True)\n",
    "train_2['Brötchen']=train_2['Brötchen'].astype(int)"
   ]
  },
  {
   "cell_type": "code",
   "execution_count": 608,
   "metadata": {},
   "outputs": [],
   "source": [
    "X_train_2_6=train_2.iloc[:,np.r_[14,16,17,19,21,22,25:47,58,70,71]]\n",
    "X_test_2_6=test_2.iloc[:,np.r_[14,16,17,19,21,22,25:47,58,70,71]]"
   ]
  },
  {
   "cell_type": "code",
   "execution_count": 609,
   "metadata": {},
   "outputs": [],
   "source": [
    "X_train=X_train_2_6\n",
    "X_test=X_test_2_6\n",
    "y_train=train_2['Brötchen']\n",
    "\n"
   ]
  },
  {
   "cell_type": "code",
   "execution_count": 610,
   "metadata": {},
   "outputs": [
    {
     "data": {
      "text/plain": [
       "RandomForestClassifier(random_state=0)"
      ]
     },
     "execution_count": 610,
     "metadata": {},
     "output_type": "execute_result"
    }
   ],
   "source": [
    "# Step 1: Make an instance of the Model\n",
    "forest = RandomForestClassifier(random_state = 0)\n",
    "\n",
    "# Step 2: Train the model on the data\n",
    "forest.fit(X_train,y_train)"
   ]
  },
  {
   "cell_type": "code",
   "execution_count": 611,
   "metadata": {},
   "outputs": [],
   "source": [
    "# Step 3: predict the response for test data\n",
    "y_pred_rf_2_6_adv = forest.predict(X_test)"
   ]
  },
  {
   "cell_type": "code",
   "execution_count": 612,
   "metadata": {},
   "outputs": [
    {
     "name": "stdout",
     "output_type": "stream",
     "text": [
      "Average number of features 31\n",
      "Average number of nodes 1359\n",
      "Average maximum depth 27\n"
     ]
    }
   ],
   "source": [
    "n_nodes = []\n",
    "max_depths = []\n",
    "n_features=[]\n",
    "\n",
    "for ind_tree in forest.estimators_:\n",
    "    n_features.append(ind_tree.tree_.n_features)\n",
    "    n_nodes.append(ind_tree.tree_.node_count)\n",
    "    max_depths.append(ind_tree.tree_.max_depth)\n",
    "    \n",
    "print(f'Average number of features {int(np.mean(n_features))}')\n",
    "print(f'Average number of nodes {int(np.mean(n_nodes))}')\n",
    "print(f'Average maximum depth {int(np.mean(max_depths))}')"
   ]
  },
  {
   "cell_type": "code",
   "execution_count": 613,
   "metadata": {},
   "outputs": [],
   "source": [
    "train_rf_predictions = forest.predict(X_train)\n",
    "train_rf_probs = forest.predict_proba(X_train)[:, 1]\n",
    "\n",
    "rf_predictions = forest.predict(X_test)\n",
    "rf_probs = forest.predict_proba(X_test)[:, 1]"
   ]
  },
  {
   "cell_type": "code",
   "execution_count": 614,
   "metadata": {},
   "outputs": [
    {
     "name": "stdout",
     "output_type": "stream",
     "text": [
      "Der MAE für Brötchen beträgt:67.50341685649202\n",
      "Der MAPE für Brötchen beträgt:14.099044091167364\n"
     ]
    }
   ],
   "source": [
    "MAE_6_adv = mean_absolute_error(y_test_2_6,y_pred_rf_2_6_adv)\n",
    "MAPE_6_adv=mean_absolute_percentage_error(y_test_2_6,y_pred_rf_2_6_adv)\n",
    "print(f'Der MAE für Brötchen beträgt:{MAE_6_adv}')\n",
    "print(f'Der MAPE für Brötchen beträgt:{MAPE_6_adv}')\n",
    "df_results_Random_Forest.loc['54',:] = ['Random_Forest-Advanced_Closedrepl','Brötchen',MAE_6_adv,MAPE_6_adv]"
   ]
  },
  {
   "cell_type": "markdown",
   "metadata": {},
   "source": [
    "### Süsse Brötchen"
   ]
  },
  {
   "cell_type": "code",
   "execution_count": 615,
   "metadata": {},
   "outputs": [],
   "source": [
    "train_2['Süsse_Brötchen']=train_2['Süsse_Brötchen'].apply(lambda x: x if x> 0 else None)"
   ]
  },
  {
   "cell_type": "code",
   "execution_count": null,
   "metadata": {},
   "outputs": [],
   "source": [
    "train_2['Süsse_Brötchen'].fillna(method='ffill',inplace=True)\n",
    "train_2['Süsse_Brötchen'].fillna(method='bfill',inplace=True)"
   ]
  },
  {
   "cell_type": "code",
   "execution_count": 625,
   "metadata": {},
   "outputs": [],
   "source": [
    "train_2['Süsse_Brötchen']=train_2['Süsse_Brötchen'].astype(int)"
   ]
  },
  {
   "cell_type": "code",
   "execution_count": 617,
   "metadata": {},
   "outputs": [],
   "source": [
    "X_train_2_7=train_2.iloc[:,np.r_[14,16,17,19,21,22,25:47,60,70,71]]\n",
    "X_test_2_7=test_2.iloc[:,np.r_[14,16,17,19,21,22,25:47,60,70,71]]"
   ]
  },
  {
   "cell_type": "code",
   "execution_count": 626,
   "metadata": {},
   "outputs": [],
   "source": [
    "X_train=X_train_2_7\n",
    "X_test=X_test_2_7\n",
    "y_train=train_2['Süsse_Brötchen']"
   ]
  },
  {
   "cell_type": "code",
   "execution_count": 627,
   "metadata": {},
   "outputs": [],
   "source": [
    "# Step 1: Make an instance of the Model\n",
    "forest = RandomForestClassifier(random_state = 0)"
   ]
  },
  {
   "cell_type": "code",
   "execution_count": 628,
   "metadata": {},
   "outputs": [
    {
     "data": {
      "text/plain": [
       "RandomForestClassifier(random_state=0)"
      ]
     },
     "execution_count": 628,
     "metadata": {},
     "output_type": "execute_result"
    }
   ],
   "source": [
    "# Step 2: Train the model on the data\n",
    "forest.fit(X_train,y_train)"
   ]
  },
  {
   "cell_type": "code",
   "execution_count": 629,
   "metadata": {},
   "outputs": [],
   "source": [
    "# Step 3: predict the response for test data\n",
    "y_pred_rf_2_7_adv = forest.predict(X_test)"
   ]
  },
  {
   "cell_type": "code",
   "execution_count": 630,
   "metadata": {},
   "outputs": [
    {
     "name": "stdout",
     "output_type": "stream",
     "text": [
      "Average number of features 31\n",
      "Average number of nodes 1343\n",
      "Average maximum depth 26\n"
     ]
    }
   ],
   "source": [
    "n_nodes = []\n",
    "max_depths = []\n",
    "n_features=[]\n",
    "\n",
    "for ind_tree in forest.estimators_:\n",
    "    n_features.append(ind_tree.tree_.n_features)\n",
    "    n_nodes.append(ind_tree.tree_.node_count)\n",
    "    max_depths.append(ind_tree.tree_.max_depth)\n",
    "    \n",
    "print(f'Average number of features {int(np.mean(n_features))}')\n",
    "print(f'Average number of nodes {int(np.mean(n_nodes))}')\n",
    "print(f'Average maximum depth {int(np.mean(max_depths))}')"
   ]
  },
  {
   "cell_type": "code",
   "execution_count": 631,
   "metadata": {},
   "outputs": [
    {
     "name": "stdout",
     "output_type": "stream",
     "text": [
      "Der MAE für Süsse Brötchen beträgt:27.01138952164009\n",
      "Der MAPE für Süsse Brötchen beträgt:11.132134685220182\n"
     ]
    }
   ],
   "source": [
    "train_rf_predictions = forest.predict(X_train)\n",
    "train_rf_probs = forest.predict_proba(X_train)[:, 1]\n",
    "\n",
    "rf_predictions = forest.predict(X_test)\n",
    "rf_probs = forest.predict_proba(X_test)[:, 1]\n",
    "\n",
    "MAE_7_adv = mean_absolute_error(y_test_2_7,y_pred_rf_2_7_adv)\n",
    "MAPE_7_adv=mean_absolute_percentage_error(y_test_2_7,y_pred_rf_2_7_adv)\n",
    "print(f'Der MAE für Süsse Brötchen beträgt:{MAE_7_adv}')\n",
    "print(f'Der MAPE für Süsse Brötchen beträgt:{MAPE_7_adv}')\n",
    "df_results_Random_Forest.loc['55',:] = ['Random_Forest-Advanced_Closedrepl','Süsse Brötchen',MAE_7_adv,MAPE_7_adv]"
   ]
  },
  {
   "cell_type": "markdown",
   "metadata": {},
   "source": [
    "### Herzhafte Brötchen"
   ]
  },
  {
   "cell_type": "code",
   "execution_count": 633,
   "metadata": {},
   "outputs": [],
   "source": [
    "train_2['Herzhafte_Brötchen']=train_2['Herzhafte_Brötchen'].apply(lambda x: x if x> 0 else None)"
   ]
  },
  {
   "cell_type": "code",
   "execution_count": 635,
   "metadata": {},
   "outputs": [],
   "source": [
    "train_2['Herzhafte_Brötchen'].fillna(method='ffill',inplace=True)\n",
    "train_2['Herzhafte_Brötchen'].fillna(method='bfill',inplace=True)"
   ]
  },
  {
   "cell_type": "code",
   "execution_count": 637,
   "metadata": {},
   "outputs": [],
   "source": [
    "train_2['Herzhafte_Brötchen']=train_2['Herzhafte_Brötchen'].astype(int)"
   ]
  },
  {
   "cell_type": "code",
   "execution_count": 638,
   "metadata": {},
   "outputs": [],
   "source": [
    "X_train_2_8=train_2.iloc[:,np.r_[14,16,17,19,21,22,25:47,61,61]]\n",
    "X_test_2_8=test_2.iloc[:,np.r_[14,16,17,19,21,22,25:47,61,62]]"
   ]
  },
  {
   "cell_type": "code",
   "execution_count": 639,
   "metadata": {},
   "outputs": [],
   "source": [
    "X_train_2_8=train_2.iloc[:,np.r_[14:47]]\n",
    "X_test_2_8=test_2.iloc[:,np.r_[14:47]]"
   ]
  },
  {
   "cell_type": "code",
   "execution_count": 640,
   "metadata": {},
   "outputs": [],
   "source": [
    "X_train=X_train_2_8\n",
    "X_test=X_test_2_8\n",
    "y_train=train_2['Herzhafte_Brötchen']"
   ]
  },
  {
   "cell_type": "code",
   "execution_count": 641,
   "metadata": {},
   "outputs": [],
   "source": [
    "# Step 1: Make an instance of the Model\n",
    "forest = RandomForestClassifier(random_state = 0)"
   ]
  },
  {
   "cell_type": "code",
   "execution_count": 642,
   "metadata": {},
   "outputs": [
    {
     "data": {
      "text/plain": [
       "RandomForestClassifier(random_state=0)"
      ]
     },
     "execution_count": 642,
     "metadata": {},
     "output_type": "execute_result"
    }
   ],
   "source": [
    "# Step 2: Train the model on the data\n",
    "forest.fit(X_train,y_train)"
   ]
  },
  {
   "cell_type": "code",
   "execution_count": 643,
   "metadata": {},
   "outputs": [],
   "source": [
    "# Step 3: predict the response for test data\n",
    "y_pred_rf_2_8_adv = forest.predict(X_test)"
   ]
  },
  {
   "cell_type": "code",
   "execution_count": 644,
   "metadata": {},
   "outputs": [],
   "source": [
    "n_nodes = []\n",
    "max_depths = []\n",
    "n_features=[]"
   ]
  },
  {
   "cell_type": "code",
   "execution_count": 456,
   "metadata": {},
   "outputs": [
    {
     "name": "stdout",
     "output_type": "stream",
     "text": [
      "Average number of features 33\n",
      "Average number of nodes 1336\n",
      "Average maximum depth 25\n"
     ]
    }
   ],
   "source": [
    "for ind_tree in forest.estimators_:\n",
    "    n_features.append(ind_tree.tree_.n_features)\n",
    "    n_nodes.append(ind_tree.tree_.node_count)\n",
    "    max_depths.append(ind_tree.tree_.max_depth)\n",
    "    \n",
    "print(f'Average number of features {int(np.mean(n_features))}')\n",
    "print(f'Average number of nodes {int(np.mean(n_nodes))}')\n",
    "print(f'Average maximum depth {int(np.mean(max_depths))}')"
   ]
  },
  {
   "cell_type": "code",
   "execution_count": 645,
   "metadata": {},
   "outputs": [
    {
     "name": "stdout",
     "output_type": "stream",
     "text": [
      "Der MAE für Herzhafte_Brötchen beträgt:32.90660592255125\n",
      "Der MAPE für Herzhafte_Brötchen beträgt:27.093747179088716\n"
     ]
    }
   ],
   "source": [
    "train_rf_predictions = forest.predict(X_train)\n",
    "train_rf_probs = forest.predict_proba(X_train)[:, 1]\n",
    "\n",
    "rf_predictions = forest.predict(X_test)\n",
    "rf_probs = forest.predict_proba(X_test)[:, 1]\n",
    "\n",
    "MAE_8_adv = mean_absolute_error(y_test_2_8,y_pred_rf_2_8_adv)\n",
    "#MAE_mod=mean_absolute_percentage_error_modify(y_test_2_8,y_pred_rf_2_8)\n",
    "MAPE_8_adv=mean_absolute_percentage_error(y_test_2_8,y_pred_rf_2_8_adv)\n",
    "print(f'Der MAE für Herzhafte_Brötchen beträgt:{MAE_8_adv}')\n",
    "#print(f'Der MAE_mod für Brötchen beträgt:{MAE_mod}')\n",
    "print(f'Der MAPE für Herzhafte_Brötchen beträgt:{MAPE_8_adv}')\n",
    "df_results_Random_Forest.loc['56',:] = ['Random_Forest-Closedrepl','Herzhafte_Brötchen',MAE_8,MAPE_8_adv]"
   ]
  },
  {
   "cell_type": "markdown",
   "metadata": {},
   "source": [
    "## Feature Importance"
   ]
  },
  {
   "cell_type": "markdown",
   "metadata": {},
   "source": [
    "**Conclusions**\n",
    "- `So lets have a lot to feature importance. Some of the results are rather surprising. A couple of article groups seems to be dependent of the sales figures of Weizenbrot.`\n",
    "- `So I decide to fit the belonging models again and consider this features.`\n"
   ]
  },
  {
   "cell_type": "markdown",
   "metadata": {},
   "source": [
    "### Weizenbrot"
   ]
  },
  {
   "cell_type": "code",
   "execution_count": 825,
   "metadata": {},
   "outputs": [
    {
     "data": {
      "image/png": "[encoded data removed]",
      "text/plain": [
       "<Figure size 2160x1296 with 1 Axes>"
      ]
     },
     "metadata": {
      "needs_background": "light"
     },
     "output_type": "display_data"
    }
   ],
   "source": [
    "imp_2_1 = forest_1.feature_importances_\n",
    "features = train_2.iloc[:,14:].columns\n",
    "indices = np.argsort(imp_2_1)\n",
    "\n",
    "plt.figure(figsize=(30,18))\n",
    "plt.title('Feature Importances for Weizenbrot')\n",
    "plt.barh(range(len(indices)), imp_2_1[indices], color='b', align='center')\n",
    "plt.yticks(range(len(indices)), [features[i] for i in indices])\n",
    "plt.xlabel('Relative Importance')\n",
    "plt.show()"
   ]
  },
  {
   "cell_type": "markdown",
   "metadata": {},
   "source": [
    "### Mischbrot"
   ]
  },
  {
   "cell_type": "code",
   "execution_count": 824,
   "metadata": {},
   "outputs": [
    {
     "data": {
      "image/png": "[encoded data removed]",
      "text/plain": [
       "<Figure size 2160x1296 with 1 Axes>"
      ]
     },
     "metadata": {
      "needs_background": "light"
     },
     "output_type": "display_data"
    }
   ],
   "source": [
    "imp_2_2 = forest_2.feature_importances_\n",
    "features = train_2.iloc[:,14:].columns\n",
    "indices = np.argsort(imp_2_2)\n",
    "\n",
    "plt.figure(figsize=(30,18))\n",
    "plt.title('Feature Importances for Mischbrot')\n",
    "plt.barh(range(len(indices)), imp_2_2[indices], color='b', align='center')\n",
    "plt.yticks(range(len(indices)), [features[i] for i in indices])\n",
    "plt.xlabel('Relative Importance')\n",
    "plt.show()"
   ]
  },
  {
   "cell_type": "markdown",
   "metadata": {},
   "source": [
    "### Vollkornbrot"
   ]
  },
  {
   "cell_type": "code",
   "execution_count": 823,
   "metadata": {},
   "outputs": [
    {
     "data": {
      "image/png": "[encoded data removed]",
      "text/plain": [
       "<Figure size 2160x1296 with 1 Axes>"
      ]
     },
     "metadata": {
      "needs_background": "light"
     },
     "output_type": "display_data"
    }
   ],
   "source": [
    "imp_2_3 = forest_3.feature_importances_\n",
    "features = train_2.iloc[:,14:].columns\n",
    "indices = np.argsort(imp_2_3)\n",
    "\n",
    "plt.figure(figsize=(30,18))\n",
    "plt.title('Feature Importances for Vollkornbrot')\n",
    "plt.barh(range(len(indices)), imp_2_3[indices], color='b', align='center')\n",
    "plt.yticks(range(len(indices)), [features[i] for i in indices])\n",
    "plt.xlabel('Relative Importance')\n",
    "plt.show()"
   ]
  },
  {
   "cell_type": "markdown",
   "metadata": {},
   "source": [
    "### Spezialbrot"
   ]
  },
  {
   "cell_type": "code",
   "execution_count": 822,
   "metadata": {},
   "outputs": [
    {
     "data": {
      "image/png": "[encoded data removed]",
      "text/plain": [
       "<Figure size 2160x1296 with 1 Axes>"
      ]
     },
     "metadata": {
      "needs_background": "light"
     },
     "output_type": "display_data"
    }
   ],
   "source": [
    "imp_2_4 = forest_4.feature_importances_\n",
    "features = train_2.iloc[:,14:].columns\n",
    "indices = np.argsort(imp_2_4)\n",
    "\n",
    "plt.figure(figsize=(30,18))\n",
    "plt.title('Feature Importances for Spezialbrot')\n",
    "plt.barh(range(len(indices)), imp_2_4[indices], color='b', align='center')\n",
    "plt.yticks(range(len(indices)), [features[i] for i in indices])\n",
    "plt.xlabel('Relative Importance')\n",
    "plt.show()"
   ]
  },
  {
   "cell_type": "markdown",
   "metadata": {},
   "source": [
    "### Stangenbrote"
   ]
  },
  {
   "cell_type": "code",
   "execution_count": 821,
   "metadata": {},
   "outputs": [
    {
     "data": {
      "image/png": "[encoded data removed]",
      "text/plain": [
       "<Figure size 2160x1296 with 1 Axes>"
      ]
     },
     "metadata": {
      "needs_background": "light"
     },
     "output_type": "display_data"
    }
   ],
   "source": [
    "imp_2_5 = forest_5.feature_importances_\n",
    "features = train_2.iloc[:,14:].columns\n",
    "indices = np.argsort(imp_2_5)\n",
    "\n",
    "plt.figure(figsize=(30,18))\n",
    "plt.title('Feature Importances for Stangenbrote')\n",
    "plt.barh(range(len(indices)), imp_2_5[indices], color='b', align='center')\n",
    "plt.yticks(range(len(indices)), [features[i] for i in indices])\n",
    "plt.xlabel('Relative Importance')\n",
    "plt.show()"
   ]
  },
  {
   "cell_type": "markdown",
   "metadata": {},
   "source": [
    "### Brötchen"
   ]
  },
  {
   "cell_type": "code",
   "execution_count": 785,
   "metadata": {},
   "outputs": [],
   "source": [
    "imp_2_6 = forest_6.feature_importances_\n",
    "features = train_2.iloc[:,14:].columns\n",
    "indices = np.argsort(imp_2_6)"
   ]
  },
  {
   "cell_type": "code",
   "execution_count": 786,
   "metadata": {},
   "outputs": [
    {
     "data": {
      "image/png": "[encoded data removed]",
      "text/plain": [
       "<Figure size 2160x1296 with 1 Axes>"
      ]
     },
     "metadata": {
      "needs_background": "light"
     },
     "output_type": "display_data"
    }
   ],
   "source": [
    "plt.figure(figsize=(30,18))\n",
    "plt.title('Feature Importances for Brötchen')\n",
    "plt.barh(range(len(indices)), imp_2_6[indices], color='b', align='center')\n",
    "plt.yticks(range(len(indices)), [features[i] for i in indices])\n",
    "plt.xlabel('Relative Importance')\n",
    "plt.show()"
   ]
  },
  {
   "cell_type": "markdown",
   "metadata": {},
   "source": [
    "### Süsse Brötchen"
   ]
  },
  {
   "cell_type": "code",
   "execution_count": 814,
   "metadata": {},
   "outputs": [
    {
     "data": {
      "image/png": "[encoded data removed]",
      "text/plain": [
       "<Figure size 2160x1296 with 1 Axes>"
      ]
     },
     "metadata": {
      "needs_background": "light"
     },
     "output_type": "display_data"
    }
   ],
   "source": [
    "imp_2_7 = forest_7.feature_importances_\n",
    "features = train_2.iloc[:,14:].columns\n",
    "indices = np.argsort(imp_2_7)\n",
    "\n",
    "plt.figure(figsize=(30,18))\n",
    "plt.title('Feature Importances for Süsse Brötchen')\n",
    "plt.barh(range(len(indices)), imp_2_7[indices], color='b', align='center')\n",
    "plt.yticks(range(len(indices)), [features[i] for i in indices])\n",
    "plt.xlabel('Relative Importance')\n",
    "plt.show()"
   ]
  },
  {
   "cell_type": "markdown",
   "metadata": {},
   "source": [
    "### Herzhafte Brötchen"
   ]
  },
  {
   "cell_type": "code",
   "execution_count": 815,
   "metadata": {},
   "outputs": [
    {
     "data": {
      "image/png": "[encoded data removed]",
      "text/plain": [
       "<Figure size 2160x1296 with 1 Axes>"
      ]
     },
     "metadata": {
      "needs_background": "light"
     },
     "output_type": "display_data"
    }
   ],
   "source": [
    "imp_2_8 = forest_8.feature_importances_\n",
    "features = train_2.iloc[:,14:].columns\n",
    "indices = np.argsort(imp_2_8)\n",
    "\n",
    "plt.figure(figsize=(30,18))\n",
    "plt.title('Feature Importances for Herzhafte Brötchen')\n",
    "plt.barh(range(len(indices)), imp_2_8[indices], color='b', align='center')\n",
    "plt.yticks(range(len(indices)), [features[i] for i in indices])\n",
    "plt.xlabel('Relative Importance')\n",
    "plt.show()"
   ]
  },
  {
   "cell_type": "markdown",
   "metadata": {},
   "source": [
    "### KonditoreiBlech"
   ]
  },
  {
   "cell_type": "code",
   "execution_count": 816,
   "metadata": {},
   "outputs": [
    {
     "data": {
      "image/png": "[encoded data removed]",
      "text/plain": [
       "<Figure size 2160x1296 with 1 Axes>"
      ]
     },
     "metadata": {
      "needs_background": "light"
     },
     "output_type": "display_data"
    }
   ],
   "source": [
    "imp_2_9 = forest_9.feature_importances_\n",
    "features = train_2.iloc[:,14:].columns\n",
    "indices = np.argsort(imp_2_9)\n",
    "\n",
    "plt.figure(figsize=(30,18))\n",
    "plt.title('Feature Importances for KonditoreiBlech')\n",
    "plt.barh(range(len(indices)), imp_2_9[indices], color='b', align='center')\n",
    "plt.yticks(range(len(indices)), [features[i] for i in indices])\n",
    "plt.xlabel('Relative Importance')\n",
    "plt.show()"
   ]
  },
  {
   "cell_type": "markdown",
   "metadata": {},
   "source": [
    "### Stückgebäck"
   ]
  },
  {
   "cell_type": "code",
   "execution_count": 817,
   "metadata": {},
   "outputs": [
    {
     "data": {
      "image/png": "[encoded data removed]",
      "text/plain": [
       "<Figure size 2160x1296 with 1 Axes>"
      ]
     },
     "metadata": {
      "needs_background": "light"
     },
     "output_type": "display_data"
    }
   ],
   "source": [
    "imp_2_10 = forest_10.feature_importances_\n",
    "features = train_2.iloc[:,14:].columns\n",
    "indices = np.argsort(imp_2_10)\n",
    "\n",
    "plt.figure(figsize=(30,18))\n",
    "plt.title('Feature Importances for Stückgebäck')\n",
    "plt.barh(range(len(indices)), imp_2_10[indices], color='b', align='center')\n",
    "plt.yticks(range(len(indices)), [features[i] for i in indices])\n",
    "plt.xlabel('Relative Importance')\n",
    "plt.show()"
   ]
  },
  {
   "cell_type": "markdown",
   "metadata": {},
   "source": [
    "### Blechkuchen"
   ]
  },
  {
   "cell_type": "code",
   "execution_count": 818,
   "metadata": {},
   "outputs": [
    {
     "data": {
      "image/png": "[encoded data removed]",
      "text/plain": [
       "<Figure size 2160x1296 with 1 Axes>"
      ]
     },
     "metadata": {
      "needs_background": "light"
     },
     "output_type": "display_data"
    }
   ],
   "source": [
    "imp_2_11 = forest_11.feature_importances_\n",
    "features = train_2.iloc[:,14:].columns\n",
    "indices = np.argsort(imp_2_11)\n",
    "\n",
    "plt.figure(figsize=(30,18))\n",
    "plt.title('Feature Importances for Blechkuchen')\n",
    "plt.barh(range(len(indices)), imp_2_11[indices], color='b', align='center')\n",
    "plt.yticks(range(len(indices)), [features[i] for i in indices])\n",
    "plt.xlabel('Relative Importance')\n",
    "plt.show()"
   ]
  },
  {
   "cell_type": "markdown",
   "metadata": {},
   "source": [
    "### Weihnachtsartikel"
   ]
  },
  {
   "cell_type": "code",
   "execution_count": 820,
   "metadata": {},
   "outputs": [
    {
     "data": {
      "image/png": "[encoded data removed]",
      "text/plain": [
       "<Figure size 2160x1296 with 1 Axes>"
      ]
     },
     "metadata": {
      "needs_background": "light"
     },
     "output_type": "display_data"
    }
   ],
   "source": [
    "imp_2_12 = forest_12.feature_importances_\n",
    "features = train_2.iloc[:,14:].columns\n",
    "indices = np.argsort(imp_2_12)\n",
    "\n",
    "plt.figure(figsize=(30,18))\n",
    "plt.title('Feature Importances for Weihnachtsartikel')\n",
    "plt.barh(range(len(indices)), imp_2_12[indices], color='b', align='center')\n",
    "plt.yticks(range(len(indices)), [features[i] for i in indices])\n",
    "plt.xlabel('Relative Importance')\n",
    "plt.show()"
   ]
  },
  {
   "cell_type": "markdown",
   "metadata": {},
   "source": [
    "## Further optimazation due to performance plots"
   ]
  },
  {
   "cell_type": "markdown",
   "metadata": {},
   "source": [
    "## More Models to consider?"
   ]
  },
  {
   "cell_type": "markdown",
   "metadata": {},
   "source": [
    "### Time-Series Split"
   ]
  },
  {
   "cell_type": "code",
   "execution_count": 826,
   "metadata": {},
   "outputs": [],
   "source": [
    "from sklearn.model_selection import TimeSeriesSplit"
   ]
  },
  {
   "cell_type": "code",
   "execution_count": 837,
   "metadata": {},
   "outputs": [],
   "source": [
    "from sklearn.linear_model import LinearRegression\n",
    "from sklearn.neighbors import KNeighborsRegressor\n",
    "from sklearn.neural_network import MLPRegressor \n",
    "from sklearn.svm import SVR\n",
    "from sklearn.ensemble import RandomForestRegressor"
   ]
  },
  {
   "cell_type": "markdown",
   "metadata": {},
   "source": [
    "### Model Comparison for the total sales of the store"
   ]
  },
  {
   "cell_type": "code",
   "execution_count": 846,
   "metadata": {},
   "outputs": [],
   "source": [
    "X_train=train_2.iloc[:,14:]\n",
    "y_train=train_2['Gesamt']"
   ]
  },
  {
   "cell_type": "code",
   "execution_count": 860,
   "metadata": {},
   "outputs": [
    {
     "name": "stdout",
     "output_type": "stream",
     "text": [
      "NN: 0.073886 (0.296346)\n",
      "KNN: 0.303330 (0.102435)\n",
      "RF: 0.739576 (0.109346)\n",
      "SVR: -0.122480 (0.131325)\n"
     ]
    },
    {
     "data": {
      "image/png": "[encoded data removed]",
      "text/plain": [
       "<Figure size 432x288 with 1 Axes>"
      ]
     },
     "metadata": {
      "needs_background": "light"
     },
     "output_type": "display_data"
    }
   ],
   "source": [
    "models = []\n",
    "#models.append(('LR', LinearRegression()))\n",
    "models.append(('NN', MLPRegressor(solver = 'lbfgs')))  #neural network\n",
    "models.append(('KNN', KNeighborsRegressor())) \n",
    "models.append(('RF', RandomForestRegressor(n_estimators = 10))) # Ensemble method - collection of many decision trees\n",
    "models.append(('SVR', SVR(gamma='auto'))) # kernel = linear\n",
    "# Evaluate each model in turn\n",
    "results = []\n",
    "names = []\n",
    "for name, model in models:\n",
    "    # TimeSeries Cross validation\n",
    " tscv = TimeSeriesSplit(n_splits=5)\n",
    "    \n",
    " cv_results = cross_val_score(model, X_train, y_train, cv=tscv, scoring='r2')\n",
    " results.append(cv_results)\n",
    " names.append(name)\n",
    " print('%s: %f (%f)' % (name, cv_results.mean(), cv_results.std()))\n",
    "    \n",
    "# Compare Algorithms\n",
    "plt.boxplot(results, labels=names)\n",
    "plt.title('Algorithm Comparison')\n",
    "plt.show()"
   ]
  },
  {
   "cell_type": "code",
   "execution_count": 848,
   "metadata": {},
   "outputs": [
    {
     "name": "stdout",
     "output_type": "stream",
     "text": [
      "NN: 0.739053 (0.120304)\n",
      "KNN: 0.567940 (0.129305)\n",
      "RF: 0.801442 (0.010381)\n",
      "SVR: -0.207726 (0.163659)\n"
     ]
    },
    {
     "data": {
      "image/png": "[encoded data removed]",
      "text/plain": [
       "<Figure size 432x288 with 1 Axes>"
      ]
     },
     "metadata": {
      "needs_background": "light"
     },
     "output_type": "display_data"
    }
   ],
   "source": [
    "models = []\n",
    "#models.append(('LR', LinearRegression()))\n",
    "models.append(('NN', MLPRegressor(solver = 'lbfgs')))  #neural network\n",
    "models.append(('KNN', KNeighborsRegressor())) \n",
    "models.append(('RF', RandomForestRegressor(n_estimators = 10))) # Ensemble method - collection of many decision trees\n",
    "models.append(('SVR', SVR(gamma='auto'))) # kernel = linear\n",
    "# Evaluate each model in turn\n",
    "results = []\n",
    "names = []\n",
    "for name, model in models:\n",
    "    # TimeSeries Cross validation\n",
    " tscv = TimeSeriesSplit(n_splits=5)\n",
    "    \n",
    " cv_results = cross_val_score(model, X_train, train_2['Brötchen'], cv=tscv, scoring='r2')\n",
    " results.append(cv_results)\n",
    " names.append(name)\n",
    " print('%s: %f (%f)' % (name, cv_results.mean(), cv_results.std()))\n",
    "    \n",
    "# Compare Algorithms\n",
    "plt.boxplot(results, labels=names)\n",
    "plt.title('Algorithm Comparison')\n",
    "plt.show()"
   ]
  },
  {
   "cell_type": "code",
   "execution_count": null,
   "metadata": {},
   "outputs": [],
   "source": []
  },
  {
   "cell_type": "markdown",
   "metadata": {},
   "source": [
    "# Rocket"
   ]
  },
  {
   "cell_type": "code",
   "execution_count": null,
   "metadata": {},
   "outputs": [],
   "source": [
    "X_train_R=train_2.iloc[:,14:].copy()"
   ]
  },
  {
   "cell_type": "code",
   "execution_count": 872,
   "metadata": {},
   "outputs": [
    {
     "data": {
      "text/html": [
       "<div>\n",
       "<style scoped>\n",
       "    .dataframe tbody tr th:only-of-type {\n",
       "        vertical-align: middle;\n",
       "    }\n",
       "\n",
       "    .dataframe tbody tr th {\n",
       "        vertical-align: top;\n",
       "    }\n",
       "\n",
       "    .dataframe thead th {\n",
       "        text-align: right;\n",
       "    }\n",
       "</style>\n",
       "<table border=\"1\" class=\"dataframe\">\n",
       "  <thead>\n",
       "    <tr style=\"text-align: right;\">\n",
       "      <th></th>\n",
       "      <th>Wochenende_flag</th>\n",
       "      <th>Christmas</th>\n",
       "      <th>Closed</th>\n",
       "      <th>Outlier</th>\n",
       "      <th>New_Years_Eve</th>\n",
       "      <th>Feiertag_DE</th>\n",
       "      <th>Ostern</th>\n",
       "      <th>Holidays_SH</th>\n",
       "      <th>SUMMER_SH</th>\n",
       "      <th>Niederschlag</th>\n",
       "      <th>...</th>\n",
       "      <th>KonditoreiBlech_364</th>\n",
       "      <th>Stückgebäck_7</th>\n",
       "      <th>Stückgebäck_364</th>\n",
       "      <th>Blechkuchen_7</th>\n",
       "      <th>Blechkuchen_364</th>\n",
       "      <th>Weihnachtsartikel_7</th>\n",
       "      <th>Weihnachtsartikel_364</th>\n",
       "      <th>Gesamt_7</th>\n",
       "      <th>Gesamt_364</th>\n",
       "      <th>BrötSüsse_Brötchen</th>\n",
       "    </tr>\n",
       "  </thead>\n",
       "  <tbody>\n",
       "    <tr>\n",
       "      <th>365</th>\n",
       "      <td>0</td>\n",
       "      <td>1</td>\n",
       "      <td>1</td>\n",
       "      <td>0</td>\n",
       "      <td>0</td>\n",
       "      <td>1</td>\n",
       "      <td>0.0</td>\n",
       "      <td>1.0</td>\n",
       "      <td>0.0</td>\n",
       "      <td>0.0</td>\n",
       "      <td>...</td>\n",
       "      <td>66.333083</td>\n",
       "      <td>0.000000</td>\n",
       "      <td>249.331193</td>\n",
       "      <td>0.000000</td>\n",
       "      <td>36.972801</td>\n",
       "      <td>0.000000</td>\n",
       "      <td>113.343095</td>\n",
       "      <td>0.000000</td>\n",
       "      <td>919.067061</td>\n",
       "      <td>230</td>\n",
       "    </tr>\n",
       "    <tr>\n",
       "      <th>366</th>\n",
       "      <td>1</td>\n",
       "      <td>1</td>\n",
       "      <td>0</td>\n",
       "      <td>0</td>\n",
       "      <td>0</td>\n",
       "      <td>0</td>\n",
       "      <td>0.0</td>\n",
       "      <td>1.0</td>\n",
       "      <td>0.0</td>\n",
       "      <td>0.0</td>\n",
       "      <td>...</td>\n",
       "      <td>47.299856</td>\n",
       "      <td>0.000000</td>\n",
       "      <td>196.438985</td>\n",
       "      <td>0.000000</td>\n",
       "      <td>52.602766</td>\n",
       "      <td>0.000000</td>\n",
       "      <td>109.207363</td>\n",
       "      <td>0.000000</td>\n",
       "      <td>910.411262</td>\n",
       "      <td>230</td>\n",
       "    </tr>\n",
       "    <tr>\n",
       "      <th>367</th>\n",
       "      <td>1</td>\n",
       "      <td>1</td>\n",
       "      <td>0</td>\n",
       "      <td>0</td>\n",
       "      <td>0</td>\n",
       "      <td>0</td>\n",
       "      <td>0.0</td>\n",
       "      <td>1.0</td>\n",
       "      <td>0.0</td>\n",
       "      <td>0.0</td>\n",
       "      <td>...</td>\n",
       "      <td>193.858933</td>\n",
       "      <td>126.903870</td>\n",
       "      <td>231.631499</td>\n",
       "      <td>74.476714</td>\n",
       "      <td>108.559540</td>\n",
       "      <td>123.256931</td>\n",
       "      <td>124.089613</td>\n",
       "      <td>631.614164</td>\n",
       "      <td>855.706534</td>\n",
       "      <td>215</td>\n",
       "    </tr>\n",
       "    <tr>\n",
       "      <th>368</th>\n",
       "      <td>0</td>\n",
       "      <td>1</td>\n",
       "      <td>0</td>\n",
       "      <td>0</td>\n",
       "      <td>0</td>\n",
       "      <td>0</td>\n",
       "      <td>0.0</td>\n",
       "      <td>1.0</td>\n",
       "      <td>0.0</td>\n",
       "      <td>0.0</td>\n",
       "      <td>...</td>\n",
       "      <td>65.998678</td>\n",
       "      <td>192.494314</td>\n",
       "      <td>234.394777</td>\n",
       "      <td>0.000000</td>\n",
       "      <td>0.000000</td>\n",
       "      <td>117.004994</td>\n",
       "      <td>102.294044</td>\n",
       "      <td>801.344575</td>\n",
       "      <td>684.001282</td>\n",
       "      <td>166</td>\n",
       "    </tr>\n",
       "    <tr>\n",
       "      <th>369</th>\n",
       "      <td>0</td>\n",
       "      <td>1</td>\n",
       "      <td>0</td>\n",
       "      <td>0</td>\n",
       "      <td>0</td>\n",
       "      <td>0</td>\n",
       "      <td>0.0</td>\n",
       "      <td>1.0</td>\n",
       "      <td>0.0</td>\n",
       "      <td>0.0</td>\n",
       "      <td>...</td>\n",
       "      <td>59.165151</td>\n",
       "      <td>183.938934</td>\n",
       "      <td>178.318560</td>\n",
       "      <td>0.000000</td>\n",
       "      <td>44.629063</td>\n",
       "      <td>120.778548</td>\n",
       "      <td>99.925887</td>\n",
       "      <td>747.309626</td>\n",
       "      <td>617.677631</td>\n",
       "      <td>151</td>\n",
       "    </tr>\n",
       "    <tr>\n",
       "      <th>...</th>\n",
       "      <td>...</td>\n",
       "      <td>...</td>\n",
       "      <td>...</td>\n",
       "      <td>...</td>\n",
       "      <td>...</td>\n",
       "      <td>...</td>\n",
       "      <td>...</td>\n",
       "      <td>...</td>\n",
       "      <td>...</td>\n",
       "      <td>...</td>\n",
       "      <td>...</td>\n",
       "      <td>...</td>\n",
       "      <td>...</td>\n",
       "      <td>...</td>\n",
       "      <td>...</td>\n",
       "      <td>...</td>\n",
       "      <td>...</td>\n",
       "      <td>...</td>\n",
       "      <td>...</td>\n",
       "      <td>...</td>\n",
       "      <td>...</td>\n",
       "    </tr>\n",
       "    <tr>\n",
       "      <th>1456</th>\n",
       "      <td>0</td>\n",
       "      <td>1</td>\n",
       "      <td>0</td>\n",
       "      <td>0</td>\n",
       "      <td>0</td>\n",
       "      <td>0</td>\n",
       "      <td>0.0</td>\n",
       "      <td>1.0</td>\n",
       "      <td>0.0</td>\n",
       "      <td>0.0</td>\n",
       "      <td>...</td>\n",
       "      <td>63.687655</td>\n",
       "      <td>151.419355</td>\n",
       "      <td>188.032937</td>\n",
       "      <td>71.669457</td>\n",
       "      <td>58.941731</td>\n",
       "      <td>161.414000</td>\n",
       "      <td>0.000000</td>\n",
       "      <td>656.799833</td>\n",
       "      <td>740.645959</td>\n",
       "      <td>209</td>\n",
       "    </tr>\n",
       "    <tr>\n",
       "      <th>1457</th>\n",
       "      <td>0</td>\n",
       "      <td>1</td>\n",
       "      <td>0</td>\n",
       "      <td>0</td>\n",
       "      <td>0</td>\n",
       "      <td>0</td>\n",
       "      <td>0.0</td>\n",
       "      <td>1.0</td>\n",
       "      <td>0.0</td>\n",
       "      <td>1.6</td>\n",
       "      <td>...</td>\n",
       "      <td>68.511657</td>\n",
       "      <td>159.456816</td>\n",
       "      <td>228.223974</td>\n",
       "      <td>49.276745</td>\n",
       "      <td>0.000000</td>\n",
       "      <td>155.994870</td>\n",
       "      <td>0.000000</td>\n",
       "      <td>777.658460</td>\n",
       "      <td>811.323516</td>\n",
       "      <td>179</td>\n",
       "    </tr>\n",
       "    <tr>\n",
       "      <th>1458</th>\n",
       "      <td>1</td>\n",
       "      <td>1</td>\n",
       "      <td>0</td>\n",
       "      <td>0</td>\n",
       "      <td>0</td>\n",
       "      <td>0</td>\n",
       "      <td>0.0</td>\n",
       "      <td>1.0</td>\n",
       "      <td>0.0</td>\n",
       "      <td>6.1</td>\n",
       "      <td>...</td>\n",
       "      <td>85.151008</td>\n",
       "      <td>152.244660</td>\n",
       "      <td>420.581338</td>\n",
       "      <td>60.756020</td>\n",
       "      <td>29.090461</td>\n",
       "      <td>163.148575</td>\n",
       "      <td>0.000000</td>\n",
       "      <td>740.315226</td>\n",
       "      <td>939.043085</td>\n",
       "      <td>227</td>\n",
       "    </tr>\n",
       "    <tr>\n",
       "      <th>1459</th>\n",
       "      <td>1</td>\n",
       "      <td>1</td>\n",
       "      <td>0</td>\n",
       "      <td>1</td>\n",
       "      <td>0</td>\n",
       "      <td>0</td>\n",
       "      <td>0.0</td>\n",
       "      <td>1.0</td>\n",
       "      <td>0.0</td>\n",
       "      <td>0.0</td>\n",
       "      <td>...</td>\n",
       "      <td>40.254108</td>\n",
       "      <td>98.691672</td>\n",
       "      <td>1386.356115</td>\n",
       "      <td>65.125747</td>\n",
       "      <td>47.570151</td>\n",
       "      <td>128.217445</td>\n",
       "      <td>0.000000</td>\n",
       "      <td>618.018431</td>\n",
       "      <td>997.690947</td>\n",
       "      <td>242</td>\n",
       "    </tr>\n",
       "    <tr>\n",
       "      <th>1460</th>\n",
       "      <td>0</td>\n",
       "      <td>1</td>\n",
       "      <td>0</td>\n",
       "      <td>1</td>\n",
       "      <td>1</td>\n",
       "      <td>0</td>\n",
       "      <td>0.0</td>\n",
       "      <td>1.0</td>\n",
       "      <td>0.0</td>\n",
       "      <td>0.3</td>\n",
       "      <td>...</td>\n",
       "      <td>0.000000</td>\n",
       "      <td>202.274494</td>\n",
       "      <td>0.000000</td>\n",
       "      <td>108.383407</td>\n",
       "      <td>0.000000</td>\n",
       "      <td>147.989159</td>\n",
       "      <td>0.000000</td>\n",
       "      <td>923.388384</td>\n",
       "      <td>0.000000</td>\n",
       "      <td>252</td>\n",
       "    </tr>\n",
       "  </tbody>\n",
       "</table>\n",
       "<p>1096 rows × 60 columns</p>\n",
       "</div>"
      ],
      "text/plain": [
       "      Wochenende_flag  Christmas  Closed  Outlier  New_Years_Eve  Feiertag_DE  \\\n",
       "365                 0          1       1        0              0            1   \n",
       "366                 1          1       0        0              0            0   \n",
       "367                 1          1       0        0              0            0   \n",
       "368                 0          1       0        0              0            0   \n",
       "369                 0          1       0        0              0            0   \n",
       "...               ...        ...     ...      ...            ...          ...   \n",
       "1456                0          1       0        0              0            0   \n",
       "1457                0          1       0        0              0            0   \n",
       "1458                1          1       0        0              0            0   \n",
       "1459                1          1       0        1              0            0   \n",
       "1460                0          1       0        1              1            0   \n",
       "\n",
       "      Ostern  Holidays_SH  SUMMER_SH  Niederschlag  ...  KonditoreiBlech_364  \\\n",
       "365      0.0          1.0        0.0           0.0  ...            66.333083   \n",
       "366      0.0          1.0        0.0           0.0  ...            47.299856   \n",
       "367      0.0          1.0        0.0           0.0  ...           193.858933   \n",
       "368      0.0          1.0        0.0           0.0  ...            65.998678   \n",
       "369      0.0          1.0        0.0           0.0  ...            59.165151   \n",
       "...      ...          ...        ...           ...  ...                  ...   \n",
       "1456     0.0          1.0        0.0           0.0  ...            63.687655   \n",
       "1457     0.0          1.0        0.0           1.6  ...            68.511657   \n",
       "1458     0.0          1.0        0.0           6.1  ...            85.151008   \n",
       "1459     0.0          1.0        0.0           0.0  ...            40.254108   \n",
       "1460     0.0          1.0        0.0           0.3  ...             0.000000   \n",
       "\n",
       "      Stückgebäck_7  Stückgebäck_364  Blechkuchen_7  Blechkuchen_364  \\\n",
       "365        0.000000       249.331193       0.000000        36.972801   \n",
       "366        0.000000       196.438985       0.000000        52.602766   \n",
       "367      126.903870       231.631499      74.476714       108.559540   \n",
       "368      192.494314       234.394777       0.000000         0.000000   \n",
       "369      183.938934       178.318560       0.000000        44.629063   \n",
       "...             ...              ...            ...              ...   \n",
       "1456     151.419355       188.032937      71.669457        58.941731   \n",
       "1457     159.456816       228.223974      49.276745         0.000000   \n",
       "1458     152.244660       420.581338      60.756020        29.090461   \n",
       "1459      98.691672      1386.356115      65.125747        47.570151   \n",
       "1460     202.274494         0.000000     108.383407         0.000000   \n",
       "\n",
       "      Weihnachtsartikel_7  Weihnachtsartikel_364    Gesamt_7  Gesamt_364  \\\n",
       "365              0.000000             113.343095    0.000000  919.067061   \n",
       "366              0.000000             109.207363    0.000000  910.411262   \n",
       "367            123.256931             124.089613  631.614164  855.706534   \n",
       "368            117.004994             102.294044  801.344575  684.001282   \n",
       "369            120.778548              99.925887  747.309626  617.677631   \n",
       "...                   ...                    ...         ...         ...   \n",
       "1456           161.414000               0.000000  656.799833  740.645959   \n",
       "1457           155.994870               0.000000  777.658460  811.323516   \n",
       "1458           163.148575               0.000000  740.315226  939.043085   \n",
       "1459           128.217445               0.000000  618.018431  997.690947   \n",
       "1460           147.989159               0.000000  923.388384    0.000000   \n",
       "\n",
       "      BrötSüsse_Brötchen  \n",
       "365                  230  \n",
       "366                  230  \n",
       "367                  215  \n",
       "368                  166  \n",
       "369                  151  \n",
       "...                  ...  \n",
       "1456                 209  \n",
       "1457                 179  \n",
       "1458                 227  \n",
       "1459                 242  \n",
       "1460                 252  \n",
       "\n",
       "[1096 rows x 60 columns]"
      ]
     },
     "execution_count": 872,
     "metadata": {},
     "output_type": "execute_result"
    }
   ],
   "source": [
    "X_train_R"
   ]
  },
  {
   "cell_type": "code",
   "execution_count": 868,
   "metadata": {},
   "outputs": [],
   "source": [
    "y_train=train_2['Brötchen']"
   ]
  },
  {
   "cell_type": "code",
   "execution_count": 869,
   "metadata": {},
   "outputs": [],
   "source": [
    "import numpy as np\n",
    "from sklearn.linear_model import RidgeClassifierCV"
   ]
  },
  {
   "cell_type": "code",
   "execution_count": 870,
   "metadata": {},
   "outputs": [],
   "source": [
    "#from sktime.datasets import load_arrow_head  # univariate dataset\n",
    "from sktime.transformers.series_as_features.rocket import Rocket"
   ]
  },
  {
   "cell_type": "code",
   "execution_count": 871,
   "metadata": {},
   "outputs": [
    {
     "ename": "ValueError",
     "evalue": "If passed as a pd.DataFrame, X must be a nested pd.DataFrame, with pd.Series or np.arrays inside cells.",
     "output_type": "error",
     "traceback": [
      "\u001b[0;31m---------------------------------------------------------------------------\u001b[0m",
      "\u001b[0;31mValueError\u001b[0m                                Traceback (most recent call last)",
      "\u001b[0;32m<ipython-input-871-a107afcffaff>\u001b[0m in \u001b[0;36m<module>\u001b[0;34m\u001b[0m\n\u001b[1;32m      1\u001b[0m \u001b[0mrocket\u001b[0m \u001b[0;34m=\u001b[0m \u001b[0mRocket\u001b[0m\u001b[0;34m(\u001b[0m\u001b[0mnum_kernels\u001b[0m\u001b[0;34m=\u001b[0m\u001b[0;36m10000\u001b[0m\u001b[0;34m,\u001b[0m \u001b[0mrandom_state\u001b[0m\u001b[0;34m=\u001b[0m\u001b[0;36m111\u001b[0m\u001b[0;34m)\u001b[0m\u001b[0;34m\u001b[0m\u001b[0;34m\u001b[0m\u001b[0m\n\u001b[0;32m----> 2\u001b[0;31m \u001b[0mrocket\u001b[0m\u001b[0;34m.\u001b[0m\u001b[0mfit\u001b[0m\u001b[0;34m(\u001b[0m\u001b[0mX_train_R\u001b[0m\u001b[0;34m)\u001b[0m\u001b[0;34m\u001b[0m\u001b[0;34m\u001b[0m\u001b[0m\n\u001b[0m\u001b[1;32m      3\u001b[0m \u001b[0mX_train_transform\u001b[0m \u001b[0;34m=\u001b[0m \u001b[0mrocket\u001b[0m\u001b[0;34m.\u001b[0m\u001b[0mtransform\u001b[0m\u001b[0;34m(\u001b[0m\u001b[0mX_train_R\u001b[0m\u001b[0;34m)\u001b[0m\u001b[0;34m\u001b[0m\u001b[0;34m\u001b[0m\u001b[0m\n\u001b[1;32m      4\u001b[0m \u001b[0mX_train_transform\u001b[0m\u001b[0;34m.\u001b[0m\u001b[0mshape\u001b[0m\u001b[0;34m\u001b[0m\u001b[0;34m\u001b[0m\u001b[0m\n",
      "\u001b[0;32m/opt/anaconda3/envs/nf/lib/python3.6/site-packages/sktime/transformers/series_as_features/rocket.py\u001b[0m in \u001b[0;36mfit\u001b[0;34m(self, X, y)\u001b[0m\n\u001b[1;32m     58\u001b[0m         \u001b[0mself\u001b[0m\u001b[0;34m\u001b[0m\u001b[0;34m\u001b[0m\u001b[0m\n\u001b[1;32m     59\u001b[0m         \"\"\"\n\u001b[0;32m---> 60\u001b[0;31m         \u001b[0mX\u001b[0m \u001b[0;34m=\u001b[0m \u001b[0mcheck_X\u001b[0m\u001b[0;34m(\u001b[0m\u001b[0mX\u001b[0m\u001b[0;34m,\u001b[0m \u001b[0mcoerce_to_numpy\u001b[0m\u001b[0;34m=\u001b[0m\u001b[0;32mTrue\u001b[0m\u001b[0;34m)\u001b[0m\u001b[0;34m\u001b[0m\u001b[0;34m\u001b[0m\u001b[0m\n\u001b[0m\u001b[1;32m     61\u001b[0m         \u001b[0m_\u001b[0m\u001b[0;34m,\u001b[0m \u001b[0mself\u001b[0m\u001b[0;34m.\u001b[0m\u001b[0mn_columns\u001b[0m\u001b[0;34m,\u001b[0m \u001b[0mn_timepoints\u001b[0m \u001b[0;34m=\u001b[0m \u001b[0mX\u001b[0m\u001b[0;34m.\u001b[0m\u001b[0mshape\u001b[0m\u001b[0;34m\u001b[0m\u001b[0;34m\u001b[0m\u001b[0m\n\u001b[1;32m     62\u001b[0m         self.kernels = _generate_kernels(\n",
      "\u001b[0;32m/opt/anaconda3/envs/nf/lib/python3.6/site-packages/sktime/utils/validation/series_as_features.py\u001b[0m in \u001b[0;36mcheck_X\u001b[0;34m(X, enforce_univariate, enforce_min_instances, enforce_min_columns, coerce_to_numpy, coerce_to_pandas)\u001b[0m\n\u001b[1;32m     95\u001b[0m         \u001b[0;32mif\u001b[0m \u001b[0;32mnot\u001b[0m \u001b[0mis_nested_dataframe\u001b[0m\u001b[0;34m(\u001b[0m\u001b[0mX\u001b[0m\u001b[0;34m)\u001b[0m\u001b[0;34m:\u001b[0m\u001b[0;34m\u001b[0m\u001b[0;34m\u001b[0m\u001b[0m\n\u001b[1;32m     96\u001b[0m             raise ValueError(\n\u001b[0;32m---> 97\u001b[0;31m                 \u001b[0;34m\"If passed as a pd.DataFrame, X must be a nested \"\u001b[0m\u001b[0;34m\u001b[0m\u001b[0;34m\u001b[0m\u001b[0m\n\u001b[0m\u001b[1;32m     98\u001b[0m                 \u001b[0;34m\"pd.DataFrame, with pd.Series or np.arrays inside cells.\"\u001b[0m\u001b[0;34m\u001b[0m\u001b[0;34m\u001b[0m\u001b[0m\n\u001b[1;32m     99\u001b[0m             )\n",
      "\u001b[0;31mValueError\u001b[0m: If passed as a pd.DataFrame, X must be a nested pd.DataFrame, with pd.Series or np.arrays inside cells."
     ]
    }
   ],
   "source": [
    "rocket = Rocket(num_kernels=10000, random_state=111) \n",
    "rocket.fit(X_train_R)\n",
    "X_train_transform = rocket.transform(X_train_R)\n",
    "X_train_transform.shape"
   ]
  },
  {
   "cell_type": "code",
   "execution_count": null,
   "metadata": {},
   "outputs": [],
   "source": [
    "classifier = RidgeClassifierCV(alphas=np.logspace(-3, 3, 10), normalize=True)\n",
    "classifier.fit(X_train_transform, y_train)"
   ]
  },
  {
   "cell_type": "code",
   "execution_count": null,
   "metadata": {},
   "outputs": [],
   "source": [
    "X_test_transform = rocket.transform(X_test)\n",
    "classifier.score(X_test_transform, y_test)"
   ]
  }
 ],
 "metadata": {
  "kernelspec": {
   "display_name": "Python [conda env:nf] *",
   "language": "python",
   "name": "conda-env-nf-py"
  },
  "language_info": {
   "codemirror_mode": {
    "name": "ipython",
    "version": 3
   },
   "file_extension": ".py",
   "mimetype": "text/x-python",
   "name": "python",
   "nbconvert_exporter": "python",
   "pygments_lexer": "ipython3",
   "version": "3.6.10"
  },
  "toc": {
   "base_numbering": 1,
   "nav_menu": {},
   "number_sections": true,
   "sideBar": true,
   "skip_h1_title": false,
   "title_cell": "Table of Contents",
   "title_sidebar": "Contents",
   "toc_cell": false,
   "toc_position": {
    "height": "527.778px",
    "left": "50px",
    "top": "110.052px",
    "width": "282.778px"
   },
   "toc_section_display": true,
   "toc_window_display": true
  },
  "varInspector": {
   "cols": {
    "lenName": 16,
    "lenType": 16,
    "lenVar": 40
   },
   "kernels_config": {
    "python": {
     "delete_cmd_postfix": "",
     "delete_cmd_prefix": "del ",
     "library": "var_list.py",
     "varRefreshCmd": "print(var_dic_list())"
    },
    "r": {
     "delete_cmd_postfix": ") ",
     "delete_cmd_prefix": "rm(",
     "library": "var_list.r",
     "varRefreshCmd": "cat(var_dic_list()) "
    }
   },
   "types_to_exclude": [
    "module",
    "function",
    "builtin_function_or_method",
    "instance",
    "_Feature"
   ],
   "window_display": false
  }
 },
 "nbformat": 4,
 "nbformat_minor": 4
}
